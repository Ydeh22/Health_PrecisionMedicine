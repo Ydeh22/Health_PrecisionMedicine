{
 "cells": [
  {
   "cell_type": "code",
   "execution_count": 1,
   "metadata": {
    "_cell_guid": "b1076dfc-b9ad-4769-8c92-a6c4dae69d19",
    "_uuid": "8f2839f25d086af736a60e9eeb907d3b93b6e0e5"
   },
   "outputs": [],
   "source": [
    "import warnings\n",
    "\n",
    "# Data related\n",
    "import numpy as np \n",
    "import pandas as pd\n",
    "\n",
    "# sklearn \n",
    "from sklearn.feature_extraction.text import CountVectorizer, TfidfTransformer\n",
    "from sklearn.pipeline import Pipeline\n",
    "from sklearn.metrics import accuracy_score\n",
    "import scikitplot.plotters as skplt\n",
    "# nlp\n",
    "from gensim.models import KeyedVectors\n",
    "\n",
    "# models\n",
    "import xgboost as xgb\n"
   ]
  },
  {
   "cell_type": "code",
   "execution_count": 2,
   "metadata": {},
   "outputs": [
    {
     "name": "stderr",
     "output_type": "stream",
     "text": [
      "Using TensorFlow backend.\n"
     ]
    }
   ],
   "source": [
    "warnings.filterwarnings('ignore')\n",
    "\n",
    "from utils_functions import *"
   ]
  },
  {
   "cell_type": "markdown",
   "metadata": {},
   "source": [
    "## 1. Load data "
   ]
  },
  {
   "cell_type": "code",
   "execution_count": 3,
   "metadata": {},
   "outputs": [],
   "source": [
    "df = pd.read_csv('../data/processed/train_variants_text.csv')\n",
    "df=df.dropna(subset=['Text'])"
   ]
  },
  {
   "cell_type": "markdown",
   "metadata": {},
   "source": [
    "## 2. Split into Train amd Validation data"
   ]
  },
  {
   "cell_type": "code",
   "execution_count": 4,
   "metadata": {},
   "outputs": [],
   "source": [
    "X_tr, X_val, y_tr, y_val = split_data(df,\n",
    "                                      'Text',\n",
    "                                      'Class',\n",
    "                                      0.1,\n",
    "                                      0,\n",
    "                                      stratify='Class')"
   ]
  },
  {
   "cell_type": "markdown",
   "metadata": {},
   "source": [
    "## 3. Model"
   ]
  },
  {
   "cell_type": "markdown",
   "metadata": {},
   "source": [
    "## 3.1 Bag-of-words+xgboost"
   ]
  },
  {
   "cell_type": "code",
   "execution_count": 22,
   "metadata": {},
   "outputs": [],
   "source": [
    "clf = Pipeline([('vect', CountVectorizer(preprocessor=clean_text_stemmed, stop_words =stop_words)),\n",
    "                ('tfidf', TfidfTransformer()),\n",
    "                ('clf',  xgb.XGBClassifier(objective=\"multi:softprob\", random_state=42))])                           "
   ]
  },
  {
   "cell_type": "code",
   "execution_count": 25,
   "metadata": {},
   "outputs": [
    {
     "name": "stdout",
     "output_type": "stream",
     "text": [
      "0.6756756756756757\n"
     ]
    }
   ],
   "source": [
    "clf.fit(X_tr, y_tr)  \n",
    "predicted = clf.predict(X_val)\n",
    "acc=np.mean(predicted == y_val)\n",
    "print(acc)"
   ]
  },
  {
   "cell_type": "markdown",
   "metadata": {},
   "source": [
    "## 3.2 Word2vec+xgboost"
   ]
  },
  {
   "cell_type": "code",
   "execution_count": 21,
   "metadata": {},
   "outputs": [
    {
     "name": "stdout",
     "output_type": "stream",
     "text": [
      "w2vmodel not found. training model\n",
      "Model done training. Saving to disk\n"
     ]
    }
   ],
   "source": [
    "# Use document df\n",
    "w2vec = get_word2vec(\n",
    "    MySentences(\n",
    "        df['Text'].values, \n",
    "    ),\n",
    "    'w2vmodel'\n",
    ")"
   ]
  },
  {
   "cell_type": "code",
   "execution_count": null,
   "metadata": {},
   "outputs": [],
   "source": [
    "clf = Pipeline([('vect', MeanEmbeddingVectorizer(w2vec)),\n",
    "                ('clf',  xgb.XGBClassifier(objective=\"multi:softprob\", random_state=42))])                           "
   ]
  },
  {
   "cell_type": "code",
   "execution_count": 16,
   "metadata": {
    "scrolled": false
   },
   "outputs": [
    {
     "name": "stdout",
     "output_type": "stream",
     "text": [
      "0.6186186186186187\n"
     ]
    }
   ],
   "source": [
    "clf.fit(X_tr, y_tr)  \n",
    "predicted = clf.predict(X_val)\n",
    "acc=np.mean(predicted == y_val)\n",
    "print(acc)"
   ]
  },
  {
   "cell_type": "markdown",
   "metadata": {},
   "source": [
    "## 3.3 Google News Corpora Word2Vec + xgboost"
   ]
  },
  {
   "cell_type": "code",
   "execution_count": 8,
   "metadata": {},
   "outputs": [
    {
     "name": "stderr",
     "output_type": "stream",
     "text": [
      "W0603 21:10:41.930970 140735731893120 smart_open_lib.py:385] this function is deprecated, use smart_open.open instead\n"
     ]
    }
   ],
   "source": [
    "vector_path = r\"/Users/j/Dropbox/Learn/kaggle_quora/src/data/embeddings/GoogleNews-vectors-negative300/GoogleNews-vectors-negative300.bin\"\n",
    "gmodel = KeyedVectors.load_word2vec_format (vector_path, binary=True)\n"
   ]
  },
  {
   "cell_type": "code",
   "execution_count": 9,
   "metadata": {},
   "outputs": [],
   "source": [
    "clf = Pipeline([('vect', MeanEmbeddingVectorizer(gmodel)),\n",
    "                ('clf',  xgb.XGBClassifier(objective=\"multi:softprob\", random_state=42))])                           "
   ]
  },
  {
   "cell_type": "code",
   "execution_count": 10,
   "metadata": {},
   "outputs": [
    {
     "name": "stdout",
     "output_type": "stream",
     "text": [
      "0.5813253012048193\n"
     ]
    }
   ],
   "source": [
    "clf.fit(X_tr, y_tr)  \n",
    "predicted = clf.predict(X_val)\n",
    "acc=np.mean(predicted == y_val)\n",
    "print(acc)"
   ]
  },
  {
   "cell_type": "markdown",
   "metadata": {},
   "source": [
    "## 3.4 Medical Corpora Word2Vec + xgboost"
   ]
  },
  {
   "cell_type": "code",
   "execution_count": 5,
   "metadata": {},
   "outputs": [
    {
     "name": "stderr",
     "output_type": "stream",
     "text": [
      "WARNING: Logging before flag parsing goes to stderr.\n",
      "W0603 20:53:23.172096 140735731893120 smart_open_lib.py:385] this function is deprecated, use smart_open.open instead\n"
     ]
    }
   ],
   "source": [
    "vector_path = r\"../src/pubmed2018_w2v_200D/pubmed2018_w2v_200D.bin\"\n",
    "biomodel = KeyedVectors.load_word2vec_format (vector_path, binary=True)"
   ]
  },
  {
   "cell_type": "code",
   "execution_count": 6,
   "metadata": {},
   "outputs": [],
   "source": [
    "clf = Pipeline([('vect', MeanEmbeddingVectorizer(biomodel)),\n",
    "                ('clf',  xgb.XGBClassifier(objective=\"multi:softprob\", random_state=42))])                           "
   ]
  },
  {
   "cell_type": "code",
   "execution_count": 7,
   "metadata": {
    "scrolled": true
   },
   "outputs": [
    {
     "name": "stdout",
     "output_type": "stream",
     "text": [
      "0.6024096385542169\n"
     ]
    }
   ],
   "source": [
    "clf.fit(X_tr, y_tr)  \n",
    "predicted = clf.predict(X_val)\n",
    "acc=np.mean(predicted == y_val)\n",
    "print(acc)"
   ]
  },
  {
   "cell_type": "code",
   "execution_count": 15,
   "metadata": {},
   "outputs": [
    {
     "name": "stderr",
     "output_type": "stream",
     "text": [
      "/Users/j/miniconda3/lib/python3.7/site-packages/matplotlib/cbook/__init__.py:424: MatplotlibDeprecationWarning: \n",
      "Passing one of 'on', 'true', 'off', 'false' as a boolean is deprecated; use an actual boolean (True/False) instead.\n",
      "  warn_deprecated(\"2.2\", \"Passing one of 'on', 'true', 'off', 'false' as a \"\n"
     ]
    },
    {
     "name": "stdout",
     "output_type": "stream",
     "text": [
      "AxesSubplot(0.125,0.125;0.62x0.755)\n"
     ]
    },
    {
     "data": {
      "image/png": "[encoded data removed]",
      "text/plain": [
       "<Figure size 432x288 with 2 Axes>"
      ]
     },
     "metadata": {
      "needs_background": "light"
     },
     "output_type": "display_data"
    }
   ],
   "source": [
    "print(skplt.plot_confusion_matrix(y_val, predicted))"
   ]
  }
 ],
 "metadata": {
  "kernelspec": {
   "display_name": "Python 3",
   "language": "python",
   "name": "python3"
  },
  "language_info": {
   "codemirror_mode": {
    "name": "ipython",
    "version": 3
   },
   "file_extension": ".py",
   "mimetype": "text/x-python",
   "name": "python",
   "nbconvert_exporter": "python",
   "pygments_lexer": "ipython3",
   "version": "3.7.3"
  }
 },
 "nbformat": 4,
 "nbformat_minor": 1
}
