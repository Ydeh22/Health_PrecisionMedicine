{
 "cells": [
  {
   "cell_type": "code",
   "execution_count": 69,
   "metadata": {},
   "outputs": [],
   "source": [
    "# System packages\n",
    "import os\n",
    "import re\n",
    "import sys\n",
    "import warnings\n",
    "# Data related\n",
    "import numpy as np \n",
    "import pandas as pd \n",
    "\n",
    "# sklearn  \n",
    "from sklearn.metrics import  accuracy_score\n",
    "from sklearn.model_selection import train_test_split, cross_val_predict,cross_val_score,  StratifiedKFold, GridSearchCV\n",
    "from sklearn.feature_extraction.text import CountVectorizer, TfidfTransformer, TfidfVectorizer\n",
    "from sklearn.pipeline import FeatureUnion, Pipeline\n",
    "from sklearn.preprocessing import OneHotEncoder\n",
    "from sklearn.metrics import accuracy_score\n",
    "\n",
    "warnings.filterwarnings('ignore')\n",
    "pd.set_option('display.max_columns', 50)\n",
    "from tensorflow.keras import backend"
   ]
  },
  {
   "cell_type": "code",
   "execution_count": 65,
   "metadata": {},
   "outputs": [],
   "source": [
    "# Add utils_functions.py as a dataset\n",
    "from shutil import copyfile\n",
    "\n",
    "# Copy our file into the working directory (make sure it has .py suffix)\n",
    "copyfile(src = \"../input/utils-functions/utils_functions.py\", dst = '/kaggle/working/utils_functions.py')\n",
    "from utils_functions import *"
   ]
  },
  {
   "cell_type": "code",
   "execution_count": 75,
   "metadata": {},
   "outputs": [
    {
     "data": {
      "text/plain": [
       "['builtins',\n",
       " <module 'builtins' (built-in)>,\n",
       " 'builtins',\n",
       " <module 'builtins' (built-in)>,\n",
       " 'os',\n",
       " <module 'os' from '/Users/j/miniconda3/lib/python3.7/os.py'>,\n",
       " 're',\n",
       " <module 're' from '/Users/j/miniconda3/lib/python3.7/re.py'>,\n",
       " 'sys',\n",
       " <module 'sys' (built-in)>,\n",
       " 'warnings',\n",
       " <module 'warnings' from '/Users/j/miniconda3/lib/python3.7/warnings.py'>,\n",
       " 'numpy',\n",
       " <module 'numpy' from '/Users/j/miniconda3/lib/python3.7/site-packages/numpy/__init__.py'>,\n",
       " 'pandas',\n",
       " <module 'pandas' from '/Users/j/miniconda3/lib/python3.7/site-packages/pandas/__init__.py'>,\n",
       " 'pprint',\n",
       " <module 'pprint' from '/Users/j/miniconda3/lib/python3.7/pprint.py'>,\n",
       " 'scikitplot.plotters',\n",
       " <module 'scikitplot.plotters' from '/Users/j/miniconda3/lib/python3.7/site-packages/scikitplot/plotters.py'>,\n",
       " 'xgboost',\n",
       " <module 'xgboost' from '/Users/j/miniconda3/lib/python3.7/site-packages/xgboost/__init__.py'>,\n",
       " 'eli5',\n",
       " <module 'eli5' from '/Users/j/miniconda3/lib/python3.7/site-packages/eli5/__init__.py'>,\n",
       " 'datetime',\n",
       " <module 'datetime' from '/Users/j/miniconda3/lib/python3.7/datetime.py'>,\n",
       " 'seaborn',\n",
       " <module 'seaborn' from '/Users/j/miniconda3/lib/python3.7/site-packages/seaborn/__init__.py'>,\n",
       " 'matplotlib.pyplot',\n",
       " <module 'matplotlib.pyplot' from '/Users/j/miniconda3/lib/python3.7/site-packages/matplotlib/pyplot.py'>,\n",
       " 'gensim',\n",
       " <module 'gensim' from '/Users/j/miniconda3/lib/python3.7/site-packages/gensim/__init__.py'>,\n",
       " 'gensim.models.doc2vec',\n",
       " <module 'gensim.models.doc2vec' from '/Users/j/miniconda3/lib/python3.7/site-packages/gensim/models/doc2vec.py'>,\n",
       " 'nltk',\n",
       " <module 'nltk' from '/Users/j/miniconda3/lib/python3.7/site-packages/nltk/__init__.py'>,\n",
       " 'snowballstemmer',\n",
       " <module 'snowballstemmer' from '/Users/j/miniconda3/lib/python3.7/site-packages/snowballstemmer/__init__.py'>,\n",
       " 'PIL.Image',\n",
       " <module 'PIL.Image' from '/Users/j/miniconda3/lib/python3.7/site-packages/PIL/Image.py'>,\n",
       " 'keras.utils.np_utils',\n",
       " <module 'keras.utils.np_utils' from '/Users/j/miniconda3/lib/python3.7/site-packages/keras/utils/np_utils.py'>,\n",
       " 'gensim.utils',\n",
       " <module 'gensim.utils' from '/Users/j/miniconda3/lib/python3.7/site-packages/gensim/utils.py'>,\n",
       " 'tensorflow.python.keras.api._v2.keras.backend',\n",
       " <module 'tensorflow.python.keras.api._v2.keras.backend' from '/Users/j/miniconda3/lib/python3.7/site-packages/tensorflow/python/keras/api/_v2/keras/backend/__init__.py'>,\n",
       " 'types',\n",
       " <module 'types' from '/Users/j/miniconda3/lib/python3.7/types.py'>]"
      ]
     },
     "execution_count": 75,
     "metadata": {},
     "output_type": "execute_result"
    }
   ],
   "source": [
    "import types\n",
    "def imports():\n",
    "    for name, val in globals().items():\n",
    "        if isinstance(val, types.ModuleType):\n",
    "            yield val.__name__\n",
    "            yield val\n",
    "list(imports())"
   ]
  },
  {
   "cell_type": "code",
   "execution_count": 76,
   "metadata": {},
   "outputs": [
    {
     "name": "stdout",
     "output_type": "stream",
     "text": [
      "xgboost==0.82\n",
      "wordcloud==1.5.0\n",
      "tensorflow==2.0.0a0\n",
      "snowballstemmer==1.2.1\n",
      "seaborn==0.9.0\n",
      "scikit-learn==0.20.3\n",
      "Pillow==5.2.0\n",
      "pandas==0.24.2\n",
      "numpy==1.16.3\n",
      "nltk==3.4.1\n",
      "matplotlib==3.0.3\n",
      "gensim==3.7.3\n",
      "eli5==0.8.2\n"
     ]
    }
   ],
   "source": [
    "import pkg_resources\n",
    "import types\n",
    "def get_imports():\n",
    "    for name, val in globals().items():\n",
    "        if isinstance(val, types.ModuleType):\n",
    "            # Split ensures you get root package, \n",
    "            # not just imported function\n",
    "            name = val.__name__.split(\".\")[0]\n",
    "\n",
    "        elif isinstance(val, type):\n",
    "            name = val.__module__.split(\".\")[0]\n",
    "\n",
    "        # Some packages are weird and have different\n",
    "        # imported names vs. system/pip names. Unfortunately,\n",
    "        # there is no systematic way to get pip names from\n",
    "        # a package's imported name. You'll have to had\n",
    "        # exceptions to this list manually!\n",
    "        poorly_named_packages = {\n",
    "            \"PIL\": \"Pillow\",\n",
    "            \"sklearn\": \"scikit-learn\"\n",
    "        }\n",
    "        if name in poorly_named_packages.keys():\n",
    "            name = poorly_named_packages[name]\n",
    "\n",
    "        yield name\n",
    "imports = list(set(get_imports()))\n",
    "\n",
    "# The only way I found to get the version of the root package\n",
    "# from only the name of the package is to cross-check the names \n",
    "# of installed packages vs. imported packages\n",
    "requirements = []\n",
    "for m in pkg_resources.working_set:\n",
    "    if m.project_name in imports and m.project_name!=\"pip\":\n",
    "        requirements.append((m.project_name, m.version))\n",
    "\n",
    "for r in requirements:\n",
    "    print(\"{}=={}\".format(*r))"
   ]
  },
  {
   "cell_type": "markdown",
   "metadata": {},
   "source": [
    "## 0 Preprocessing"
   ]
  },
  {
   "cell_type": "code",
   "execution_count": 66,
   "metadata": {},
   "outputs": [],
   "source": [
    "# Process df type\n",
    "def df_process(df,name=None):\n",
    "    df=df.dropna(subset=['Text','Gene','Variation'])\n",
    "    df['Gene'] = df['Gene'].astype(str)\n",
    "    df['Variation'] = df['Variation'].astype(str)\n",
    "    df['Text'] = df['Text'].astype(str)\n",
    "    print(df.head(1))\n",
    "    #df.to_csv(name,index=False)\n",
    "    #print(name,'file is saved')\n",
    "    return df\n"
   ]
  },
  {
   "cell_type": "code",
   "execution_count": null,
   "metadata": {},
   "outputs": [],
   "source": [
    "# Train data for training and validation\n",
    "df_train = pd.read_csv('train_variants_text.csv') \n",
    "train = df_process(df_train)\n",
    "train['data_type']='train'\n",
    "print('train data size:',len(train))"
   ]
  },
  {
   "cell_type": "code",
   "execution_count": null,
   "metadata": {},
   "outputs": [],
   "source": [
    "# Test data for submission\n",
    "df_test = pd.read_csv('stage2_test_variants_text.csv') \n",
    "test = df_process(df_test)\n",
    "test['data_type']='test'\n",
    "print('test data size:',len(test))"
   ]
  },
  {
   "cell_type": "markdown",
   "metadata": {},
   "source": [
    "### Combine both train and test data => all_data"
   ]
  },
  {
   "cell_type": "code",
   "execution_count": null,
   "metadata": {},
   "outputs": [],
   "source": [
    "all_data = pd.concat([train, test], sort=False)\n",
    "all_data['Text']=all_data['Text'].apply(textClean_full)\n",
    "print('all_data size:',len(all_data))\n",
    "all_data.to_csv('pm_all_data_clean_class_20190614.csv', index= False)   "
   ]
  },
  {
   "cell_type": "markdown",
   "metadata": {},
   "source": [
    "## 1 Load preprocessed all_data "
   ]
  },
  {
   "cell_type": "code",
   "execution_count": 14,
   "metadata": {},
   "outputs": [
    {
     "data": {
      "text/html": [
       "<div>\n",
       "<style scoped>\n",
       "    .dataframe tbody tr th:only-of-type {\n",
       "        vertical-align: middle;\n",
       "    }\n",
       "\n",
       "    .dataframe tbody tr th {\n",
       "        vertical-align: top;\n",
       "    }\n",
       "\n",
       "    .dataframe thead th {\n",
       "        text-align: right;\n",
       "    }\n",
       "</style>\n",
       "<table border=\"1\" class=\"dataframe\">\n",
       "  <thead>\n",
       "    <tr style=\"text-align: right;\">\n",
       "      <th></th>\n",
       "      <th>ID</th>\n",
       "      <th>Gene</th>\n",
       "      <th>Variation</th>\n",
       "      <th>Text</th>\n",
       "      <th>data_type</th>\n",
       "      <th>Class</th>\n",
       "    </tr>\n",
       "  </thead>\n",
       "  <tbody>\n",
       "    <tr>\n",
       "      <th>0</th>\n",
       "      <td>0</td>\n",
       "      <td>FAM58A</td>\n",
       "      <td>Truncating Mutations</td>\n",
       "      <td>cyclin dependent kinases cdks regulate variety...</td>\n",
       "      <td>train</td>\n",
       "      <td>1.0</td>\n",
       "    </tr>\n",
       "  </tbody>\n",
       "</table>\n",
       "</div>"
      ],
      "text/plain": [
       "   ID    Gene             Variation  \\\n",
       "0   0  FAM58A  Truncating Mutations   \n",
       "\n",
       "                                                Text data_type  Class  \n",
       "0  cyclin dependent kinases cdks regulate variety...     train    1.0  "
      ]
     },
     "execution_count": 14,
     "metadata": {},
     "output_type": "execute_result"
    }
   ],
   "source": [
    "all_data= pd.read_csv('/Users/j/Dropbox/Learn/health_precisionmedicine/data/processed/pm_all_data_clean_class_20190614.csv')\n",
    "all_data.head(1)"
   ]
  },
  {
   "cell_type": "markdown",
   "metadata": {},
   "source": [
    "## 2 Featurize all_data.Text"
   ]
  },
  {
   "cell_type": "markdown",
   "metadata": {},
   "source": [
    "### 2.1 Build Doc2Vec model"
   ]
  },
  {
   "cell_type": "code",
   "execution_count": 29,
   "metadata": {},
   "outputs": [],
   "source": [
    "from gensim.models.doc2vec import LabeledSentence\n",
    "from gensim import utils\n",
    "def constructLabeledSentences(df,col):\n",
    "    data = df[col]\n",
    "    sentences=[]\n",
    "    for index, row in data.iteritems():\n",
    "        sentences.append(LabeledSentence(utils.to_unicode(row).split(), ['Text' + '_%s' % str(index)]))\n",
    "    return sentences"
   ]
  },
  {
   "cell_type": "code",
   "execution_count": 30,
   "metadata": {},
   "outputs": [],
   "source": [
    "sentences = constructLabeledSentences(all_data,'Text')\n",
    "#sentences[0]"
   ]
  },
  {
   "cell_type": "code",
   "execution_count": 32,
   "metadata": {},
   "outputs": [],
   "source": [
    "from gensim.models import Doc2Vec\n",
    "def get_doc2vec_model(sentences, location,text_input_dim):\n",
    "    \"\"\"Returns trained word2vec    \n",
    "    Args:\n",
    "        sentences: iterator for sentences\n",
    "        \n",
    "        location (str): Path to save/load doc2vec\n",
    "    \"\"\"\n",
    "    if os.path.exists(location):\n",
    "        print('Found {}'.format(location))\n",
    "        text_model = Doc2Vec.load(location)\n",
    "    else:    \n",
    "        print('{} not found. training model'.format(location))\n",
    "        text_model = Doc2Vec(min_count=1, window=5, size=text_input_dim, sample=1e-4, negative=5, workers=4, iter=5,seed=1)\n",
    "        text_model.build_vocab(sentences)\n",
    "        text_model.train(sentences, total_examples=text_model.corpus_count, epochs=text_model.iter)\n",
    "        text_model.save(location)\n",
    "        print(location,'model is saved')\n",
    "    return text_model\n"
   ]
  },
  {
   "cell_type": "code",
   "execution_count": 33,
   "metadata": {},
   "outputs": [],
   "source": [
    "# parameters\n",
    "text_input_dim =300\n",
    "train_size = 3316\n",
    "test_size=986"
   ]
  },
  {
   "cell_type": "code",
   "execution_count": 34,
   "metadata": {},
   "outputs": [
    {
     "name": "stderr",
     "output_type": "stream",
     "text": [
      "WARNING: Logging before flag parsing goes to stderr.\n",
      "W0615 09:25:50.147427 140736013464448 smart_open_lib.py:385] this function is deprecated, use smart_open.open instead\n"
     ]
    },
    {
     "name": "stdout",
     "output_type": "stream",
     "text": [
      "Found /Users/j/Dropbox/Learn/health_precisionmedicine/src/doc2vec/doc2vec_all_20190614.d2v\n"
     ]
    }
   ],
   "source": [
    "text_model = get_doc2vec_model(sentences, \\\n",
    "                               '/Users/j/Dropbox/Learn/health_precisionmedicine/src/doc2vec/doc2vec_all_20190614.d2v',\\\n",
    "                               text_input_dim=text_input_dim)"
   ]
  },
  {
   "cell_type": "code",
   "execution_count": 12,
   "metadata": {
    "scrolled": true
   },
   "outputs": [
    {
     "name": "stdout",
     "output_type": "stream",
     "text": [
      "Found ../input/pm-model-doc2vec-all/doc2vec_all_20190614.d2v\n"
     ]
    }
   ],
   "source": [
    "text_model = get_doc2vec_model(sentences, '../input/pm-model-doc2vec-all/doc2vec_all_20190614.d2v',text_input_dim=text_input_dim)"
   ]
  },
  {
   "cell_type": "markdown",
   "metadata": {},
   "source": [
    "### 2.2 Build a feature array for  all_data.Text"
   ]
  },
  {
   "cell_type": "code",
   "execution_count": 35,
   "metadata": {},
   "outputs": [],
   "source": [
    "def build_text_array(text_model, text_input_dim,train_size,test_size):\n",
    "    text_train_arrays = np.zeros((train_size, text_input_dim))\n",
    "    text_test_arrays = np.zeros((test_size, text_input_dim))\n",
    "    for i in range(train_size):\n",
    "        text_train_arrays[i] = text_model.docvecs['Text_'+str(i)]\n",
    "    j=0\n",
    "    for i in range(train_size,train_size+test_size):\n",
    "        text_test_arrays[j] = text_model.docvecs['Text_'+str(i)]\n",
    "        j=j+1\n",
    "    return text_train_arrays, text_test_arrays    "
   ]
  },
  {
   "cell_type": "markdown",
   "metadata": {},
   "source": [
    "### 2.3 Split the feature array for train and test"
   ]
  },
  {
   "cell_type": "code",
   "execution_count": 36,
   "metadata": {},
   "outputs": [],
   "source": [
    "text_train_arrays, text_test_arrays = build_text_array(text_model, \\\n",
    "                                                       text_input_dim,\\\n",
    "                                                       train_size,\\\n",
    "                                                       test_size)"
   ]
  },
  {
   "cell_type": "code",
   "execution_count": 37,
   "metadata": {},
   "outputs": [
    {
     "name": "stdout",
     "output_type": "stream",
     "text": [
      "(3316, 300)\n",
      "(986, 300)\n"
     ]
    }
   ],
   "source": [
    "print(text_train_arrays.shape)\n",
    "print(text_test_arrays.shape)"
   ]
  },
  {
   "cell_type": "code",
   "execution_count": 38,
   "metadata": {},
   "outputs": [
    {
     "name": "stdout",
     "output_type": "stream",
     "text": [
      "[ 0.49902058 -0.21902579  0.23566465  0.6866526  -0.76406091 -0.47411516\n",
      " -0.10866016  0.80849326  0.36930278  0.03643488]\n"
     ]
    }
   ],
   "source": [
    "print(text_train_arrays[0][:10])"
   ]
  },
  {
   "cell_type": "markdown",
   "metadata": {},
   "source": [
    "## 3. Featurize Gene and Variation "
   ]
  },
  {
   "cell_type": "code",
   "execution_count": 39,
   "metadata": {},
   "outputs": [],
   "source": [
    "# Dimension reduction\n",
    "from sklearn.decomposition import TruncatedSVD\n",
    "gene_dim=25\n",
    "variation_dim=25\n",
    "\n",
    "# Pipeline for Gene\n",
    "Gene = Pipeline([\n",
    "    ('selector',ItemSelector(key=\"Gene\")),\n",
    "    #('converter',Converter()),\n",
    "    ('onehot',OneHotEncoder()),\n",
    "    ('tsvd',TruncatedSVD(n_components=25, n_iter=gene_dim, random_state=12))\n",
    "])\n",
    "\n",
    "# Pipeline for Variation\n",
    "Variation = Pipeline([\n",
    "    ('selector',ItemSelector(key=\"Variation\")),\n",
    "    #('converter',Converter()),\n",
    "    ('onehot',OneHotEncoder()),\n",
    "    ('tsvd',TruncatedSVD(n_components=25, n_iter=variation_dim, random_state=12))\n",
    "])"
   ]
  },
  {
   "cell_type": "code",
   "execution_count": 40,
   "metadata": {},
   "outputs": [
    {
     "name": "stdout",
     "output_type": "stream",
     "text": [
      "(4302, 25)\n",
      "(4302, 25)\n"
     ]
    }
   ],
   "source": [
    "Gene_vector = Variation.fit_transform(all_data)\n",
    "print(Gene_vector.shape)\n",
    "\n",
    "Variation_vector = Variation.fit_transform(all_data)\n",
    "print(Variation_vector.shape)\n"
   ]
  },
  {
   "cell_type": "markdown",
   "metadata": {},
   "source": [
    "## 4. Stack features "
   ]
  },
  {
   "cell_type": "code",
   "execution_count": 41,
   "metadata": {},
   "outputs": [],
   "source": [
    "# Stack train and test features\n",
    "def stack_train_features(Gene_vector, \\\n",
    "                         Variation_vector,\\\n",
    "                         train_size,\\\n",
    "                         text_train_arrays, \\\n",
    "                         text_test_arrays):\n",
    "    train_set=np.hstack((Gene_vector[:train_size],\\\n",
    "                     Variation_vector[:train_size],\\\n",
    "                     text_train_arrays))\n",
    "    test_set=np.hstack((Gene_vector[train_size:],\\\n",
    "                     Variation_vector[train_size:],\\\n",
    "                     text_test_arrays))\n",
    "    return train_set, test_set"
   ]
  },
  {
   "cell_type": "code",
   "execution_count": 42,
   "metadata": {},
   "outputs": [],
   "source": [
    "train_set, test_set = stack_train_features(Gene_vector, \\\n",
    "                         Variation_vector,\\\n",
    "                         train_size,\\\n",
    "                         text_train_arrays, \\\n",
    "                         text_test_arrays)"
   ]
  },
  {
   "cell_type": "code",
   "execution_count": 43,
   "metadata": {},
   "outputs": [
    {
     "name": "stdout",
     "output_type": "stream",
     "text": [
      "(3316, 350)\n",
      "(986, 350)\n",
      "350\n"
     ]
    }
   ],
   "source": [
    "print(train_set.shape)\n",
    "print(test_set.shape)\n",
    "#print(train_set[0][:10])\n",
    "input_shape=train_set.shape[1]\n",
    "print(input_shape)"
   ]
  },
  {
   "cell_type": "markdown",
   "metadata": {},
   "source": [
    "## 5. Label Encoding train.Class"
   ]
  },
  {
   "cell_type": "code",
   "execution_count": 53,
   "metadata": {},
   "outputs": [],
   "source": [
    "from keras.utils import np_utils\n",
    "from sklearn.preprocessing import LabelEncoder\n",
    "def label_encoder(train_size):\n",
    "    y = all_data.Class[:train_size]\n",
    "    label_encoder = LabelEncoder()\n",
    "    label_encoder.fit(y)\n",
    "    encoded_y = np_utils.to_categorical((label_encoder.transform(y)))\n",
    "    print(encoded_y.shape)\n",
    "    return encoded_y    "
   ]
  },
  {
   "cell_type": "code",
   "execution_count": 54,
   "metadata": {},
   "outputs": [
    {
     "name": "stdout",
     "output_type": "stream",
     "text": [
      "(3316, 9)\n"
     ]
    }
   ],
   "source": [
    "train_y  = label_encoder(train_size)"
   ]
  },
  {
   "cell_type": "markdown",
   "metadata": {},
   "source": [
    "## 6. Build Keras model "
   ]
  },
  {
   "cell_type": "code",
   "execution_count": 55,
   "metadata": {},
   "outputs": [],
   "source": [
    "# Build keras model\n",
    "from keras.models import Sequential\n",
    "from keras.layers import Dense, Dropout, LSTM, Embedding, Input, RepeatVector\n",
    "from keras.optimizers import SGD\n",
    "\n",
    "def baseline_model():\n",
    "    model = Sequential()\n",
    "    model.add(Dense(256,input_shape=(input_shape,)))\n",
    "    #model.add(Dense(input_dim, init='normal', activation='relu'))\n",
    "    model.add(Dropout(0.3))\n",
    "    model.add(Dense(256, init='normal', activation='relu'))\n",
    "    model.add(Dropout(0.5))\n",
    "    model.add(Dense(80, init='normal', activation='relu'))\n",
    "    model.add(Dense(9, init='normal', activation=\"softmax\"))   \n",
    "    sgd = SGD(lr=0.01, decay=1e-6, momentum=0.9, nesterov=True)  \n",
    "    model.compile(loss='categorical_crossentropy', optimizer=sgd, metrics=['accuracy'])\n",
    "    return model"
   ]
  },
  {
   "cell_type": "markdown",
   "metadata": {},
   "source": [
    "## 7. Training"
   ]
  },
  {
   "cell_type": "code",
   "execution_count": 61,
   "metadata": {},
   "outputs": [],
   "source": [
    "# Import KerasRegressor model\n",
    "from keras.wrappers.scikit_learn import KerasRegressor\n",
    "clf = KerasRegressor(build_fn=baseline_model)\n"
   ]
  },
  {
   "cell_type": "code",
   "execution_count": null,
   "metadata": {},
   "outputs": [],
   "source": [
    "from sklearn.model_selection import train_test_split\n",
    "from keras.callbacks import ModelCheckpoint\n",
    "# Build estimator\n",
    "def build_estimator(clf,train_set, train_y, epochs,verbose):\n",
    "    # split data \n",
    "    X_train, X_validation, y_train, y_validation = train_test_split(train_set, train_y, test_size=0.33, stratify=train_y, shuffle= True, random_state=42)\n",
    "    # Save best model \n",
    "    weightsname = '{}{:%Y%m%dT%H%M%S}.hd5'.format(('doc2vec_keras'), datetime.datetime.now())\n",
    "    checkpointer = ModelCheckpoint(filepath=weightsname, verbose=verbose, save_best_only=True)\n",
    "    # Build estimator   \n",
    "    estimator=clf.fit(X_train, y_train, batch_size=32, epochs=epochs, callbacks=[checkpointer],validation_data=(X_validation, y_validation))\n",
    "    #estimator=clf.fit(train_set, train_y, validation_split=0.33, epochs=epochs, batch_size=32)\n",
    "    return estimator"
   ]
  },
  {
   "cell_type": "code",
   "execution_count": 62,
   "metadata": {},
   "outputs": [],
   "source": [
    "estimator1=build_estimator(clf,train_set, train_y, epochs=12,verbose=1)"
   ]
  },
  {
   "cell_type": "markdown",
   "metadata": {},
   "source": [
    "## 8. Inspect training results"
   ]
  },
  {
   "cell_type": "code",
   "execution_count": 28,
   "metadata": {},
   "outputs": [],
   "source": [
    "# Save history to a dataframe\n",
    "def save_history_df(estimator):\n",
    "    # Check history\n",
    "    history = estimator.history\n",
    "    epochs = range(1,len(next(iter(history.values())))+1)\n",
    "    # Save history in a csv file\n",
    "    df= pd.DataFrame(history, index=epochs)\n",
    "    name = '{}{:%Y%m%dT%H%M%S}.csv'.format(('full_kaggle_keras'), datetime.datetime.now())\n",
    "    print(df.head(5))\n",
    "    df.to_csv(name)"
   ]
  },
  {
   "cell_type": "code",
   "execution_count": 29,
   "metadata": {},
   "outputs": [
    {
     "name": "stdout",
     "output_type": "stream",
     "text": [
      "   val_loss   val_acc      loss       acc\n",
      "1  1.614802  0.400913  1.842720  0.323728\n",
      "2  1.506576  0.429224  1.594035  0.415579\n",
      "3  1.419462  0.482192  1.493960  0.441243\n",
      "4  1.363473  0.505023  1.414563  0.470959\n",
      "5  1.322060  0.549772  1.364343  0.498874\n"
     ]
    }
   ],
   "source": [
    "save_history_df(estimator1)"
   ]
  },
  {
   "cell_type": "code",
   "execution_count": 30,
   "metadata": {},
   "outputs": [],
   "source": [
    "# Plot the history\n",
    "import matplotlib.pyplot as plt\n",
    "def plot_history(estimator):\n",
    "    fig = plt.figure(figsize=(5,5))\n",
    "    #plt.subplot(121)\n",
    "    plt.plot(estimator.history['acc'])\n",
    "    plt.plot(estimator.history['val_acc'])\n",
    "    plt.title('model accuracy')\n",
    "    plt.ylabel('accuracy')\n",
    "    plt.xlabel('epoch')\n",
    "    plt.legend(['train', 'valid'], loc='upper left')\n",
    "    plt.show()\n",
    "\n",
    "# summarize history for loss\n",
    "    #plt.subplot(122)\n",
    "    fig = plt.figure(figsize=(5,5))\n",
    "    plt.plot(estimator.history['loss'])\n",
    "    plt.plot(estimator.history['val_loss'])\n",
    "    plt.title('model loss')\n",
    "    plt.ylabel('loss')\n",
    "    plt.xlabel('epoch')\n",
    "    plt.legend(['train', 'valid'], loc='upper left')\n",
    "    plt.show()\n",
    "    figname = '{}{:%Y%m%dT%H%M%S}.png'.format(('fullkeras'), datetime.datetime.now())\n",
    "    fig.savefig(figname,figdpi = 600)\n",
    "    plt.close()\n",
    "    "
   ]
  },
  {
   "cell_type": "code",
   "execution_count": 31,
   "metadata": {
    "scrolled": true
   },
   "outputs": [
    {
     "data": {
      "image/png": "[encoded data removed]",
      "text/plain": [
       "<Figure size 360x360 with 1 Axes>"
      ]
     },
     "metadata": {},
     "output_type": "display_data"
    },
    {
     "data": {
      "image/png": "[encoded data removed]",
      "text/plain": [
       "<Figure size 360x360 with 1 Axes>"
      ]
     },
     "metadata": {},
     "output_type": "display_data"
    }
   ],
   "source": [
    "plot_history(estimator1)"
   ]
  },
  {
   "cell_type": "code",
   "execution_count": null,
   "metadata": {},
   "outputs": [],
   "source": [
    "## Run into overfitting"
   ]
  }
 ],
 "metadata": {
  "kernelspec": {
   "display_name": "Python 3",
   "language": "python",
   "name": "python3"
  },
  "language_info": {
   "codemirror_mode": {
    "name": "ipython",
    "version": 3
   },
   "file_extension": ".py",
   "mimetype": "text/x-python",
   "name": "python",
   "nbconvert_exporter": "python",
   "pygments_lexer": "ipython3",
   "version": "3.7.3"
  }
 },
 "nbformat": 4,
 "nbformat_minor": 1
}
