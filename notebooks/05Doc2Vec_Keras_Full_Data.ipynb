{
 "cells": [
  {
   "cell_type": "code",
   "execution_count": 69,
   "metadata": {},
   "outputs": [],
   "source": [
    "# System packages\n",
    "import os\n",
    "import re\n",
    "import sys\n",
    "import warnings\n",
    "# Data related\n",
    "import numpy as np \n",
    "import pandas as pd \n",
    "\n",
    "# sklearn  \n",
    "from sklearn.metrics import  accuracy_score\n",
    "from sklearn.model_selection import train_test_split, cross_val_predict,cross_val_score,  StratifiedKFold, GridSearchCV\n",
    "from sklearn.feature_extraction.text import CountVectorizer, TfidfTransformer, TfidfVectorizer\n",
    "from sklearn.pipeline import FeatureUnion, Pipeline\n",
    "from sklearn.preprocessing import OneHotEncoder\n",
    "from sklearn.metrics import accuracy_score\n",
    "\n",
    "warnings.filterwarnings('ignore')\n",
    "pd.set_option('display.max_columns', 50)\n",
    "from tensorflow.keras import backend"
   ]
  },
  {
   "cell_type": "code",
   "execution_count": 65,
   "metadata": {},
   "outputs": [],
   "source": [
    "# Add utils_functions.py as a dataset\n",
    "from shutil import copyfile\n",
    "\n",
    "# Copy our file into the working directory (make sure it has .py suffix)\n",
    "copyfile(src = \"../input/utils-functions/utils_functions.py\", dst = '/kaggle/working/utils_functions.py')\n",
    "from utils_functions import *"
   ]
  },
  {
   "cell_type": "markdown",
   "metadata": {},
   "source": [
    "## 0 Preprocessing"
   ]
  },
  {
   "cell_type": "code",
   "execution_count": null,
   "metadata": {},
   "outputs": [],
   "source": [
    "# Train data for training and validation\n",
    "df_train = pd.read_csv('train_variants_text.csv') \n",
    "train = df_process(df_train)\n",
    "train['data_type']='train'\n",
    "print('train data size:',len(train))"
   ]
  },
  {
   "cell_type": "code",
   "execution_count": null,
   "metadata": {},
   "outputs": [],
   "source": [
    "# Test data for submission\n",
    "df_test = pd.read_csv('stage2_test_variants_text.csv') \n",
    "test = df_process(df_test)\n",
    "test['data_type']='test'\n",
    "print('test data size:',len(test))"
   ]
  },
  {
   "cell_type": "markdown",
   "metadata": {},
   "source": [
    "### Combine both train and test data => all_data"
   ]
  },
  {
   "cell_type": "code",
   "execution_count": null,
   "metadata": {},
   "outputs": [],
   "source": [
    "all_data = pd.concat([train, test], sort=False)\n",
    "all_data['Text']=all_data['Text'].apply(textClean_full)\n",
    "print('all_data size:',len(all_data))\n",
    "all_data.to_csv('pm_all_data_clean_class_20190614.csv', index= False)   "
   ]
  },
  {
   "cell_type": "markdown",
   "metadata": {},
   "source": [
    "## 1 Load preprocessed all_data "
   ]
  },
  {
   "cell_type": "code",
   "execution_count": 14,
   "metadata": {},
   "outputs": [
    {
     "data": {
      "text/html": [
       "<div>\n",
       "<style scoped>\n",
       "    .dataframe tbody tr th:only-of-type {\n",
       "        vertical-align: middle;\n",
       "    }\n",
       "\n",
       "    .dataframe tbody tr th {\n",
       "        vertical-align: top;\n",
       "    }\n",
       "\n",
       "    .dataframe thead th {\n",
       "        text-align: right;\n",
       "    }\n",
       "</style>\n",
       "<table border=\"1\" class=\"dataframe\">\n",
       "  <thead>\n",
       "    <tr style=\"text-align: right;\">\n",
       "      <th></th>\n",
       "      <th>ID</th>\n",
       "      <th>Gene</th>\n",
       "      <th>Variation</th>\n",
       "      <th>Text</th>\n",
       "      <th>data_type</th>\n",
       "      <th>Class</th>\n",
       "    </tr>\n",
       "  </thead>\n",
       "  <tbody>\n",
       "    <tr>\n",
       "      <th>0</th>\n",
       "      <td>0</td>\n",
       "      <td>FAM58A</td>\n",
       "      <td>Truncating Mutations</td>\n",
       "      <td>cyclin dependent kinases cdks regulate variety...</td>\n",
       "      <td>train</td>\n",
       "      <td>1.0</td>\n",
       "    </tr>\n",
       "  </tbody>\n",
       "</table>\n",
       "</div>"
      ],
      "text/plain": [
       "   ID    Gene             Variation  \\\n",
       "0   0  FAM58A  Truncating Mutations   \n",
       "\n",
       "                                                Text data_type  Class  \n",
       "0  cyclin dependent kinases cdks regulate variety...     train    1.0  "
      ]
     },
     "execution_count": 14,
     "metadata": {},
     "output_type": "execute_result"
    }
   ],
   "source": [
    "all_data= pd.read_csv('/Users/j/Dropbox/Learn/health_precisionmedicine/data/processed/pm_all_data_clean_class_20190614.csv')\n",
    "all_data.head(1)"
   ]
  },
  {
   "cell_type": "markdown",
   "metadata": {},
   "source": [
    "### Group Variantions "
   ]
  },
  {
   "cell_type": "code",
   "execution_count": 408,
   "metadata": {},
   "outputs": [],
   "source": [
    "df = group_Variation(df)"
   ]
  },
  {
   "cell_type": "code",
   "execution_count": 411,
   "metadata": {},
   "outputs": [
    {
     "data": {
      "text/plain": [
       "Variation\n",
       "snv_other               3812\n",
       "fusions                  197\n",
       "truncating mutations     112\n",
       "del                       95\n",
       "amplification             77\n",
       "overexpression             6\n",
       "promoter                   3\n",
       "dtype: int64"
      ]
     },
     "execution_count": 411,
     "metadata": {},
     "output_type": "execute_result"
    }
   ],
   "source": [
    "groupby_col_size(df,'Variation').head(100)"
   ]
  },
  {
   "cell_type": "code",
   "execution_count": 412,
   "metadata": {
    "scrolled": true
   },
   "outputs": [
    {
     "data": {
      "image/png": "[encoded data removed]",
      "text/plain": [
       "<Figure size 432x288 with 1 Axes>"
      ]
     },
     "metadata": {},
     "output_type": "display_data"
    }
   ],
   "source": [
    "fig =col_count_plot(df, 'Variation')"
   ]
  },
  {
   "cell_type": "markdown",
   "metadata": {},
   "source": [
    "## 2. Label Encoding train.Class"
   ]
  },
  {
   "cell_type": "code",
   "execution_count": null,
   "metadata": {},
   "outputs": [],
   "source": [
    "train_y  = label_encoder(train_size)\n"
   ]
  },
  {
   "cell_type": "markdown",
   "metadata": {},
   "source": [
    "## 3 Build Doc2Vec model"
   ]
  },
  {
   "cell_type": "code",
   "execution_count": 414,
   "metadata": {},
   "outputs": [],
   "source": [
    "sentences = constructLabeledSentences(all_data,'Text')\n",
    "#sentences[0]"
   ]
  },
  {
   "cell_type": "code",
   "execution_count": 416,
   "metadata": {},
   "outputs": [],
   "source": [
    "text_input_dim =300\n",
    "train_size = 3316\n",
    "test_size=986"
   ]
  },
  {
   "cell_type": "code",
   "execution_count": 417,
   "metadata": {},
   "outputs": [
    {
     "name": "stdout",
     "output_type": "stream",
     "text": [
      "Found ../input/pm-model-doc2vec-all/doc2vec_all_20190614.d2v\n"
     ]
    }
   ],
   "source": [
    "text_model = get_doc2vec_model(sentences, '../input/pm-model-doc2vec-all/doc2vec_all_20190614.d2v',text_input_dim=text_input_dim)"
   ]
  },
  {
   "cell_type": "markdown",
   "metadata": {},
   "source": [
    "## 4. Featurize Text for train and test data"
   ]
  },
  {
   "cell_type": "code",
   "execution_count": 419,
   "metadata": {},
   "outputs": [],
   "source": [
    "text_train_arrays, text_test_arrays = build_text_array(text_model, \\\n",
    "                                                       text_input_dim,\\\n",
    "                                                       train_size,\\\n",
    "                                                       test_size)"
   ]
  },
  {
   "cell_type": "code",
   "execution_count": 420,
   "metadata": {},
   "outputs": [
    {
     "name": "stdout",
     "output_type": "stream",
     "text": [
      "(3316, 300)\n",
      "(986, 300)\n"
     ]
    }
   ],
   "source": [
    "print(text_train_arrays.shape)\n",
    "print(text_test_arrays.shape)"
   ]
  },
  {
   "cell_type": "code",
   "execution_count": 421,
   "metadata": {},
   "outputs": [
    {
     "name": "stdout",
     "output_type": "stream",
     "text": [
      "[ 0.49902058 -0.21902579  0.23566465  0.6866526  -0.76406091 -0.47411516\n",
      " -0.10866016  0.80849326  0.36930278  0.03643488]\n"
     ]
    }
   ],
   "source": [
    "print(text_train_arrays[0][:10])"
   ]
  },
  {
   "cell_type": "markdown",
   "metadata": {},
   "source": [
    "## 5 Feature Gene and Variation "
   ]
  },
  {
   "cell_type": "code",
   "execution_count": 422,
   "metadata": {},
   "outputs": [],
   "source": [
    "# Dimension reduction\n",
    "from sklearn.decomposition import TruncatedSVD\n",
    "gene_dim=25\n",
    "variation_dim=5\n",
    "\n",
    "# Pipeline for Gene\n",
    "Gene = Pipeline([\n",
    "    ('selector',ItemSelector(key=\"Gene\")),\n",
    "    #('converter',Converter()),\n",
    "    ('onehot',OneHotEncoder()),\n",
    "    ('tsvd',TruncatedSVD(n_components=gene_dim, n_iter=gene_dim, random_state=12))\n",
    "])\n",
    "\n",
    "# Pipeline for Variation\n",
    "Variation = Pipeline([\n",
    "    ('selector',ItemSelector(key=\"Variation\")),\n",
    "    #('converter',Converter()),\n",
    "    ('onehot',OneHotEncoder()),\n",
    "    ('tsvd',TruncatedSVD(n_components=variation_dim, n_iter=variation_dim, random_state=12))\n",
    "])"
   ]
  },
  {
   "cell_type": "code",
   "execution_count": 423,
   "metadata": {},
   "outputs": [
    {
     "name": "stdout",
     "output_type": "stream",
     "text": [
      "(4302, 25)\n"
     ]
    }
   ],
   "source": [
    "Gene_vector = Gene.fit_transform(all_data)\n",
    "print(Gene_vector.shape)\n"
   ]
  },
  {
   "cell_type": "code",
   "execution_count": 424,
   "metadata": {},
   "outputs": [
    {
     "name": "stdout",
     "output_type": "stream",
     "text": [
      "(4302, 5)\n"
     ]
    }
   ],
   "source": [
    "Variation_vector = Variation.fit_transform(all_data)\n",
    "print(Variation_vector.shape)\n"
   ]
  },
  {
   "cell_type": "markdown",
   "metadata": {},
   "source": [
    "## 5.1 Stack 3 features "
   ]
  },
  {
   "cell_type": "code",
   "execution_count": 426,
   "metadata": {},
   "outputs": [],
   "source": [
    "train_set, test_set = stack_3_features(Gene_vector, \\\n",
    "                         Variation_vector,\\\n",
    "                         train_size,\\\n",
    "                         text_train_arrays, \\\n",
    "                         text_test_arrays)"
   ]
  },
  {
   "cell_type": "code",
   "execution_count": 427,
   "metadata": {},
   "outputs": [
    {
     "name": "stdout",
     "output_type": "stream",
     "text": [
      "(3316, 330)\n",
      "(986, 330)\n",
      "330\n"
     ]
    }
   ],
   "source": [
    "print(train_set.shape)\n",
    "print(test_set.shape)\n",
    "#print(train_set[0][:10])\n",
    "input_shape=train_set.shape[1]\n",
    "print(input_shape)"
   ]
  },
  {
   "cell_type": "markdown",
   "metadata": {},
   "source": [
    "### Training"
   ]
  },
  {
   "cell_type": "code",
   "execution_count": 431,
   "metadata": {},
   "outputs": [],
   "source": [
    "# Import KerasRegressor model\n",
    "from keras.wrappers.scikit_learn import KerasRegressor\n",
    "clf = KerasRegressor(build_fn=baseline_model)"
   ]
  },
  {
   "cell_type": "code",
   "execution_count": 432,
   "metadata": {},
   "outputs": [],
   "source": [
    "from sklearn.model_selection import train_test_split\n",
    "from keras.callbacks import ModelCheckpoint\n",
    "# Build estimator\n",
    "def build_estimator(clf,train_set, train_y, epochs,verbose):\n",
    "    # split data \n",
    "    X_train, X_validation, y_train, y_validation = train_test_split(train_set, train_y, test_size=0.33, stratify=train_y, shuffle= True, random_state=42)\n",
    "    # Save best model \n",
    "    weightsname = '{}{:%Y%m%dT%H%M%S}.hd5'.format(('doc2vec_keras'), datetime.datetime.now())\n",
    "    checkpointer = ModelCheckpoint(filepath=weightsname, verbose=verbose, save_best_only=True)\n",
    "    # Build estimator   \n",
    "    estimator=clf.fit(X_train, y_train, batch_size=32, epochs=epochs, callbacks=[checkpointer],validation_data=(X_validation, y_validation))\n",
    "    #estimator=clf.fit(train_set, train_y, validation_split=0.33, epochs=epochs, batch_size=32)\n",
    "    return estimator"
   ]
  },
  {
   "cell_type": "code",
   "execution_count": 433,
   "metadata": {},
   "outputs": [
    {
     "name": "stdout",
     "output_type": "stream",
     "text": [
      "Train on 2221 samples, validate on 1095 samples\n",
      "Epoch 1/50\n",
      "2221/2221 [==============================] - 1s 253us/step - loss: 2.0372 - acc: 0.2774 - val_loss: 1.8935 - val_acc: 0.2868\n",
      "\n",
      "Epoch 00001: val_loss improved from inf to 1.89354, saving model to doc2vec_keras20190616T141412.hd5\n",
      "Epoch 2/50\n",
      "2221/2221 [==============================] - 0s 83us/step - loss: 1.8351 - acc: 0.3062 - val_loss: 1.7505 - val_acc: 0.3342\n",
      "\n",
      "Epoch 00002: val_loss improved from 1.89354 to 1.75046, saving model to doc2vec_keras20190616T141412.hd5\n",
      "Epoch 3/50\n",
      "2221/2221 [==============================] - 0s 85us/step - loss: 1.6596 - acc: 0.3809 - val_loss: 1.5682 - val_acc: 0.4210\n",
      "\n",
      "Epoch 00003: val_loss improved from 1.75046 to 1.56820, saving model to doc2vec_keras20190616T141412.hd5\n",
      "Epoch 4/50\n",
      "2221/2221 [==============================] - 0s 72us/step - loss: 1.5755 - acc: 0.4214 - val_loss: 1.5089 - val_acc: 0.4548\n",
      "\n",
      "Epoch 00004: val_loss improved from 1.56820 to 1.50887, saving model to doc2vec_keras20190616T141412.hd5\n",
      "Epoch 5/50\n",
      "2221/2221 [==============================] - 0s 73us/step - loss: 1.5245 - acc: 0.4277 - val_loss: 1.4775 - val_acc: 0.4521\n",
      "\n",
      "Epoch 00005: val_loss improved from 1.50887 to 1.47749, saving model to doc2vec_keras20190616T141412.hd5\n",
      "Epoch 6/50\n",
      "2221/2221 [==============================] - 0s 75us/step - loss: 1.5041 - acc: 0.4367 - val_loss: 1.4547 - val_acc: 0.4521\n",
      "\n",
      "Epoch 00006: val_loss improved from 1.47749 to 1.45473, saving model to doc2vec_keras20190616T141412.hd5\n",
      "Epoch 7/50\n",
      "2221/2221 [==============================] - 0s 83us/step - loss: 1.4613 - acc: 0.4566 - val_loss: 1.4327 - val_acc: 0.4612\n",
      "\n",
      "Epoch 00007: val_loss improved from 1.45473 to 1.43269, saving model to doc2vec_keras20190616T141412.hd5\n",
      "Epoch 8/50\n",
      "2221/2221 [==============================] - 0s 79us/step - loss: 1.4498 - acc: 0.4678 - val_loss: 1.4081 - val_acc: 0.4785\n",
      "\n",
      "Epoch 00008: val_loss improved from 1.43269 to 1.40809, saving model to doc2vec_keras20190616T141412.hd5\n",
      "Epoch 9/50\n",
      "2221/2221 [==============================] - 0s 79us/step - loss: 1.4076 - acc: 0.4719 - val_loss: 1.3703 - val_acc: 0.5041\n",
      "\n",
      "Epoch 00009: val_loss improved from 1.40809 to 1.37030, saving model to doc2vec_keras20190616T141412.hd5\n",
      "Epoch 10/50\n",
      "2221/2221 [==============================] - 0s 72us/step - loss: 1.3855 - acc: 0.4836 - val_loss: 1.3784 - val_acc: 0.5005\n",
      "\n",
      "Epoch 00010: val_loss did not improve from 1.37030\n",
      "Epoch 11/50\n",
      "2221/2221 [==============================] - 0s 72us/step - loss: 1.3581 - acc: 0.5043 - val_loss: 1.3259 - val_acc: 0.4968\n",
      "\n",
      "Epoch 00011: val_loss improved from 1.37030 to 1.32589, saving model to doc2vec_keras20190616T141412.hd5\n",
      "Epoch 12/50\n",
      "2221/2221 [==============================] - 0s 72us/step - loss: 1.3167 - acc: 0.5155 - val_loss: 1.3190 - val_acc: 0.5132\n",
      "\n",
      "Epoch 00012: val_loss improved from 1.32589 to 1.31900, saving model to doc2vec_keras20190616T141412.hd5\n",
      "Epoch 13/50\n",
      "2221/2221 [==============================] - 0s 71us/step - loss: 1.2902 - acc: 0.5236 - val_loss: 1.2823 - val_acc: 0.5324\n",
      "\n",
      "Epoch 00013: val_loss improved from 1.31900 to 1.28230, saving model to doc2vec_keras20190616T141412.hd5\n",
      "Epoch 14/50\n",
      "2221/2221 [==============================] - 0s 67us/step - loss: 1.2784 - acc: 0.5227 - val_loss: 1.2818 - val_acc: 0.5324\n",
      "\n",
      "Epoch 00014: val_loss improved from 1.28230 to 1.28181, saving model to doc2vec_keras20190616T141412.hd5\n",
      "Epoch 15/50\n",
      "2221/2221 [==============================] - 0s 67us/step - loss: 1.2456 - acc: 0.5493 - val_loss: 1.2599 - val_acc: 0.5416\n",
      "\n",
      "Epoch 00015: val_loss improved from 1.28181 to 1.25995, saving model to doc2vec_keras20190616T141412.hd5\n",
      "Epoch 16/50\n",
      "2221/2221 [==============================] - 0s 70us/step - loss: 1.2182 - acc: 0.5615 - val_loss: 1.2548 - val_acc: 0.5571\n",
      "\n",
      "Epoch 00016: val_loss improved from 1.25995 to 1.25481, saving model to doc2vec_keras20190616T141412.hd5\n",
      "Epoch 17/50\n",
      "2221/2221 [==============================] - 0s 69us/step - loss: 1.1835 - acc: 0.5772 - val_loss: 1.2347 - val_acc: 0.5689\n",
      "\n",
      "Epoch 00017: val_loss improved from 1.25481 to 1.23473, saving model to doc2vec_keras20190616T141412.hd5\n",
      "Epoch 18/50\n",
      "2221/2221 [==============================] - 0s 70us/step - loss: 1.1655 - acc: 0.5759 - val_loss: 1.2330 - val_acc: 0.5653\n",
      "\n",
      "Epoch 00018: val_loss improved from 1.23473 to 1.23303, saving model to doc2vec_keras20190616T141412.hd5\n",
      "Epoch 19/50\n",
      "2221/2221 [==============================] - 0s 67us/step - loss: 1.1515 - acc: 0.5673 - val_loss: 1.2243 - val_acc: 0.5553\n",
      "\n",
      "Epoch 00019: val_loss improved from 1.23303 to 1.22429, saving model to doc2vec_keras20190616T141412.hd5\n",
      "Epoch 20/50\n",
      "2221/2221 [==============================] - 0s 71us/step - loss: 1.1347 - acc: 0.5831 - val_loss: 1.2092 - val_acc: 0.5717\n",
      "\n",
      "Epoch 00020: val_loss improved from 1.22429 to 1.20922, saving model to doc2vec_keras20190616T141412.hd5\n",
      "Epoch 21/50\n",
      "2221/2221 [==============================] - 0s 71us/step - loss: 1.1321 - acc: 0.5840 - val_loss: 1.1984 - val_acc: 0.5763\n",
      "\n",
      "Epoch 00021: val_loss improved from 1.20922 to 1.19842, saving model to doc2vec_keras20190616T141412.hd5\n",
      "Epoch 22/50\n",
      "2221/2221 [==============================] - 0s 74us/step - loss: 1.1156 - acc: 0.5862 - val_loss: 1.2073 - val_acc: 0.5562\n",
      "\n",
      "Epoch 00022: val_loss did not improve from 1.19842\n",
      "Epoch 23/50\n",
      "2221/2221 [==============================] - 0s 68us/step - loss: 1.0855 - acc: 0.5907 - val_loss: 1.2009 - val_acc: 0.5772\n",
      "\n",
      "Epoch 00023: val_loss did not improve from 1.19842\n",
      "Epoch 24/50\n",
      "2221/2221 [==============================] - 0s 68us/step - loss: 1.0430 - acc: 0.6146 - val_loss: 1.1738 - val_acc: 0.5936\n",
      "\n",
      "Epoch 00024: val_loss improved from 1.19842 to 1.17382, saving model to doc2vec_keras20190616T141412.hd5\n",
      "Epoch 25/50\n",
      "2221/2221 [==============================] - 0s 74us/step - loss: 1.0571 - acc: 0.6056 - val_loss: 1.2113 - val_acc: 0.5772\n",
      "\n",
      "Epoch 00025: val_loss did not improve from 1.17382\n",
      "Epoch 26/50\n",
      "2221/2221 [==============================] - 0s 69us/step - loss: 1.0608 - acc: 0.5979 - val_loss: 1.1705 - val_acc: 0.5799\n",
      "\n",
      "Epoch 00026: val_loss improved from 1.17382 to 1.17050, saving model to doc2vec_keras20190616T141412.hd5\n",
      "Epoch 27/50\n",
      "2221/2221 [==============================] - 0s 67us/step - loss: 1.0210 - acc: 0.6119 - val_loss: 1.2095 - val_acc: 0.5662\n",
      "\n",
      "Epoch 00027: val_loss did not improve from 1.17050\n",
      "Epoch 28/50\n",
      "2221/2221 [==============================] - 0s 69us/step - loss: 1.0274 - acc: 0.6168 - val_loss: 1.1695 - val_acc: 0.5963\n",
      "\n",
      "Epoch 00028: val_loss improved from 1.17050 to 1.16946, saving model to doc2vec_keras20190616T141412.hd5\n",
      "Epoch 29/50\n",
      "2221/2221 [==============================] - 0s 68us/step - loss: 1.0000 - acc: 0.6254 - val_loss: 1.1685 - val_acc: 0.6091\n",
      "\n",
      "Epoch 00029: val_loss improved from 1.16946 to 1.16846, saving model to doc2vec_keras20190616T141412.hd5\n",
      "Epoch 30/50\n",
      "2221/2221 [==============================] - 0s 67us/step - loss: 0.9951 - acc: 0.6317 - val_loss: 1.2086 - val_acc: 0.5872\n",
      "\n",
      "Epoch 00030: val_loss did not improve from 1.16846\n",
      "Epoch 31/50\n",
      "2221/2221 [==============================] - 0s 67us/step - loss: 1.0083 - acc: 0.6200 - val_loss: 1.1558 - val_acc: 0.6119\n",
      "\n",
      "Epoch 00031: val_loss improved from 1.16846 to 1.15577, saving model to doc2vec_keras20190616T141412.hd5\n",
      "Epoch 32/50\n",
      "2221/2221 [==============================] - 0s 68us/step - loss: 0.9663 - acc: 0.6389 - val_loss: 1.1615 - val_acc: 0.6119\n",
      "\n",
      "Epoch 00032: val_loss did not improve from 1.15577\n",
      "Epoch 33/50\n",
      "2221/2221 [==============================] - 0s 67us/step - loss: 0.9665 - acc: 0.6385 - val_loss: 1.1730 - val_acc: 0.6064\n",
      "\n",
      "Epoch 00033: val_loss did not improve from 1.15577\n",
      "Epoch 34/50\n",
      "2221/2221 [==============================] - 0s 66us/step - loss: 0.9882 - acc: 0.6231 - val_loss: 1.1761 - val_acc: 0.6128\n",
      "\n",
      "Epoch 00034: val_loss did not improve from 1.15577\n",
      "Epoch 35/50\n",
      "2221/2221 [==============================] - 0s 66us/step - loss: 0.9350 - acc: 0.6362 - val_loss: 1.1563 - val_acc: 0.6174\n",
      "\n",
      "Epoch 00035: val_loss did not improve from 1.15577\n",
      "Epoch 36/50\n",
      "2221/2221 [==============================] - 0s 67us/step - loss: 0.9487 - acc: 0.6344 - val_loss: 1.1784 - val_acc: 0.5982\n",
      "\n",
      "Epoch 00036: val_loss did not improve from 1.15577\n",
      "Epoch 37/50\n",
      "2221/2221 [==============================] - 0s 67us/step - loss: 0.9645 - acc: 0.6357 - val_loss: 1.1762 - val_acc: 0.5936\n",
      "\n",
      "Epoch 00037: val_loss did not improve from 1.15577\n",
      "Epoch 38/50\n",
      "2221/2221 [==============================] - 0s 70us/step - loss: 0.9358 - acc: 0.6542 - val_loss: 1.1477 - val_acc: 0.6073\n",
      "\n",
      "Epoch 00038: val_loss improved from 1.15577 to 1.14769, saving model to doc2vec_keras20190616T141412.hd5\n",
      "Epoch 39/50\n",
      "2221/2221 [==============================] - 0s 69us/step - loss: 0.9221 - acc: 0.6520 - val_loss: 1.1807 - val_acc: 0.5963\n",
      "\n",
      "Epoch 00039: val_loss did not improve from 1.14769\n",
      "Epoch 40/50\n",
      "2221/2221 [==============================] - 0s 69us/step - loss: 0.9301 - acc: 0.6533 - val_loss: 1.1993 - val_acc: 0.5963\n",
      "\n",
      "Epoch 00040: val_loss did not improve from 1.14769\n",
      "Epoch 41/50\n",
      "2221/2221 [==============================] - 0s 66us/step - loss: 0.9066 - acc: 0.6493 - val_loss: 1.2219 - val_acc: 0.5909\n",
      "\n",
      "Epoch 00041: val_loss did not improve from 1.14769\n",
      "Epoch 42/50\n",
      "2221/2221 [==============================] - 0s 70us/step - loss: 0.9152 - acc: 0.6533 - val_loss: 1.1895 - val_acc: 0.6228\n",
      "\n",
      "Epoch 00042: val_loss did not improve from 1.14769\n",
      "Epoch 43/50\n",
      "2221/2221 [==============================] - 0s 68us/step - loss: 0.9115 - acc: 0.6547 - val_loss: 1.1973 - val_acc: 0.6311\n",
      "\n",
      "Epoch 00043: val_loss did not improve from 1.14769\n",
      "Epoch 44/50\n",
      "2221/2221 [==============================] - 0s 68us/step - loss: 0.8852 - acc: 0.6682 - val_loss: 1.1701 - val_acc: 0.6100\n",
      "\n",
      "Epoch 00044: val_loss did not improve from 1.14769\n",
      "Epoch 45/50\n",
      "2221/2221 [==============================] - 0s 66us/step - loss: 0.9069 - acc: 0.6475 - val_loss: 1.1552 - val_acc: 0.6311\n",
      "\n",
      "Epoch 00045: val_loss did not improve from 1.14769\n",
      "Epoch 46/50\n",
      "2221/2221 [==============================] - 0s 66us/step - loss: 0.8992 - acc: 0.6542 - val_loss: 1.1730 - val_acc: 0.6210\n",
      "\n",
      "Epoch 00046: val_loss did not improve from 1.14769\n",
      "Epoch 47/50\n",
      "2221/2221 [==============================] - 0s 66us/step - loss: 0.8507 - acc: 0.6718 - val_loss: 1.2077 - val_acc: 0.6009\n",
      "\n",
      "Epoch 00047: val_loss did not improve from 1.14769\n",
      "Epoch 48/50\n",
      "2221/2221 [==============================] - 0s 67us/step - loss: 0.8654 - acc: 0.6619 - val_loss: 1.2135 - val_acc: 0.6055\n",
      "\n",
      "Epoch 00048: val_loss did not improve from 1.14769\n",
      "Epoch 49/50\n",
      "2221/2221 [==============================] - 0s 66us/step - loss: 0.8921 - acc: 0.6623 - val_loss: 1.2238 - val_acc: 0.6164\n",
      "\n",
      "Epoch 00049: val_loss did not improve from 1.14769\n",
      "Epoch 50/50\n",
      "2221/2221 [==============================] - 0s 69us/step - loss: 0.8540 - acc: 0.6601 - val_loss: 1.2421 - val_acc: 0.6000\n",
      "\n",
      "Epoch 00050: val_loss did not improve from 1.14769\n"
     ]
    }
   ],
   "source": [
    "estimator1=build_estimator(clf,train_set, train_y, epochs=50,verbose=1)"
   ]
  },
  {
   "cell_type": "markdown",
   "metadata": {},
   "source": [
    "### Inspect training results"
   ]
  },
  {
   "cell_type": "code",
   "execution_count": 435,
   "metadata": {},
   "outputs": [
    {
     "name": "stdout",
     "output_type": "stream",
     "text": [
      "The best epoch is \n",
      "       val_loss  val_acc      loss       acc\n",
      "epoch                                       \n",
      "43     1.197349  0.63105  0.911486  0.654660\n",
      "45     1.155238  0.63105  0.906939  0.647456\n"
     ]
    }
   ],
   "source": [
    "train_history= save_history_df(estimator1)\n",
    "print('The best epoch is ')\n",
    "print(train_history.loc[train_history['val_acc'] == train_history.val_acc.max()])\n"
   ]
  },
  {
   "cell_type": "code",
   "execution_count": 458,
   "metadata": {},
   "outputs": [
    {
     "data": {
      "image/png": "[encoded data removed]",
      "text/plain": [
       "<Figure size 360x360 with 1 Axes>"
      ]
     },
     "metadata": {},
     "output_type": "display_data"
    },
    {
     "data": {
      "image/png": "[encoded data removed]",
      "text/plain": [
       "<Figure size 360x360 with 1 Axes>"
      ]
     },
     "metadata": {},
     "output_type": "display_data"
    }
   ],
   "source": [
    "plot_history(estimator1)"
   ]
  },
  {
   "cell_type": "markdown",
   "metadata": {},
   "source": [
    "### 5.2 How about stack 2 features? "
   ]
  },
  {
   "cell_type": "code",
   "execution_count": 439,
   "metadata": {},
   "outputs": [],
   "source": [
    "train_set, test_set = stack_2_features(Variation_vector,\\\n",
    "                         train_size,\\\n",
    "                         text_train_arrays, \\\n",
    "                         text_test_arrays)"
   ]
  },
  {
   "cell_type": "code",
   "execution_count": 440,
   "metadata": {},
   "outputs": [
    {
     "name": "stdout",
     "output_type": "stream",
     "text": [
      "(3316, 305)\n",
      "(986, 305)\n",
      "305\n"
     ]
    }
   ],
   "source": [
    "print(train_set.shape)\n",
    "print(test_set.shape)\n",
    "#print(train_set[0][:10])\n",
    "input_shape=train_set.shape[1]\n",
    "print(input_shape)"
   ]
  },
  {
   "cell_type": "code",
   "execution_count": 441,
   "metadata": {},
   "outputs": [
    {
     "name": "stdout",
     "output_type": "stream",
     "text": [
      "Train on 2221 samples, validate on 1095 samples\n",
      "Epoch 1/50\n",
      "2221/2221 [==============================] - 1s 258us/step - loss: 2.0297 - acc: 0.2697 - val_loss: 1.8907 - val_acc: 0.2868\n",
      "\n",
      "Epoch 00001: val_loss improved from inf to 1.89074, saving model to doc2vec_keras20190616T141437.hd5\n",
      "Epoch 2/50\n",
      "2221/2221 [==============================] - 0s 85us/step - loss: 1.8514 - acc: 0.2873 - val_loss: 1.8142 - val_acc: 0.2868\n",
      "\n",
      "Epoch 00002: val_loss improved from 1.89074 to 1.81418, saving model to doc2vec_keras20190616T141437.hd5\n",
      "Epoch 3/50\n",
      "2221/2221 [==============================] - 0s 87us/step - loss: 1.7584 - acc: 0.3327 - val_loss: 1.6505 - val_acc: 0.4046\n",
      "\n",
      "Epoch 00003: val_loss improved from 1.81418 to 1.65048, saving model to doc2vec_keras20190616T141437.hd5\n",
      "Epoch 4/50\n",
      "2221/2221 [==============================] - 0s 89us/step - loss: 1.6130 - acc: 0.4160 - val_loss: 1.5575 - val_acc: 0.4210\n",
      "\n",
      "Epoch 00004: val_loss improved from 1.65048 to 1.55753, saving model to doc2vec_keras20190616T141437.hd5\n",
      "Epoch 5/50\n",
      "2221/2221 [==============================] - 0s 87us/step - loss: 1.5752 - acc: 0.4223 - val_loss: 1.5249 - val_acc: 0.4475\n",
      "\n",
      "Epoch 00005: val_loss improved from 1.55753 to 1.52494, saving model to doc2vec_keras20190616T141437.hd5\n",
      "Epoch 6/50\n",
      "2221/2221 [==============================] - 0s 87us/step - loss: 1.5376 - acc: 0.4322 - val_loss: 1.4958 - val_acc: 0.4667\n",
      "\n",
      "Epoch 00006: val_loss improved from 1.52494 to 1.49577, saving model to doc2vec_keras20190616T141437.hd5\n",
      "Epoch 7/50\n",
      "2221/2221 [==============================] - 0s 84us/step - loss: 1.5026 - acc: 0.4439 - val_loss: 1.4894 - val_acc: 0.4365\n",
      "\n",
      "Epoch 00007: val_loss improved from 1.49577 to 1.48937, saving model to doc2vec_keras20190616T141437.hd5\n",
      "Epoch 8/50\n",
      "2221/2221 [==============================] - 0s 82us/step - loss: 1.4824 - acc: 0.4403 - val_loss: 1.4663 - val_acc: 0.4630\n",
      "\n",
      "Epoch 00008: val_loss improved from 1.48937 to 1.46627, saving model to doc2vec_keras20190616T141437.hd5\n",
      "Epoch 9/50\n",
      "2221/2221 [==============================] - 0s 82us/step - loss: 1.4470 - acc: 0.4615 - val_loss: 1.4317 - val_acc: 0.4667\n",
      "\n",
      "Epoch 00009: val_loss improved from 1.46627 to 1.43171, saving model to doc2vec_keras20190616T141437.hd5\n",
      "Epoch 10/50\n",
      "2221/2221 [==============================] - 0s 78us/step - loss: 1.4389 - acc: 0.4606 - val_loss: 1.4233 - val_acc: 0.4566\n",
      "\n",
      "Epoch 00010: val_loss improved from 1.43171 to 1.42333, saving model to doc2vec_keras20190616T141437.hd5\n",
      "Epoch 11/50\n",
      "2221/2221 [==============================] - 0s 68us/step - loss: 1.4149 - acc: 0.4629 - val_loss: 1.3895 - val_acc: 0.4795\n",
      "\n",
      "Epoch 00011: val_loss improved from 1.42333 to 1.38953, saving model to doc2vec_keras20190616T141437.hd5\n",
      "Epoch 12/50\n",
      "2221/2221 [==============================] - 0s 69us/step - loss: 1.3765 - acc: 0.4863 - val_loss: 1.3650 - val_acc: 0.4932\n",
      "\n",
      "Epoch 00012: val_loss improved from 1.38953 to 1.36500, saving model to doc2vec_keras20190616T141437.hd5\n",
      "Epoch 13/50\n",
      "2221/2221 [==============================] - 0s 68us/step - loss: 1.3592 - acc: 0.5020 - val_loss: 1.3409 - val_acc: 0.4904\n",
      "\n",
      "Epoch 00013: val_loss improved from 1.36500 to 1.34091, saving model to doc2vec_keras20190616T141437.hd5\n",
      "Epoch 14/50\n",
      "2221/2221 [==============================] - 0s 67us/step - loss: 1.3408 - acc: 0.4921 - val_loss: 1.3451 - val_acc: 0.4877\n",
      "\n",
      "Epoch 00014: val_loss did not improve from 1.34091\n",
      "Epoch 15/50\n",
      "2221/2221 [==============================] - 0s 67us/step - loss: 1.3153 - acc: 0.5187 - val_loss: 1.3389 - val_acc: 0.4868\n",
      "\n",
      "Epoch 00015: val_loss improved from 1.34091 to 1.33894, saving model to doc2vec_keras20190616T141437.hd5\n",
      "Epoch 16/50\n",
      "2221/2221 [==============================] - 0s 69us/step - loss: 1.2903 - acc: 0.5178 - val_loss: 1.3144 - val_acc: 0.5370\n",
      "\n",
      "Epoch 00016: val_loss improved from 1.33894 to 1.31445, saving model to doc2vec_keras20190616T141437.hd5\n",
      "Epoch 17/50\n",
      "2221/2221 [==============================] - 0s 69us/step - loss: 1.2629 - acc: 0.5317 - val_loss: 1.3059 - val_acc: 0.5452\n",
      "\n",
      "Epoch 00017: val_loss improved from 1.31445 to 1.30586, saving model to doc2vec_keras20190616T141437.hd5\n",
      "Epoch 18/50\n",
      "2221/2221 [==============================] - 0s 69us/step - loss: 1.2479 - acc: 0.5340 - val_loss: 1.2903 - val_acc: 0.5507\n",
      "\n",
      "Epoch 00018: val_loss improved from 1.30586 to 1.29026, saving model to doc2vec_keras20190616T141437.hd5\n",
      "Epoch 19/50\n",
      "2221/2221 [==============================] - 0s 68us/step - loss: 1.2524 - acc: 0.5403 - val_loss: 1.2797 - val_acc: 0.5525\n",
      "\n",
      "Epoch 00019: val_loss improved from 1.29026 to 1.27975, saving model to doc2vec_keras20190616T141437.hd5\n",
      "Epoch 20/50\n",
      "2221/2221 [==============================] - 0s 69us/step - loss: 1.2385 - acc: 0.5421 - val_loss: 1.2789 - val_acc: 0.5498\n",
      "\n",
      "Epoch 00020: val_loss improved from 1.27975 to 1.27891, saving model to doc2vec_keras20190616T141437.hd5\n",
      "Epoch 21/50\n",
      "2221/2221 [==============================] - 0s 68us/step - loss: 1.2233 - acc: 0.5547 - val_loss: 1.2837 - val_acc: 0.5580\n",
      "\n",
      "Epoch 00021: val_loss did not improve from 1.27891\n",
      "Epoch 22/50\n",
      "2221/2221 [==============================] - 0s 67us/step - loss: 1.1868 - acc: 0.5669 - val_loss: 1.2927 - val_acc: 0.5306\n",
      "\n",
      "Epoch 00022: val_loss did not improve from 1.27891\n",
      "Epoch 23/50\n",
      "2221/2221 [==============================] - 0s 68us/step - loss: 1.1578 - acc: 0.5714 - val_loss: 1.2688 - val_acc: 0.5507\n",
      "\n",
      "Epoch 00023: val_loss improved from 1.27891 to 1.26877, saving model to doc2vec_keras20190616T141437.hd5\n",
      "Epoch 24/50\n",
      "2221/2221 [==============================] - 0s 66us/step - loss: 1.1613 - acc: 0.5700 - val_loss: 1.2644 - val_acc: 0.5489\n",
      "\n",
      "Epoch 00024: val_loss improved from 1.26877 to 1.26438, saving model to doc2vec_keras20190616T141437.hd5\n",
      "Epoch 25/50\n",
      "2221/2221 [==============================] - 0s 66us/step - loss: 1.1395 - acc: 0.5727 - val_loss: 1.2678 - val_acc: 0.5470\n",
      "\n",
      "Epoch 00025: val_loss did not improve from 1.26438\n",
      "Epoch 26/50\n",
      "2221/2221 [==============================] - 0s 66us/step - loss: 1.1270 - acc: 0.5723 - val_loss: 1.2451 - val_acc: 0.5626\n",
      "\n",
      "Epoch 00026: val_loss improved from 1.26438 to 1.24511, saving model to doc2vec_keras20190616T141437.hd5\n",
      "Epoch 27/50\n",
      "2221/2221 [==============================] - 0s 69us/step - loss: 1.1114 - acc: 0.5808 - val_loss: 1.2389 - val_acc: 0.5644\n",
      "\n",
      "Epoch 00027: val_loss improved from 1.24511 to 1.23891, saving model to doc2vec_keras20190616T141437.hd5\n",
      "Epoch 28/50\n",
      "2221/2221 [==============================] - 0s 67us/step - loss: 1.0968 - acc: 0.5957 - val_loss: 1.2538 - val_acc: 0.5525\n",
      "\n",
      "Epoch 00028: val_loss did not improve from 1.23891\n",
      "Epoch 29/50\n",
      "2221/2221 [==============================] - 0s 66us/step - loss: 1.0872 - acc: 0.5867 - val_loss: 1.2722 - val_acc: 0.5543\n",
      "\n",
      "Epoch 00029: val_loss did not improve from 1.23891\n",
      "Epoch 30/50\n",
      "2221/2221 [==============================] - 0s 66us/step - loss: 1.1024 - acc: 0.5844 - val_loss: 1.2276 - val_acc: 0.5607\n",
      "\n",
      "Epoch 00030: val_loss improved from 1.23891 to 1.22760, saving model to doc2vec_keras20190616T141437.hd5\n",
      "Epoch 31/50\n",
      "2221/2221 [==============================] - 0s 65us/step - loss: 1.0682 - acc: 0.6011 - val_loss: 1.2350 - val_acc: 0.5699\n",
      "\n",
      "Epoch 00031: val_loss did not improve from 1.22760\n",
      "Epoch 32/50\n",
      "2221/2221 [==============================] - 0s 65us/step - loss: 1.0781 - acc: 0.5975 - val_loss: 1.2709 - val_acc: 0.5543\n",
      "\n",
      "Epoch 00032: val_loss did not improve from 1.22760\n",
      "Epoch 33/50\n",
      "2221/2221 [==============================] - 0s 65us/step - loss: 1.0689 - acc: 0.6119 - val_loss: 1.2265 - val_acc: 0.5735\n",
      "\n",
      "Epoch 00033: val_loss improved from 1.22760 to 1.22653, saving model to doc2vec_keras20190616T141437.hd5\n",
      "Epoch 34/50\n",
      "2221/2221 [==============================] - 0s 65us/step - loss: 1.0489 - acc: 0.5948 - val_loss: 1.2333 - val_acc: 0.5735\n",
      "\n",
      "Epoch 00034: val_loss did not improve from 1.22653\n",
      "Epoch 35/50\n",
      "2221/2221 [==============================] - 0s 66us/step - loss: 1.0393 - acc: 0.6087 - val_loss: 1.2778 - val_acc: 0.5406\n",
      "\n",
      "Epoch 00035: val_loss did not improve from 1.22653\n",
      "Epoch 36/50\n",
      "2221/2221 [==============================] - 0s 65us/step - loss: 1.0255 - acc: 0.6177 - val_loss: 1.2431 - val_acc: 0.5699\n",
      "\n",
      "Epoch 00036: val_loss did not improve from 1.22653\n",
      "Epoch 37/50\n",
      "2221/2221 [==============================] - 0s 68us/step - loss: 1.0242 - acc: 0.6128 - val_loss: 1.2488 - val_acc: 0.5744\n",
      "\n",
      "Epoch 00037: val_loss did not improve from 1.22653\n",
      "Epoch 38/50\n",
      "2221/2221 [==============================] - 0s 66us/step - loss: 0.9873 - acc: 0.6398 - val_loss: 1.2645 - val_acc: 0.5772\n",
      "\n",
      "Epoch 00038: val_loss did not improve from 1.22653\n",
      "Epoch 39/50\n",
      "2221/2221 [==============================] - 0s 67us/step - loss: 1.0332 - acc: 0.6168 - val_loss: 1.2038 - val_acc: 0.5936\n",
      "\n",
      "Epoch 00039: val_loss improved from 1.22653 to 1.20381, saving model to doc2vec_keras20190616T141437.hd5\n",
      "Epoch 40/50\n",
      "2221/2221 [==============================] - 0s 67us/step - loss: 0.9921 - acc: 0.6254 - val_loss: 1.2466 - val_acc: 0.5772\n",
      "\n",
      "Epoch 00040: val_loss did not improve from 1.20381\n",
      "Epoch 41/50\n",
      "2221/2221 [==============================] - 0s 67us/step - loss: 0.9815 - acc: 0.6227 - val_loss: 1.2800 - val_acc: 0.5735\n",
      "\n",
      "Epoch 00041: val_loss did not improve from 1.20381\n",
      "Epoch 42/50\n",
      "2221/2221 [==============================] - 0s 67us/step - loss: 0.9901 - acc: 0.6231 - val_loss: 1.2701 - val_acc: 0.5735\n",
      "\n",
      "Epoch 00042: val_loss did not improve from 1.20381\n",
      "Epoch 43/50\n",
      "2221/2221 [==============================] - 0s 66us/step - loss: 0.9661 - acc: 0.6416 - val_loss: 1.2736 - val_acc: 0.5735\n",
      "\n",
      "Epoch 00043: val_loss did not improve from 1.20381\n",
      "Epoch 44/50\n",
      "2221/2221 [==============================] - 0s 66us/step - loss: 0.9608 - acc: 0.6281 - val_loss: 1.3143 - val_acc: 0.5854\n",
      "\n",
      "Epoch 00044: val_loss did not improve from 1.20381\n",
      "Epoch 45/50\n",
      "2221/2221 [==============================] - 0s 67us/step - loss: 0.9823 - acc: 0.6321 - val_loss: 1.2948 - val_acc: 0.5826\n",
      "\n",
      "Epoch 00045: val_loss did not improve from 1.20381\n",
      "Epoch 46/50\n",
      "2221/2221 [==============================] - 0s 66us/step - loss: 0.9641 - acc: 0.6421 - val_loss: 1.2612 - val_acc: 0.5753\n",
      "\n",
      "Epoch 00046: val_loss did not improve from 1.20381\n",
      "Epoch 47/50\n",
      "2221/2221 [==============================] - 0s 69us/step - loss: 0.9623 - acc: 0.6258 - val_loss: 1.2887 - val_acc: 0.5735\n",
      "\n",
      "Epoch 00047: val_loss did not improve from 1.20381\n",
      "Epoch 48/50\n",
      "2221/2221 [==============================] - 0s 72us/step - loss: 0.9471 - acc: 0.6308 - val_loss: 1.2912 - val_acc: 0.5863\n",
      "\n",
      "Epoch 00048: val_loss did not improve from 1.20381\n",
      "Epoch 49/50\n",
      "2221/2221 [==============================] - 0s 67us/step - loss: 0.9382 - acc: 0.6407 - val_loss: 1.2970 - val_acc: 0.5945\n",
      "\n",
      "Epoch 00049: val_loss did not improve from 1.20381\n",
      "Epoch 50/50\n",
      "2221/2221 [==============================] - 0s 68us/step - loss: 0.9386 - acc: 0.6407 - val_loss: 1.2786 - val_acc: 0.5945\n",
      "\n",
      "Epoch 00050: val_loss did not improve from 1.20381\n"
     ]
    }
   ],
   "source": [
    "estimator2=build_estimator(clf,train_set, train_y, epochs=50,verbose=1)"
   ]
  },
  {
   "cell_type": "code",
   "execution_count": 442,
   "metadata": {},
   "outputs": [
    {
     "name": "stdout",
     "output_type": "stream",
     "text": [
      "The best epoch is \n",
      "       val_loss   val_acc      loss       acc\n",
      "epoch                                        \n",
      "49     1.297033  0.594521  0.938192  0.640702\n",
      "50     1.278650  0.594521  0.938592  0.640702\n"
     ]
    }
   ],
   "source": [
    "train_history= save_history_df(estimator2)\n",
    "print('The best epoch is ')\n",
    "print(train_history.loc[train_history['val_acc'] == train_history.val_acc.max()])\n"
   ]
  },
  {
   "cell_type": "code",
   "execution_count": 443,
   "metadata": {},
   "outputs": [
    {
     "data": {
      "image/png": "[encoded data removed]",
      "text/plain": [
       "<Figure size 360x360 with 1 Axes>"
      ]
     },
     "metadata": {},
     "output_type": "display_data"
    },
    {
     "data": {
      "image/png": "[encoded data removed]",
      "text/plain": [
       "<Figure size 360x360 with 1 Axes>"
      ]
     },
     "metadata": {},
     "output_type": "display_data"
    }
   ],
   "source": [
    "plot_history(estimator2)"
   ]
  },
  {
   "cell_type": "markdown",
   "metadata": {},
   "source": [
    "### 5.3 How about just Text feature?"
   ]
  },
  {
   "cell_type": "code",
   "execution_count": 444,
   "metadata": {},
   "outputs": [],
   "source": [
    "train_set, test_set = (text_train_arrays, \\\n",
    "                         text_test_arrays)"
   ]
  },
  {
   "cell_type": "code",
   "execution_count": 445,
   "metadata": {},
   "outputs": [
    {
     "name": "stdout",
     "output_type": "stream",
     "text": [
      "(3316, 300)\n",
      "(986, 300)\n",
      "300\n"
     ]
    }
   ],
   "source": [
    "print(train_set.shape)\n",
    "print(test_set.shape)\n",
    "#print(train_set[0][:10])\n",
    "input_shape=train_set.shape[1]\n",
    "print(input_shape)"
   ]
  },
  {
   "cell_type": "code",
   "execution_count": 446,
   "metadata": {},
   "outputs": [
    {
     "name": "stdout",
     "output_type": "stream",
     "text": [
      "Train on 2221 samples, validate on 1095 samples\n",
      "Epoch 1/50\n",
      "2221/2221 [==============================] - 1s 289us/step - loss: 2.0198 - acc: 0.2747 - val_loss: 1.8698 - val_acc: 0.2868\n",
      "\n",
      "Epoch 00001: val_loss improved from inf to 1.86980, saving model to doc2vec_keras20190616T141617.hd5\n",
      "Epoch 2/50\n",
      "2221/2221 [==============================] - 0s 78us/step - loss: 1.8382 - acc: 0.2985 - val_loss: 1.7795 - val_acc: 0.3260\n",
      "\n",
      "Epoch 00002: val_loss improved from 1.86980 to 1.77950, saving model to doc2vec_keras20190616T141617.hd5\n",
      "Epoch 3/50\n",
      "2221/2221 [==============================] - 0s 91us/step - loss: 1.6953 - acc: 0.3624 - val_loss: 1.5713 - val_acc: 0.4164\n",
      "\n",
      "Epoch 00003: val_loss improved from 1.77950 to 1.57128, saving model to doc2vec_keras20190616T141617.hd5\n",
      "Epoch 4/50\n",
      "2221/2221 [==============================] - 0s 93us/step - loss: 1.5989 - acc: 0.4084 - val_loss: 1.5278 - val_acc: 0.4247\n",
      "\n",
      "Epoch 00004: val_loss improved from 1.57128 to 1.52784, saving model to doc2vec_keras20190616T141617.hd5\n",
      "Epoch 5/50\n",
      "2221/2221 [==============================] - 0s 91us/step - loss: 1.5485 - acc: 0.4142 - val_loss: 1.5040 - val_acc: 0.4384\n",
      "\n",
      "Epoch 00005: val_loss improved from 1.52784 to 1.50396, saving model to doc2vec_keras20190616T141617.hd5\n",
      "Epoch 6/50\n",
      "2221/2221 [==============================] - 0s 89us/step - loss: 1.5329 - acc: 0.4304 - val_loss: 1.5162 - val_acc: 0.4338\n",
      "\n",
      "Epoch 00006: val_loss did not improve from 1.50396\n",
      "Epoch 7/50\n",
      "2221/2221 [==============================] - 0s 83us/step - loss: 1.4941 - acc: 0.4349 - val_loss: 1.4836 - val_acc: 0.4365\n",
      "\n",
      "Epoch 00007: val_loss improved from 1.50396 to 1.48362, saving model to doc2vec_keras20190616T141617.hd5\n",
      "Epoch 8/50\n",
      "2221/2221 [==============================] - 0s 89us/step - loss: 1.4931 - acc: 0.4394 - val_loss: 1.4640 - val_acc: 0.4502\n",
      "\n",
      "Epoch 00008: val_loss improved from 1.48362 to 1.46396, saving model to doc2vec_keras20190616T141617.hd5\n",
      "Epoch 9/50\n",
      "2221/2221 [==============================] - 0s 78us/step - loss: 1.4651 - acc: 0.4340 - val_loss: 1.4466 - val_acc: 0.4402\n",
      "\n",
      "Epoch 00009: val_loss improved from 1.46396 to 1.44657, saving model to doc2vec_keras20190616T141617.hd5\n",
      "Epoch 10/50\n",
      "2221/2221 [==============================] - 0s 68us/step - loss: 1.4578 - acc: 0.4453 - val_loss: 1.4451 - val_acc: 0.4457\n",
      "\n",
      "Epoch 00010: val_loss improved from 1.44657 to 1.44515, saving model to doc2vec_keras20190616T141617.hd5\n",
      "Epoch 11/50\n",
      "2221/2221 [==============================] - 0s 68us/step - loss: 1.4359 - acc: 0.4529 - val_loss: 1.4176 - val_acc: 0.4703\n",
      "\n",
      "Epoch 00011: val_loss improved from 1.44515 to 1.41757, saving model to doc2vec_keras20190616T141617.hd5\n",
      "Epoch 12/50\n",
      "2221/2221 [==============================] - 0s 66us/step - loss: 1.4003 - acc: 0.4624 - val_loss: 1.3854 - val_acc: 0.4740\n",
      "\n",
      "Epoch 00012: val_loss improved from 1.41757 to 1.38536, saving model to doc2vec_keras20190616T141617.hd5\n",
      "Epoch 13/50\n",
      "2221/2221 [==============================] - 0s 69us/step - loss: 1.3796 - acc: 0.4732 - val_loss: 1.3749 - val_acc: 0.4804\n",
      "\n",
      "Epoch 00013: val_loss improved from 1.38536 to 1.37494, saving model to doc2vec_keras20190616T141617.hd5\n",
      "Epoch 14/50\n",
      "2221/2221 [==============================] - 0s 68us/step - loss: 1.3441 - acc: 0.4894 - val_loss: 1.3653 - val_acc: 0.4995\n",
      "\n",
      "Epoch 00014: val_loss improved from 1.37494 to 1.36535, saving model to doc2vec_keras20190616T141617.hd5\n",
      "Epoch 15/50\n",
      "2221/2221 [==============================] - 0s 72us/step - loss: 1.3351 - acc: 0.4885 - val_loss: 1.3584 - val_acc: 0.4950\n",
      "\n",
      "Epoch 00015: val_loss improved from 1.36535 to 1.35835, saving model to doc2vec_keras20190616T141617.hd5\n",
      "Epoch 16/50\n",
      "2221/2221 [==============================] - 0s 70us/step - loss: 1.3147 - acc: 0.5002 - val_loss: 1.3376 - val_acc: 0.5005\n",
      "\n",
      "Epoch 00016: val_loss improved from 1.35835 to 1.33757, saving model to doc2vec_keras20190616T141617.hd5\n",
      "Epoch 17/50\n",
      "2221/2221 [==============================] - 0s 70us/step - loss: 1.3156 - acc: 0.5043 - val_loss: 1.3472 - val_acc: 0.4995\n",
      "\n",
      "Epoch 00017: val_loss did not improve from 1.33757\n",
      "Epoch 18/50\n",
      "2221/2221 [==============================] - 0s 68us/step - loss: 1.2816 - acc: 0.5223 - val_loss: 1.3400 - val_acc: 0.5178\n",
      "\n",
      "Epoch 00018: val_loss did not improve from 1.33757\n",
      "Epoch 19/50\n",
      "2221/2221 [==============================] - 0s 71us/step - loss: 1.2756 - acc: 0.5295 - val_loss: 1.3272 - val_acc: 0.5014\n",
      "\n",
      "Epoch 00019: val_loss improved from 1.33757 to 1.32725, saving model to doc2vec_keras20190616T141617.hd5\n",
      "Epoch 20/50\n",
      "2221/2221 [==============================] - 0s 67us/step - loss: 1.2444 - acc: 0.5277 - val_loss: 1.3151 - val_acc: 0.5279\n",
      "\n",
      "Epoch 00020: val_loss improved from 1.32725 to 1.31506, saving model to doc2vec_keras20190616T141617.hd5\n",
      "Epoch 21/50\n",
      "2221/2221 [==============================] - 0s 71us/step - loss: 1.2334 - acc: 0.5362 - val_loss: 1.3040 - val_acc: 0.5306\n",
      "\n",
      "Epoch 00021: val_loss improved from 1.31506 to 1.30400, saving model to doc2vec_keras20190616T141617.hd5\n",
      "Epoch 22/50\n",
      "2221/2221 [==============================] - 0s 70us/step - loss: 1.1986 - acc: 0.5529 - val_loss: 1.3165 - val_acc: 0.5251\n",
      "\n",
      "Epoch 00022: val_loss did not improve from 1.30400\n",
      "Epoch 23/50\n",
      "2221/2221 [==============================] - 0s 69us/step - loss: 1.2032 - acc: 0.5529 - val_loss: 1.3001 - val_acc: 0.5379\n",
      "\n",
      "Epoch 00023: val_loss improved from 1.30400 to 1.30012, saving model to doc2vec_keras20190616T141617.hd5\n",
      "Epoch 24/50\n",
      "2221/2221 [==============================] - 0s 67us/step - loss: 1.1749 - acc: 0.5682 - val_loss: 1.2898 - val_acc: 0.5315\n",
      "\n",
      "Epoch 00024: val_loss improved from 1.30012 to 1.28985, saving model to doc2vec_keras20190616T141617.hd5\n",
      "Epoch 25/50\n",
      "2221/2221 [==============================] - 0s 70us/step - loss: 1.1663 - acc: 0.5520 - val_loss: 1.2877 - val_acc: 0.5388\n",
      "\n",
      "Epoch 00025: val_loss improved from 1.28985 to 1.28767, saving model to doc2vec_keras20190616T141617.hd5\n",
      "Epoch 26/50\n",
      "2221/2221 [==============================] - 0s 69us/step - loss: 1.1486 - acc: 0.5750 - val_loss: 1.3112 - val_acc: 0.5461\n",
      "\n",
      "Epoch 00026: val_loss did not improve from 1.28767\n",
      "Epoch 27/50\n",
      "2221/2221 [==============================] - 0s 71us/step - loss: 1.1271 - acc: 0.5808 - val_loss: 1.2613 - val_acc: 0.5662\n",
      "\n",
      "Epoch 00027: val_loss improved from 1.28767 to 1.26133, saving model to doc2vec_keras20190616T141617.hd5\n",
      "Epoch 28/50\n",
      "2221/2221 [==============================] - 0s 70us/step - loss: 1.1292 - acc: 0.5786 - val_loss: 1.2618 - val_acc: 0.5525\n",
      "\n",
      "Epoch 00028: val_loss did not improve from 1.26133\n",
      "Epoch 29/50\n",
      "2221/2221 [==============================] - 0s 68us/step - loss: 1.1204 - acc: 0.5885 - val_loss: 1.2754 - val_acc: 0.5406\n",
      "\n",
      "Epoch 00029: val_loss did not improve from 1.26133\n",
      "Epoch 30/50\n",
      "2221/2221 [==============================] - 0s 72us/step - loss: 1.1020 - acc: 0.5750 - val_loss: 1.3400 - val_acc: 0.5269\n",
      "\n",
      "Epoch 00030: val_loss did not improve from 1.26133\n",
      "Epoch 31/50\n",
      "2221/2221 [==============================] - 0s 71us/step - loss: 1.0900 - acc: 0.5961 - val_loss: 1.2755 - val_acc: 0.5461\n",
      "\n",
      "Epoch 00031: val_loss did not improve from 1.26133\n",
      "Epoch 32/50\n",
      "2221/2221 [==============================] - 0s 68us/step - loss: 1.1066 - acc: 0.5912 - val_loss: 1.2693 - val_acc: 0.5543\n",
      "\n",
      "Epoch 00032: val_loss did not improve from 1.26133\n",
      "Epoch 33/50\n",
      "2221/2221 [==============================] - 0s 67us/step - loss: 1.0732 - acc: 0.6006 - val_loss: 1.3160 - val_acc: 0.5434\n",
      "\n",
      "Epoch 00033: val_loss did not improve from 1.26133\n",
      "Epoch 34/50\n",
      "2221/2221 [==============================] - 0s 68us/step - loss: 1.0577 - acc: 0.5979 - val_loss: 1.3018 - val_acc: 0.5498\n",
      "\n",
      "Epoch 00034: val_loss did not improve from 1.26133\n",
      "Epoch 35/50\n",
      "2221/2221 [==============================] - 0s 66us/step - loss: 1.0573 - acc: 0.6047 - val_loss: 1.2853 - val_acc: 0.5808\n",
      "\n",
      "Epoch 00035: val_loss did not improve from 1.26133\n",
      "Epoch 36/50\n",
      "2221/2221 [==============================] - 0s 66us/step - loss: 1.0541 - acc: 0.5970 - val_loss: 1.2566 - val_acc: 0.5562\n",
      "\n",
      "Epoch 00036: val_loss improved from 1.26133 to 1.25663, saving model to doc2vec_keras20190616T141617.hd5\n",
      "Epoch 37/50\n",
      "2221/2221 [==============================] - 0s 67us/step - loss: 1.0486 - acc: 0.6110 - val_loss: 1.3048 - val_acc: 0.5525\n",
      "\n",
      "Epoch 00037: val_loss did not improve from 1.25663\n",
      "Epoch 38/50\n"
     ]
    },
    {
     "name": "stdout",
     "output_type": "stream",
     "text": [
      "2221/2221 [==============================] - 0s 67us/step - loss: 1.0280 - acc: 0.6128 - val_loss: 1.2978 - val_acc: 0.5562\n",
      "\n",
      "Epoch 00038: val_loss did not improve from 1.25663\n",
      "Epoch 39/50\n",
      "2221/2221 [==============================] - 0s 68us/step - loss: 1.0314 - acc: 0.6042 - val_loss: 1.2913 - val_acc: 0.5689\n",
      "\n",
      "Epoch 00039: val_loss did not improve from 1.25663\n",
      "Epoch 40/50\n",
      "2221/2221 [==============================] - 0s 69us/step - loss: 1.0206 - acc: 0.6195 - val_loss: 1.3039 - val_acc: 0.5534\n",
      "\n",
      "Epoch 00040: val_loss did not improve from 1.25663\n",
      "Epoch 41/50\n",
      "2221/2221 [==============================] - 0s 69us/step - loss: 1.0112 - acc: 0.6267 - val_loss: 1.2821 - val_acc: 0.5753\n",
      "\n",
      "Epoch 00041: val_loss did not improve from 1.25663\n",
      "Epoch 42/50\n",
      "2221/2221 [==============================] - 0s 69us/step - loss: 1.0252 - acc: 0.6078 - val_loss: 1.3125 - val_acc: 0.5635\n",
      "\n",
      "Epoch 00042: val_loss did not improve from 1.25663\n",
      "Epoch 43/50\n",
      "2221/2221 [==============================] - 0s 66us/step - loss: 1.0194 - acc: 0.6173 - val_loss: 1.2745 - val_acc: 0.5589\n",
      "\n",
      "Epoch 00043: val_loss did not improve from 1.25663\n",
      "Epoch 44/50\n",
      "2221/2221 [==============================] - 0s 68us/step - loss: 0.9958 - acc: 0.6258 - val_loss: 1.2714 - val_acc: 0.5726\n",
      "\n",
      "Epoch 00044: val_loss did not improve from 1.25663\n",
      "Epoch 45/50\n",
      "2221/2221 [==============================] - 0s 68us/step - loss: 0.9664 - acc: 0.6425 - val_loss: 1.3077 - val_acc: 0.5671\n",
      "\n",
      "Epoch 00045: val_loss did not improve from 1.25663\n",
      "Epoch 46/50\n",
      "2221/2221 [==============================] - 0s 71us/step - loss: 0.9684 - acc: 0.6344 - val_loss: 1.2802 - val_acc: 0.5799\n",
      "\n",
      "Epoch 00046: val_loss did not improve from 1.25663\n",
      "Epoch 47/50\n",
      "2221/2221 [==============================] - 0s 68us/step - loss: 0.9607 - acc: 0.6524 - val_loss: 1.2980 - val_acc: 0.5662\n",
      "\n",
      "Epoch 00047: val_loss did not improve from 1.25663\n",
      "Epoch 48/50\n",
      "2221/2221 [==============================] - 0s 68us/step - loss: 0.9744 - acc: 0.6240 - val_loss: 1.2847 - val_acc: 0.5671\n",
      "\n",
      "Epoch 00048: val_loss did not improve from 1.25663\n",
      "Epoch 49/50\n",
      "2221/2221 [==============================] - 0s 67us/step - loss: 0.9708 - acc: 0.6267 - val_loss: 1.2565 - val_acc: 0.5699\n",
      "\n",
      "Epoch 00049: val_loss improved from 1.25663 to 1.25648, saving model to doc2vec_keras20190616T141617.hd5\n",
      "Epoch 50/50\n",
      "2221/2221 [==============================] - 0s 69us/step - loss: 0.9830 - acc: 0.6236 - val_loss: 1.2850 - val_acc: 0.5744\n",
      "\n",
      "Epoch 00050: val_loss did not improve from 1.25648\n"
     ]
    }
   ],
   "source": [
    "estimator3=build_estimator(clf,train_set, train_y, epochs=50,verbose=1)"
   ]
  },
  {
   "cell_type": "code",
   "execution_count": 449,
   "metadata": {},
   "outputs": [
    {
     "name": "stdout",
     "output_type": "stream",
     "text": [
      "The best epoch is \n",
      "       val_loss   val_acc      loss       acc\n",
      "epoch                                        \n",
      "35     1.285297  0.580822  1.057306  0.604683\n"
     ]
    }
   ],
   "source": [
    "train_history= save_history_df(estimator3)\n",
    "print('The best epoch is ')\n",
    "print(train_history.loc[train_history['val_acc'] == train_history.val_acc.max()])\n"
   ]
  },
  {
   "cell_type": "code",
   "execution_count": 450,
   "metadata": {
    "scrolled": true
   },
   "outputs": [
    {
     "data": {
      "image/png": "[encoded data removed]",
      "text/plain": [
       "<Figure size 360x360 with 1 Axes>"
      ]
     },
     "metadata": {},
     "output_type": "display_data"
    },
    {
     "data": {
      "image/png": "[encoded data removed]",
      "text/plain": [
       "<Figure size 360x360 with 1 Axes>"
      ]
     },
     "metadata": {},
     "output_type": "display_data"
    }
   ],
   "source": [
    "plot_history(estimator3)"
   ]
  }
 ],
 "metadata": {
  "kernelspec": {
   "display_name": "Python 3",
   "language": "python",
   "name": "python3"
  },
  "language_info": {
   "codemirror_mode": {
    "name": "ipython",
    "version": 3
   },
   "file_extension": ".py",
   "mimetype": "text/x-python",
   "name": "python",
   "nbconvert_exporter": "python",
   "pygments_lexer": "ipython3",
   "version": "3.7.3"
  }
 },
 "nbformat": 4,
 "nbformat_minor": 1
}
