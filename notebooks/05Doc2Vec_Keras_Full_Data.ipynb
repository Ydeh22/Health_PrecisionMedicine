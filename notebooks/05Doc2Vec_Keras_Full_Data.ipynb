{
 "cells": [
  {
   "cell_type": "code",
   "execution_count": 69,
   "metadata": {},
   "outputs": [],
   "source": [
    "# System packages\n",
    "import os\n",
    "import re\n",
    "import sys\n",
    "import warnings\n",
    "# Data related\n",
    "import numpy as np \n",
    "import pandas as pd \n",
    "\n",
    "# sklearn  \n",
    "from sklearn.metrics import  accuracy_score\n",
    "from sklearn.model_selection import train_test_split, cross_val_predict,cross_val_score,  StratifiedKFold, GridSearchCV\n",
    "from sklearn.feature_extraction.text import CountVectorizer, TfidfTransformer, TfidfVectorizer\n",
    "from sklearn.pipeline import FeatureUnion, Pipeline\n",
    "from sklearn.preprocessing import OneHotEncoder\n",
    "from sklearn.decomposition import TruncatedSVD,OneHotEncoder\n",
    "from sklearn.preprocessing import OneHotEncoder\n",
    "from sklearn.metrics import accuracy_score\n",
    "\n",
    "warnings.filterwarnings('ignore')\n",
    "pd.set_option('display.max_columns', 50)\n",
    "from tensorflow.keras import backend"
   ]
  },
  {
   "cell_type": "code",
   "execution_count": 65,
   "metadata": {},
   "outputs": [],
   "source": [
    "# Add utils_functions.py as a dataset\n",
    "from shutil import copyfile\n",
    "\n",
    "# Copy our file into the working directory (make sure it has .py suffix)\n",
    "copyfile(src = \"../input/utils-functions/utils_functions.py\", dst = '/kaggle/working/utils_functions.py')\n",
    "from utils_functions import *"
   ]
  },
  {
   "cell_type": "markdown",
   "metadata": {},
   "source": [
    "## 0 Preprocessing"
   ]
  },
  {
   "cell_type": "code",
   "execution_count": null,
   "metadata": {},
   "outputs": [],
   "source": [
    "# Train data for training and validation\n",
    "df_train = pd.read_csv('train_variants_text.csv') \n",
    "train = df_process(df_train)\n",
    "train['data_type']='train'\n",
    "print('train data size:',len(train))"
   ]
  },
  {
   "cell_type": "code",
   "execution_count": null,
   "metadata": {},
   "outputs": [],
   "source": [
    "# Test data for submission\n",
    "df_test = pd.read_csv('stage2_test_variants_text.csv') \n",
    "test = df_process(df_test)\n",
    "test['data_type']='test'\n",
    "print('test data size:',len(test))"
   ]
  },
  {
   "cell_type": "markdown",
   "metadata": {},
   "source": [
    "### Combine both train and test data => all_data"
   ]
  },
  {
   "cell_type": "code",
   "execution_count": null,
   "metadata": {},
   "outputs": [],
   "source": [
    "all_data = pd.concat([train, test], sort=False)\n",
    "all_data['Text']=all_data['Text'].apply(textClean_full)\n",
    "print('all_data size:',len(all_data))\n",
    "all_data.to_csv('pm_all_data_clean_class_20190614.csv', index= False)   "
   ]
  },
  {
   "cell_type": "markdown",
   "metadata": {},
   "source": [
    "## 1 Load preprocessed all_data "
   ]
  },
  {
   "cell_type": "code",
   "execution_count": 14,
   "metadata": {},
   "outputs": [
    {
     "data": {
      "text/html": [
       "<div>\n",
       "<style scoped>\n",
       "    .dataframe tbody tr th:only-of-type {\n",
       "        vertical-align: middle;\n",
       "    }\n",
       "\n",
       "    .dataframe tbody tr th {\n",
       "        vertical-align: top;\n",
       "    }\n",
       "\n",
       "    .dataframe thead th {\n",
       "        text-align: right;\n",
       "    }\n",
       "</style>\n",
       "<table border=\"1\" class=\"dataframe\">\n",
       "  <thead>\n",
       "    <tr style=\"text-align: right;\">\n",
       "      <th></th>\n",
       "      <th>ID</th>\n",
       "      <th>Gene</th>\n",
       "      <th>Variation</th>\n",
       "      <th>Text</th>\n",
       "      <th>data_type</th>\n",
       "      <th>Class</th>\n",
       "    </tr>\n",
       "  </thead>\n",
       "  <tbody>\n",
       "    <tr>\n",
       "      <th>0</th>\n",
       "      <td>0</td>\n",
       "      <td>FAM58A</td>\n",
       "      <td>Truncating Mutations</td>\n",
       "      <td>cyclin dependent kinases cdks regulate variety...</td>\n",
       "      <td>train</td>\n",
       "      <td>1.0</td>\n",
       "    </tr>\n",
       "  </tbody>\n",
       "</table>\n",
       "</div>"
      ],
      "text/plain": [
       "   ID    Gene             Variation  \\\n",
       "0   0  FAM58A  Truncating Mutations   \n",
       "\n",
       "                                                Text data_type  Class  \n",
       "0  cyclin dependent kinases cdks regulate variety...     train    1.0  "
      ]
     },
     "execution_count": 14,
     "metadata": {},
     "output_type": "execute_result"
    }
   ],
   "source": [
    "all_data= pd.read_csv('/Users/j/Dropbox/Learn/health_precisionmedicine/data/processed/pm_all_data_clean_class_20190614.csv')\n",
    "all_data.head(1)"
   ]
  },
  {
   "cell_type": "markdown",
   "metadata": {},
   "source": [
    "### Group Variantions "
   ]
  },
  {
   "cell_type": "code",
   "execution_count": 408,
   "metadata": {},
   "outputs": [],
   "source": [
    "df = group_Variation(df)"
   ]
  },
  {
   "cell_type": "code",
   "execution_count": 411,
   "metadata": {},
   "outputs": [
    {
     "data": {
      "text/plain": [
       "Variation\n",
       "snv_other               3812\n",
       "fusions                  197\n",
       "truncating mutations     112\n",
       "del                       95\n",
       "amplification             77\n",
       "overexpression             6\n",
       "promoter                   3\n",
       "dtype: int64"
      ]
     },
     "execution_count": 411,
     "metadata": {},
     "output_type": "execute_result"
    }
   ],
   "source": [
    "groupby_col_size(df,'Variation')"
   ]
  },
  {
   "cell_type": "code",
   "execution_count": 412,
   "metadata": {
    "scrolled": true
   },
   "outputs": [
    {
     "data": {
      "image/png": "[encoded data removed]",
      "text/plain": [
       "<Figure size 432x288 with 1 Axes>"
      ]
     },
     "metadata": {},
     "output_type": "display_data"
    }
   ],
   "source": [
    "fig =col_count_plot(df, 'Variation')"
   ]
  },
  {
   "cell_type": "markdown",
   "metadata": {},
   "source": [
    "## 2. Label Encoding train.Class"
   ]
  },
  {
   "cell_type": "code",
   "execution_count": null,
   "metadata": {},
   "outputs": [],
   "source": [
    "train_y  = label_encoder(train_size)\n"
   ]
  },
  {
   "cell_type": "markdown",
   "metadata": {},
   "source": [
    "## 3 Build Doc2Vec model"
   ]
  },
  {
   "cell_type": "code",
   "execution_count": 414,
   "metadata": {},
   "outputs": [],
   "source": [
    "sentences = constructLabeledSentences(all_data,'Text')\n",
    "#sentences[0]"
   ]
  },
  {
   "cell_type": "code",
   "execution_count": 416,
   "metadata": {},
   "outputs": [],
   "source": [
    "text_input_dim =300\n",
    "train_size = 3316\n",
    "test_size=986"
   ]
  },
  {
   "cell_type": "code",
   "execution_count": 417,
   "metadata": {},
   "outputs": [
    {
     "name": "stdout",
     "output_type": "stream",
     "text": [
      "Found ../input/pm-model-doc2vec-all/doc2vec_all_20190614.d2v\n"
     ]
    }
   ],
   "source": [
    "text_model = get_doc2vec_model(sentences, '../input/pm-model-doc2vec-all/doc2vec_all_20190614.d2v',text_input_dim=text_input_dim)"
   ]
  },
  {
   "cell_type": "markdown",
   "metadata": {},
   "source": [
    "## 4. Featurize Text "
   ]
  },
  {
   "cell_type": "code",
   "execution_count": 419,
   "metadata": {},
   "outputs": [],
   "source": [
    "text_train_arrays, text_test_arrays = build_text_array(text_model, \\\n",
    "                                                       text_input_dim,\\\n",
    "                                                       train_size,\\\n",
    "                                                       test_size)"
   ]
  },
  {
   "cell_type": "code",
   "execution_count": 420,
   "metadata": {},
   "outputs": [
    {
     "name": "stdout",
     "output_type": "stream",
     "text": [
      "(3316, 300)\n",
      "(986, 300)\n"
     ]
    }
   ],
   "source": [
    "print(text_train_arrays.shape)\n",
    "print(text_test_arrays.shape)"
   ]
  },
  {
   "cell_type": "code",
   "execution_count": 421,
   "metadata": {},
   "outputs": [
    {
     "name": "stdout",
     "output_type": "stream",
     "text": [
      "[ 0.49902058 -0.21902579  0.23566465  0.6866526  -0.76406091 -0.47411516\n",
      " -0.10866016  0.80849326  0.36930278  0.03643488]\n"
     ]
    }
   ],
   "source": [
    "print(text_train_arrays[0][:10])"
   ]
  },
  {
   "cell_type": "markdown",
   "metadata": {},
   "source": [
    "## 5 Feature Gene and Variation "
   ]
  },
  {
   "cell_type": "code",
   "execution_count": 649,
   "metadata": {},
   "outputs": [],
   "source": [
    "# Dimension reduction\n",
    "from sklearn.decomposition import TruncatedSVD\n",
    "gene_dim=200\n",
    "variation_dim=6\n",
    "\n",
    "# Pipeline for Gene\n",
    "Gene = Pipeline([\n",
    "    ('selector',ItemSelector(key=\"Gene\")),\n",
    "     ('onehot',OneHotEncoder()),\n",
    "    ('tsvd',TruncatedSVD(n_components=gene_dim, n_iter=gene_dim, random_state=12))\n",
    "])\n",
    "\n",
    "# Pipeline for Variation\n",
    "Variation = Pipeline([\n",
    "    ('selector',ItemSelector(key=\"Variation\")),\n",
    "    ('onehot',OneHotEncoder()),\n",
    "    ('tsvd',TruncatedSVD(n_components=variation_dim, n_iter=variation_dim, random_state=12))\n",
    "])"
   ]
  },
  {
   "cell_type": "code",
   "execution_count": 650,
   "metadata": {},
   "outputs": [
    {
     "name": "stdout",
     "output_type": "stream",
     "text": [
      "(4302, 200)\n"
     ]
    }
   ],
   "source": [
    "Gene_vector = Gene.fit_transform(all_data)\n",
    "print(Gene_vector.shape)\n"
   ]
  },
  {
   "cell_type": "code",
   "execution_count": 651,
   "metadata": {},
   "outputs": [
    {
     "name": "stdout",
     "output_type": "stream",
     "text": [
      "(4302, 6)\n"
     ]
    }
   ],
   "source": [
    "Variation_vector = Variation.fit_transform(all_data)\n",
    "print(Variation_vector.shape)\n"
   ]
  },
  {
   "cell_type": "markdown",
   "metadata": {},
   "source": [
    "## 5.1 Stack 3 features "
   ]
  },
  {
   "cell_type": "code",
   "execution_count": 652,
   "metadata": {},
   "outputs": [],
   "source": [
    "train_set, test_set = stack_3_features(Gene_vector, \\\n",
    "                         Variation_vector,\\\n",
    "                         train_size,\\\n",
    "                         text_train_arrays, \\\n",
    "                         text_test_arrays)"
   ]
  },
  {
   "cell_type": "code",
   "execution_count": 653,
   "metadata": {},
   "outputs": [
    {
     "name": "stdout",
     "output_type": "stream",
     "text": [
      "(3316, 506)\n",
      "(986, 506)\n",
      "506\n"
     ]
    }
   ],
   "source": [
    "print(train_set.shape)\n",
    "print(test_set.shape)\n",
    "#print(train_set[0][:10])\n",
    "input_shape=train_set.shape[1]\n",
    "print(input_shape)"
   ]
  },
  {
   "cell_type": "markdown",
   "metadata": {},
   "source": [
    "### Training"
   ]
  },
  {
   "cell_type": "code",
   "execution_count": 654,
   "metadata": {},
   "outputs": [],
   "source": [
    "# Import KerasRegressor model\n",
    "from keras.wrappers.scikit_learn import KerasRegressor\n",
    "clf = KerasRegressor(build_fn=baseline_model)"
   ]
  },
  {
   "cell_type": "code",
   "execution_count": 655,
   "metadata": {},
   "outputs": [],
   "source": [
    "from sklearn.model_selection import train_test_split\n",
    "from keras.callbacks import ModelCheckpoint\n",
    "# Build estimator\n",
    "def build_estimator(clf,train_set, train_y, epochs,verbose):\n",
    "    # split data \n",
    "    X_train, X_validation, y_train, y_validation = train_test_split(train_set, train_y, test_size=0.33, stratify=train_y, shuffle= True, random_state=42)\n",
    "    # Save best model \n",
    "    weightsname = '{}{:%Y%m%dT%H%M%S}.hd5'.format(('doc2vec_keras'), datetime.datetime.now())\n",
    "    checkpointer = ModelCheckpoint(filepath=weightsname, verbose=verbose, save_best_only=True)\n",
    "    # Build estimator   \n",
    "    estimator=clf.fit(X_train, y_train, batch_size=32, epochs=epochs, callbacks=[checkpointer],validation_data=(X_validation, y_validation))\n",
    "    #estimator=clf.fit(train_set, train_y, validation_split=0.33, epochs=epochs, batch_size=32)\n",
    "    return estimator"
   ]
  },
  {
   "cell_type": "code",
   "execution_count": 656,
   "metadata": {},
   "outputs": [
    {
     "name": "stdout",
     "output_type": "stream",
     "text": [
      "Train on 2221 samples, validate on 1095 samples\n",
      "Epoch 1/50\n",
      "2221/2221 [==============================] - 1s 465us/step - loss: 2.0364 - acc: 0.2805 - val_loss: 1.8959 - val_acc: 0.2868\n",
      "\n",
      "Epoch 00001: val_loss improved from inf to 1.89586, saving model to doc2vec_keras20190616T155756.hd5\n",
      "Epoch 2/50\n",
      "2221/2221 [==============================] - 0s 76us/step - loss: 1.8470 - acc: 0.2949 - val_loss: 1.7883 - val_acc: 0.3525\n",
      "\n",
      "Epoch 00002: val_loss improved from 1.89586 to 1.78833, saving model to doc2vec_keras20190616T155756.hd5\n",
      "Epoch 3/50\n",
      "2221/2221 [==============================] - 0s 78us/step - loss: 1.7119 - acc: 0.3647 - val_loss: 1.5965 - val_acc: 0.3900\n",
      "\n",
      "Epoch 00003: val_loss improved from 1.78833 to 1.59648, saving model to doc2vec_keras20190616T155756.hd5\n",
      "Epoch 4/50\n",
      "2221/2221 [==============================] - 0s 77us/step - loss: 1.5900 - acc: 0.4070 - val_loss: 1.5382 - val_acc: 0.4374\n",
      "\n",
      "Epoch 00004: val_loss improved from 1.59648 to 1.53819, saving model to doc2vec_keras20190616T155756.hd5\n",
      "Epoch 5/50\n",
      "2221/2221 [==============================] - 0s 74us/step - loss: 1.5397 - acc: 0.4219 - val_loss: 1.5151 - val_acc: 0.4210\n",
      "\n",
      "Epoch 00005: val_loss improved from 1.53819 to 1.51506, saving model to doc2vec_keras20190616T155756.hd5\n",
      "Epoch 6/50\n",
      "2221/2221 [==============================] - 0s 74us/step - loss: 1.5119 - acc: 0.4372 - val_loss: 1.4678 - val_acc: 0.4484\n",
      "\n",
      "Epoch 00006: val_loss improved from 1.51506 to 1.46780, saving model to doc2vec_keras20190616T155756.hd5\n",
      "Epoch 7/50\n",
      "2221/2221 [==============================] - 0s 75us/step - loss: 1.4693 - acc: 0.4480 - val_loss: 1.4742 - val_acc: 0.4411\n",
      "\n",
      "Epoch 00007: val_loss did not improve from 1.46780\n",
      "Epoch 8/50\n",
      "2221/2221 [==============================] - 0s 75us/step - loss: 1.4494 - acc: 0.4557 - val_loss: 1.4309 - val_acc: 0.4703\n",
      "\n",
      "Epoch 00008: val_loss improved from 1.46780 to 1.43095, saving model to doc2vec_keras20190616T155756.hd5\n",
      "Epoch 9/50\n",
      "2221/2221 [==============================] - 0s 75us/step - loss: 1.4146 - acc: 0.4674 - val_loss: 1.4242 - val_acc: 0.4776\n",
      "\n",
      "Epoch 00009: val_loss improved from 1.43095 to 1.42418, saving model to doc2vec_keras20190616T155756.hd5\n",
      "Epoch 10/50\n",
      "2221/2221 [==============================] - 0s 78us/step - loss: 1.4081 - acc: 0.4507 - val_loss: 1.3943 - val_acc: 0.4694\n",
      "\n",
      "Epoch 00010: val_loss improved from 1.42418 to 1.39432, saving model to doc2vec_keras20190616T155756.hd5\n",
      "Epoch 11/50\n",
      "2221/2221 [==============================] - 0s 76us/step - loss: 1.3834 - acc: 0.4611 - val_loss: 1.3921 - val_acc: 0.4858\n",
      "\n",
      "Epoch 00011: val_loss improved from 1.39432 to 1.39212, saving model to doc2vec_keras20190616T155756.hd5\n",
      "Epoch 12/50\n",
      "2221/2221 [==============================] - 0s 75us/step - loss: 1.3493 - acc: 0.4791 - val_loss: 1.3578 - val_acc: 0.4868\n",
      "\n",
      "Epoch 00012: val_loss improved from 1.39212 to 1.35776, saving model to doc2vec_keras20190616T155756.hd5\n",
      "Epoch 13/50\n",
      "2221/2221 [==============================] - 0s 77us/step - loss: 1.3410 - acc: 0.4849 - val_loss: 1.3367 - val_acc: 0.5078\n",
      "\n",
      "Epoch 00013: val_loss improved from 1.35776 to 1.33670, saving model to doc2vec_keras20190616T155756.hd5\n",
      "Epoch 14/50\n",
      "2221/2221 [==============================] - 0s 77us/step - loss: 1.2897 - acc: 0.5146 - val_loss: 1.3200 - val_acc: 0.5142\n",
      "\n",
      "Epoch 00014: val_loss improved from 1.33670 to 1.32001, saving model to doc2vec_keras20190616T155756.hd5\n",
      "Epoch 15/50\n",
      "2221/2221 [==============================] - 0s 81us/step - loss: 1.2569 - acc: 0.5250 - val_loss: 1.3241 - val_acc: 0.5169\n",
      "\n",
      "Epoch 00015: val_loss did not improve from 1.32001\n",
      "Epoch 16/50\n",
      "2221/2221 [==============================] - 0s 75us/step - loss: 1.2605 - acc: 0.5277 - val_loss: 1.2778 - val_acc: 0.5333\n",
      "\n",
      "Epoch 00016: val_loss improved from 1.32001 to 1.27781, saving model to doc2vec_keras20190616T155756.hd5\n",
      "Epoch 17/50\n",
      "2221/2221 [==============================] - 0s 77us/step - loss: 1.2103 - acc: 0.5534 - val_loss: 1.2641 - val_acc: 0.5342\n",
      "\n",
      "Epoch 00017: val_loss improved from 1.27781 to 1.26409, saving model to doc2vec_keras20190616T155756.hd5\n",
      "Epoch 18/50\n",
      "2221/2221 [==============================] - 0s 78us/step - loss: 1.1835 - acc: 0.5642 - val_loss: 1.2659 - val_acc: 0.5498\n",
      "\n",
      "Epoch 00018: val_loss did not improve from 1.26409\n",
      "Epoch 19/50\n",
      "2221/2221 [==============================] - 0s 76us/step - loss: 1.1781 - acc: 0.5759 - val_loss: 1.2577 - val_acc: 0.5434\n",
      "\n",
      "Epoch 00019: val_loss improved from 1.26409 to 1.25774, saving model to doc2vec_keras20190616T155756.hd5\n",
      "Epoch 20/50\n",
      "2221/2221 [==============================] - 0s 77us/step - loss: 1.1517 - acc: 0.5628 - val_loss: 1.2825 - val_acc: 0.5425\n",
      "\n",
      "Epoch 00020: val_loss did not improve from 1.25774\n",
      "Epoch 21/50\n",
      "2221/2221 [==============================] - 0s 75us/step - loss: 1.1479 - acc: 0.5714 - val_loss: 1.2326 - val_acc: 0.5644\n",
      "\n",
      "Epoch 00021: val_loss improved from 1.25774 to 1.23256, saving model to doc2vec_keras20190616T155756.hd5\n",
      "Epoch 22/50\n",
      "2221/2221 [==============================] - 0s 76us/step - loss: 1.1032 - acc: 0.5939 - val_loss: 1.2097 - val_acc: 0.5671\n",
      "\n",
      "Epoch 00022: val_loss improved from 1.23256 to 1.20965, saving model to doc2vec_keras20190616T155756.hd5\n",
      "Epoch 23/50\n",
      "2221/2221 [==============================] - 0s 77us/step - loss: 1.1052 - acc: 0.5916 - val_loss: 1.2367 - val_acc: 0.5516\n",
      "\n",
      "Epoch 00023: val_loss did not improve from 1.20965\n",
      "Epoch 24/50\n",
      "2221/2221 [==============================] - 0s 77us/step - loss: 1.0793 - acc: 0.6069 - val_loss: 1.2093 - val_acc: 0.5598\n",
      "\n",
      "Epoch 00024: val_loss improved from 1.20965 to 1.20934, saving model to doc2vec_keras20190616T155756.hd5\n",
      "Epoch 25/50\n",
      "2221/2221 [==============================] - 0s 75us/step - loss: 1.0702 - acc: 0.6038 - val_loss: 1.1780 - val_acc: 0.5799\n",
      "\n",
      "Epoch 00025: val_loss improved from 1.20934 to 1.17797, saving model to doc2vec_keras20190616T155756.hd5\n",
      "Epoch 26/50\n",
      "2221/2221 [==============================] - 0s 75us/step - loss: 1.0409 - acc: 0.6231 - val_loss: 1.1742 - val_acc: 0.5781\n",
      "\n",
      "Epoch 00026: val_loss improved from 1.17797 to 1.17418, saving model to doc2vec_keras20190616T155756.hd5\n",
      "Epoch 27/50\n",
      "2221/2221 [==============================] - 0s 76us/step - loss: 1.0282 - acc: 0.6159 - val_loss: 1.2262 - val_acc: 0.5708\n",
      "\n",
      "Epoch 00027: val_loss did not improve from 1.17418\n",
      "Epoch 28/50\n",
      "2221/2221 [==============================] - 0s 74us/step - loss: 1.0186 - acc: 0.6236 - val_loss: 1.1624 - val_acc: 0.5817\n",
      "\n",
      "Epoch 00028: val_loss improved from 1.17418 to 1.16244, saving model to doc2vec_keras20190616T155756.hd5\n",
      "Epoch 29/50\n",
      "2221/2221 [==============================] - 0s 73us/step - loss: 1.0245 - acc: 0.6263 - val_loss: 1.2047 - val_acc: 0.5872\n",
      "\n",
      "Epoch 00029: val_loss did not improve from 1.16244\n",
      "Epoch 30/50\n",
      "2221/2221 [==============================] - 0s 74us/step - loss: 0.9777 - acc: 0.6276 - val_loss: 1.1997 - val_acc: 0.5772\n",
      "\n",
      "Epoch 00030: val_loss did not improve from 1.16244\n",
      "Epoch 31/50\n",
      "2221/2221 [==============================] - 0s 73us/step - loss: 0.9701 - acc: 0.6385 - val_loss: 1.2339 - val_acc: 0.5726\n",
      "\n",
      "Epoch 00031: val_loss did not improve from 1.16244\n",
      "Epoch 32/50\n",
      "2221/2221 [==============================] - 0s 76us/step - loss: 0.9650 - acc: 0.6493 - val_loss: 1.1534 - val_acc: 0.6037\n",
      "\n",
      "Epoch 00032: val_loss improved from 1.16244 to 1.15341, saving model to doc2vec_keras20190616T155756.hd5\n",
      "Epoch 33/50\n",
      "2221/2221 [==============================] - 0s 77us/step - loss: 0.9442 - acc: 0.6457 - val_loss: 1.1679 - val_acc: 0.5936\n",
      "\n",
      "Epoch 00033: val_loss did not improve from 1.15341\n",
      "Epoch 34/50\n",
      "2221/2221 [==============================] - 0s 86us/step - loss: 0.9453 - acc: 0.6448 - val_loss: 1.1905 - val_acc: 0.5982\n",
      "\n",
      "Epoch 00034: val_loss did not improve from 1.15341\n",
      "Epoch 35/50\n",
      "2221/2221 [==============================] - 0s 79us/step - loss: 0.9365 - acc: 0.6448 - val_loss: 1.2149 - val_acc: 0.5854\n",
      "\n",
      "Epoch 00035: val_loss did not improve from 1.15341\n",
      "Epoch 36/50\n",
      "2221/2221 [==============================] - 0s 78us/step - loss: 0.9280 - acc: 0.6457 - val_loss: 1.1682 - val_acc: 0.6064\n",
      "\n",
      "Epoch 00036: val_loss did not improve from 1.15341\n",
      "Epoch 37/50\n",
      "2221/2221 [==============================] - 0s 77us/step - loss: 0.9195 - acc: 0.6488 - val_loss: 1.1569 - val_acc: 0.6219\n",
      "\n",
      "Epoch 00037: val_loss did not improve from 1.15341\n",
      "Epoch 38/50\n"
     ]
    },
    {
     "name": "stdout",
     "output_type": "stream",
     "text": [
      "2221/2221 [==============================] - 0s 82us/step - loss: 0.9069 - acc: 0.6632 - val_loss: 1.1560 - val_acc: 0.6110\n",
      "\n",
      "Epoch 00038: val_loss did not improve from 1.15341\n",
      "Epoch 39/50\n",
      "2221/2221 [==============================] - 0s 83us/step - loss: 0.9107 - acc: 0.6610 - val_loss: 1.1998 - val_acc: 0.5945\n",
      "\n",
      "Epoch 00039: val_loss did not improve from 1.15341\n",
      "Epoch 40/50\n",
      "2221/2221 [==============================] - 0s 75us/step - loss: 0.8882 - acc: 0.6731 - val_loss: 1.1807 - val_acc: 0.6037\n",
      "\n",
      "Epoch 00040: val_loss did not improve from 1.15341\n",
      "Epoch 41/50\n",
      "2221/2221 [==============================] - 0s 79us/step - loss: 0.8549 - acc: 0.6776 - val_loss: 1.1893 - val_acc: 0.6009\n",
      "\n",
      "Epoch 00041: val_loss did not improve from 1.15341\n",
      "Epoch 42/50\n",
      "2221/2221 [==============================] - 0s 80us/step - loss: 0.8471 - acc: 0.6682 - val_loss: 1.1681 - val_acc: 0.6174\n",
      "\n",
      "Epoch 00042: val_loss did not improve from 1.15341\n",
      "Epoch 43/50\n",
      "2221/2221 [==============================] - 0s 79us/step - loss: 0.8840 - acc: 0.6691 - val_loss: 1.1767 - val_acc: 0.6174\n",
      "\n",
      "Epoch 00043: val_loss did not improve from 1.15341\n",
      "Epoch 44/50\n",
      "2221/2221 [==============================] - 0s 76us/step - loss: 0.8341 - acc: 0.6668 - val_loss: 1.2047 - val_acc: 0.6192\n",
      "\n",
      "Epoch 00044: val_loss did not improve from 1.15341\n",
      "Epoch 45/50\n",
      "2221/2221 [==============================] - 0s 76us/step - loss: 0.8347 - acc: 0.6781 - val_loss: 1.1914 - val_acc: 0.6000\n",
      "\n",
      "Epoch 00045: val_loss did not improve from 1.15341\n",
      "Epoch 46/50\n",
      "2221/2221 [==============================] - 0s 75us/step - loss: 0.8153 - acc: 0.6880 - val_loss: 1.3012 - val_acc: 0.5954\n",
      "\n",
      "Epoch 00046: val_loss did not improve from 1.15341\n",
      "Epoch 47/50\n",
      "2221/2221 [==============================] - 0s 75us/step - loss: 0.8394 - acc: 0.6722 - val_loss: 1.2244 - val_acc: 0.6100\n",
      "\n",
      "Epoch 00047: val_loss did not improve from 1.15341\n",
      "Epoch 48/50\n",
      "2221/2221 [==============================] - 0s 76us/step - loss: 0.8201 - acc: 0.6794 - val_loss: 1.2339 - val_acc: 0.6192\n",
      "\n",
      "Epoch 00048: val_loss did not improve from 1.15341\n",
      "Epoch 49/50\n",
      "2221/2221 [==============================] - 0s 76us/step - loss: 0.7982 - acc: 0.6911 - val_loss: 1.2032 - val_acc: 0.6237\n",
      "\n",
      "Epoch 00049: val_loss did not improve from 1.15341\n",
      "Epoch 50/50\n",
      "2221/2221 [==============================] - 0s 76us/step - loss: 0.7874 - acc: 0.6920 - val_loss: 1.2245 - val_acc: 0.6000\n",
      "\n",
      "Epoch 00050: val_loss did not improve from 1.15341\n"
     ]
    }
   ],
   "source": [
    "estimator1=build_estimator(clf,train_set, train_y, epochs=50,verbose=1)"
   ]
  },
  {
   "cell_type": "markdown",
   "metadata": {},
   "source": [
    "### Inspect training results"
   ]
  },
  {
   "cell_type": "code",
   "execution_count": 657,
   "metadata": {},
   "outputs": [
    {
     "name": "stdout",
     "output_type": "stream",
     "text": [
      "The best epoch is \n",
      "       val_loss   val_acc      loss      acc\n",
      "epoch                                       \n",
      "49      1.20318  0.623744  0.798197  0.69113\n"
     ]
    }
   ],
   "source": [
    "train_history= save_history_df(estimator1)\n",
    "print('The best epoch is ')\n",
    "print(train_history.loc[train_history['val_acc'] == train_history.val_acc.max()])\n"
   ]
  },
  {
   "cell_type": "code",
   "execution_count": 658,
   "metadata": {},
   "outputs": [
    {
     "data": {
      "image/png": "[encoded data removed]",
      "text/plain": [
       "<Figure size 360x360 with 1 Axes>"
      ]
     },
     "metadata": {},
     "output_type": "display_data"
    },
    {
     "data": {
      "image/png": "[encoded data removed]",
      "text/plain": [
       "<Figure size 360x360 with 1 Axes>"
      ]
     },
     "metadata": {},
     "output_type": "display_data"
    }
   ],
   "source": [
    "plot_history(estimator1)"
   ]
  },
  {
   "cell_type": "markdown",
   "metadata": {},
   "source": [
    "### 5.2 Stack 2 features (Variation + Text)"
   ]
  },
  {
   "cell_type": "code",
   "execution_count": 659,
   "metadata": {},
   "outputs": [],
   "source": [
    "train_set, test_set = stack_2_features(Variation_vector,\\\n",
    "                         train_size,\\\n",
    "                         text_train_arrays, \\\n",
    "                         text_test_arrays)"
   ]
  },
  {
   "cell_type": "code",
   "execution_count": 660,
   "metadata": {},
   "outputs": [
    {
     "name": "stdout",
     "output_type": "stream",
     "text": [
      "(3316, 306)\n",
      "(986, 306)\n",
      "306\n"
     ]
    }
   ],
   "source": [
    "print(train_set.shape)\n",
    "print(test_set.shape)\n",
    "#print(train_set[0][:10])\n",
    "input_shape=train_set.shape[1]\n",
    "print(input_shape)"
   ]
  },
  {
   "cell_type": "code",
   "execution_count": 661,
   "metadata": {},
   "outputs": [
    {
     "name": "stdout",
     "output_type": "stream",
     "text": [
      "Train on 2221 samples, validate on 1095 samples\n",
      "Epoch 1/50\n",
      "2221/2221 [==============================] - 1s 615us/step - loss: 2.0298 - acc: 0.2738 - val_loss: 1.8828 - val_acc: 0.2868\n",
      "\n",
      "Epoch 00001: val_loss improved from inf to 1.88279, saving model to doc2vec_keras20190616T155842.hd5\n",
      "Epoch 2/50\n",
      "2221/2221 [==============================] - 0s 105us/step - loss: 1.8342 - acc: 0.3012 - val_loss: 1.7686 - val_acc: 0.3626\n",
      "\n",
      "Epoch 00002: val_loss improved from 1.88279 to 1.76860, saving model to doc2vec_keras20190616T155842.hd5\n",
      "Epoch 3/50\n",
      "2221/2221 [==============================] - 0s 100us/step - loss: 1.6983 - acc: 0.3751 - val_loss: 1.6097 - val_acc: 0.3945\n",
      "\n",
      "Epoch 00003: val_loss improved from 1.76860 to 1.60967, saving model to doc2vec_keras20190616T155842.hd5\n",
      "Epoch 4/50\n",
      "2221/2221 [==============================] - 0s 88us/step - loss: 1.5973 - acc: 0.4115 - val_loss: 1.5496 - val_acc: 0.4155\n",
      "\n",
      "Epoch 00004: val_loss improved from 1.60967 to 1.54958, saving model to doc2vec_keras20190616T155842.hd5\n",
      "Epoch 5/50\n",
      "2221/2221 [==============================] - 0s 77us/step - loss: 1.5504 - acc: 0.4223 - val_loss: 1.5267 - val_acc: 0.4192\n",
      "\n",
      "Epoch 00005: val_loss improved from 1.54958 to 1.52670, saving model to doc2vec_keras20190616T155842.hd5\n",
      "Epoch 6/50\n",
      "2221/2221 [==============================] - 0s 87us/step - loss: 1.5457 - acc: 0.4192 - val_loss: 1.4951 - val_acc: 0.4630\n",
      "\n",
      "Epoch 00006: val_loss improved from 1.52670 to 1.49506, saving model to doc2vec_keras20190616T155842.hd5\n",
      "Epoch 7/50\n",
      "2221/2221 [==============================] - 0s 92us/step - loss: 1.4976 - acc: 0.4331 - val_loss: 1.4623 - val_acc: 0.4721\n",
      "\n",
      "Epoch 00007: val_loss improved from 1.49506 to 1.46226, saving model to doc2vec_keras20190616T155842.hd5\n",
      "Epoch 8/50\n",
      "2221/2221 [==============================] - 0s 81us/step - loss: 1.4626 - acc: 0.4430 - val_loss: 1.4725 - val_acc: 0.4584\n",
      "\n",
      "Epoch 00008: val_loss did not improve from 1.46226\n",
      "Epoch 9/50\n",
      "2221/2221 [==============================] - 0s 80us/step - loss: 1.4446 - acc: 0.4552 - val_loss: 1.4222 - val_acc: 0.4749\n",
      "\n",
      "Epoch 00009: val_loss improved from 1.46226 to 1.42217, saving model to doc2vec_keras20190616T155842.hd5\n",
      "Epoch 10/50\n",
      "2221/2221 [==============================] - 0s 88us/step - loss: 1.4203 - acc: 0.4683 - val_loss: 1.4071 - val_acc: 0.4658\n",
      "\n",
      "Epoch 00010: val_loss improved from 1.42217 to 1.40706, saving model to doc2vec_keras20190616T155842.hd5\n",
      "Epoch 11/50\n",
      "2221/2221 [==============================] - 0s 77us/step - loss: 1.4041 - acc: 0.4683 - val_loss: 1.3839 - val_acc: 0.4877\n",
      "\n",
      "Epoch 00011: val_loss improved from 1.40706 to 1.38388, saving model to doc2vec_keras20190616T155842.hd5\n",
      "Epoch 12/50\n",
      "2221/2221 [==============================] - 0s 78us/step - loss: 1.3713 - acc: 0.4813 - val_loss: 1.3705 - val_acc: 0.4886\n",
      "\n",
      "Epoch 00012: val_loss improved from 1.38388 to 1.37050, saving model to doc2vec_keras20190616T155842.hd5\n",
      "Epoch 13/50\n",
      "2221/2221 [==============================] - 0s 74us/step - loss: 1.3342 - acc: 0.5011 - val_loss: 1.3580 - val_acc: 0.5105\n",
      "\n",
      "Epoch 00013: val_loss improved from 1.37050 to 1.35797, saving model to doc2vec_keras20190616T155842.hd5\n",
      "Epoch 14/50\n",
      "2221/2221 [==============================] - 0s 82us/step - loss: 1.3342 - acc: 0.4971 - val_loss: 1.3499 - val_acc: 0.4932\n",
      "\n",
      "Epoch 00014: val_loss improved from 1.35797 to 1.34993, saving model to doc2vec_keras20190616T155842.hd5\n",
      "Epoch 15/50\n",
      "2221/2221 [==============================] - 0s 73us/step - loss: 1.3069 - acc: 0.5200 - val_loss: 1.3368 - val_acc: 0.5087\n",
      "\n",
      "Epoch 00015: val_loss improved from 1.34993 to 1.33685, saving model to doc2vec_keras20190616T155842.hd5\n",
      "Epoch 16/50\n",
      "2221/2221 [==============================] - 0s 75us/step - loss: 1.2901 - acc: 0.5223 - val_loss: 1.3214 - val_acc: 0.5068\n",
      "\n",
      "Epoch 00016: val_loss improved from 1.33685 to 1.32141, saving model to doc2vec_keras20190616T155842.hd5\n",
      "Epoch 17/50\n",
      "2221/2221 [==============================] - 0s 73us/step - loss: 1.2719 - acc: 0.5407 - val_loss: 1.3314 - val_acc: 0.5123\n",
      "\n",
      "Epoch 00017: val_loss did not improve from 1.32141\n",
      "Epoch 18/50\n",
      "2221/2221 [==============================] - 0s 76us/step - loss: 1.2404 - acc: 0.5376 - val_loss: 1.3271 - val_acc: 0.5196\n",
      "\n",
      "Epoch 00018: val_loss did not improve from 1.32141\n",
      "Epoch 19/50\n",
      "2221/2221 [==============================] - 0s 77us/step - loss: 1.2189 - acc: 0.5538 - val_loss: 1.3169 - val_acc: 0.5205\n",
      "\n",
      "Epoch 00019: val_loss improved from 1.32141 to 1.31689, saving model to doc2vec_keras20190616T155842.hd5\n",
      "Epoch 20/50\n",
      "2221/2221 [==============================] - 0s 74us/step - loss: 1.2302 - acc: 0.5565 - val_loss: 1.2889 - val_acc: 0.5516\n",
      "\n",
      "Epoch 00020: val_loss improved from 1.31689 to 1.28890, saving model to doc2vec_keras20190616T155842.hd5\n",
      "Epoch 21/50\n",
      "2221/2221 [==============================] - 0s 75us/step - loss: 1.1980 - acc: 0.5597 - val_loss: 1.2738 - val_acc: 0.5434\n",
      "\n",
      "Epoch 00021: val_loss improved from 1.28890 to 1.27375, saving model to doc2vec_keras20190616T155842.hd5\n",
      "Epoch 22/50\n",
      "2221/2221 [==============================] - 0s 77us/step - loss: 1.1916 - acc: 0.5579 - val_loss: 1.2864 - val_acc: 0.5370\n",
      "\n",
      "Epoch 00022: val_loss did not improve from 1.27375\n",
      "Epoch 23/50\n",
      "2221/2221 [==============================] - 0s 72us/step - loss: 1.1688 - acc: 0.5642 - val_loss: 1.2813 - val_acc: 0.5507\n",
      "\n",
      "Epoch 00023: val_loss did not improve from 1.27375\n",
      "Epoch 24/50\n",
      "2221/2221 [==============================] - 0s 74us/step - loss: 1.1460 - acc: 0.5705 - val_loss: 1.3198 - val_acc: 0.5562\n",
      "\n",
      "Epoch 00024: val_loss did not improve from 1.27375\n",
      "Epoch 25/50\n",
      "2221/2221 [==============================] - 0s 74us/step - loss: 1.1287 - acc: 0.5786 - val_loss: 1.2820 - val_acc: 0.5397\n",
      "\n",
      "Epoch 00025: val_loss did not improve from 1.27375\n",
      "Epoch 26/50\n",
      "2221/2221 [==============================] - 0s 73us/step - loss: 1.1422 - acc: 0.5682 - val_loss: 1.2505 - val_acc: 0.5534\n",
      "\n",
      "Epoch 00026: val_loss improved from 1.27375 to 1.25049, saving model to doc2vec_keras20190616T155842.hd5\n",
      "Epoch 27/50\n",
      "2221/2221 [==============================] - 0s 73us/step - loss: 1.1066 - acc: 0.5925 - val_loss: 1.2909 - val_acc: 0.5443\n",
      "\n",
      "Epoch 00027: val_loss did not improve from 1.25049\n",
      "Epoch 28/50\n",
      "2221/2221 [==============================] - 0s 73us/step - loss: 1.0955 - acc: 0.5921 - val_loss: 1.2760 - val_acc: 0.5635\n",
      "\n",
      "Epoch 00028: val_loss did not improve from 1.25049\n",
      "Epoch 29/50\n",
      "2221/2221 [==============================] - 0s 72us/step - loss: 1.1052 - acc: 0.5943 - val_loss: 1.2685 - val_acc: 0.5735\n",
      "\n",
      "Epoch 00029: val_loss did not improve from 1.25049\n",
      "Epoch 30/50\n",
      "2221/2221 [==============================] - 0s 72us/step - loss: 1.1107 - acc: 0.5997 - val_loss: 1.2764 - val_acc: 0.5689\n",
      "\n",
      "Epoch 00030: val_loss did not improve from 1.25049\n",
      "Epoch 31/50\n",
      "2221/2221 [==============================] - 0s 71us/step - loss: 1.0703 - acc: 0.5961 - val_loss: 1.2768 - val_acc: 0.5644\n",
      "\n",
      "Epoch 00031: val_loss did not improve from 1.25049\n",
      "Epoch 32/50\n",
      "2221/2221 [==============================] - 0s 71us/step - loss: 1.0621 - acc: 0.5997 - val_loss: 1.2808 - val_acc: 0.5580\n",
      "\n",
      "Epoch 00032: val_loss did not improve from 1.25049\n",
      "Epoch 33/50\n",
      "2221/2221 [==============================] - 0s 75us/step - loss: 1.0716 - acc: 0.5934 - val_loss: 1.2528 - val_acc: 0.5772\n",
      "\n",
      "Epoch 00033: val_loss did not improve from 1.25049\n",
      "Epoch 34/50\n",
      "2221/2221 [==============================] - 0s 73us/step - loss: 1.0367 - acc: 0.6074 - val_loss: 1.2614 - val_acc: 0.5635\n",
      "\n",
      "Epoch 00034: val_loss did not improve from 1.25049\n",
      "Epoch 35/50\n",
      "2221/2221 [==============================] - 0s 73us/step - loss: 1.0383 - acc: 0.6069 - val_loss: 1.2526 - val_acc: 0.5918\n",
      "\n",
      "Epoch 00035: val_loss did not improve from 1.25049\n",
      "Epoch 36/50\n",
      "2221/2221 [==============================] - 0s 71us/step - loss: 1.0365 - acc: 0.6087 - val_loss: 1.2663 - val_acc: 0.5726\n",
      "\n",
      "Epoch 00036: val_loss did not improve from 1.25049\n",
      "Epoch 37/50\n",
      "2221/2221 [==============================] - 0s 75us/step - loss: 1.0266 - acc: 0.6159 - val_loss: 1.2479 - val_acc: 0.5726\n",
      "\n",
      "Epoch 00037: val_loss improved from 1.25049 to 1.24788, saving model to doc2vec_keras20190616T155842.hd5\n",
      "Epoch 38/50\n",
      "2221/2221 [==============================] - 0s 76us/step - loss: 0.9985 - acc: 0.6317 - val_loss: 1.2772 - val_acc: 0.5735\n"
     ]
    },
    {
     "name": "stdout",
     "output_type": "stream",
     "text": [
      "\n",
      "Epoch 00038: val_loss did not improve from 1.24788\n",
      "Epoch 39/50\n",
      "2221/2221 [==============================] - 0s 77us/step - loss: 1.0016 - acc: 0.6308 - val_loss: 1.2888 - val_acc: 0.5735\n",
      "\n",
      "Epoch 00039: val_loss did not improve from 1.24788\n",
      "Epoch 40/50\n",
      "2221/2221 [==============================] - 0s 75us/step - loss: 0.9749 - acc: 0.6385 - val_loss: 1.2706 - val_acc: 0.5826\n",
      "\n",
      "Epoch 00040: val_loss did not improve from 1.24788\n",
      "Epoch 41/50\n",
      "2221/2221 [==============================] - 0s 82us/step - loss: 1.0105 - acc: 0.6204 - val_loss: 1.2794 - val_acc: 0.5872\n",
      "\n",
      "Epoch 00041: val_loss did not improve from 1.24788\n",
      "Epoch 42/50\n",
      "2221/2221 [==============================] - 0s 76us/step - loss: 0.9851 - acc: 0.6281 - val_loss: 1.2922 - val_acc: 0.5808\n",
      "\n",
      "Epoch 00042: val_loss did not improve from 1.24788\n",
      "Epoch 43/50\n",
      "2221/2221 [==============================] - 0s 76us/step - loss: 0.9723 - acc: 0.6403 - val_loss: 1.2863 - val_acc: 0.5826\n",
      "\n",
      "Epoch 00043: val_loss did not improve from 1.24788\n",
      "Epoch 44/50\n",
      "2221/2221 [==============================] - 0s 73us/step - loss: 0.9703 - acc: 0.6281 - val_loss: 1.2899 - val_acc: 0.5836\n",
      "\n",
      "Epoch 00044: val_loss did not improve from 1.24788\n",
      "Epoch 45/50\n",
      "2221/2221 [==============================] - 0s 76us/step - loss: 0.9803 - acc: 0.6357 - val_loss: 1.2845 - val_acc: 0.5927\n",
      "\n",
      "Epoch 00045: val_loss did not improve from 1.24788\n",
      "Epoch 46/50\n",
      "2221/2221 [==============================] - 0s 75us/step - loss: 0.9563 - acc: 0.6394 - val_loss: 1.2927 - val_acc: 0.5863\n",
      "\n",
      "Epoch 00046: val_loss did not improve from 1.24788\n",
      "Epoch 47/50\n",
      "2221/2221 [==============================] - 0s 75us/step - loss: 0.9454 - acc: 0.6493 - val_loss: 1.2972 - val_acc: 0.6073\n",
      "\n",
      "Epoch 00047: val_loss did not improve from 1.24788\n",
      "Epoch 48/50\n",
      "2221/2221 [==============================] - 0s 73us/step - loss: 0.9407 - acc: 0.6493 - val_loss: 1.3015 - val_acc: 0.5616\n",
      "\n",
      "Epoch 00048: val_loss did not improve from 1.24788\n",
      "Epoch 49/50\n",
      "2221/2221 [==============================] - 0s 76us/step - loss: 0.9332 - acc: 0.6425 - val_loss: 1.2807 - val_acc: 0.6009\n",
      "\n",
      "Epoch 00049: val_loss did not improve from 1.24788\n",
      "Epoch 50/50\n",
      "2221/2221 [==============================] - 0s 74us/step - loss: 0.9561 - acc: 0.6367 - val_loss: 1.2962 - val_acc: 0.5772\n",
      "\n",
      "Epoch 00050: val_loss did not improve from 1.24788\n"
     ]
    }
   ],
   "source": [
    "estimator2=build_estimator(clf,train_set, train_y, epochs=50,verbose=1)"
   ]
  },
  {
   "cell_type": "code",
   "execution_count": 662,
   "metadata": {},
   "outputs": [
    {
     "name": "stdout",
     "output_type": "stream",
     "text": [
      "The best epoch is \n",
      "       val_loss   val_acc      loss       acc\n",
      "epoch                                        \n",
      "47     1.297229  0.607306  0.945354  0.649257\n"
     ]
    }
   ],
   "source": [
    "train_history= save_history_df(estimator2)\n",
    "print('The best epoch is ')\n",
    "print(train_history.loc[train_history['val_acc'] == train_history.val_acc.max()])\n"
   ]
  },
  {
   "cell_type": "code",
   "execution_count": 663,
   "metadata": {},
   "outputs": [
    {
     "data": {
      "image/png": "[encoded data removed]",
      "text/plain": [
       "<Figure size 360x360 with 1 Axes>"
      ]
     },
     "metadata": {},
     "output_type": "display_data"
    },
    {
     "data": {
      "image/png": "[encoded data removed]",
      "text/plain": [
       "<Figure size 360x360 with 1 Axes>"
      ]
     },
     "metadata": {},
     "output_type": "display_data"
    }
   ],
   "source": [
    "plot_history(estimator2)"
   ]
  },
  {
   "cell_type": "markdown",
   "metadata": {},
   "source": [
    "### 5.3 Text feature"
   ]
  },
  {
   "cell_type": "code",
   "execution_count": 664,
   "metadata": {},
   "outputs": [],
   "source": [
    "train_set, test_set = (text_train_arrays, \\\n",
    "                         text_test_arrays)"
   ]
  },
  {
   "cell_type": "code",
   "execution_count": 665,
   "metadata": {},
   "outputs": [
    {
     "name": "stdout",
     "output_type": "stream",
     "text": [
      "(3316, 300)\n",
      "(986, 300)\n",
      "300\n"
     ]
    }
   ],
   "source": [
    "print(train_set.shape)\n",
    "print(test_set.shape)\n",
    "#print(train_set[0][:10])\n",
    "input_shape=train_set.shape[1]\n",
    "print(input_shape)"
   ]
  },
  {
   "cell_type": "code",
   "execution_count": 666,
   "metadata": {},
   "outputs": [
    {
     "name": "stdout",
     "output_type": "stream",
     "text": [
      "Train on 2221 samples, validate on 1095 samples\n",
      "Epoch 1/50\n",
      "2221/2221 [==============================] - 1s 580us/step - loss: 2.0304 - acc: 0.2724 - val_loss: 1.8835 - val_acc: 0.2868\n",
      "\n",
      "Epoch 00001: val_loss improved from inf to 1.88349, saving model to doc2vec_keras20190616T155900.hd5\n",
      "Epoch 2/50\n",
      "2221/2221 [==============================] - 0s 76us/step - loss: 1.8374 - acc: 0.2936 - val_loss: 1.7699 - val_acc: 0.3680\n",
      "\n",
      "Epoch 00002: val_loss improved from 1.88349 to 1.76991, saving model to doc2vec_keras20190616T155900.hd5\n",
      "Epoch 3/50\n",
      "2221/2221 [==============================] - 0s 74us/step - loss: 1.7098 - acc: 0.3647 - val_loss: 1.5950 - val_acc: 0.4110\n",
      "\n",
      "Epoch 00003: val_loss improved from 1.76991 to 1.59503, saving model to doc2vec_keras20190616T155900.hd5\n",
      "Epoch 4/50\n",
      "2221/2221 [==============================] - 0s 76us/step - loss: 1.6034 - acc: 0.4007 - val_loss: 1.5324 - val_acc: 0.4420\n",
      "\n",
      "Epoch 00004: val_loss improved from 1.59503 to 1.53241, saving model to doc2vec_keras20190616T155900.hd5\n",
      "Epoch 5/50\n",
      "2221/2221 [==============================] - 0s 73us/step - loss: 1.5619 - acc: 0.4205 - val_loss: 1.5077 - val_acc: 0.4265\n",
      "\n",
      "Epoch 00005: val_loss improved from 1.53241 to 1.50775, saving model to doc2vec_keras20190616T155900.hd5\n",
      "Epoch 6/50\n",
      "2221/2221 [==============================] - 0s 73us/step - loss: 1.5335 - acc: 0.4408 - val_loss: 1.4799 - val_acc: 0.4511\n",
      "\n",
      "Epoch 00006: val_loss improved from 1.50775 to 1.47985, saving model to doc2vec_keras20190616T155900.hd5\n",
      "Epoch 7/50\n",
      "2221/2221 [==============================] - 0s 75us/step - loss: 1.5013 - acc: 0.4390 - val_loss: 1.4746 - val_acc: 0.4658\n",
      "\n",
      "Epoch 00007: val_loss improved from 1.47985 to 1.47464, saving model to doc2vec_keras20190616T155900.hd5\n",
      "Epoch 8/50\n",
      "2221/2221 [==============================] - 0s 77us/step - loss: 1.4714 - acc: 0.4430 - val_loss: 1.4645 - val_acc: 0.4594\n",
      "\n",
      "Epoch 00008: val_loss improved from 1.47464 to 1.46447, saving model to doc2vec_keras20190616T155900.hd5\n",
      "Epoch 9/50\n",
      "2221/2221 [==============================] - 0s 74us/step - loss: 1.4479 - acc: 0.4579 - val_loss: 1.4218 - val_acc: 0.4575\n",
      "\n",
      "Epoch 00009: val_loss improved from 1.46447 to 1.42178, saving model to doc2vec_keras20190616T155900.hd5\n",
      "Epoch 10/50\n",
      "2221/2221 [==============================] - 0s 73us/step - loss: 1.4091 - acc: 0.4728 - val_loss: 1.4385 - val_acc: 0.4575\n",
      "\n",
      "Epoch 00010: val_loss did not improve from 1.42178\n",
      "Epoch 11/50\n",
      "2221/2221 [==============================] - 0s 75us/step - loss: 1.3905 - acc: 0.4665 - val_loss: 1.3885 - val_acc: 0.4758\n",
      "\n",
      "Epoch 00011: val_loss improved from 1.42178 to 1.38846, saving model to doc2vec_keras20190616T155900.hd5\n",
      "Epoch 12/50\n",
      "2221/2221 [==============================] - 0s 75us/step - loss: 1.3730 - acc: 0.4894 - val_loss: 1.3711 - val_acc: 0.4995\n",
      "\n",
      "Epoch 00012: val_loss improved from 1.38846 to 1.37112, saving model to doc2vec_keras20190616T155900.hd5\n",
      "Epoch 13/50\n",
      "2221/2221 [==============================] - 0s 82us/step - loss: 1.3477 - acc: 0.4993 - val_loss: 1.3568 - val_acc: 0.5005\n",
      "\n",
      "Epoch 00013: val_loss improved from 1.37112 to 1.35685, saving model to doc2vec_keras20190616T155900.hd5\n",
      "Epoch 14/50\n",
      "2221/2221 [==============================] - 0s 74us/step - loss: 1.3162 - acc: 0.4966 - val_loss: 1.3576 - val_acc: 0.5087\n",
      "\n",
      "Epoch 00014: val_loss did not improve from 1.35685\n",
      "Epoch 15/50\n",
      "2221/2221 [==============================] - 0s 76us/step - loss: 1.3049 - acc: 0.5092 - val_loss: 1.3384 - val_acc: 0.5059\n",
      "\n",
      "Epoch 00015: val_loss improved from 1.35685 to 1.33836, saving model to doc2vec_keras20190616T155900.hd5\n",
      "Epoch 16/50\n",
      "2221/2221 [==============================] - 0s 76us/step - loss: 1.2756 - acc: 0.5259 - val_loss: 1.3231 - val_acc: 0.5114\n",
      "\n",
      "Epoch 00016: val_loss improved from 1.33836 to 1.32310, saving model to doc2vec_keras20190616T155900.hd5\n",
      "Epoch 17/50\n",
      "2221/2221 [==============================] - 0s 75us/step - loss: 1.2762 - acc: 0.5223 - val_loss: 1.3202 - val_acc: 0.5370\n",
      "\n",
      "Epoch 00017: val_loss improved from 1.32310 to 1.32025, saving model to doc2vec_keras20190616T155900.hd5\n",
      "Epoch 18/50\n",
      "2221/2221 [==============================] - 0s 75us/step - loss: 1.2365 - acc: 0.5331 - val_loss: 1.2911 - val_acc: 0.5498\n",
      "\n",
      "Epoch 00018: val_loss improved from 1.32025 to 1.29115, saving model to doc2vec_keras20190616T155900.hd5\n",
      "Epoch 19/50\n",
      "2221/2221 [==============================] - 0s 80us/step - loss: 1.2344 - acc: 0.5412 - val_loss: 1.2884 - val_acc: 0.5288\n",
      "\n",
      "Epoch 00019: val_loss improved from 1.29115 to 1.28839, saving model to doc2vec_keras20190616T155900.hd5\n",
      "Epoch 20/50\n",
      "2221/2221 [==============================] - 0s 75us/step - loss: 1.2144 - acc: 0.5403 - val_loss: 1.2902 - val_acc: 0.5397\n",
      "\n",
      "Epoch 00020: val_loss did not improve from 1.28839\n",
      "Epoch 21/50\n",
      "2221/2221 [==============================] - 0s 76us/step - loss: 1.1927 - acc: 0.5371 - val_loss: 1.2921 - val_acc: 0.5123\n",
      "\n",
      "Epoch 00021: val_loss did not improve from 1.28839\n",
      "Epoch 22/50\n",
      "2221/2221 [==============================] - 0s 72us/step - loss: 1.1905 - acc: 0.5484 - val_loss: 1.2627 - val_acc: 0.5498\n",
      "\n",
      "Epoch 00022: val_loss improved from 1.28839 to 1.26269, saving model to doc2vec_keras20190616T155900.hd5\n",
      "Epoch 23/50\n",
      "2221/2221 [==============================] - 0s 75us/step - loss: 1.1747 - acc: 0.5615 - val_loss: 1.2901 - val_acc: 0.5078\n",
      "\n",
      "Epoch 00023: val_loss did not improve from 1.26269\n",
      "Epoch 24/50\n",
      "2221/2221 [==============================] - 0s 76us/step - loss: 1.1521 - acc: 0.5669 - val_loss: 1.2795 - val_acc: 0.5443\n",
      "\n",
      "Epoch 00024: val_loss did not improve from 1.26269\n",
      "Epoch 25/50\n",
      "2221/2221 [==============================] - 0s 73us/step - loss: 1.1311 - acc: 0.5745 - val_loss: 1.2579 - val_acc: 0.5635\n",
      "\n",
      "Epoch 00025: val_loss improved from 1.26269 to 1.25790, saving model to doc2vec_keras20190616T155900.hd5\n",
      "Epoch 26/50\n",
      "2221/2221 [==============================] - 0s 75us/step - loss: 1.1374 - acc: 0.5786 - val_loss: 1.2715 - val_acc: 0.5562\n",
      "\n",
      "Epoch 00026: val_loss did not improve from 1.25790\n",
      "Epoch 27/50\n",
      "2221/2221 [==============================] - 0s 77us/step - loss: 1.1336 - acc: 0.5691 - val_loss: 1.2603 - val_acc: 0.5653\n",
      "\n",
      "Epoch 00027: val_loss did not improve from 1.25790\n",
      "Epoch 28/50\n",
      "2221/2221 [==============================] - 0s 77us/step - loss: 1.1354 - acc: 0.5682 - val_loss: 1.2622 - val_acc: 0.5489\n",
      "\n",
      "Epoch 00028: val_loss did not improve from 1.25790\n",
      "Epoch 29/50\n",
      "2221/2221 [==============================] - 0s 75us/step - loss: 1.1052 - acc: 0.5862 - val_loss: 1.2872 - val_acc: 0.5516\n",
      "\n",
      "Epoch 00029: val_loss did not improve from 1.25790\n",
      "Epoch 30/50\n",
      "2221/2221 [==============================] - 0s 73us/step - loss: 1.1223 - acc: 0.5813 - val_loss: 1.2634 - val_acc: 0.5543\n",
      "\n",
      "Epoch 00030: val_loss did not improve from 1.25790\n",
      "Epoch 31/50\n",
      "2221/2221 [==============================] - 0s 74us/step - loss: 1.0896 - acc: 0.5903 - val_loss: 1.2648 - val_acc: 0.5562\n",
      "\n",
      "Epoch 00031: val_loss did not improve from 1.25790\n",
      "Epoch 32/50\n",
      "2221/2221 [==============================] - 0s 73us/step - loss: 1.0830 - acc: 0.5898 - val_loss: 1.2532 - val_acc: 0.5616\n",
      "\n",
      "Epoch 00032: val_loss improved from 1.25790 to 1.25323, saving model to doc2vec_keras20190616T155900.hd5\n",
      "Epoch 33/50\n",
      "2221/2221 [==============================] - 0s 74us/step - loss: 1.0411 - acc: 0.6033 - val_loss: 1.2985 - val_acc: 0.5626\n",
      "\n",
      "Epoch 00033: val_loss did not improve from 1.25323\n",
      "Epoch 34/50\n",
      "2221/2221 [==============================] - 0s 71us/step - loss: 1.0424 - acc: 0.5930 - val_loss: 1.3138 - val_acc: 0.5580\n",
      "\n",
      "Epoch 00034: val_loss did not improve from 1.25323\n",
      "Epoch 35/50\n",
      "2221/2221 [==============================] - 0s 75us/step - loss: 1.0453 - acc: 0.6069 - val_loss: 1.2847 - val_acc: 0.5489\n",
      "\n",
      "Epoch 00035: val_loss did not improve from 1.25323\n",
      "Epoch 36/50\n",
      "2221/2221 [==============================] - 0s 74us/step - loss: 1.0307 - acc: 0.6056 - val_loss: 1.3070 - val_acc: 0.5571\n",
      "\n",
      "Epoch 00036: val_loss did not improve from 1.25323\n",
      "Epoch 37/50\n",
      "2221/2221 [==============================] - 0s 75us/step - loss: 1.0405 - acc: 0.6105 - val_loss: 1.3118 - val_acc: 0.5635\n",
      "\n",
      "Epoch 00037: val_loss did not improve from 1.25323\n",
      "Epoch 38/50\n",
      "2221/2221 [==============================] - 0s 75us/step - loss: 1.0386 - acc: 0.6096 - val_loss: 1.2564 - val_acc: 0.5790\n"
     ]
    },
    {
     "name": "stdout",
     "output_type": "stream",
     "text": [
      "\n",
      "Epoch 00038: val_loss did not improve from 1.25323\n",
      "Epoch 39/50\n",
      "2221/2221 [==============================] - 0s 79us/step - loss: 1.0306 - acc: 0.6092 - val_loss: 1.2900 - val_acc: 0.5662\n",
      "\n",
      "Epoch 00039: val_loss did not improve from 1.25323\n",
      "Epoch 40/50\n",
      "2221/2221 [==============================] - 0s 76us/step - loss: 1.0166 - acc: 0.6227 - val_loss: 1.3184 - val_acc: 0.5653\n",
      "\n",
      "Epoch 00040: val_loss did not improve from 1.25323\n",
      "Epoch 41/50\n",
      "2221/2221 [==============================] - 0s 77us/step - loss: 1.0124 - acc: 0.6123 - val_loss: 1.3017 - val_acc: 0.5808\n",
      "\n",
      "Epoch 00041: val_loss did not improve from 1.25323\n",
      "Epoch 42/50\n",
      "2221/2221 [==============================] - 0s 83us/step - loss: 1.0017 - acc: 0.6263 - val_loss: 1.3132 - val_acc: 0.5699\n",
      "\n",
      "Epoch 00042: val_loss did not improve from 1.25323\n",
      "Epoch 43/50\n",
      "2221/2221 [==============================] - 0s 75us/step - loss: 0.9948 - acc: 0.6204 - val_loss: 1.3212 - val_acc: 0.5607\n",
      "\n",
      "Epoch 00043: val_loss did not improve from 1.25323\n",
      "Epoch 44/50\n",
      "2221/2221 [==============================] - 0s 74us/step - loss: 0.9680 - acc: 0.6195 - val_loss: 1.3269 - val_acc: 0.5699\n",
      "\n",
      "Epoch 00044: val_loss did not improve from 1.25323\n",
      "Epoch 45/50\n",
      "2221/2221 [==============================] - 0s 77us/step - loss: 0.9833 - acc: 0.6159 - val_loss: 1.3348 - val_acc: 0.5653\n",
      "\n",
      "Epoch 00045: val_loss did not improve from 1.25323\n",
      "Epoch 46/50\n",
      "2221/2221 [==============================] - 0s 76us/step - loss: 1.0077 - acc: 0.6164 - val_loss: 1.2827 - val_acc: 0.5662\n",
      "\n",
      "Epoch 00046: val_loss did not improve from 1.25323\n",
      "Epoch 47/50\n",
      "2221/2221 [==============================] - 0s 79us/step - loss: 0.9514 - acc: 0.6376 - val_loss: 1.3336 - val_acc: 0.5671\n",
      "\n",
      "Epoch 00047: val_loss did not improve from 1.25323\n",
      "Epoch 48/50\n",
      "2221/2221 [==============================] - 0s 74us/step - loss: 0.9590 - acc: 0.6308 - val_loss: 1.3533 - val_acc: 0.5708\n",
      "\n",
      "Epoch 00048: val_loss did not improve from 1.25323\n",
      "Epoch 49/50\n",
      "2221/2221 [==============================] - 0s 75us/step - loss: 0.9768 - acc: 0.6308 - val_loss: 1.3377 - val_acc: 0.5644\n",
      "\n",
      "Epoch 00049: val_loss did not improve from 1.25323\n",
      "Epoch 50/50\n",
      "2221/2221 [==============================] - 0s 74us/step - loss: 0.9799 - acc: 0.6276 - val_loss: 1.3341 - val_acc: 0.5443\n",
      "\n",
      "Epoch 00050: val_loss did not improve from 1.25323\n"
     ]
    }
   ],
   "source": [
    "estimator3=build_estimator(clf,train_set, train_y, epochs=50,verbose=1)"
   ]
  },
  {
   "cell_type": "code",
   "execution_count": 667,
   "metadata": {},
   "outputs": [
    {
     "name": "stdout",
     "output_type": "stream",
     "text": [
      "The best epoch is \n",
      "       val_loss   val_acc      loss       acc\n",
      "epoch                                        \n",
      "41     1.301694  0.580822  1.012364  0.612337\n"
     ]
    }
   ],
   "source": [
    "train_history= save_history_df(estimator3)\n",
    "print('The best epoch is ')\n",
    "print(train_history.loc[train_history['val_acc'] == train_history.val_acc.max()])\n"
   ]
  },
  {
   "cell_type": "code",
   "execution_count": 668,
   "metadata": {},
   "outputs": [
    {
     "data": {
      "image/png": "[encoded data removed]",
      "text/plain": [
       "<Figure size 360x360 with 1 Axes>"
      ]
     },
     "metadata": {},
     "output_type": "display_data"
    },
    {
     "data": {
      "image/png": "[encoded data removed]",
      "text/plain": [
       "<Figure size 360x360 with 1 Axes>"
      ]
     },
     "metadata": {},
     "output_type": "display_data"
    }
   ],
   "source": [
    "plot_history(estimator3)"
   ]
  },
  {
   "cell_type": "markdown",
   "metadata": {},
   "source": [
    "## 6 How well can the features be explained? "
   ]
  },
  {
   "cell_type": "code",
   "execution_count": 617,
   "metadata": {
    "scrolled": true
   },
   "outputs": [
    {
     "data": {
      "text/plain": [
       "0.9277056843357011"
      ]
     },
     "execution_count": 617,
     "metadata": {},
     "output_type": "execute_result"
    }
   ],
   "source": [
    "# What is the best n_components for Gene TSVD\n",
    "Genes = onehot_ft(df,'Gene')\n",
    "gene_dim=200\n",
    "# TSVD\n",
    "svd = TruncatedSVD(n_components=gene_dim, n_iter=gene_dim, random_state=12)\n",
    "svd.fit(Genes) \n",
    "\n",
    "# Select the n_components which can explain 95% variance \n",
    "tsvd_var_ratios = svd.explained_variance_ratio_\n",
    "select_n_components(tsvd_var_ratios, 0.95)\n",
    "\n",
    "# Explain\n",
    "var_explained = svd.explained_variance_ratio_.sum()\n",
    "var_explained \n"
   ]
  },
  {
   "cell_type": "code",
   "execution_count": 611,
   "metadata": {},
   "outputs": [],
   "source": [
    "# Dimension reduction\n",
    "from sklearn.decomposition import TruncatedSVD\n",
    "gene_dim=200\n",
    "variation_dim=6\n",
    "\n",
    "# Pipeline for Gene\n",
    "Gene = Pipeline([\n",
    "    ('selector',ItemSelector(key=\"Gene\")),\n",
    "    ('converter',Converter()),\n",
    "     ('onehot',OneHotEncoder()),\n",
    "    ('tsvd',TruncatedSVD(n_components=gene_dim, n_iter=gene_dim, random_state=12))\n",
    "])\n",
    "\n",
    "\n",
    "# Pipeline for Variation\n",
    "Variation = Pipeline([\n",
    "    ('selector',ItemSelector(key=\"Variation\")),\n",
    "    ('converter',Converter()),\n",
    "    ('onehot',OneHotEncoder()),   \n",
    "    ('tsvd',TruncatedSVD(n_components=variation_dim, n_iter=variation_dim, random_state=12))\n",
    "])"
   ]
  },
  {
   "cell_type": "code",
   "execution_count": 591,
   "metadata": {},
   "outputs": [],
   "source": [
    "# OneHotEncoder\n",
    "def onehot_ft(df,colname):\n",
    "    enc = OneHotEncoder(handle_unknown='ignore')\n",
    "    temp = df[colname].values.reshape(-1,1)\n",
    "    onehot_col = enc.fit_transform(temp)\n",
    "    return onehot_col"
   ]
  },
  {
   "cell_type": "code",
   "execution_count": 616,
   "metadata": {},
   "outputs": [
    {
     "data": {
      "text/plain": [
       "0.9967011194248345"
      ]
     },
     "execution_count": 616,
     "metadata": {},
     "output_type": "execute_result"
    }
   ],
   "source": [
    "# How much variance can be explained for Variation using TSVD n_components=6\n",
    "Variations = onehot_ft(df,'Variation')\n",
    "\n",
    "variation_dim=6\n",
    "svd = TruncatedSVD(n_components=variation_dim, n_iter=variation_dim, random_state=12)\n",
    "svd.fit(Variations) \n",
    "var_explained = svd.explained_variance_ratio_.sum()\n",
    "var_explained # 0.990107962434239"
   ]
  },
  {
   "cell_type": "code",
   "execution_count": 618,
   "metadata": {},
   "outputs": [
    {
     "data": {
      "text/plain": [
       "200"
      ]
     },
     "execution_count": 618,
     "metadata": {},
     "output_type": "execute_result"
    }
   ],
   "source": [
    "# What is the best n_components for Gene TSVD\n",
    "Genes = onehot_ft(df,'Gene')\n",
    "# Select the best n_components number\n",
    "tsvd_var_ratios = svd.explained_variance_ratio_\n",
    "select_n_components(tsvd_var_ratios, 0.95)"
   ]
  },
  {
   "cell_type": "code",
   "execution_count": 669,
   "metadata": {},
   "outputs": [
    {
     "data": {
      "text/plain": [
       "0.9277073375650529"
      ]
     },
     "execution_count": 669,
     "metadata": {},
     "output_type": "execute_result"
    }
   ],
   "source": [
    "gene_dim=200\n",
    "svd = TruncatedSVD(n_components=gene_dim, n_iter=500, random_state=12)\n",
    "svd.fit(Genes) \n",
    "\n",
    "var_explained = svd.explained_variance_ratio_.sum()\n",
    "var_explained "
   ]
  }
 ],
 "metadata": {
  "kernelspec": {
   "display_name": "Python 3",
   "language": "python",
   "name": "python3"
  },
  "language_info": {
   "codemirror_mode": {
    "name": "ipython",
    "version": 3
   },
   "file_extension": ".py",
   "mimetype": "text/x-python",
   "name": "python",
   "nbconvert_exporter": "python",
   "pygments_lexer": "ipython3",
   "version": "3.7.3"
  }
 },
 "nbformat": 4,
 "nbformat_minor": 1
}
