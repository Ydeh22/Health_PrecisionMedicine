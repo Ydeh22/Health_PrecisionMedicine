{
 "cells": [
  {
   "cell_type": "code",
   "execution_count": 3,
   "metadata": {},
   "outputs": [],
   "source": [
    "# System packages\n",
    "import os\n",
    "import sys\n",
    "import warnings\n",
    "# Data related\n",
    "import numpy as np \n",
    "import pandas as pd \n",
    "import pprint as pp\n",
    "# sklearn tools \n",
    "from sklearn.metrics import  accuracy_score\n",
    "from sklearn.model_selection import train_test_split, cross_val_predict,cross_val_score,  StratifiedKFold, GridSearchCV\n",
    "from sklearn.feature_extraction.text import CountVectorizer, TfidfTransformer, TfidfVectorizer\n",
    "from sklearn.pipeline import FeatureUnion, Pipeline, make_pipeline, make_union\n",
    "from sklearn.preprocessing import FunctionTransformer, OneHotEncoder\n",
    "\n",
    "\n",
    "# sklearn models\n",
    "from sklearn.naive_bayes import MultinomialNB\n",
    "from sklearn.linear_model import SGDClassifier\n",
    "import xgboost as xgb\n",
    "\n",
    "# Model \n",
    "import eli5\n",
    "from eli5.explain import explain_weights\n",
    "from eli5.formatters import explain_weights_df"
   ]
  },
  {
   "cell_type": "code",
   "execution_count": 4,
   "metadata": {},
   "outputs": [],
   "source": [
    "warnings.filterwarnings('ignore')\n",
    "pd.set_option('display.max_columns', 50)\n"
   ]
  },
  {
   "cell_type": "code",
   "execution_count": 5,
   "metadata": {},
   "outputs": [],
   "source": [
    "# Add utils_functions.py as a dataset\n",
    "# Import module \n",
    "from shutil import copyfile\n",
    "\n",
    "# Copy our file into the working directory (make sure it has .py suffix)\n",
    "copyfile(src = \"../input/utils-functions/utils_functions.py\", dst = '/kaggle/working/utils_functions.py')\n",
    "from utils_functions import *"
   ]
  },
  {
   "cell_type": "markdown",
   "metadata": {},
   "source": [
    "## 1. Load full data"
   ]
  },
  {
   "cell_type": "markdown",
   "metadata": {},
   "source": [
    "### Use a sample data"
   ]
  },
  {
   "cell_type": "code",
   "execution_count": null,
   "metadata": {
    "scrolled": true
   },
   "outputs": [],
   "source": [
    "'''\n",
    "sample =df.groupby('Class').apply(lambda x: x.sample(frac=0.2))\n",
    "sample =sample.drop([sample.columns[1], \n",
    "                     sample.columns[2], \n",
    "                     sample.columns[5]], \n",
    "                    axis='columns')\n",
    "sample.dropna(subset=['Text'])\n",
    "sample.head(1)\n",
    "sample.to_csv('../data/processed/train_variants_text_sample.csv')\n",
    "'''"
   ]
  },
  {
   "cell_type": "code",
   "execution_count": 6,
   "metadata": {},
   "outputs": [],
   "source": [
    "sample = pd.read_csv('../input/sample/train_variants_text_sample.csv')"
   ]
  },
  {
   "cell_type": "code",
   "execution_count": 7,
   "metadata": {},
   "outputs": [
    {
     "data": {
      "text/html": [
       "<div>\n",
       "<style scoped>\n",
       "    .dataframe tbody tr th:only-of-type {\n",
       "        vertical-align: middle;\n",
       "    }\n",
       "\n",
       "    .dataframe tbody tr th {\n",
       "        vertical-align: top;\n",
       "    }\n",
       "\n",
       "    .dataframe thead th {\n",
       "        text-align: right;\n",
       "    }\n",
       "</style>\n",
       "<table border=\"1\" class=\"dataframe\">\n",
       "  <thead>\n",
       "    <tr style=\"text-align: right;\">\n",
       "      <th></th>\n",
       "      <th>Class</th>\n",
       "      <th>Gene</th>\n",
       "      <th>Variation</th>\n",
       "      <th>Text</th>\n",
       "    </tr>\n",
       "  </thead>\n",
       "  <tbody>\n",
       "    <tr>\n",
       "      <th>0</th>\n",
       "      <td>1</td>\n",
       "      <td>NF2</td>\n",
       "      <td>L46R</td>\n",
       "      <td>Neurofibromatosis type 2 (NF2) is a multiple n...</td>\n",
       "    </tr>\n",
       "    <tr>\n",
       "      <th>1</th>\n",
       "      <td>1</td>\n",
       "      <td>FGFR2</td>\n",
       "      <td>E219K</td>\n",
       "      <td>Introduction  Melanoma is the most lethal of a...</td>\n",
       "    </tr>\n",
       "    <tr>\n",
       "      <th>2</th>\n",
       "      <td>1</td>\n",
       "      <td>BRCA1</td>\n",
       "      <td>F1704S</td>\n",
       "      <td>Abstract  The BRCA1 gene from individuals at ...</td>\n",
       "    </tr>\n",
       "    <tr>\n",
       "      <th>3</th>\n",
       "      <td>1</td>\n",
       "      <td>TP53</td>\n",
       "      <td>R337H</td>\n",
       "      <td>The tumor suppressor protein p53 is a transcri...</td>\n",
       "    </tr>\n",
       "    <tr>\n",
       "      <th>4</th>\n",
       "      <td>1</td>\n",
       "      <td>TSC2</td>\n",
       "      <td>E75G</td>\n",
       "      <td>Tuberous sclerosis complex (TSC) is an autosom...</td>\n",
       "    </tr>\n",
       "  </tbody>\n",
       "</table>\n",
       "</div>"
      ],
      "text/plain": [
       "   Class   Gene Variation                                               Text\n",
       "0      1    NF2      L46R  Neurofibromatosis type 2 (NF2) is a multiple n...\n",
       "1      1  FGFR2     E219K  Introduction  Melanoma is the most lethal of a...\n",
       "2      1  BRCA1    F1704S   Abstract  The BRCA1 gene from individuals at ...\n",
       "3      1   TP53     R337H  The tumor suppressor protein p53 is a transcri...\n",
       "4      1   TSC2      E75G  Tuberous sclerosis complex (TSC) is an autosom..."
      ]
     },
     "execution_count": 7,
     "metadata": {},
     "output_type": "execute_result"
    }
   ],
   "source": [
    "sample.head()"
   ]
  },
  {
   "cell_type": "markdown",
   "metadata": {},
   "source": [
    "### Split sample data into train and validation data set"
   ]
  },
  {
   "cell_type": "code",
   "execution_count": null,
   "metadata": {},
   "outputs": [],
   "source": [
    "X_tr, X_val, y_tr, y_val = split_data(sample,\n",
    "                                      'Text',\n",
    "                                      'Class',\n",
    "                                      0.1,\n",
    "                                      0,\n",
    "                                      stratify='Class')"
   ]
  },
  {
   "cell_type": "code",
   "execution_count": null,
   "metadata": {},
   "outputs": [],
   "source": [
    "# Take a look at the first y_tr and X_tr\n",
    "#print(y_tr[0], \"-is the predicted Class for text -\", X_tr[0],)"
   ]
  },
  {
   "cell_type": "markdown",
   "metadata": {},
   "source": [
    "## 2. Feature extraction"
   ]
  },
  {
   "cell_type": "markdown",
   "metadata": {},
   "source": [
    "### 2.1 Bag of words\n",
    "Here we will use \n",
    " * CountVectorizer: Counts the number of times a word appears in the text\n",
    " * TfidfVectorizer: Weighs the words according to the importance of the word in the context of whole collection\n",
    " "
   ]
  },
  {
   "cell_type": "markdown",
   "metadata": {},
   "source": [
    "### 2.2 Word2Vec"
   ]
  },
  {
   "cell_type": "code",
   "execution_count": null,
   "metadata": {},
   "outputs": [],
   "source": [
    "# Use document df\n",
    "w2vec = get_word2vec(\n",
    "    MySentences(\n",
    "        sample['Text'].values, \n",
    "    ),\n",
    "    'w2vmodel'\n",
    ")"
   ]
  },
  {
   "cell_type": "markdown",
   "metadata": {},
   "source": [
    "## 2.3  Doc2Vec"
   ]
  },
  {
   "cell_type": "code",
   "execution_count": 8,
   "metadata": {},
   "outputs": [],
   "source": [
    "import gensim\n",
    "from gensim.models.doc2vec import TaggedDocument"
   ]
  },
  {
   "cell_type": "code",
   "execution_count": null,
   "metadata": {},
   "outputs": [],
   "source": [
    "df= sample."
   ]
  },
  {
   "cell_type": "code",
   "execution_count": 9,
   "metadata": {},
   "outputs": [],
   "source": [
    "from bs4 import BeautifulSoup\n",
    "def cleanText(text):\n",
    "    text = BeautifulSoup(text, \"lxml\").text\n",
    "    text = re.sub(r'\\|\\|\\|', r' ', text) \n",
    "    text = re.sub(r'http\\S+', r'<URL>', text)\n",
    "    text = text.lower()\n",
    "    text = text.replace('x', '')\n",
    "    return text"
   ]
  },
  {
   "cell_type": "code",
   "execution_count": 13,
   "metadata": {},
   "outputs": [],
   "source": [
    "sample['Text'] = sample['Text'].apply(cleanText)"
   ]
  },
  {
   "cell_type": "code",
   "execution_count": 29,
   "metadata": {},
   "outputs": [],
   "source": [
    "from gensim.models import doc2vec\n",
    "\n",
    "def label_sentences(corpus, label_type):\n",
    "    \"\"\"\n",
    "    Gensim's Doc2Vec implementation requires each document/paragraph to have a label associated with it.\n",
    "    We do this by using the TaggedDocument method. The format will be \"TRAIN_i\" or \"TEST_i\" where \"i\" is\n",
    "    a dummy index of the complaint narrative.\n",
    "    \"\"\"\n",
    "    labeled = []\n",
    "    for i, v in enumerate(corpus):\n",
    "        label = label_type + '_' + str(i)\n",
    "        labeled.append(doc2vec.TaggedDocument(v.split(), [label]))\n",
    "    return labeled"
   ]
  },
  {
   "cell_type": "code",
   "execution_count": 16,
   "metadata": {},
   "outputs": [],
   "source": [
    "X_tr, X_val, y_tr, y_val = split_data(sample,\n",
    "                                      'Text',\n",
    "                                      'Class',\n",
    "                                      0.1,\n",
    "                                      0,\n",
    "                                      stratify='Class')"
   ]
  },
  {
   "cell_type": "code",
   "execution_count": 27,
   "metadata": {},
   "outputs": [
    {
     "name": "stdout",
     "output_type": "stream",
     "text": [
      "664\n",
      "[TaggedDocument(words=['the', 'crucial', 'role', 'of', 'recurrent', 'gene', 'fusions', 'in', 'the', 'development', 'of', 'solid', 'tumors', 'has', 'been', 'recently', 'appreciated', 'after', 'several', 'milestone', 'discoveries1,', '2.', 'in', 'particular,', 'the', 'discovery', 'of', 'an', 'eml4-alk', 'fusion', 'in', '∼4%', 'of', 'lung', 'cancer', 'has', 'led', 'to', 'development', 'of', 'an', 'effective', 'drug', 'with', 'stunning', 'clinical', 'impacts3.', 'recently,', 'net-generation', 'sequencing', '(ngs)', 'has', 'greatly', 'enhanced', 'gene', 'fusion', 'discovery', 'in', 'solid', 'tumors,', 'which', 'has', 'led', 'to', 'the', 'identification', 'of', 'a', 'vti1a-tcf7l2', 'fusion', 'in', '3%', 'of', 'colon', 'cancers4,', 'a', 'bcor-ccnb3', 'fusion', 'in', '4%', 'of', 'bone', 'sarcomas5,', 'and', 'a', 'fgfr-tacc', 'fusion', 'in', '3%', 'of', 'glioblastomas6.', 'although', 'low', 'in', 'percentage,', 'these', 'neoplastic', 'gene', 'fusions', 'will', 'likely', 'advance', 'the', 'genetic', 'subtyping', 'of', 'solid', 'tumors', 'that', 'may', 'be', 'curable', 'by', 'targeting', 'them.', 'in', 'breast', 'cancer,', 'a', 'recent', 'rna', 'sequencing', '(rnaseq)', 'study', 'reported', 'multiple', 'fusions', 'of', 'the', 'mast', 'and', 'notch', 'family', 'genes;', 'whereas', 'individual', 'gene', 'fusions', 'appear', 'to', 'rarely', 'recur7.', 'another', 'genome', 'sequencing', 'study', 'revealed', 'a', 'magi3-akt3', 'gene', 'fusion', 'in', '3%', 'of', 'breast', 'cancers', 'that', 'is', 'enriched', 'in', 'triple-negative', 'tumors8.', 'to', 'date,', 'the', 'role', 'of', 'recurrent', 'fusions', 'in', 'estrogen-receptor', '(er)', 'positive', 'breast', 'cancers', 'is', 'ill-understood.', 'er+', 'breast', 'cancers', 'can', 'be', 'classified', 'into', 'the', '“luminal', 'a”', 'and', '“luminal', 'b”', 'subtypes.', 'while', 'luminal', 'a', 'tumors', 'can', 'be', 'effectively', 'treated', 'by', 'endocrine', 'therapy', 'against', 'the', 'er,', 'the', 'luminal', 'b', 'subtype', 'tumors', 'are', 'more', 'aggressive', 'with', 'a', 'higher', 'risk', 'of', 'early', 'relapse', 'with', 'endocrine', 'therapy9.', 'it', 'has', 'been', 'unclear', 'what', 'drives', 'these', 'tumors', 'to', 'be', 'more', 'aggressive,', 'and', 'there', 'are', 'limited', 'options', 'for', 'treating', 'this', 'type', 'of', 'cancer.', 'these', 'issues', 'may', 'be', 'effectively', 'addressed', 'by', 'uncovering', 'the', 'genetic', 'aberrations', 'that', 'drive', 'the', 'development', 'of', 'these', 'tumors.', 'in', 'this', 'study,', 'we', 'develop', 'an', 'integrative', 'pipeline', 'called', '“fusion', 'zoom”', 'to', 'detect', 'recurrent', 'gene', 'fusions', 'from', 'rnaseq', 'and', 'genomic', 'datasets.', 'we', 'postulate', 'that', 'the', 'detection', 'of', 'pathological', 'gene', 'fusions', 'would', 'be', 'greatly', 'improved', 'by', 'applying', 'more', 'sensitive', 'parameters', 'to', 'comprehensively', 'capture', 'the', 'authentic', 'fusion', 'sequences', 'from', 'the', 'rnaseq', 'data,', 'and', 'by', 'integrating', 'distinct', 'types', 'of', 'genomic', 'data', 'to', 'prioritize', 'the', 'driving', 'fusion', 'events.', 'based', 'on', 'the', 'observation', 'that', 'gene', 'rearrangements', 'are', 'frequently', 'associated', 'with', 'intragenic', 'copy', 'number', 'aberrations', '(or', '“unbalanced”', 'breakpoints),', 'we', 'previously', 'formulated', 'a', 'fusion', 'breakpoint', 'principle', 'to', 'describe', 'the', 'characteristic', 'intragenic', 'copy', 'number', 'changes', 'delineating', 'recurrent', 'fusion', 'genes10,', 'which', 'empowers', 'the', 'bioinformatics', 'analysis', 'to', 'catalog', 'meaningful', 'fusion', 'genes', 'from', 'copy', 'number', 'data.', 'to', 'facilitate', 'high-throughput', 'biological', 'interpretation', 'of', 'candidate', 'fusions,', 'we', 'also', 'developed', 'a', 'concept', 'signature', '(consig)', 'analysis', 'that', 'nominates', 'biologically', 'important', 'genes', 'underlying', 'cancer', 'by', 'assessing', 'their', 'association', 'with', 'molecular', 'concepts', 'characteristic', 'of', 'cancer', 'genes', '(', 'based', 'on', 'these', 'principles,', 'here', 'we', 'develop', 'a', 'pipeline', 'that', 'detects', 'recurrent', 'chimeras', 'potentially', 'encoding', 'in-frame', 'protein', 'products', 'from', 'rnaseq', 'data,', 'catalogs', 'the', 'unbalanced', 'breakpoints', 'at', 'the', 'genomic', 'loci', 'of', 'these', 'fusion', 'partner', 'genes', 'from', 'copy', 'number', 'data,', 'and', 'prioritizes', 'pathological', 'gene', 'fusions', 'through', 'the', 'consig', 'analysis', '(fig.', '1a,', 'see', 'methods).', 'we', 'apply', 'this', 'approach', 'to', 'the', 'rnaseq', 'and', 'copy', 'number', 'datasets', 'from', 'the', 'cancer', 'genome', 'atlas', '(tcga),', 'and', 'identify', 'neoplastic', 'fusion', 'events', 'between', 'the', 'estrogen', 'receptor', 'gene', 'esr1', 'and', 'the', 'adjacent', 'gene', 'ccdc170', 'in', 'a', 'subset', 'of', 'er+', 'breast', 'cancers', 'that', 'is', 'preferentially', 'found', 'in', 'luminal', 'b', 'tumors.', 'figure', '1', 'figure', '1', 'discovering', 'recurrent', 'gene', 'fusions', 'in', 'invasive', 'breast', 'cancer', 'go', 'to:', 'results', 'integrative', 'analysis', 'revealed', 'a', 'recurrent', 'esr1', 'rearrangement', 'using', 'the', 'fusion', 'zoom', 'pipeline,', 'we', 'analyzed', 'the', 'rnaseq', 'data', 'of', '795', 'invasive', 'breast', 'tumors', 'and', '107', 'paired', 'normal', 'breast', 'tissues', 'from', 'tcga.', 'a', 'total', 'of', '113,510', 'putative', 'gene', 'fusions', 'were', 'detected,', 'among', 'which', '2,790', 'fusions', 'were', 'found', 'to', 'be', 'tumor-specific', 'and', 'recurrent', 'in', 'this', 'cohort', 'of', 'patients', '(present', 'in', '≥2', 'tumors).', 'among', 'these', 'recurrent', 'fusion', 'candidates,', '1,783', 'are', 'found', 'to', 'have', 'the', 'potential', 'to', 'encode', 'in-frame', 'protein', 'products', '(see', 'methods).', 'interestingly,', 'the', 'vast', 'majority', 'of', 'these', 'recurrent', 'chimeras', 'were', 'from', 'genes', 'that', 'are', 'less', 'than', '500', 'kb', 'apart', '(fig.', '1b),', 'whereas', 'distant', 'gene', 'fusions', 'rarely', 'recurred', 'in', 'more', 'than', '1%', 'of', 'breast', 'tumors', '(fig.', '1b).', 'chimeras', 'from', 'adjacent', 'genes', 'are', 'generally', 'considered', 'as', 'non-genomic', 'transcription-induced', 'chimeras', '(tics)', 'resulting', 'from', 'intergenic', 'splicing11,', '12.', 'interestingly', 'our', 'analysis', 'of', 'tcga', 'copy', 'number', 'data', '(snp6.0)', 'for', '865', 'breast', 'tumors', '(most', 'of', 'these', 'tumors', 'have', 'matched', 'rnaseq', 'data)', 'did', 'reveal', 'somatic', 'unbalanced', 'breakpoints', 'within', 'a', 'subset', 'of', 'tumors', 'epressing', 'chimeras,', 'suggesting', 'that', 'some', 'of', 'these', 'fusions', 'could', 'be', 'the', 'consequence', 'of', 'dna', 'rearrangements.', 'to', 'further', 'reveal', 'the', 'most', 'frequent', 'and', 'pathologically', 'relevant', 'fusions,', 'we', 'classified', 'the', '1,783', 'fusion', 'candidates', 'based', 'on', 'the', 'presence', 'of', 'recurrent', 'unbalanced', 'breakpoints', '(see', 'methods),', 'and', 'then', 'prioritized', 'these', 'candidates', 'based', 'on', 'their', 'frequency', 'of', 'detection', 'in', 'breast', 'tumors', 'and', 'by', 'consig', 'score', 'of', 'fusion', 'genes', '(fig.', '1b).', 'this', 'analysis', 'nominated', 'two', 'lead', 'candidates,', 'esr1-ccdc170', 'and', 'p2ry6-arhgef17,', 'among', 'which', 'esr1-ccdc170', 'is', 'most', 'frequently', 'associated', 'with', 'unbalanced', 'breakpoints', 'among', 'all', 'candidates', 'epressed', 'in', '>1%', 'of', 'breast', 'tumors', '(fig.', '1c).', 'net,', 'we', 'eamined', 'the', 'epression', 'of', 'both', 'candidates', 'in', 'a', 'panel', 'of', '30', 'breast', 'cancer', 'cell', 'lines', 'by', 'nanostring', 'analysis,', 'which', 'applies', 'nanoparticles', 'to', 'detect', 'the', 'abundance', 'of', 'target', 'transcripts', 'from', 'total', 'rna13.', 'this', 'assay', 'detected', 'high', 'levels', 'of', 'esr1-ccdc170', 'epression', 'in', 'some', 'but', 'not', 'all', 'of', 'these', 'cell', 'lines', '(fig.', '1e).', 'the', 'three', 'esr1-ccdc170-positive', 'cell', 'lines,', 'mcf7,', 'zr-75-1,', 'and', 'hcc1428,', 'are', 'all', 'er+', 'and', 'derived', 'from', 'metastatic', 'breast', 'tumors.', 'the', 'sizes', 'of', 'the', 'fusion', 'variants', 'detected', 'in', 'these', 'cell', 'lines', 'are', 'different,', 'suggesting', 'that', 'different', 'genomic', 'regions', 'are', 'involved', 'in', 'the', 'fusion', 'events', '(fig.', '1e', 'and', 'supplementary', 'fig.', '1a).', 'in', 'addition,', 'none', 'of', 'the', 'benign', 'breast', 'epithelial', 'cell', 'lines', 'or', 'pooled', 'normal', 'breast', 'tissues', 'harbors', 'the', 'esr1-ccdc170', 'fusion.', 'these', 'data', 'suggest', 'that', 'esr1-ccdc170', 'may', 'be', 'an', 'authentic', 'recurrent', 'gene', 'fusion.', 'p2ry6-arhgef17', 'was', 'epressed', 'at', 'a', 'modest', 'level', 'in', 'many', 'of', 'the', 'breast', 'cancer', 'cell', 'lines', 'analyzed', '(fig.', '1e', 'and', 'supplementary', 'fig.', '1b).', 'we', 'speculated', 'that', 'this', 'is', 'most', 'likely', 'a', 'tic', 'and', 'thus', 'did', 'not', 'study', 'it', 'further.', 'esr1-ccdc170', 'is', 'epressed', 'in', 'more', 'aggressive', 'er+', 'tumors', 'esr1', 'encodes', 'the', 'estrogen', 'receptor,', 'whereas', 'ccdc170', 'encodes', 'a', 'protein', 'with', 'unknown', 'function.', 'ccdc170', 'is', 'broadly', 'epressed', 'at', 'modest', 'levels', 'in', 'human', 'tissues,', 'with', 'the', 'fallopian', 'tube', 'to', 'be', 'the', 'highest', 'epressing', 'organ', '(supplementary', 'fig.', '2).', 'in', 'normal', 'breast', 'tissues,', 'ccdc170', 'is', 'epressed', 'at', 'a', 'moderate', 'level.', 'to', 'date', 'there', 'is', 'no', 'report', 'about', 'the', 'role', 'of', 'ccdc170', 'in', 'mammary', 'gland', 'biology.', 'the', 'observed', 'fusions', 'between', 'esr1', 'and', 'ccdc170', 'joins', 'the', '5′-untranslated', 'region', 'of', 'esr1', 'upstream', 'to', 'the', 'coding', 'region', 'of', 'ccdc170,', 'enabling', 'the', 'epression', 'of', 'truncated', 'ccdc170', 'under', 'the', 'promoter', 'of', 'the', 'esr1', 'gene.', 'to', 'more', 'accurately', 'capture', 'the', 'esr1-ccdc170', 'chimerical', 'reads', 'from', 'rnaseq', 'data,', 'we', 'reconstructed', 'all', 'possible', 'variant', 'sequences', 'by', 'randomly', 'combining', 'each', 'of', 'the', 'eons', 'of', 'esr1', 'with', 'that', 'of', 'ccdc170.', 'aligning', 'these', 'putative', 'sequences', 'with', 'the', 'rnaseq', 'data', 'for', '990', 'tumors', '(released', 'to', 'date', 'by', 'tcga)', 'revealed', '21', 'esr1-ccdc170', 'positive', 'breast', 'tumors', '(all', 'of', 'which', 'are', 'er+,', 'ecept', 'one', 'indeterminate', 'case).', 'about', '55%', 'of', 'these', 'positive', 'tumors', 'showed', 'copy', 'number', 'gains', 'between', 'the', 'esr1', 'and', 'ccdc170', 'loci', 'as', 'shown', 'in', 'fig.1c', '(also', 'see', 'supplementary', 'table', '1).', 'analysis', 'of', 'clinicopathological', 'data14', 'suggest', 'that', 'this', 'fusion', 'is', 'preferentially', 'present', 'in', 'the', 'luminal', 'b', 'rather', 'than', 'the', 'luminal', 'a', 'subtype', \"(fisher's\", 'eact', 'test,', 'p<0.01,', 'see', 'fig.', '1d).', 'in', 'contrast,', 'wild-type', '(wt)', 'ccdc170', 'is', 'broadly', 'epressed', 'in', 'er+', 'breast', 'tumors,', 'with', 'no', 'significant', 'difference', 'between', 'these', 'two', 'luminal', 'subtypes', '(supplementary', 'fig.', '3).', 'the', 'epression', 'of', 'wtccdc170', 'in', 'breast', 'cancer', 'cell', 'lines', 'is', 'almost', 'eclusive', 'to', 'er+', 'lines', '(supplementary', 'fig.', '1a).', 'this', 'is', 'consistent', 'with', 'the', 'previous', 'report', 'about', 'its', 'co-epression', 'with', 'er15.', 'we', 'then', 'tested', 'the', 'presence', 'of', 'esr1-ccdc170', 'in', '200', 'er+', 'breast', 'tumors', 'by', 'reverse', 'transcription', 'pcr', '(rt-pcr),', 'using', 'primers', 'from', 'eon', '2', 'of', 'esr1', 'and', 'eon', '10', 'of', 'ccdc170,', 'which', 'can', 'detect', 'most', 'fusion', 'variations.', 'among', 'these', 'tumors,', 'eight', 'showed', 'strong', 'epression', 'of', 'esr1-ccdc170', '(4%),', 'which', 'were', 'verified', 'by', 'capillary', 'sequencing', '(fig.', '2a', 'and', 'supplementary', 'table', '2).', 'in', 'contrast,', 'no', 'epression', 'of', 'these', 'fusion', 'variants', 'was', 'detected', 'in', 'the', 'available', 'paired', 'adjacent', 'normal', 'breast', 'tissues,', 'suggesting', 'that', 'the', 'fusion', 'between', 'esr1', 'and', 'ccdc170', 'is', 'highly', 'tumor-specific', '(fig.', '2b).', 'figure', '2', 'figure', '2', 'characterization', 'of', 'the', 'esr1-ccdc170', 'fusion', 'in', 'breast', 'cancer', 'cell', 'lines', 'and', 'tissues', 'to', 'eamine', 'the', 'association', 'of', 'esr1-ccdc170', 'with', 'the', 'luminal', 'b', 'subtype,', 'we', 'assayed', 'ki67', 'epression', 'by', 'immunohistochemistry', '(ihc)', 'in', 'the', 'er+', 'cases', 'assessed', 'by', 'rt-pcr', 'for', 'esr1-ccdc170.', 'ki67', 'is', 'a', 'proliferation', 'biomarker,', 'and', 'a', 'high', 'ki67', 'inde', 'has', 'been', 'used', 'in', 'the', 'clinic', 'to', 'classify', 'luminal', 'b', 'tumors', '(with', 'a', 'cutoff', 'of', '13∼15%', 'positivity)16-18.', 'among', 'the', '200', 'er+', 'cases,', '193', 'cases', 'had', 'evaluable', 'tissue', 'sections', 'for', 'ki67', 'ihc', 'analysis.', 'the', 'ihc', 'results', 'showed', 'that', 'esr1-ccdc170-positive', 'cases', 'have', 'significantly', 'higher', 'ki67', 'scores', 'than', 'negative', 'cases', '(fig.', '2c,', 'supplementary', 'fig.', '4).', 'using', '15%', 'positivity', 'as', 'cutoff,', '80', 'tumors', 'have', 'high', 'ki67', 'inde,', 'among', 'which', '6', 'cases', 'are', 'fusion-positive', '(7.5%);', 'among', 'the', '113', 'ki67-low', 'tumors,', 'only', 'one', 'tumor', 'is', 'fusion-positive', '(0.9%).', \"fisher's\", 'eact', 'test', 'suggests', 'a', 'significant', 'enrichment', 'of', 'fusion-positive', 'cases', 'in', 'ki67', 'high', 'tumors', '(p=0.02).', 'this', 'data', 'support', 'the', 'association', 'of', 'esr1-ccdc170', 'with', 'the', 'more', 'aggressive', 'luminal', 'b', 'subtype.', 'esr1-ccdc170', 'genomic', 'rearrangements', 'and', 'protein', 'products', 'esr1', 'and', 'ccdc170', 'are', 'located', '69', 'kb', 'apart', 'on', 'chromosome', '6', 'with', 'ccdc170', 'positioned', '5′', 'of', 'esr1.', 'this', 'placement', 'prevents', 'strong', 'cis-splicing', 'events', 'that', 'frequently', 'happen', 'between', 'neighboring', 'genes', 'placed', 'in', 'forward', 'order.', 'to', 'further', 'verify', 'the', 'genomic', 'origin', 'of', 'esr1-ccdc170', 'in', 'the', 'cell', 'lines', 'and', 'tumors', 'showing', 'strong', 'epression', 'of', 'the', 'chimeras,', 'we', 'carried', 'out', 'genomic', 'pcr', 'using', 'tiling', 'primers', 'designed', 'for', 'the', 'specific', 'esr1', 'or', 'ccdc170', 'intron', 'regions', 'suspected', 'to', 'harbor', 'the', 'rearrangement', 'based', 'on', 'the', 'fusion', 'variant', 'in', 'each', 'inde', 'case', 'revealed', 'by', 'rt-pcr', '(supplementary', 'table', '3),', 'and', 'the', 'amplified', 'products', 'were', 'further', 'analyzed', 'by', 'capillary', 'sequencing.', 'using', 'this', 'approach,', 'the', 'genomic', 'fusion', 'points', 'in', 'all', '3', 'fusion-positive', 'cell', 'lines', 'and', '5', 'out', 'of', '8', 'strong', 'fusion-positive', 'tumors', 'have', 'been', 'successfully', 'identified', '(fig.', '2d).', 'the', 'sequencing', 'results', 'revealed', 'distinct', 'genomic', 'fusion', 'points', 'in', 'different', 'cell', 'lines', 'and', 'tumors.', 'the', 'mcf7', 'cells', 'showed', 'a', 'duplication', 'of', 'the', 'fusion', 'junction,', 'whereas', 'the', 'remaining', 'cases', 'showed', '1-10', 'base-pair', 'homology', 'between', 'the', 'esr1', 'and', 'ccdc170', 'sequences', 'at', 'the', 'rearrangement', 'junctions', '(supplementary', 'fig.', '5).', 'we', 'then', 'eamined', 'the', 'structure', 'of', 'the', 'four', 'major', 'fusion', 'variants', '(e2-e6,', 'e2-e7,', 'e2-e8,', 'and', 'e2-e10)', 'detected', 'in', 'both', 'breast', 'cancer', 'cell', 'lines', 'and', 'tumors,', 'in', 'which', 'eon', '2', 'of', 'esr1', 'is', 'fused', 'to', 'eon', '6,', '7,', '8,', 'or', '10', 'of', 'ccdc170.', 'the', 'common', 'theme', 'of', 'these', 'fusion', 'variants', 'appears', 'to', 'create', 'different-sized', 'n-terminally', 'truncated', 'ccdc170', 'proteins', '(δccdc170),', 'while', 'esr1', 'does', 'not', 'contribute', 'to', 'any', 'of', 'the', 'fusion', 'amino', 'acid', 'sequence', '(fig.', '3a).', 'to', 'identify', 'the', 'protein', 'products', 'of', 'the', 'four', 'major', 'fusion', 'variants,', 'we', 'ectopically', 'epressed', 'the', 'putative', 'open-reading', 'frames', '(orfs)', 'of', 'these', 'variants', 'in', 'mcf10a', 'human', 'breast', 'epithelial', 'cells', '(supplementary', 'fig.', '6a).', 'western', 'blot', 'analysis', 'using', 'a', 'commercial', 'polyclonal', 'antibody', 'against', 'the', 'c-terminus', 'of', 'ccdc170', 'detected', 'the', 'predicted', '41kda', '(e2-e6),', '39kda', '(e2-e7),', '30kda', '(e2-e8),', 'or', '14kda', '(e2-e10)', 'δccdc170', 'bands', 'specific', 'to', 'the', 'transduced', 'mcf10a', 'cells', '(fig.', '3b).', 'in', 'addition,', 'we', 'epressed', 'the', 'e2-e7', 'and', 'e2-e10', 'orfs', 'in', 'the', 'fusion-negative', 't47d', 'breast', 'cancer', 'cells', '(er+),', 'and', 'detected', 'proteins', 'of', 'the', 'same', 'sizes.', 'net,', 'we', 'performed', 'western', 'blot', 'analysis', 'to', 'detect', 'the', 'endogenously', 'epressed', 'δccdc170', 'proteins', 'in', 'the', 'esr1-ccdc170-positive', 'cell', 'lines.', 'we', 'were', 'able', 'to', 'readily', 'detect', 'the', '14kda', 'e2-e10', 'protein', 'epressed', 'by', 'the', 'hcc1428', 'cells,', 'the', 'identity', 'of', 'which', 'has', 'been', 'verified', 'by', 'specific', 'knockdown', 'of', 'the', 'e2-e10', 'fusion', 'using', 'an', 'sirna', 'against', 'this', 'fusion', 'junction.', 'we', 'were', 'unable', 'to', 'conclusively', 'detect', 'the', 'endogenous', 'proteins', 'epressed', 'by', 'the', 'zr-75-1', 'or', 'mcf7', 'cell', 'lines', 'presumably', 'due', 'to', 'the', 'presence', 'of', 'cross-reactive', 'proteins', 'or', 'low', 'epression', 'levels', 'respectively', '(supplementary', 'fig.', '7).', 'figure', '3', 'figure', '3', 'characterization', 'of', 'esr1-ccdc170', 'protein', 'products', 'and', 'their', 'transforming', 'activity', 'in', 'mcf10a', 'breast', 'epithelial', 'cells', 'esr1-ccdc170', 'endows', 'more', 'aggressive', 'phenotypes', 'net,', 'we', 'sought', 'to', 'eamine', 'the', 'oncogenic', 'potential', 'of', 'the', 'δccdc170', 'proteins', 'generated', 'by', 'the', 'four', 'esr1-ccdc170', 'fusion', 'variants', 'in', 'the', 'mcf10a', 'breast', 'epithelial', 'cells.', 'impressively,', 'ectopically', 'epressing', 'the', 'orf', 'of', 'each', 'of', 'these', 'fusion', 'variants', 'dramatically', 'increased', 'the', 'migration', 'and', 'invasion', 'capabilities', 'as', 'shown', 'by', 'the', 'boyden', 'chamber', 'assay', '(fig.', '3', 'c-d).', 'in', 'addition,', 'the', 'e2-e7', 'and', 'e2-e10', 'variants', 'also', 'induced', 'a', 'moderate', 'but', 'significant', 'increase', 'in', 'cell', 'proliferation', 'and', 'colony', 'forming', 'ability,', 'as', 'measured', 'by', 'mtt', 'assay', '(supplementary', 'fig.', '6b)', 'and', 'clonogenic', 'assay', '(fig.', '3e)', 'respectively.', 'soft', 'agar', 'colony', 'formation', 'assays', 'did', 'not', 'show', 'an', 'increase', 'in', 'anchorage-independent', 'growth', 'of', 'the', 'engineered', 'mcf10a', 'cells,', 'whereas', '3d', 'culture', 'of', 'these', 'cells', 'in', 'matrigel', 'revealed', 'impaired', 'acini', 'morphogenesis', '(supplementary', 'fig.', '6c).', 'cell', 'cycle', 'analysis', 'revealed', 'an', 'increase', 'in', 's-g2/m', 'phase', 'cells,', 'and', 'a', 'decrease', 'in', 'g0/g1', 'phase', 'cells', 'in', 'all', 'models', '(fig.', '3f).', 'as', 'mcf10a', 'cells', 'do', 'not', 'epress', 'wtccdc170', '(see', 'supplementary', 'fig.', '1a),', 'the', 'observed', 'changes', 'are', 'likely', 'to', 'be', 'independent', 'of', 'wtccdc170.', 'to', 'investigate', 'the', 'role', 'of', 'esr1-ccdc170', 'in', 'er+', 'breast', 'cancer', 'cells,', 'we', 'eamined', 'the', 'phenotypic', 'changes', 'of', 't47d', 'breast', 'cancer', 'cells', 'ectopically', 'epressing', 'the', 'e2-e7', 'or', 'e2-e10', 'fusions', 'or', 'the', 'wtccdc170', '(as', 'a', 'control).', 't47d', 'is', 'a', 'luminal', 'breast', 'cancer', 'cell', 'line', 'that', 'is', 'highly', 'dependent', 'on', 'estrogen19.', 'our', 'data', 'show', 'that', 'while', 'both', 'e2-e7', 'and', 'e2-e10', 'fusions', 'significantly', 'increased', 'cell', 'motility,', 'anchorage-independent', 'growth,', 'and', 'colony', 'forming', 'ability', 'of', 't47d', 'cells,', 'the', 'wtccdc170', 'did', 'not', '(fig.', '4', 'a-c).', 'further,', 'both', 'the', 'e2-e7', 'and', 'e2-e10', 'variants', 'rendered', 'the', 't47d', 'cells', 'less', 'sensitive', 'to', 'estrogen', 'deprivation', 'and', '4-hydroytamoifen', 'treatment', '(4-oht,', 'the', 'active', 'metabolite', 'of', 'tamoifen', 'used', 'in', 'vitro)', '(fig.', '4', 'd-e).', 'of', 'note,', 't47d', 'cells', 'typically', 'do', 'not', 'proliferate', 'when', 'deprived', 'of', 'estrogen,', 'whereas', 'δccdc170', 'transduced', 't47d', 'cells', 'continue', 'to', 'grow', 'in', 'the', 'absence', 'of', 'estrogen', 'and', 'irrespective', 'of', 'tamoifen', 'treatment', '(fig.', '4d).', 'moreover,', 'δccdc170', 'enhanced', 'the', 'er', 'transcriptional', 'activity', 'in', 'the', 'presence', 'of', 'estrogen', 'but', 'not', 'with', 'endocrine', 'therapy', '(supplementary', 'fig.', '8a),', 'suggesting', 'that', 'the', 'fusion-mediated', 'endocrine-sensitivity', 'changes', 'are', 'unlikely', 'due', 'to', 'the', 'restoration', 'of', 'er', 'activity.', 'to', 'further', 'eamine', 'the', 'oncogenic', 'potential', 'of', 'δccdc170', 'in', 'the', 'in', 'vivo', 'contet,', 'we', 'transplanted', 'the', 't47d', 'cells', 'epressing', 'the', 'δccdc170', 'variants', 'or', 'vector', 'control', 'into', 'female', 'athymic', 'nude', 'mice', 'implanted', 'with', 'estradiol', '(e2)', 'pellets.', 'impressively,', 'in', 'contrast', 'to', 'the', 'slow', 'growth', 'kinetics', 'of', 'the', 'tumor', 'in', 'the', 'vector', 'control', 'group,', 'a', 'profound', 'increase', 'in', 'tumor', 'growth', 'was', 'observed', 'in', 'the', 'transduced', 'enograft', 'models', 'epressing', 'e2-e7', 'or', 'e2-e10', 'orfs', '(fig.', '4f', 'and', 'supplementary', 'fig.', '8b).', 'in', 'addition,', 'immunostaining', 'of', 'tumor', 'tissue', 'arrays', 'revealed', 'that', 't47d', 'enograft', 'tumors', 'overepressing', 'δccdc170', 'variants', 'have', 'a', 'ki67', 'inde', 'significantly', 'greater', 'than', 'that', 'of', 'control', 't47d', 'tumors', '(fig.', '4g).', 'figure', '4', 'figure', '4', 'esr1-ccdc170', 'endows', 'more', 'aggressive', 'phenotypes', 'in', 't47d', 'er+', 'breast', 'cancer', 'cells', 'to', 'further', 'investigate', 'the', 'function', 'of', 'endogenous', 'esr1-ccdc170,', 'we', 'eamined', 'the', 'consequence', 'of', 'specific', 'knockdown', 'of', 'this', 'fusion', 'in', 'hcc1428', 'cells', 'harboring', 'the', 'e2-e10', 'variant.', 'this', 'cell', 'line', 'was', 'chosen', 'for', 'the', 'knockdown', 'model', 'as', 'the', 'e2-e10', 'variant', 'is', 'amenable', 'to', 'the', 'design', 'of', 'fusion-specific', 'sirna', 'and', 'is', 'the', 'only', 'variant', 'epressed', 'by', 'this', 'cell', 'line.', 'in', 'addition,', 'the', 'protein', 'product', 'of', 'this', 'variant', 'is', 'readily', 'detectable', 'by', 'the', 'available', 'antibody,', 'which', 'can', 'be', 'used', 'to', 'eamine', 'the', 'knockdown', 'efficiency.', 'as', 'shown', 'in', 'fig.', '3b', 'and', 'supplementary', 'fig.', '9,', 'this', 'sirna', 'effectively', 'and', 'specifically', 'knocks', 'down', 'the', 'e2-e10', 'fusion', 'variant.', 'mtt', 'and', 'boyden', 'chamber', 'assays', 'revealed', 'that', 'repression', 'of', 'the', 'e2-e10', 'fusion', 'by', 'sirna', 'in', 'hcc1428', 'cells', 'potently', 'inhibited', 'their', 'growth', 'and', 'diminished', 'their', 'migration', 'toward', 'the', 'fibroblast', 'attractant,', 'while', 'no', 'significant', 'effect', 'was', 'observed', 'in', 'the', 'fusion-negative', 'mda-mb-415', 'cells', '(fig.', '5', 'a-b).', 'to', 'further', 'eclude', 'the', 'sirna', 'off-target', 'effects', 'in', 'hcc1428', 'cells,', 'we', 'performed', 'rescue', 'eperiments', 'by', 'ectopically', 'epressing', 'the', 'e2-e10', 'fusion', 'variant', 'in', 'this', 'line.', 'forced', 'epression', 'of', 'e2-e10', 'variant', 'rescued', 'the', 'knockdown', 'effect', 'of', 'e2-e10', 'sirna', 'on', 'proliferation', 'of', 'hcc1428', 'cells', '(supplementary', 'fig.', '10).', 'this', 'result', 'further', 'corroborated', 'the', 'role', 'of', 'the', 'endogenous', 'e2-e10', 'fusion', 'epressed', 'in', 'hcc1428', 'cells.', 'figure', '5', 'figure', '5', 'evaluating', 'the', 'function', 'of', 'the', 'endogenous', 'esr1-ccdc170', 'fusion', 'in', 'hcc1428', 'breast', 'cancer', 'cells', 'by', 'genetic', 'inhibition', 'esr1-ccdc170', 'engages', 'gab1', 'signalosome', 'to', 'investigate', 'the', 'key', 'oncogenic', 'pathways', 'that', 'characterize', 'the', 'esr1-ccdc170', 'positive', 'tumors,', 'we', 'performed', 'gene', 'set', 'enrichment', 'analyses', '(gsea)', 'using', 'the', 'matched', 'agilent', 'gene', 'profiling', 'data', 'from', 'tcga', 'to', 'select', 'differentially', 'epressed', 'genes', 'between', 'fusion-positive', 'and', 'negative', 'tumors.', 'among', 'the', 'top', 'upregulated', 'pathways', 'in', 'esr1-ccdc170-positive', 'tumors,', 'the', 'signaling', 'gene', 'sets', 'along', 'the', 'c-met/gab1/pi3k-akt', 'ais', 'appear', 'to', 'be', 'most', 'relevant', 'to', 'the', 'observed', 'phenotypes', '(supplementary', 'fig.', '11a).', 'of', 'particular', 'interest', 'is', 'the', 'upregulation', 'of', 'the', 'gab1', 'signalosome', '(fig.', '6a).', 'gab1', 'is', 'a', 'key', 'docking', 'protein', 'that', 'enhances', 'the', 'downstream', 'signaling', 'of', 'c-met', 'and', 'many', 'other', 'receptor', 'tyrosine', 'kinases20,', '21,', 'and', 'is', 'also', 'a', 'key', 'scaffold', 'protein', 'involved', 'in', 'the', 'formation', 'of', 'invadopodia22.', 'further', 'analysis', 'revealed', 'significant', 'upregulation', 'of', 'gab1', 'but', 'not', 'c-met', 'in', 'the', 'fusion-positive', 'breast', 'tumors', '(supplementary', 'fig.', '11b).', 'interestingly,', 'when', 'δccdc170', 'variants', 'were', 'overepressed', 'in', 'mcf10a', 'or', 't47d', 'cells,', 'gab1', 'was', 'also', 'upregulated;', 'conversely,', 'repression', 'of', 'δccdc170', 'reduced', 'gab1', 'protein', 'level', 'in', 'hcc1428', 'cells', '(fig.', '6b).', 'in', 'contrast,', 'c-met', 'protein', 'levels', 'were', 'not', 'increased', 'in', 'the', 'mcf10a', 'and', 't47d', 'cells', 'epressing', 'δccdc170,', 'and', 'were', 'not', 'affected', 'by', 'e2-e10', 'knockdown', 'in', 'hcc1428', 'cells.', 'figure', '6', 'figure', '6', 'esr1-ccdc170', 'may', 'engage', 'gab1', 'to', 'enhance', 'cell', 'motility', 'and', 'augment', 'growth', 'factor', 'signaling', 'net,', 'we', 'performed', 'western', 'blot', 'analysis', 'to', 'eamine', 'the', 'impact', 'of', 'δccdc170', 'epression', 'on', 'gab1', 'downstream', 'signaling', 'molecules', '(supplementary', 'fig.', '11c).', 'this', 'revealed', 'the', 'positive', 'correlation', 'of', 'phospho', 'akt,', 'erk,', 'and', 'p38', 'with', 'δccdc170', 'epression,', 'the', 'etent', 'of', 'which', 'varies', 'between', 'different', 'models', '(fig.', '6b).', 'to', 'test', 'if', 'δccdc170', 'epression', 'can', 'result', 'in', 'hyperactive', 'growth', 'factor', 'signaling', 'irrespective', 'of', 'endocrine', 'condition,', 'the', 't47d', 'cell', 'models', 'were', 'deprived', 'of', 'estrogen', 'for', '48h', 'and', 'serum-starved', 'for', '24h,', 'and', 'then', 'treated', 'with', 'vehicle,', 'e2,', 'or', 'tamoifen.', 'interestingly,', 'sustained', 'phosphorylation', 'of', 'akt', 'and', 'erk', 'was', 'observed', 'in', 'the', 't47d', 'cells', 'epressing', 'δccdc170', 'even', 'after', 'withdrawal', 'of', 'estrogen', 'and', 'serum,', 'and', 'this', 'effect', 'was', 'not', 'significantly', 'altered', 'by', 'the', 'administration', 'of', 'estrogen', 'or', 'tamoifen', '(fig.', '6c).', 'this', 'suggests', 'that', 'the', 'hyperactive', 'growth', 'factor', 'signaling', 'observed', 'with', 'δccdc170', 'epression', 'may', 'not', 'be', 'attributed', 'to', 'the', 'estrogen-regulated', 'non-genomic', 'er', 'activity', 'known', 'to', 'modulate', 'growth', 'factor', 'signaling23.', 'further,', 'increased', 'phosphorylation', 'of', 'the', 'serine', '167', 'residue', 'on', 'erα', 'was', 'observed', 'with', 'δccdc170', 'epression.', 'this', 'site', 'has', 'been', 'reported', 'to', 'be', 'phosphorylated', 'by', 'both', 'akt', 'and', 'erk,', 'enhancing', 'erα', 'transcriptional', 'activity24.', 'gab1', 'silencing', 'using', 'a', 'documented', 'sirna25', 'counteracted', 'the', 'enhanced', 'akt', 'and', 'erk', 'signaling', 'driven', 'by', 'δccdc170', '(fig.', '6d,', 'supplementary', 'fig.', '11d),', 'suggesting', 'that', 'esr1-ccdc170', 'may', 'act', 'through', 'gab1', 'to', 'augment', 'growth', 'factor', 'signaling.', 'of', 'note,', 'gab1', 'repression', 'cannot', 'diminish', 'akt', 'activation', 'in', 'the', 'presence', 'of', 'tamoifen,', 'suggesting', 'that', 'tamoifen', 'may', 'bypass', 'gab1', 'and', 'engage', 'some', 'other', 'mechanism', 'to', 'activate', 'akt,', 'possibly', 'through', 'tamoifen-activated', 'non-genomic', 'er', 'activity26.', 'further,', 'gab1', 'knockdown', 'also', 'diminished', 'the', 'fusion-driven', 'cell', 'motility', 'in', 'both', 'mcf10a', 'and', 't47d', 'cells,', 'supporting', 'the', 'importance', 'of', 'gab1', 'signaling', 'in', 'the', 'fusion-driven', 'invasive', 'program', '(fig.', '6', 'e-f).', 'go', 'to:', 'discussion', 'the', 'genetic', 'makeup', 'and', 'underlying', 'biology', 'contributing', 'to', 'the', 'highly', 'proliferative', 'and', 'aggressive', 'phenotype', 'of', 'the', 'luminal', 'b', 'breast', 'tumors', 'is', 'not', 'well', 'understood.', 'in', 'this', 'study,', 'we', 'have', 'identified', 'a', 'recurrent', 'genomic', 'rearrangement', 'event', 'between', 'the', 'esr1', 'and', 'ccdc170', 'loci,', 'and', 'provided', 'strong', 'molecular', 'and', 'functional', 'evidence', 'that', 'this', 'fusion', 'is', 'enriched', 'in', 'luminal', 'b', 'tumors', 'and', 'promotes', 'more', 'aggressive', 'oncogenic', 'phenotypes.', 'our', 'finding', 'of', 'esr1-ccdc170', 'is', 'an', 'eample', 'of', 'gain-of-function', 'mutation,', 'wherein', 'ccdc170', 'is', 'fused', 'to', 'esr1', 'and', 'utilizes', 'the', 'constitutively', 'active', 'promoter', 'of', 'er', 'to', 'drive', 'the', 'epression', 'of', 'a', 'truncated', 'form', 'of', 'ccdc170', 'gene.', 'the', 'truncation', 'of', 'the', 'ccdc170', 'protein', 'resulting', 'from', 'this', 'fusion', 'may', 'twist', 'the', 'biology', 'of', 'this', 'protein', 'and', 'generate', 'a', 'phenotype', 'distinct', 'from', 'the', 'wild-type', 'protein.', 'of', 'note,', 'esr1-ccdc170', 'is', 'also', 'detected', 'by', 'two', 'previous', 'studies', 'interrogating', 'different', 'rnaseq', 'datasets', 'as', 'a', 'candidate', 'fusion', 'in', 'breast', 'cancer', 'which', 'further', 'support', 'its', 'recurrence7,', '27.', 'however,', 'these', 'studies', 'did', 'not', 'provide', 'any', 'data', 'on', 'the', 'genomic', 'event', 'underlying', 'this', 'fusion,', 'or', 'its', 'pathobiology', 'and', 'clinical', 'relevance', 'in', 'breast', 'cancer.', 'our', 'integrative', 'bioinformatics', 'analysis', 'provided', 'multiple', 'clues', 'to', 'lock', 'in', 'on', 'this', 'fusion', 'as', 'a', 'recurrent,', 'pathological,', 'genomic', 'fusion', 'event', 'from', 'the', 'large', 'number', 'of', 'putative', 'fusions', 'detected', 'by', 'rnaseq.', 'we', 'then', 'validated', 'the', 'genomic', 'rearrangements', 'generating', 'this', 'fusion', 'by', 'genomic', 'pcr,', 'characterized', 'its', 'protein', 'products,', 'elucidated', 'its', 'pathological', 'role', 'and', 'engaged', 'mechanism,', 'and', 'verified', 'its', 'enrichment', 'in', 'the', 'more', 'aggressive', 'luminal', 'b', 'subtype.', 'while', 'it', 'remains', 'to', 'be', 'answered', 'whether', 'such', 'enrichment', 'could', 'be', 'attributable', 'to', 'the', 'increased', 'genomic', 'instability', 'characteristic', 'of', 'luminal', 'b', 'tumors', 'that', 'may', 'promote', 'the', 'formation', 'of', 'this', 'fusion,', 'our', 'biological', 'data', 'show', 'that', 'esr1-ccdc170', 'endows', 'er+', 'breast', 'cancer', 'cells', 'with', 'more', 'aggressive', 'phenotypes,', 'such', 'as', 'enhanced', 'cell', 'migration,', 'invasion,', 'anchorage-independent', 'growth,', 'and', 'reduced', 'endocrine', 'sensitivity.', 'these', 'properties', 'are', 'consistent', 'with', 'the', 'behavior', 'of', 'luminal', 'b', 'tumors.', 'in', 'addition,', 'we', 'also', 'observed', 'markedly', 'increased', 'ki67,', 'the', 'luminal', 'b', 'marker,', 'in', 'the', 't47d', 'enograft', 'tumors', 'overepressing', 'δccdc170', 'variants.', 'moreover,', 'our', '“knockdown/rescue”', 'studies', 'of', 'the', 'e2-e10', 'fusion', 'epressed', 'in', 'the', 'hcc1428', 'cell', 'line,', 'which', 'encodes', 'the', 'smallest', 'truncated', 'version', 'of', 'ccdc170', 'that', 'are', 'retained', 'in', 'all', 'fusion', 'variants,', 'provided', 'a', 'proof', 'of', 'concept', 'for', 'the', 'function', 'of', 'the', 'endogenous', 'esr1-ccdc170', 'fusions', 'epressed', 'in', 'breast', 'cancers.', 'further', 'mechanistic', 'studies', 'suggest', 'that', 'this', 'fusion', 'may', 'engage', 'gab1', 'signaling', 'to', 'enhance', 'cell', 'motility', 'and', 'augment', 'the', 'downstream', 'signaling', 'of', 'growth', 'factor', 'receptors28.', 'more', 'important,', 'the', 'enhancement', 'of', 'growth', 'factor', 'signaling', 'driven', 'by', 'this', 'fusion', 'appears', 'to', 'be', 'sustained', 'even', 'after', 'withdrawal', 'of', 'serum,', 'and', 'is', 'not', 'affected', 'by', 'endocrine', 'treatment.', 'together,', 'these', 'findings', 'may', 'shed', 'light', 'on', 'the', 'genetic', 'aberrations', 'underlying', 'the', 'more', 'aggressive', 'and', 'fatal', 'er+', 'breast', 'tumors.', 'our', 'rt-pcr', 'analysis', 'of', 'er+', 'breast', 'tumor', 'tissues', 'revealed', '8', 'out', 'of', '200', 'tumors', 'as', 'esr1-ccdc170-positive', 'cases', 'with', 'strong', 'epression', 'of', 'this', 'fusion', '(4%).', 'of', 'note,', 'besides', 'these', 'cases,', 'we', 'also', 'observed', 'weak', 'epression', 'of', 'esr1-ccdc170', 'in', 'an', 'additional', '10%', 'of', 'er+', 'breast', 'tumors,', 'which', 'are', 'distinguishable', 'from', 'the', 'strong', 'positives', '(see', 'methods).', 'these', 'weak', 'cases', 'show', 'a', 'slightly', 'increased', 'ki67', 'inde', 'comparing', 'to', 'fusion-negative', 'breast', 'tumors', 'but', 'this', 'difference', 'is', 'not', 'statistically', 'significant', '(fig.', '2c).', 'we', 'speculate', 'that', 'these', 'may', 'be', 'the', 'result', 'of', 'random', 'weak', 'trans-splicing', 'events', 'between', 'esr1', 'and', 'ccdc170,', 'considering', 'the', 'vicinity', 'of', 'the', 'two', 'genes.', 'in', 'fact,', 'such', 'trans-splicing', 'events', 'are', 'not', 'unique', 'to', 'this', 'fusion29.', 'oncogenic', 'gene', 'fusions', 'resulting', 'from', 'distant', 'translocations', 'are', 'often', 'found', 'to', 'be', 'epressed', 'at', 'a', 'low', 'level', 'in', 'normal', 'tissues,', 'such', 'as', 'the', 'eml4-alk30,', 'npm-alk31,', 'jazf1-jjaz132,', 'and', 'bcr-abl1', 'fusions33.', 'it', 'is', 'thought', 'that', 'high-level', 'epressions', 'coincide', 'with', 'gene', 'rearrangements,', 'whereas', 'low-level', 'epressions', 'are', 'likely', 'to', 'be', 'trans-splicing', 'events32.', 'nevertheless,', 'we', 'cannot', 'eclude', 'the', 'possibility', 'of', 'esr1-ccdc170', 'rearrangements', 'in', 'a', 'small', 'subset', 'of', 'cancer', 'cells', 'in', 'rare', 'cases.', 'thus', 'further', 'investigation', 'is', 'needed', 'to', 'elucidate', 'their', 'clinical', 'significance.', 'another', 'interesting', 'question', 'about', 'this', 'fusion', 'is', 'how', 'such', 'cryptic', 'rearrangements', 'could', 'be', 'generated.', 'as', 'ccdc170', 'is', 'located', 'to', 'the', '5′', 'of', 'esr1', 'on', 'the', 'same', 'dna', 'strand,', 'it', 'is', 'unlikely', 'that', 'such', 'rearrangements', 'are', 'generated', 'by', 'deletions', 'or', 'inversions,', 'which', 'would', 'require', 'ccdc170', 'to', 'be', 'at', 'the', '3′', 'of', 'esr1,', 'or', 'on', 'the', 'opposite', 'strand,', 'respectively.', 'considering', 'the', 'frequent', 'duplications', 'between', 'the', 'two', 'genes', 'in', 'fusion-positive', 'tumors,', 'one', 'possible', 'mechanism', 'of', 'these', 'cryptic', 'rearrangements', 'could', 'be', 'tandem', 'duplication,', 'which', 'is', 'defined', 'as', 'the', 'occurrence', 'of', 'two', 'identical', 'sequences,', 'one', 'following', 'the', 'other,', 'in', 'a', 'chromosome', 'segment.', 'tandem', 'duplication', 'has', 'been', 'found', 'to', 'cause', 'other', 'gene', 'fusions', 'in', 'cancer34-36.', 'if', 'this', 'mechanism', 'is', 'responsible', 'for', 'esr1-ccdc170', 'fusions,', 'esr1', 'epression', 'would', 'not', 'be', 'disrupted', 'as', 'such', 'rearrangements', 'are', 'likely', 'to', 'retain', 'a', 'copy', 'of', 'the', 'wild-type', 'esr1', 'while', 'forming', 'the', 'fusion', 'gene', '(supplementary', 'fig.', '12a),', 'as', 'reported', 'for', 'other', 'gene', 'fusions', 'generated', 'by', 'tandem', 'duplication37.', 'indeed,', 'the', 'epression', 'of', 'esr1', 'in', 'esr1-ccdc170-positive', 'tumors', 'is', 'similar', 'to', 'that', 'of', 'fusion-negative', 'er+', 'breast', 'tumors', '(supplementary', 'fig.', '12b).', 'in', 'addition', 'to', 'tandem', 'duplication,', 'more', 'comple', 'mechanisms', 'such', 'as', 'insertions', 'may', 'be', 'responsible', 'in', 'the', 'positive', 'cases', 'that', 'do', 'not', 'ehibit', 'duplications', 'between', 'the', 'esr1', 'and', 'ccdc170', 'loci', '(fig.', '1c).', 'chimeras', 'from', 'adjacent', 'genes', 'account', 'for', 'a', 'vast', 'majority', 'of', 'chimera', 'sequences', 'in', 'cancer', 'transcriptome38,', '39.', 'our', 'finding', 'of', 'the', 'esr1-ccdc170', 'gene', 'fusions', 'supports', 'the', 'possibility', 'of', 'chromosomal', 'rearrangements', 'between', 'adjacent', 'genes', 'generating', 'recurrent', 'gene', 'fusions.', 'such', 'cryptic', 'genetic', 'changes', 'are', 'not', 'generally', 'detectable', 'by', 'conventional', 'cytogenetic', 'approaches,', 'and', 'the', 'resulting', 'chimeras', 'are', 'usually', 'submerged', 'in', 'the', 'overwhelming', 'number', 'of', 'tics38,', '39.', 'this', 'finding', 'suggests', 'that', 'special', 'attention', 'should', 'be', 'paid', 'to', 'the', 'possible', 'genomic', 'origin', 'of', 'adjacent', 'chimeras', 'in', 'the', 'discovery', 'of', 'gene', 'fusions', 'from', 'rna', 'sequencing', 'data.', 'to', 'our', 'knowledge,', 'esr1-ccdc170', 'could', 'be', 'the', 'most', 'important', 'recurrent', 'gene', 'fusion', 'yet', 'reported', 'in', 'er+', 'breast', 'cancers.', 'this', 'discovery', 'may', 'shed', 'new', 'light', 'on', 'the', 'special', 'genetic', 'aberrations', 'underlying', 'a', 'subset', 'of', 'more', 'aggressive', 'er+', 'breast', 'cancers,', 'and', 'offers', 'a', 'new', 'diagnostic', 'strategy', 'to', 'identify', 'this', 'group', 'of', 'patients', 'for', 'more', 'appropriate', 'treatments.', 'further', 'studies', 'are', 'needed', 'to', 'comprehensively', 'investigate', 'the', 'oncogenic', 'process', 'initiated', 'by', 'the', 'δccdc170', 'proteins', 'resulting', 'from', 'this', 'fusion', 'and', 'elucidate', 'their', 'role', 'in', 'breast', 'cancer', 'endocrine', 'resistance.', 'go', 'to:', 'methods', 'analyses', 'of', 'rnaseq', 'and', 'copy', 'number', 'data', 'the', 'copy', 'number', 'and', 'rnaseq', '(illumina', 'hiseq,', 'paired-end)', 'data', 'for', 'breast', 'tumors', 'used', 'in', 'this', 'study', 'were', 'from', 'tcga', '(', 'and', 'paired-end', 'rna', 'sequences', 'for', '795', 'breast', 'tumors', 'and', '107', 'paired', 'normal', 'breast', 'tumors', 'were', 'aligned', 'to', 'human', 'genome', 'build', '19', 'using', 'the', 'tophat', '2.0', 'fusion', 'junction', 'mapper40.', 'using', 'our', 'perl', 'script', 'pipeline', 'called', '“fusion', 'zoom”,', 'the', 'putative', 'fusion', 'junctions', 'were', 'mapped', 'to', 'human', 'eons', '(derived', 'from', 'ucsc', 'gene', 'and', 'ensemble', 'gene)', 'to', 'identify', 'chimerical', 'sequences.', 'the', 'putative', 'gene', 'fusions', 'are', 'required', 'to', 'be', 'supported', 'by', 'a', 'minimum', 'of', 'one', 'read', 'that', 'maps', 'to', 'the', 'eon', 'junctions', 'of', 'the', 'two', 'fusion', 'genes.', 'this', 'criterion', 'was', 'epected', 'to', 'filter', 'out', 'most', 'artifactual', 'gene', 'fusions', 'randomly', 'ligated', 'during', 'the', 'sequencing', 'procedure.', 'this', 'is', 'based', 'on', 'the', 'fact', 'that', 'authentic', 'gene', 'fusion', 'junctions', 'are', 'usually', 'formed', 'by', 'eon', 'boundaries', 'of', 'partnering', 'genes,', 'whereas', 'the', 'fusion', 'junctions', 'of', 'these', 'artifactual', 'fusions', 'are', 'unlikely', 'to', 'coincide', 'with', 'eon', 'boundaries41.', 'putative', 'fusion', 'sequences', 'were', 'then', 'constructed', 'and', 'aligned', 'against', 'human', 'genome', 'and', 'transcriptome', 'using', 'the', 'accurate', 'aligner', 'blast.', 'the', 'chimeric', 'sequences', 'that', 'can', 'mostly', 'align', 'to', 'a', 'wild-type', 'genomic', 'or', 'transcript', 'sequence', 'were', 'disregarded.', 'after', 'such', 'filtering,', 'a', 'total', 'of', '68,611', 'chimeras', 'with', '>2', 'median', 'number', 'of', 'reads', 'across', 'all', 'tumors', 'were', 'identified.', 'a', 'total', 'of', '2790', 'putative', 'fusions', 'were', 'identified', 'as', 'somatic', 'and', 'recurrent', '(present', 'in', 'more', 'than', 'one', 'breast', 'tumors).', 'among', 'these,', '1783', 'putative', 'fusions', 'were', 'found', 'to', 'have', 'the', 'potential', 'to', 'encode', 'in-frame', 'protein', 'products.', 'here', 'the', 'in-frame', 'analysis', 'detects', 'a', 'fusion', 'that', 'either', 'results', 'in', 'an', 'in-frame', 'chimerical', 'protein,', 'or', 'combines', 'the', 'untranslated', '5′', 'utr', 'of', 'the', '5′', 'partner', 'with', 'the', 'full-length', 'orf', 'of', 'the', '3′', 'partner.', 'this', 'is', 'computed', 'based', 'on', 'the', 'reading-frames', 'of', 'the', 'respective', 'ucsc', 'and', 'ensemble', 'wild-type', 'transcripts.', 'the', 'orf', 'analysis', 'based', 'on', 'the', 'reading', 'frames', 'of', 'eons', 'of', 'the', 'partner', 'genes', 'cannot', 'predict', 'all', 'the', 'de', 'novo', 'orfs', 'generated', 'by', 'the', 'fusions.', 'here', 'we', 'required', 'the', 'candidate', 'fusion', 'to', 'present', 'an', 'in-frame', 'fusion', 'variant', 'in', 'at', 'least', 'one', 'sample.', 'this', 'step', 'filtered', 'out', 'about', '1000', 'candidates', 'that', 'never', 'present', 'any', 'in-frame', 'variant', 'in', 'any', 'single', 'sample,', 'which', 'are', 'less', 'likely', 'to', 'be', 'functionally', 'relevant.', 'of', 'note,', 'this', 'approach', 'cannot', 'detect', 'a', 'truncated', 'orf', 'initiated', 'by', 'an', 'internal', 'atg', 'site', '(such', 'as', 'in', 'esr1-ccdc170', 'fusions).', 'however,', 'in', 'rare', 'cases,', 'the', 'tcga', 'positive', 'tumor', 'appears', 'to', 'epress', 'the', 'esr1-ccdc170', 'variant', 'that', 'involves', 'more', '5′', 'eons', 'of', 'esr1,', 'thus', 'generating', 'a', 'reading', 'frame', 'with', 'a', 'small', 'fragment', 'of', 'esr1', 'orf', 'in-frame', 'fused', 'to', 'truncated', 'ccdc170', 'orf.', 'this', 'triggers', 'the', 'program', 'to', 'consider', 'this', 'fusion', 'as', 'potentially', 'encoding', 'in-frame', 'orf.', 'the', 'fusion', 'candidates', 'were', 'then', 'ranked', 'by', 'the', 'incidence', 'of', 'fusion', 'transcripts', 'in', 'breast', 'tumors', 'and', 'the', 'concept', 'signature', '(consig)', 'score', '(', 'release', '2)10.', 'to', 'assess', 'the', 'unbalanced', 'breakpoints', 'within', 'candidate', 'fusion', 'genes,', 'we', 'obtained', 'tcga', '“level', '3”', 'affymetri', 'snp', '6.0', 'copy', 'number', 'data', 'for', '865', 'breast', 'tumors.', 'these', 'level', '3', 'data', 'are', 'generated', 'by', 'circular', 'binary', 'segmentation42.', 'the', 'genomic', 'position', 'of', 'each', 'copy', 'number', 'transition', 'was', 'mapped', 'with', 'the', 'genomic', 'regions', 'of', 'all', 'human', 'genes.', 'the', 'genomic', 'region', 'of', 'each', 'human', 'gene', 'was', 'designated', 'as', 'the', 'starting', 'of', 'the', 'transcript', 'variant', 'most', 'approaching', 'the', '5′', 'of', 'the', 'gene,', 'and', 'the', 'end', 'of', 'the', 'variant', 'most', 'approaching', 'the', '3′', 'of', 'the', 'gene.', 'the', '“broken”', 'genes', 'with', 'intragenic', 'copy', 'number', 'breakpoints', 'were', 'classified', 'into', 'candidate', '5′', 'and', '3′', 'partners', 'based', 'on', 'the', 'association', 'of', 'these', 'unbalanced', 'breakpoints', 'with', 'gene', 'placements.', '5′', 'amplified', 'genes', 'or', '3′', 'deleted', 'genes', 'were', 'considered', 'as', 'potential', '5′', 'partners,', 'while', '5′', 'deleted', 'or', '3′', 'amplified', 'genes', 'were', 'considered', 'as', 'potential', '3′', 'partners', 'according', 'to', 'the', 'fusion', 'breakpoint', 'principle10.', 'the', 'copy', 'number', 'transitions', 'within', 'the', 'esr1/ccdc170', 'loci', 'were', 'manually', 'assessed', 'using', 'segmented', 'copy', 'number', 'data', 'visualized', 'with', 'integrative', 'genomics', 'viewer', '(fig.', '1c)43.', 'copy', 'number', 'data', 'for', 'inde', 'breast', 'cancer', 'cell', 'lines', 'are', 'from', 'heiser', 'et', 'al44.', 'fusion-associated', 'copy-number', 'gain', '(cng)', 'is', 'defined', 'as', 'increased', 'copy', 'number', 'in-between', 'ccdc170', 'and', 'esr1', 'loci', 'comparing', 'to', '5′ccdc170', 'and', '3′', 'esr1', 'regions', '(visually', 'assessed', 'based', 'on', 'segmented', 'copy', 'number', 'data', 'at', 'esr1/ccdc170', 'loci).', 'thus', 'cng', 'also', 'includes', 'the', 'case', 'where', 'both', '5′ccdc170', 'and', '3′', 'esr1', 'regions', 'have', 'copy', 'number', 'loss.', 'the', '380', 'recurrent', 'fusion', 'candidates', 'revealed', 'by', 'the', 'above', 'integrative', 'analysis', 'are', 'provided', 'in', 'supplementary', 'data', '1.', 'to', 'more', 'accurately', 'capture', 'esr1-ccdc170', 'chimerical', 'reads,', 'we', 'reconstructed', 'all', 'putative', 'fusion-variant', 'transcripts', 'by', 'combining', 'each', 'of', 'esr1', 'eons', 'with', 'each', 'of', 'the', 'ccdc170', 'eons.', 'the', 'resulting', 'putative', 'esr1-ccdc170', 'variant', 'sequences', 'are', 'provided', 'in', 'supplementary', 'data', '2.', 'using', 'the', 'burrows-wheeler', 'aligner', '(bwa),', 'we', 'aligned', 'these', 'esr1-ccdc170', 'variant', 'sequences', 'with', 'the', 'rnaseq', 'data', 'for', '990', 'breast', 'tumors', 'released', 'to', 'date', 'by', 'tcga,', 'allowing', 'up', 'to', '3', 'mismatches.', 'using', 'a', 'perl', 'script,', 'we', 'processed', 'the', 'bam', 'output', 'files', 'to', 'identify', 'junction', 'or', 'encompassing', 'chimerical', 'reads.', 'a', 'series', 'of', 'filtering', 'steps', 'were', 'performed', 'to', 'remove', 'the', 'false', 'positives', 'due', 'to', 'misalignments.', 'the', 'raw', 'sequences', 'of', 'fusion', 'reads', 'identified', 'after', 'these', 'filtering', 'are', 'provided', 'in', 'supplementary', 'data', '3.', 'a', 'breast', 'tumor', 'was', 'considered', 'as', 'fusion-positive', 'if', 'bwa', 'revealed', 'a', 'minimum', 'of', 'three', 'chimerical', 'reads', 'with', 'at', 'least', 'one', 'read', 'mapped', 'to', 'the', 'fusion', 'junction.', 'to', 'assure', 'that', 'the', 'alignments', 'are', 'acceptable,', 'paired', 'reads', 'supporting', 'esr1-ccdc170', 'were', 'manually', 'realigned', 'with', 'the', 'respective', 'putative', 'variant', 'sequences', 'as', 'well', 'as', 'the', 'human', 'transcriptome', 'and', 'genome', 'reference', 'sequences', 'using', 'blast', 'or', 'blat.', 'for', 'inde', 'tumors', 'with', '<10', 'supporting', 'fusion', 'reads,', 'all', 'fusion', 'reads', 'were', 'curated.', 'for', 'inde', 'tumors', 'with', '≥10', 'supporting', 'fusion', 'reads,', 'all', 'junction', 'reads', 'and', 'at', 'least', '10', 'fusion', 'mates', '(if', 'available)', 'were', 'curated.', 'the', 'curation', 'results', 'are', 'provided', 'in', 'supplementary', 'data', '3.', 'pam50-based', 'clinical', 'subtypes', 'of', 'breast', 'cancer', 'for', 'tcga', 'samples', 'were', 'derived', 'from', 'the', 'tcga', 'publication45.', 'the', 'clinical', 'data', 'for', 'tcga', 'samples', 'were', 'obtained', 'from', 'ucsc', 'cancer', 'genome', 'browser46.', 'gene', 'epression', 'data', 'analysis', 'gene', 'set', 'enrichment', 'analysis', '(gsea)', 'was', 'done', 'by', 'comparing', 'the', 'esr1-ccdc170-positive', 'breast', 'tumors', 'profiled', 'by', 'gene', 'epression', 'array', '(data', 'from', 'tcga),', 'with', 'the', 'same', 'number', 'of', 'randomly', 'chosen', 'fusion-negative', 'luminal', 'b', 'breast', 'tumors,', 'using', 'a', 'signal', 'to', 'noise', 'ratio', 'algorithm.', 'the', 'curated', 'canonical', 'pathways', 'from', 'the', 'molecular', 'signatures', 'database', '(msigdb,', 'were', 'used', 'as', 'the', 'gene-set', 'database.', 'the', 'process', 'of', 'randomly', 'selecting', 'fusion-negative', 'luminal', 'b', 'samples', 'and', 'then', 'performing', 'gsea', 'analyses', 'was', 'repeated', '100', 'times.', 'the', 'normalized', 'enrichment', 'scores', 'for', 'each', 'pathway', 'were', 'averaged', 'and', 'then', 'ranked', 'to', 'identify', 'consensus-enriched', 'pathways', '(supplementary', 'fig.', '11a).', 'gene', 'epression', 'data', 'for', 'normal', 'human', 'tissues', '(affymetri', 'u133', 'plus', '2.0)', 'are', 'from', 'the', 'human', 'body', 'inde', 'dataset', '(gse7307),', 'and', 'are', 'analyzed', 'using', 'oncomine', '(www.oncomine.org).', 'cell', 'line', 'and', 'tissue', 'collections', 'breast', 'cancer', 'cell', 'lines', 'were', 'obtained', 'from', 'american', 'type', 'culture', 'collection', '(atcc)', 'including', 'the', 'nci-attc', 'icbp', '43', 'cell', 'line', 'kit.', 'all', 'breast', 'tumor', 'tissues', 'were', 'obtained', 'from', 'the', 'tumor', 'bank', 'of', 'the', 'lester', 'and', 'sue', 'smith', 'breast', 'center', 'at', 'baylor', 'college', 'of', 'medicine.', 'the', 'total', 'rna', 'for', 'normal', 'breast', 'tissues', '(5', 'donor', 'pool)', 'was', 'purchased', 'from', 'biochain', '(r1234086-p).', 'nanostring', 'assay', 'the', 'code', 'sets', 'for', 'the', 'esr1-ccdc170', 'and', 'p2ry6-arhgef17', 'fusion', 'variants', 'were', 'designed', 'by', 'nanostring', 'technologies', 'based', 'on', 'the', 'fusion', 'junction', 'sequences.', 'epressions', 'of', 'these', 'fusion', 'variants', 'were', 'quantified', 'from', '500ng', 'total', 'rnas', 'using', 'the', 'nanostring', 'ncounter', 'assay', 'system', 'following', 'the', \"manufacturer's\", 'instructions.', 'raw', 'counts', 'were', 'normalized', 'to', 'the', 'mrna', 'levels', 'of', 'the', 'house-keeping', 'genes', 'tfrc,', 'tbp,', 'and', 'pum1.', 'rt-pcr', 'and', 'genomic', 'pcr', 'complementary', 'dna', 'was', 'generated', 'from', '1μg', 'of', 'total', 'rna', 'using', 'the', 'transcriptor', 'first', 'strand', 'cdna', 'synthesis', 'kit', '(roche)', 'in', 'the', 'presence', 'of', 'both', 'oligo', '(dt)', 'and', 'random', 'primers.', 'rt-pcr', 'of', 'the', 'esr1-ccdc170', 'fusion', 'was', 'performed', 'with', 'platinum', 'taq', 'high', 'fidelity', '(invitrogen)', 'and', 'fusion-specific', 'primers', '(forward:', '5′-ctgcggtaccaaatatcagcac', '-3′;', 'reverse:', '5′-', 'cttctccagttggtctctggat-3′).', 'to', 'avoid', 'contamination,', 'a', 'clean', 'room', 'was', 'used', 'for', 'setting', 'up', 'pcr', 'reactions', 'which', 'is', 'separated', 'from', 'the', 'areas', 'used', 'for', 'thermal', 'cycling', 'and', 'manipulation', 'of', 'pcr', 'products.', 'in', 'addition,', 'a', 'special', 'set', 'of', 'pipettes', 'and', 'tips', 'with', 'aerosol', 'filters', 'was', 'used', 'to', 'set', 'up', 'the', 'pcr', 'reaction.', 'all', 'cdna', 'samples', 'were', 'subjected', 'to', '35', 'pcr', 'cycles', 'of', '94°c', 'for', '30', 'sec,', '56°c', 'for', '30', 'sec,', 'and', '68°c', 'for', '2', 'min.', 'for', 'semi-quantification', 'of', 'rt-pcr', 'results,', 'band', 'intensities', 'were', 'quantified', 'using', 'imagej', 'software', '(national', 'institutes', 'of', 'health)', 'and', 'normalized', 'to', 'respective', 'gapdh', 'controls.', 'a', 'relative', 'value', 'more', 'than', '0.8', 'was', 'considered', 'as', 'positive', 'for', 'esr1-ccdc170', 'fusion.', 'all', 'the', 'weak', 'cases', 'had', 'a', 'relative', 'value', 'below', '0.3.', 'genomic', 'pcr', 'was', 'carried', 'out', 'with', '200-300ng', 'of', 'genomic', 'dna', 'from', 'cell', 'lines', 'or', 'tissues', 'using', 'the', 'epand', 'long', 'range', 'pcr', 'system', '(roche)', 'and', 'primers', 'listed', 'in', 'supplementary', 'table', '3.', 'pcr', 'products', 'were', 'gel', 'purified', 'for', 'capillary', 'sequencing', '(lone', 'star', 'labs', 'or', 'beckman', 'coulter', 'genomics).', 'the', 'esr1-ccdc170', 'genomic', 'fusion', 'sequences', 'revealed', 'by', 'capillary', 'sequencing', 'are', 'provided', 'in', 'supplementary', 'data', '4.', 'ki67', 'immunohistochemistry', 'formalin-fied', 'paraffin-embedded', 'whole', 'tissue', 'sections', '(ffpe)', '(for', 'breast', 'cancer', 'tissues)', 'or', 'tissue', 'microarrays', '(20', 'tissue', 'cores/slide)', '(for', 't47d', 'enograft', 'tumors)', 'were', 'stained', 'using', 'a', 'mouse', 'ki67', 'monoclonal', 'antibody', '(mib1', 'clone,', 'dako)', 'as', 'previously', 'described47.', 'briefly,', 'microwave-assisted', 'heat', 'induced', 'retrieval', 'method', 'for', 'antigen', 'epitopes', 'was', 'performed', 'in', 'tris-hcl', 'buffer,', 'at', 'ph', '9.0', 'for', '10', 'minutes.', 'endogenous', 'peroidase', 'activity', 'was', 'blocked', 'by', 'incubation', 'in', 'a', '3%', 'hydrogen', 'peroide', 'for', '10', 'minutes.', 'the', 'primary', 'antibody', 'mib1', 'at', 'dilution', 'of', '1:200', 'was', 'incubated', 'for', '1', 'hour', 'at', 'room', 'temperature,', 'followed', 'by', 'incubations', 'with', 'polymer', 'labelled', 'envision™+', 'hrp', 'reagents', '(dako,', '#k4001)', 'and', 'dab', 'substrate', '(dako,', '#k3468).', 'the', 'slides', 'were', 'then', 'counterstained', 'with', \"harris'\", 'hematoylin.', 'normal', 'human', 'tonsil', 'was', 'used', 'as', 'positive', 'control.', 'immunostaining', 'was', 'evaluated', 'by', 'two', 'pathologists', 'who', 'were', 'blinded', 'to', 'the', 'sample', 'information,', 'according', 'to', 'recommendations', 'from', 'the', 'international', 'ki67', 'working', 'group48.', 'briefly,', 'the', 'section', 'was', 'first', 'scanned', 'at', 'low', 'magnification', '(10-20×)', 'to', 'determine', 'the', 'most', 'representative', 'areas.', 'the', 'ki67', 'inde', 'was', 'calculated', 'as', 'the', 'percentage', 'of', 'ki67', 'positive', 'cells', 'among', 'a', 'total', 'of', '500', 'cells', 'at', '40×', 'magnification.', 'for', 'heterogeneous', 'cases', 'with', 'hot', 'spots,', 'the', 'ki67', 'inde', 'was', 'calculated', 'as', 'the', 'average', 'percentage', 'of', 'ki67', 'positive', 'cells', 'among', 'a', 'total', 'of', '250', 'cells', 'in', 'hot', 'spots', 'and', '250', 'cells', 'in', 'other', 'areas.', 'in', 'vitro', 'overepression', 'of', 'esr1-ccdc170', 'orfs', 'the', 'cdna', 'fragments', 'of', 'e2-e6,', 'e2-e7,', 'e2-e8,', 'or', 'e2-e10', 'fusion', 'variants', 'containing', 'the', 'full-length', 'orfs', 'were', 'amplified', 'from', 'zr-75-1', 'or', 'hcc1428', 'cdnas', 'using', 'phusion', 'dna', 'polymerase', '(neb)', 'with', 'the', 'forward', 'primer', '5′-ccatgctcctttctcctgccca-3′', 'from', '5′', 'esr1,', 'and', 'reverse', 'primer', '5′-tgtgccatgtcttatggccacct-3′', 'from', 'the', '3′', 'untranslated', 'region', 'of', 'ccdc170.', 'the', 'predicted', 'orfs', 'of', 'these', 'four', 'variants', 'and', 'yfp', 'control', 'were', 'then', 'cloned', 'into', 'the', 'plenti7.3', 'vector', '(invitrogen).', 'the', 'orf', 'sequences', 'of', 'esr1-ccdc170', 'fusion', 'variants', 'are', 'provided', 'in', 'supplementary', 'data', '5.', 'after', 'verification', 'by', 'sequencing,', 'these', 'lentiviral', 'constructs', 'were', 'infected', 'into', 'selected', 'cell', 'lines', 'using', 'the', 'virapower™', 'lentiviral', 'support', 'kit', '(invitrogen).', 'cells', 'with', 'high', 'gfp', 'reporter', 'epression', 'were', 'selected', 'using', 'flow', 'cytometry.', 'sirna', 'knockdown', 'eperiments', 'the', 'e2-e10-specific', 'sirna', '(5′-caucacugagauuaaaacu-3′)', 'and', 'gab1-specific', 'sirna', '(sigenome', 'gab1:', '5′-gagaguggauuauguuguu-3′)', 'were', 'purchased', 'from', 'dharmacon.', 'all', 'sirnas', 'were', 'transfected', 'using', 'lipofectamine', 'rnai', 'ma', 'reagent', '(invitrogen)', 'according', 'to', \"manufacturer's\", 'instructions.', 'western', 'blot', 'protein', 'samples', 'were', 'separated', 'in', 'sds-page', 'gel', 'and', 'transferred', 'either', 'onto', '0.2μm', 'pvdf', 'membrane', 'for', 'detection', 'of', 'the', 'e2-e10', 'protein', 'product,', 'or', '0.2μm', 'nitrocellulose', 'membrane', 'for', 'other', 'proteins.', 'the', 'dilutions', 'of', 'primary', 'antibodies', 'used', 'were', '1:250-1:1000', 'for', 'rabbit', 'anti-ccdc170', '(genete),', '1:1000', 'for', 'mouse', 'anti-cmet', 'and', 'rabbit', 'anti-gab1', '(cell', 'signaling)', 'and', 'other', 'antibodies.', 'antibodies', 'were', 'obtained', 'from', 'santa', 'cruz', '(cyclin', 'd1),', 'thermo', 'fisher', '(erα),', 'abcam', '(pak1),', 'millipore', '(src),', 'and', 'cell', 'signaling', '(all', 'other', 'molecules).', 'to', 'study', 'the', 'fusion-driven', 'signaling', 'in', 'the', 'condition', 'of', 'serum', 'withdrawal', 'and', 'endocrine', 'treatment,', 'cells', 'were', 'maintained', 'in', 'phenol', 'red-free', 'medium', 'for', '48h,', 'serum-starved', 'for', '24h,', 'and', 'then', 'treated', 'for', '20', 'minutes', 'with', 'vehicle', '(ethanol),', '17β-estradiol', '(e2)', '(1nm)', 'or', 'tam', '(100nm).', '4-oh', 'tamoifen', '(tam)', 'and', '17β-estradiol', '(e2)', 'were', 'obtained', 'from', 'sigma-aldrich.', 'cell', 'proliferation', 'assay', 'cell', 'proliferation', 'was', 'measured', 'by', 'mtt', 'assay', 'using', 'the', 'cell', 'proliferation', 'kit', 'i', '(roche)', 'according', 'to', \"manufacturer's\", 'instructions.', 'for', 'tamoifen', 'sensitivity', 'studies,', 'cells', 'were', 'estrogen-deprived', '(ed)', 'for', '48h', 'using', 'phenol', 'red-free', 'medium', 'with', 'charcoal-detran-stripped', 'fbs,', 'seeded', '(1000-2500', 'cells/well)', 'in', '96-well', 'plates,', 'and', 'eposed', 'to', 'varying', 'doses', 'of', 'tam', '(0.1-1.0', 'μm);', 'cell', 'proliferation', 'was', 'assessed', 'after', '7', 'days.', 'the', 'surviving', 'fraction', 'of', 'cells', 'was', 'calculated', 'by', 'dividing', 'the', 'od', 'value', 'from', 'drug-treated', 'wells', 'by', 'the', 'od', 'value', 'of', 'vehicle-treated', 'wells.', 'clonogenic', 'assay', 'cells', 'were', 'seeded', 'at', 'a', 'density', 'of', '300-500', 'cells/well', 'in', '6-well', 'plate', 'and', 'incubated', 'for', '14-21', 'days.', 'as', 'δccdc170', 'promotes', 'the', 'formation', 'of', 'large-sized', 'colonies,', 'the', 'colonies', '>', '350μm', 'in', 'diameter', 'were', 'counted', 'for', 'comparison,', 'using', 'gelcount', '(oford', 'optroni', 'ltd.).', 'soft-agar', 'colony', 'formation', 'assay', 'cells', 'were', 'suspended', 'in', 'growth', 'medium', 'containing', '0.35%', 'seaplaque', 'agarose', '(lonza),', 'and', 'plated', 'at', 'a', 'density', 'of', '5000', 'cells/well', 'in', 'a', '6-well', 'plate', 'containing', '0.7%', 'base', 'agar', 'in', 'growth', 'medium.', 'the', 'cells', 'were', 'then', 'incubated', 'for', '14', 'days,', 'and', 'colonies', '≥100μm', 'in', 'diameter', 'were', 'counted', 'using', 'gelcount.', 'migration', 'and', 'invasion', 'assay', 'transwell', 'migration', 'and', 'invasion', 'assays', 'were', 'performed', 'using', 'boyden', 'chambers.', 'cells', 'were', 'serum-starved', 'for', '24h', 'and', 'seeded', 'at', 'a', 'density', 'of', '5×104-2×105', 'in', 'serum-free', 'medium', 'onto', 'transwell', 'inserts', 'of', '8μm', 'pore', 'size', 'for', 'migration', 'assay,', 'or', 'onto', 'transwell', 'chambers', 'coated', 'with', 'matrigel', '(bd', 'biosciences)', 'for', 'invasion', 'assay.', 'to', 'facilitate', 'the', 'migration', 'of', 'hcc1428', 'and', 'mda-mb-415', 'cells,', 'nih3t3', 'cells', 'seeded', 'in', 'the', 'bottom', 'chamber', 'served', 'as', 'chemoattractant.', 'after', '48-72', 'hours,', 'the', 'inserts', 'were', 'fied', 'in', '4%', 'formaldehyde', 'and', 'stained', 'with', 'hematoylin', 'and', 'eosin.', 'ere', 'luciferase', 'reporter', 'assay', 'cells', 'were', 'co-transfected', 'with', '1', 'μg', 'of', 'an', 'ere', '(estrogen', 'transcriptional', 'response', 'element)', 'luciferase', 'reporter', 'construct', '(ere-tk-luc)', 'and', '0.1', 'μg', 'of', 'pcmv', 'β-galactosidase', 'as', 'an', 'internal', 'control', 'for', 'transfection', 'efficiency', 'in', 'serum-free', 'medium', 'using', 'tremegene', 'hp', '(roche).', 'the', 'luciferase', 'levels', 'were', 'measured', 'with', 'a', 'luciferase', 'reporter', 'assay', 'kit', '(promega)', 'in', 'a', 'luminometer', 'and', 'normalized', 'to', 'β-gal', 'activity.', 'facs', 'analysis', 'for', 'cell', 'cycle', 'analysis,', 'propidium', 'iodide-stained', 'cells', 'were', 'analyzed', 'in', 'a', 'lsrfortessa', 'cell', 'analyzer', '(bd', 'biosciences),', 'and', 'cell', 'cycle', 'phases', 'were', 'calculated', 'using', 'flowjo', '(www.flowjo.com).', 'in', 'vivo', 'enograft', 'eperiments', 'all', 'animal', 'work', 'has', 'been', 'approved', 'by', 'the', 'bcm', 'institutional', 'animal', 'care', 'and', 'use', 'committee.', '2×107', 'transduced', 't47d', 'cells', 'were', 'resuspended', 'in', '20%', 'matrigel', 'solution,', 'and', 'were', 'transplanted', 'bilaterally', 'to', '4-6', 'week', 'old', 'female', 'athymic', 'nude', 'mice', 'supplemented', 'with', '60-day-release', '17β-estradiol', 'pellets.', 'enograft', 'tumors', 'of', 'the', 't47d', 'models', 'were', 'successfully', 'engrafted', 'in', 'eight', 'mice', 'per', 'group.', 'the', 'growth', 'of', 'the', 'enograft', 'tumors', 'was', 'monitored', 'twice', 'per', 'week', 'and', 'tumor', 'volume', 'was', 'measured', 'using', 'the', 'formula', '1/2(length', '×', 'width2).', 'statistical', 'analysis', 'for', 'the', 'in', 'vivo', 'study,', 'statistical', 'comparison', 'of', 'tumor', 'volumes', 'was', 'performed', 'using', 'one-way', 'anova.', 'the', 'results', 'of', 'all', 'in', 'vitro', 'eperiments', 'were', 'analyzed', 'by', \"student's\", 't-tests,', 'and', 'all', 'data', 'are', 'shown', 'as', 'mean', '±', 'standard', 'deviation.', 'to', 'characterize', 'patient-derived', 'enografts', '(pds)', 'for', 'functional', 'studies,', 'we', 'made', 'whole-genome', 'comparisons', 'with', 'originating', 'breast', 'cancers', 'representative', 'of', 'the', 'major', 'intrinsic', 'subtypes.', 'structural', 'and', 'copy', 'number', 'aberrations', 'were', 'found', 'to', 'be', 'retained', 'with', 'high', 'fidelity.', 'however,', 'at', 'the', 'single-nucleotide', 'level,', 'variable', 'numbers', 'of', 'pd-specific', 'somatic', 'events', 'were', 'documented,', 'although', 'they', 'were', 'only', 'rarely', 'functionally', 'significant.', 'variant', 'allele', 'frequencies', 'were', 'often', 'preserved', 'in', 'the', 'pds,', 'demonstrating', 'that', 'clonal', 'representation', 'can', 'be', 'transplantable.', 'estrogen-receptor-positive', 'pds', 'were', 'associated', 'with', 'esr1', 'ligand-binding-domain', 'mutations,', 'gene', 'amplification,', 'or', 'an', 'esr1/yap1', 'translocation.', 'these', 'events', 'produced', 'different', 'endocrine-therapy-response', 'phenotypes', 'in', 'human,', 'cell', 'line,', 'and', 'pd', 'endocrine-response', 'studies.', 'hence,', 'deeply', 'sequenced', 'pd', 'models', 'are', 'an', 'important', 'resource', 'for', 'the', 'search', 'for', 'genome-forward', 'treatment', 'options', 'and', 'capture', 'endocrine-drug-resistance', 'etiologies', 'that', 'are', 'not', 'observed', 'in', 'standard', 'cell', 'lines.', 'the', 'originating', 'tumor', 'genome', 'provides', 'a', 'benchmark', 'for', 'assessing', 'genetic', 'drift', 'and', 'clonal', 'representation', 'after', 'transplantation.', 'go', 'to:', 'introduction', 'many', 'stage', '3', 'breast', 'cancers', 'and', 'effectively', 'all', 'stage', '4', 'breast', 'cancers', 'are', 'fatal,', 'with', 'annual', 'worldwide', 'deaths', 'from', 'the', 'disease', 'approaching', 'one-half', 'million', '(youlden', 'et', 'al.,', '2012).', 'large-scale', 'partial', 'and', 'whole-genome', 'sequencing', '(wgs)', 'was', 'recently', 'conducted', 'on', 'early-stage,', 'treatment-naive', 'breast', 'cancer', 'samples', '(ellis', 'and', 'perou,', '2013).', 'by', 'contrast,', 'the', 'genomic', 'landscape', 'of', 'advanced', 'and', 'treatment-resistant', 'breast', 'cancer', 'is', 'poorly', 'documented.', 'we', 'therefore', 'developed', 'a', 'panel', 'of', 'patient-derived', 'enografts', '(pds)', 'from', 'patients', 'with', 'poor-prognosis,', 'treatment-resistant', 'disease', 'for', 'genomic', 'and', 'functional', 'studies,', 'because', 'early-passage', 'pd', 'models', 'reproduce', 'gene', 'epression', 'patterns', 'observed', 'in', 'the', 'originating', 'human', 'tumors', 'and', 'recapitulate', 'the', 'chemotherapy', 'response', '(derose', 'et', 'al.,', '2011;', 'fleming', 'et', 'al.,', '2010;', 'kabos', 'et', 'al.,', '2012;', 'marangoni', 'et', 'al.,', '2007;', 'zhang', 'et', 'al.,', '2013).', 'however,', 'it', 'has', 'remained', 'unclear', 'to', 'what', 'etent', 'pd', 'models', 'accurately', 'represent', 'the', 'genomic', 'characteristics', 'of', 'the', 'originating', 'tumor', 'at', 'a', 'whole-genome', 'level.', 'the', 'value', 'of', 'the', 'pd', 'approach', 'in', 'the', 'setting', 'of', 'estrogen-receptor-positive', '(er+)', 'breast', 'cancer', 'has', 'also', 'been', 'questioned', 'because', 'very', 'few', 'breast', 'cancer', 'pds', 'epressing', 'er', 'have', 'been', 'reported.', 'wgs', 'using', 'massively', 'parallel', 'techniques', 'is', 'the', 'gold', 'standard', 'for', 'comparing', 'an', 'originating', 'tumor', 'with', 'a', 'counterpart', 'pd', 'because', 'partial-genome', 'sequencing,', 'which', 'focuses', 'on', 'the', 'coding', 'sequence', 'alone', '(i.e.,', 'eome', 'sequencing),', 'does', 'not', 'fully', 'document', 'all', 'mutations,', 'particularly', 'structural', 'variations', '(svs)', 'or', 'other', 'mutational', 'events', 'that', 'occur', 'in', 'noncoding', 'space', '(ley', 'et', 'al.,', '2008).', 'promisingly,', 'wgs', 'of', 'a', 'single', 'eample', 'of', 'a', 'breast', 'cancer', 'primary,', 'a', 'brain', 'metastasis,', 'and', 'a', 'pd', 'basal-like', 'breast', 'cancer', '“trio”', 'demonstrated', 'that', 'the', 'pd', 'model', 'efficiently', 'captures', 'almost', 'all', 'of', 'the', 'genome-wide', 'somatic', 'mutations', 'observed', 'in', 'the', 'originating', 'tumor,', 'and', 'displayed', 'enrichment', 'for', 'mutations', 'that', 'were', 'present', 'in', 'the', 'metastatic', 'sample', 'even', 'though', 'they', 'were', 'derived', 'from', 'the', 'primary', 'tumor', '(ding', 'et', 'al.,', '2010).', 'heterogeneity', 'in', 'mutation', 'frequencies', 'also', 'has', 'not', 'been', 'comparatively', 'evaluated', 'for', 'pd', 'models', 'and', 'originating', 'tumors,', 'so', 'a', 'customized', 'capture', 'approach', '(welch', 'et', 'al.,', '2012)', 'was', 'used', 'to', 'generate', 'high', 'depth', 'at', 'somatic', 'variant', 'positions', 'genome', 'wide,', 'coupled', 'with', 'statistical', 'analyses', 'for', 'this', 'comparison.', 'rna', 'sequencing', '(rna-seq)', 'was', 'conducted', 'to', 'determine', 'the', 'epression', 'level', 'of', 'individual', 'mutations', 'and', 'to', 'confirm', 'gene', 'fusion', 'events', '(iyer', 'et', 'al.,', '2011).', 'reverse', 'phase', 'protein', 'array', '(rppa)', 'was', 'employed', 'to', 'determine', 'whether', 'protein', 'and', 'phosphoprotein', 'epression', 'patterns', 'were', 'stable', 'upon', 'serial', 'transplantation', '(tabchy', 'et', 'al.,', '2011).', 'we', 'also', 'successfully', 'developed', 'multiple', 'er+', 'pds', 'from', 'patients', 'with', 'endocrine-therapy-resistant', 'disease,', 'and', 'our', 'genomic', 'and', 'functional', 'analyses', 'revealed', 'mechanistic', 'insights', 'into', 'resistance', 'that', 'have', 'not', 'been', 'achieved', 'with', 'conventional', 'cell', 'line', 'approaches.', 'go', 'to:', 'results', 'derivation', 'and', 'rna/protein', 'epression', 'patterns', 'in', 'enografts', 'from', 'advanced', 'stage', 'breast', 'cancer', 'samples', 'were', 'obtained', 'from', '152', 'patients', '(figure', '1a),', 'which', 'yielded', '22', 'serially', 'transplantable', 'pds', 'from', '20', 'patients,', 'for', 'an', 'engraftment', 'rate', 'of', '13.1%.', 'these', 'pds', 'are', 'referred', 'to', 'as', '“washington', 'university', 'human', 'in', 'mouse”', '(whim)', 'lines', 'and', 'were', 'mostly', 'obtained', 'from', 'patients', 'with', 'advanced', 'disease', 'or', 'larger', 'primary', 'tumors', 'that', 'rapidly', 'developed', 'lethal', 'metastasis', '(table', 's2a).', 'concordant', 'er', 'and', 'her2', 'status', 'was', 'demonstrated', 'at', 'the', 'mrna', 'level', '(table', '1),', 'and', 'pd', 'epression', 'of', 'er', 'and', 'her2', 'protein', 'was', 'confirmed', 'by', 'western', 'blot', '(figure', 's1).', 'mouse', 'and', 'human', 'centromere-specific', 'fluorescent', 'in', 'situ', 'hybridization', '(fish)', 'assays', 'were', 'conducted', 'to', 'demonstrate', 'that', 'stromal', 'elements', 'were', 'murine', 'in', 'origin,', 'the', 'malignant', 'cells', 'were', 'human,', 'and', 'there', 'was', 'no', 'evidence', 'for', 'interspecies', 'cellular', 'fusion', 'events', '(figures', 's2a–s2c).', 'agilent', '44k', 'array-based', 'mrna', 'epression', 'data', 'were', 'generated', 'from', 'the', 'originating', 'tumors', 'and', 'from', 'matched', 'early-', 'and', 'late-passage', 'pd', 'counterparts.', 'we', 'subjected', 'the', 'matched', 'pairs', 'to', 'unsupervised', 'hierarchical', 'clustering', 'after', 'removing', 'genes', 'that', 'were', 'highly', 'differentially', 'epressed', 'between', 'progenitor', 'and', 'pd', 'models', '(fdr', '=', '0)', 'to', 'ensure', 'that', 'this', 'comparison', 'was', '“tumor', 'centric”', 'and', 'not', 'confounded', 'by', 'differences', 'in', 'the', 'hybridization', 'properties', 'of', 'mrna', 'arising', 'from', 'human', 'versus', 'mouse', 'stroma', '(table', 's2b).', 'in', 'almost', 'all', 'cases,', 'the', 'originating', 'tumor', 'and', 'whim', 'lines', 'derived', 'from', 'the', 'same', 'individual', 'clustered', 'adjacently', '(figure', '1b).', 'each', 'sample', 'was', 'also', 'classified', 'into', 'one', 'of', 'five', 'intrinsic', 'gene-epression', 'subtypes;', 'lumenal', 'a', '(dark', 'blue),', 'lumenal', 'b', '(light', 'blue),', 'her2-enriched', '(pink),', 'basal-like', '(red),', 'and', 'claudin-low', '(yellow)', 'using', 'pam50', '(parker', 'et', 'al.,', '2009)', 'and', 'the', '“nine-cell', 'line', 'claudin-low', 'subtype', 'predictor”', '(prat', 'et', 'al.,', '2010;', 'table', '1;', 'figure', '1b).', 'the', 'pd', 'lines', 'derived', 'from', 'er+', 'clinical', 'samples', 'were', 'all', 'subtyped', 'lumenal', 'by', 'pam50', 'in', 'both', 'the', 'human', 'and', 'mouse', 'samples,', 'with', 'the', 'eception', 'of', 'whim11,', 'which', 'was', 'classified', 'as', 'her2-e.', 'of', 'note,', 'the', 'human', 'lumenal', 'originating', 'tumors', 'epressed', 'high', 'levels', 'of', 'cytokeratin', '14', '(ck14),', 'ck5,', 'and', 'ck17', 'mrna,', 'but', 'there', 'was', 'no', 'evidence', 'for', 'epression', 'of', 'these', 'cks', 'by', 'the', 'counterpart', 'lumenal', 'pd.', 'to', 'investigate', 'this', 'discordance,', 'we', 'conducted', 'immunohistochemistry', 'for', 'ck5', 'on', 'the', 'human', 'lumenal', 'tumor', 'progenitor', 'samples', '(derived', 'from', 'cutaneous', 'metastases).', 'this', 'revealed', 'normal-appearing', 'ck5-positive', 'epithelial', 'cells', 'arranged', 'in', 'ducts', '“trapped”', 'among', 'ck5-negative', 'malignant', 'lumenal', 'epithelial', 'cells,', 'thereby', '“contaminating”', 'the', 'progenitor', 'tumor', 'samples', 'with', 'basal', 'epithelial', 'keratins', '(figure', 's2d).', 'to', 'investigate', 'the', 'lumenal', 'classification', 'further,', 'pd', 'mrna', 'was', 'also', 'profiled', 'on', 'a', '244k', 'customized', 'unc', 'agilent', 'chip', '(cancer', 'genome', 'atlas', 'network,', '2012a)', 'and', 'the', 'pd', 'data', 'clustered', 'with', 'clinical', 'breast', 'cancer', 'samples', 'profiled', 'on', 'the', 'same', 'platform.', 'in', 'this', 'analysis,', 'all', 'er+', 'pds', 'segregated', 'with', 'lumenal', 'b', 'tumors', '(figure', 's3).', 'the', 'whim12', 'line', 'was', 'derived', 'from', 'a', 'metaplastic', 'carcinoma', 'and', 'showed', 'a', 'near-perfect', 'correlation', 'with', 'the', 'claudin-low', 'signature', '(figure', 's4).', 'to', 'address', 'the', 'stability', 'of', 'pds', 'at', 'the', 'level', 'of', 'protein', 'and', 'phosphoprotein', 'epression,', 'multiple', 'samples', 'taken', 'from', 'the', 'same', 'passage', 'and', 'upon', 'serial', 'passage', 'were', 'assayed', 'by', 'rppas', '(tabchy', 'et', 'al.,', '2011).', 'data', 'from', '110', 'antibodies', 'for', '68', 'samples', 'harvested', 'from', '20', 'whim', 'lines', 'were', 'clustered', 'with', 'the', 'data', 'from', '386', 'primary', 'breast', 'cancers', 'studied', 'by', 'the', 'cancer', 'genome', 'atlas', '(tcga)', 'research', 'network', '(cancer', 'genome', 'atlas', 'network,', '2012a;', 'table', 's2c).', 'in', 'every', 'case,', 'the', 'samples', 'from', 'each', 'whim', 'line', 'clustered', 'adjacently,', 'including', 'the', 'two', 'double', 'isolates', '(whim2', 'and', 'whim5,', 'and', 'whim20', 'and', 'whim23;', 'figure', 's5).', 'this', 'suggests', 'that', 'the', 'intra-pd', 'proteomic', 'heterogeneity', 'was', 'considerably', 'lower', 'than', 'the', 'intertumoral', 'heterogeneity', 'in', 'a', 'large', 'rppa', 'data', 'set', 'and', 'was', 'relatively', 'stable', 'over', 'time', 'and', 'passage.', 'the', 'pd', 'samples', 'were', 'dispersed', 'across', 'the', 'breast', 'tcga', 'data,', 'indicating', 'that', 'they', 'are', 'representative', 'of', 'the', 'heterogeneous', 'biology', 'of', 'breast', 'cancer.', 'an', 'analysis', 'was', 'conducted', 'to', 'determine', 'the', 'relative', 'rank', 'of', 'protein', 'and', 'phosphoprotein', 'levels', 'for', 'each', 'whim', 'tumor', 'with', 'respect', 'to', 'the', 'ranges', 'in', 'the', 'tcga', 'data', 'set', '(table', 's2c).', 'here,', 'the', 'whim', 'lines', 'did', 'not', 'contain', 'any', 'etreme', 'data', 'outliers', 'with', 'respect', 'to', 'the', 'phosphoprotein', 'levels', 'documented', 'in', 'the', 'tcga', 'data.', 'phosphorylation', 'of', 'the', 'phosphatidylinositol-3-kinase/akt', 'pathway', 'proteins', 'represented', 'the', 'highest-ranked', 'pathway', 'activation', 'event', '(table', '1).', 'figure', '1', 'figure', '1', 'generation', 'of', 'a', 'biologically', 'diverse', 'panel', 'of', 'pd', 'models', 'from', 'patients', 'with', 'advanced', 'breast', 'cancer', 'table', '1', 'table', '1', 'summary', 'of', 'the', 'whim', 'line', 'biomarker', 'status', 'genomic', 'fidelity', 'of', 'pd', 'models', 'using', 'paired-end', 'massively', 'parallel', 'sequencing,', 'we', 'sequenced', '17', 'originating', 'tumor,', 'enograft,', 'and', 'germ-line', 'trio', 'dna', 'samples', 'to', '≥', '30-fold', 'average', 'whole-genome', 'coverage.', 'for', '13', 'trios,', 'we', 'subsequently', 'validated', 'each', 'candidate', 'mutation', 'using', 'solution-based', 'hybridization', 'capture', 'followed', 'by', 'deep', 'sequencing', 'of', 'the', 'originating', 'tumor,', 'the', 'paired', 'whim', 'line,', 'and', 'the', 'normal', 'dna', '(for', 'the', 'somatic', 'variants', 'observed', 'in', 'whim4,', 'whim24,', 'whim25,', 'and', 'whim26,', 'further', 'validation', 'was', 'not', 'conducted;', 'see', 'table', 's2d', 'for', 'the', 'coding', 'region', 'single-nucleotide', 'variation', '[snv]', 'observed', 'in', 'these', 'eamples).', 'in', 'the', '13', 'cases', 'subjected', 'to', 'validation,', 'a', 'total', 'of', '59,189', 'genome-wide', 'snvs', 'were', 'confirmed', '(table', 's2e).', 'of', 'these,', '1,056', '(1.8%)', 'were', 'nonsilent', 'protein', 'coding', 'mutations', 'or', 'in', 'rna', 'genes', '(table', 's2f).', 'across', 'all', 'whim', 'lines,', 'there', 'were', '241', '(range', '0–77)', 'out', 'of', 'a', 'total', 'of', '58,814', 'validated', 'genome-wide', 'snvs', 'that', 'were', 'unique', 'to', 'the', 'originating', 'tumor', '(0.4%).', 'in', 'contrast,', 'a', 'much', 'higher', 'number', 'of', 'sites', '(5,450,', 'range', '29–1,564,', '9.3%)', 'were', 'pd', 'specific', '(table', 's2g).', 'seventy-one', 'mutations', 'were', 'detected', 'in', '“significantly', 'mutated', 'genes”', '(smgs)', 'as', 'defined', 'by', 'tcga', 'data', '(cancer', 'genome', 'atlas', 'research', 'network,', '2012b),', 'lumenal', 'tumors', '(ellis', 'et', 'al.,', '2012),', 'or', 'triple-negative', 'tumors', '(shah', 'et', 'al.,', '2012;', 'table', 's2h).', 'each', 'pd', 'harbored', 'mutation(s)', 'in', 'at', 'least', 'one', 'smg', '(whim6)', 'and', 'up', 'to', '12', 'smgs', '(whim14).', 'a', 'small', 'number', 'of', 'potentially', 'significant', 'mutations', 'were', 'observed', 'in', 'the', 'pd', 'but', 'not', 'in', 'the', 'originating', 'tumor', '(wnk2', 'in', 'whim8,', 'pik3r4', 'and', 'kras', 'in', 'whim9,', 'map4k2', 'in', 'whim16,', 'and', 'cblb', 'in', 'whim18).', 'thirty-four', 'pd-specific', 'missense', 'mutations', 'were', 'identified', 'as', 'potentially', 'deleterious', 'or', 'functionally', 'significant', 'by', 'a', 'mutation', 'impact', 'assessment', 'algorithm', '(i', 'et', 'al.,', '2004),', 'and', 'all', 'eamples', 'contained', 'at', 'least', 'one', 'predicted', 'deleterious', 'pd-specific', 'snv,', 'ecept', 'for', 'whim', '2', '(table', 's2i).', 'the', 'pd', 'data', 'analysis', 'pipeline', 'removed', 'sequence', 'reads', 'contributed', 'by', 'the', 'murine', 'genome,', 'thereby', '“computationally', 'purifying”', 'the', 'human', 'tumor', 'dna', '(ding', 'et', 'al.,', '2010).', 'biallelic', 'deletions', '(e.g.,', 'in', 'pten)', 'were', 'therefore', 'revealed', 'with', 'clarity', 'in', 'the', 'whim', 'analysis', '(figure', 's6)', 'and', 'amplified', 'regions', 'were', 'often', 'enhanced', '(figures', '2a,', 'b,', 'and', 's7–s9).', 'of', 'the', '5,336', 'copy-number', 'variation', '(cnv)', 'phenotypes', 'that', 'were', 'detected', 'in', 'the', '13', 'cases', 'analyzed,', '5,036', '(94.4%)', 'had', 'the', 'same', 'call', '(amplified', 'or', 'deleted)', 'in', 'both', 'the', 'originating', 'tumor', 'and', 'the', 'counterpart', 'pd', 'line', '(table', 's2l).', 'remarkably,', 'all', 'svs', '(translocations,', 'large', 'deletions,', 'and', 'inversions)', 'were', 'preserved', 'upon', 'transplantation,', 'including', 'regions', 'characteristic', 'of', 'chromothripsis', '(stephens', 'et', 'al.,', '2011;', 'figures', '2a,', '2b,', 'and', 's7).', 'figure', '2', 'figure', '2', 'pairwise', 'genome-wide', 'vaf,', 'cnv,', 'and', 'sv', 'analyses', 'genomic', 'stability', 'of', 'pd', 'across', 'early', 'and', 'late', 'passages', 'subsequent', 'to', 'our', 'earlier', 'report', 'on', 'comparative', 'wgs', 'of', 'a', 'primary', 'tumor,', 'brain', 'metastasis,', 'and', 'primary-derived', 'pd', 'trio', '(ding', 'et', 'al.,', '2010),', 'a', 'pd', 'model', 'also', 'was', 'derived', 'from', 'the', 'patient’s', 'brain', 'metastasis', '(whim5),', 'enabling', 'a', 'deep', 'genomic', 'analysis', 'of', 'two', 'enografts', 'from', 'the', 'same', 'patient.', 'the', 'vast', 'majority', 'of', 'the', 'validated', 'somatic', 'snvs', 'and', 'indels', 'were', 'shared', 'by', 'the', 'four', 'genomes', '(n', '=', '1,598)', 'as', 'well', 'as', 'seven', 'translocations,', '11', 'deletions,', 'and', 'four', 'inversions.', 'the', 'breast', 'primary', 'tumor', 'and', 'brain', 'metastasis', 'contained', 'no', 'single', 'sample-unique', 'snv', 'or', 'sv', '(i.e.,', 'all', 'of', 'the', 'snvs', 'were', 'noted', 'in', 'at', 'least', 'one', 'other', 'sample;', 'figure', '3a).', 'however,', 'in', 'every', 'comparison,', 'more', 'snvs', 'were', 'observed', 'in', 'the', 'tumor', 'sample', 'taken', 'at', 'a', 'later', 'time', 'point', 'when', 'compared', 'with', 'a', 'sample', 'taken', 'at', 'an', 'earlier', 'time', 'point', '(whether', 'a', 'pd', 'sample', 'pair', 'or', 'a', 'human', 'sample', 'pair).', 'for', 'eample,', 'in', 'a', 'comparison', 'of', 'the', 'two', 'human', 'specimens,', '13', 'snvs', 'were', 'unique', 'to', 'the', 'primary', 'tumor,', 'but', '231', 'snvs', 'were', 'unique', 'to', 'the', 'metastasis.', 'additionally,', 'both', 'whim', 'lines', 'harbored', 'additional', 'sample-unique', 'noncoding', 'snvs', 'that', 'become', 'detectable', 'after', 'enografting', '(39', 'in', 'the', 'case', 'of', 'whim2', 'and', '43', 'in', 'the', 'case', 'of', 'whim5;', 'figure', '3b).', 'since', 'therapeutic', 'eperiments', 'require', 'etensive', 'epansion', 'of', 'pd', 'models,', 'we', 'also', 'conducted', 'a', '“late-eome”', 'study', 'to', 'characterize', 'genomic', 'drift', 'in', 'the', 'whim2', 'genome,', 'performing', 'eome', 'sequencing', 'on', 'two', 'separate', 'passage', 'eight', 'tumor', 'grafts', '(figure', '3c).', 'this', 'eperiment', 'detected', '38', 'additional', 'variants', 'in', 'both', 'specimens,', 'although', 'none', 'of', 'the', 'snvs', 'were', 'clearly', 'damaging', 'mutations', 'in', 'cancer-associated', 'genes', '(table', 's2k).', 'figure', '3', 'figure', '3', 'whole-genome', 'comparisons', 'of', 'breast', 'primary', 'tumor', 'and', 'brain', 'metastasis', 'with', 'their', 'counterpart', 'pd', 'model', 'enografts', 'from', 'the', 'same', 'patient', 'the', 'genome-wide', 'variant', 'allele', 'frequency', 'is', 'a', 'transplantable', 'phenotype', 'to', 'compare', 'mutant', 'allele', 'representation', 'in', 'the', 'originating', 'tumor', 'isolates', 'versus', 'their', 'corresponding', 'pd', 'models,', 'we', 'obtained', 'deep', 'coverage', 'through', 'our', 'capture-based', 'validation', 'approach', 'and', 'then', 'calculated', 'the', 'proportion', 'of', 'sequencing', 'reads', 'that', 'contained', 'a', 'mutant', 'allele.', 'this', 'value', 'was', 'epressed', 'as', 'a', 'percentage', '(variant', 'allele', 'frequency', '[vaf])', 'and', 'analyzed', 'by', 'scatter-plot', '(figures', '2c', 'and', '2d;', 'see', 'figures', 's7–s9', 'for', 'the', 'remaining', 'eamples).', 'the', 'genome-wide', 'correlation', 'coefficients', 'across', 'the', '13', 'tumor/pd', 'pairs', 'varied', 'from', '0.32', '(whim8)', 'to', '0.86', '(whim5;', 'table', 's2l', 'and', 'figures', 's7–s9).', 'in', 'the', 'majority', 'of', 'cases,', 'there', 'was', 'statistical', 'evidence', 'for', 'vaf', 'stability', 'genome', 'wide,', 'with', 'nine', 'out', 'of', 'the', '13', 'comparisons', 'showing', 'correlation', 'coefficients', 'above', '0.65.', 'for', 'eample,', 'whim18', '(r', '=', '0.85)', 'displayed', 'coding', 'region', '(yellow)', 'and', 'noncoding', 'region', '(blue)', 'vaf', 'stability,', 'including', 'all', 'si', 'smg', 'mutations', '(figure', '2c).', 'eight', 'other', 'pairs', 'ehibited', 'correlation', 'coefficients', 'above', '0.65', '(table', 's1l),', 'suggesting', 'that', 'vaf', 'stability', 'was', 'the', 'rule,', 'not', 'the', 'eception.', 'clearly,', 'differences', 'in', 'tumor', 'purity', 'biased', 'the', 'correlation,', 'as', 'the', 'originating', 'tumors', 'were', 'variably', 'contaminated', 'with', 'dna', 'from', 'normal', 'stromal', 'elements,', 'whereas', 'the', 'pd', 'had', 'been', 'computationally', 'purified.', 'however,', 'whim8', 'stood', 'out', 'from', 'the', 'other', 'cases', 'by', 'ehibiting', 'a', 'low', 'correlation', 'coefficient', '(0.26)', 'and', 'a', 'relatively', 'large', 'number', 'of', 'enograft-specific', 'mutations', 'in', 'the', 'homozygous', 'range', 'of', '80%', 'or', 'higher', '(figure', '2d).', 'this', 'pattern', 'suggests', 'the', 'emergence', 'of', 'a', 'clone', 'that', 'was', 'below', 'the', 'detection', 'limit', 'in', 'the', 'originating', 'tumor', 'sample', 'but', 'had', 'become', 'a', 'significant', 'contributor', 'to', 'the', 'pd', 'mutational', 'repertoire.', 'most', 'pd-specific', 'mutations', 'are', 'not', 'epressed', 'the', 'rna-seq', 'approach', '(cancer', 'genome', 'atlas', 'research', 'network,', '2012b)', 'detected', 'mrna', 'epression', 'from', '462', '(44%)', 'of', 'the', '1,056', 'validated,', 'nonsilent', 'snvs', 'identified', 'by', 'dna', 'sequencing', 'of', '13', 'pd', 'tumors', '(table', 's2m).', 'epression', 'was', 'detected', 'for', 'only', '39', 'of', 'the', '69', 'smg', 'mutations.', 'of', 'the', 'pd-unique', 'smg', 'mutations,', 'only', 'wnk2', 'in', 'whim8,', 'pik3r4', 'and', 'kras', 'in', 'whim9,', 'and', 'map4k2', 'in', 'whim16', 'were', 'detectable', 'in', 'the', 'rna-seq', 'data.', 'however,', 'all', 'tp53', 'mutations', 'were', 'epressed', 'at', 'high', 'levels', '(75%–100%', 'of', 'reads;', 'table', 's2h).', 'the', 'rna-seq', 'data', 'were', 'also', 'used', 'to', 'eamine', 'the', 'epression', 'of', 'pd-specific', 'missense', 'mutations', 'predicted', 'to', 'be', 'functionally', 'significant', 'by', 'polyphen', '(i', 'et', 'al.,', '2004).', 'of', 'the', '34', 'mutations', 'in', 'this', 'class,', 'only', '11', 'were', 'epressed', 'according', 'to', 'the', 'rna-seq', 'reads', '(table', 's2i):', 'hist1h1e', 'in', 'whim6,', 'abcc1', 'in', 'whim8,', 'wdr81', 'in', 'whim13,', 'map4k2', 'in', 'whim16,', 'znf687', 'in', 'whim21,', 'and', 'kras,', 'slc23a,', 'lrrc58,', 'mapk9,', 'kif21b,', 'and', 'pik3r4', 'in', 'whim9.', 'since', 'map3k1', 'mutations', 'have', 'not', 'been', 'previously', 'reported', 'in', 'available', 'cell', 'lines,', 'rna-seq', 'analysis', 'was', 'used', 'to', 'confirm', 'that', 'a', 'splice', 'site', 'mutation', 'in', 'whim20', 'indeed', 'generated', 'a', 'splice', 'donor,', 'leading', 'to', 'an', 'out-of-frame', 'map3k1', 'transcript', '(figure', 's10).', 'the', 'estradiol', 'response', 'of', 'er+', 'pd', 'mirrors', 'the', 'clinical', 'phenotype', 'of', 'the', 'originating', 'tumor', 'the', 'estradiol', 'dependence', 'of', 'each', 'er+', 'pd', 'was', 'studied', 'by', 'transplantation', 'into', 'oophorectomized', 'mice', 'with', 'or', 'without', 'estradiol', 'supplementation.', 'four', 'lumenal', 'pd', 'ehibited', 'estradiol-independent', 'growth', '(figures', '4a,', '4b,', '4d,', 'and', '4e)', 'consistent', 'with', 'the', 'fact', 'these', 'enografted', 'samples', 'were', 'accrued', 'after', 'the', 'development', 'of', 'aromatase', 'inhibitor', 'resistance', '(table', 's2a).', 'whim24', 'was', 'the', 'only', 'eample', 'that', 'ehibited', 'estradiol-dependent', 'growth', '(figure', '4f);', 'the', 'patient', 'who', 'contributed', 'this', 'sample', 'had', 'a', 'protracted', 'clinical', 'course', 'and', 'eperienced', 'a', 'durable', 'clinical', 'response', 'to', 'tamoifen', 'after', 'enograft', 'sample', 'accrual.', 'the', 'growth', 'of', 'whim16', 'was', 'delayed', 'by', 'estradiol', '(figure', '4c).', 'furthermore,', 'established', 'whim16', 'tumors', 'ehibited', 'marked', 'regression', 'in', 'response', 'to', 'estradiol', 'eposure', '(figure', '4g),', 'modeling', 'the', 'paradoical', 'estradiol', 'treatment', 'of', 'advanced', 'breast', 'cancer,', 'which', 'produced', 'a', 'modest', 'response', 'in', 'the', 'patient', 'who', 'contributed', 'this', 'sample', '(ellis', 'et', 'al.,', '2009).', 'the', 'patient', 'who', 'donated', 'whim18', 'had', 'a', 'particularly', 'striking', 'history', 'of', 'fulvestrant', 'resistance', '(progression', 'within', '1', 'month', 'of', 'therapy;', 'table', 's2a),', 'and', 'whim18', 'proved', 'to', 'be', 'just', 'as', 'fulvestrant', 'unresponsive', 'in', 'the', 'pd', 'setting', '(figure', '4h).', 'figure', '4', 'figure', '4', 'estradiol', 'dependency', 'and', 'tumor', 'doubling', 'times', 'for', 'the', 'er+', 'whim', 'lines', 'esr1', 'translocation,', 'point', 'mutation,', 'or', 'gene', 'amplification', 'in', 'er+', 'pd', 'models', 'the', 'rna-seq', 'data', 'analysis', 'identified', 'five', 'interchromosomal', 'in-frame', 'gene', 'fusion', 'events', '(figure', 's11),', 'including', 'a', 'balanced', 'translocation', 'between', '6q', 'and', '11q', 'in', 'whim18', 'that', 'created', 'a', 'transcript', 'encoding', 'the', '5′', 'four', 'eons', 'of', 'esr1', '(amino', 'acids', '1–365),', 'fused', 'to', 'the', 'c', 'terminus', 'of', 'yap1', '(amino', 'acids', '230–504;', 'figure', '5a).', 'western', 'blots', 'on', 'whim18', 'etracts', 'confirmed', 'the', 'presence', 'of', 'an', 'appropriately', 'sized', 'esr1/yap1', 'fusion', 'protein', 'that', 'was', 'detected', 'by', 'an', 'n-terminal', 'esr1', 'antibody', 'and', 'a', 'yap1', 'antibody,', 'but', 'not', 'by', 'a', 'c-terminal', 'esr1', 'antibody', '(figure', '5e).', 'gene', 'amplification', 'across', 'the', 'esr1', 'promoter', 'and', 'coding', 'region', 'was', 'observed', 'in', 'whim16', '(figure', '5b)', 'and', 'was', 'associated', 'with', 'high', 'levels', 'of', 'esr1', 'protein', '(figure', '5d).', 'to', 'quantify', 'and', 'confirm', 'the', 'degree', 'of', 'amplification', 'in', 'whim16,', 'we', 'conducted', 'quantitative', 'pcr', '(qpcr)', 'of', 'the', 'promoter', 'region', 'and', 'two', 'regions', 'of', 'the', 'coding', 'sequence', 'of', 'esr1', '(figure', '5c).', 'in', 'this', 'eperiment,', 'mcf7', 'cell', 'dna', 'was', 'used', 'as', 'a', 'nonamplified', 'esr1', 'control,', 'and,', 'unepectedly,', 'mcf7', 'cells', 'that', 'had', 'been', 'subjected', 'to', 'long-term', 'estrogen', 'deprivation', '(lted)', '(sanchez', 'et', 'al.,', '2011),', 'but', 'not', 'parental', 'mcf7', 'cells,', 'showed', 'marked', 'esr1', 'gene', 'amplification', '(figure', '5c)', 'with', 'associated', 'increased', 'epression', 'levels', 'of', 'esr1', 'protein', '(figure', '5e).', 'these', 'data', 'suggest', 'that', 'esr1', 'amplification', 'is', 'an', 'adaptation', 'to', 'estrogen', 'deprivation', 'in', 'this', 'well-studied', 'model.', 'whim20', 'epressed', 'an', 'esr1-y537s', 'point', 'mutation', 'that', 'was', 'present', 'in', 'the', 'majority', 'of', 'reads', '(96%)', 'in', 'the', 'rna-seq', 'data', '(table', 's2m).', 'whim24', 'harbored', 'an', 'esr1-e380q', 'mutation', '(table', 's2d),', 'which', 'was', 'not', 'detected', 'in', 'the', 'originating', 'tumor', 'but', 'was', 'present', 'in', '42', 'of', '42', 'reads', 'in', 'the', 'pd', '(figure', 's12).', 'low', 'estradiol', 'enografting', '(i.e.,', 'no', 'e2', 'supplementation)', 'may', 'therefore', 'favor', 'the', 'growth', 'of', 'tumors', 'with', 'somatic', 'variants', 'in', 'esr1,', 'since', 'four', 'out', 'of', 'seven', 'er+', 'pds', 'analyzed', 'by', 'sequencing', 'contained', 'a', 'mutation', 'or', 'a', 'gene', 'rearrangement.', 'interestingly,', 'in', 'a', 'recent', 'study', 'by', 'piccart', 'et', 'al.', '(2013),', 'esr1', 'sequencing', 'of', 'advanced', 'breast', 'cancer', 'samples', 'from', 'a', 'clinical', 'trial', 'revealed', 'both', 'esr1-y537s', 'and', 'esr1-e380q.', 'piccart', 'et', 'al.’s', 'report,', 'in', 'combination', 'with', 'our', 'observations,', 'clearly', 'delineates', 'a', 'hot', 'spot', 'of', 'ligand-binding-domain', 'esr1', 'mutations', 'in', 'advanced', 'breast', 'cancer', '(figure', '5d)', 'that', 'complement', 'the', 'initial', 'eample', '(y537n)', 'reported', 'in', 'the', '1990s', '(zhang', 'et', 'al.,', '1997).', 'figure', '5', 'figure', '5', 'esr1', 'gene', 'rearrangements', 'and', 'point', 'mutations', 'in', 'lumenal', 'pd', 'models', 'esr1/yap1', 'and', 'esr1-y537s', 'induce', 'estradiol-independent', 'growth', 'esr1-y537s', 'and', 'esr1-y537n', 'are', 'known', 'to', 'induce', 'estradiol-independent', 'transcriptional', 'activity', '(weis', 'et', 'al.,', '1996;', 'zhang', 'et', 'al.,', '1997).', 'to', 'compare', 'the', 'properties', 'of', 'esr1', 'point', 'mutations', 'affecting', 'the', 'y537', 'residue', 'with', 'the', 'esr1/yap1', 'fusion', 'gene', 'product,', 'mcf7', 'and', 't47d', 'lines', 'were', 'engineered', 'to', 'overepress', 'wild-type', 'esr1,', 'esr1yap1,', 'esr1-y537s,', 'and', 'esr1-y537n', 'proteins', '(yfp', 'provided', 'the', 'control).', 'under', 'low-estrogen', 'conditions,', 'all', 'three', 'mutant', 'esr1', 'constructs', 'increased', 'proliferation', 'in', 't47d', 'and', 'mcf7', 'cells', 'compared', 'with', 'the', 'yfp', 'control,', 'and', 'the', 'three', 'mutant', 'esr1', 'constructs', 'were', 'all', 'more', 'active', 'than', 'wild-type', 'esr1', '(figure', '6a).', 'in', 't47d', 'cells,', 'the', 'proliferation', 'of', 'cells', 'harboring', 'esr1-y537n', 'or', 'esr1-y537s', 'was', 'largely', 'estradiol', 'independent,', 'although', 'some', 'estradiol', 'responsiveness', 'was', 'retained', 'for', 'esr-y537n', 'in', 'mcf7', 'cells.', 'esr1/yap1', 'was', 'as', 'active', 'as', 'the', 'two', 'point', 'mutants', 'in', 'inducing', 'estradiol-independent', 'growth,', 'but', 'e2', 'was', 'able', 'to', 'further', 'stimulate', 'growth', 'in', 'esr1/yap1-epressing', 'cells', 'in', 't47d', 'cells.', 'this', 'indicates', 'that', 'esr1/yap1', 'does', 'not', 'obviously', 'function', 'to', 'inhibit', 'the', 'function', 'of', 'endogenous', 'esr1', '(i.e.,', 'it', 'was', 'not', 'dominant', 'negative).', 'fulvestrant', 'significantly', 'inhibited', 'the', 'growth', 'of', 'cells', 'epressing', 'esr1-y537s,', 'esr1-y537n,', 'and', 'wild-type', 'esr1,', 'and', 'induced', 'downregulation', 'of', 'wild-type', 'and', 'mutant', 'er', 'protein', 'epression', '(figure', 's13).', 'however,', 'growth', 'suppression', 'was', 'incomplete', 'for', 'the', 'two', 'point', 'mutants,', 'suggesting', 'partial', 'resistance', 'to', 'fulvestrant.', 'cells', 'epressing', 'the', 'esr1/yap1', 'fusion', 'were', 'clearly', 'insensitive', 'to', 'fulvestrant', 'and', 'the', 'fusion', 'protein', 'was', 'not', 'downregulated,', 'since', 'the', 'ligand-binding', 'domain', 'of', 'esr1', 'is', 'absent', 'from', 'this', 'chimeric', 'protein', '(figure', 's13).', 'similar', 'overall', 'findings', 'regarding', 'growth', 'induction', 'under', 'low-estrogen', 'conditions', 'by', 'esr1', 'mutants', 'and', 'the', 'esr1/yap1', 'fusion', 'were', 'made', 'in', 'mcf7', 'cells', '(figure', '6b).', 'of', 'note,', 'however,', 'cells', 'epressing', 'esr1-y537s', 'grew', 'poorly', 'relative', 'to', 'cells', 'epressing', 'other', 'esr1', 'mutant', 'constructs', 'and', 'ehibited', 'signs', 'of', 'cell', 'death', '(data', 'not', 'shown).', 'gain-of-function', 'esr1', 'point', 'mutants', 'may', 'therefore', 'require', 'a', 'cellular', 'background', 'that', 'is', 'tolerant', 'of', 'the', 'etreme', 'properties', 'of', 'these', 'constitutively', 'active', 'esr1', 'mutants.', 'in', 'accord', 'with', 'this', 'hypothesis,', 'ectopic', 'epression', 'levels', 'for', 'the', 'y537s', 'mutant', 'were', 'lower', 'than', 'wild-type', 'er', 'in', 'both', 't47d', 'and', 'mcf7', '(figures', '6c', 'and', '6d),', 'and', 'were', 'etremely', 'low', 'in', 'whim20,', 'which', 'naturally', 'epresses', 'the', 'esr1-y537s', 'mutant', '(figure', '5e).', 'lysates', 'from', 'cells', 'grown', 'in', 'charcoal-stripped', 'serum', '(css)', 'media', 'were', 'analyzed', 'for', 'progesterone', 'receptor', '(pr)', 'and', 'trefoil', 'factor', '1', '(tff1)', 'epression', 'by', 'western', 'blot.', 'in', 'both', 'cell', 'lines,', 'the', 'esr1', 'point', 'mutations', 'strongly', 'induced', 'pr', 'epression', 'in', 'a', 'hormone-independent', 'fashion', 'relative', 'to', 'wild-type', 'esr1', 'and', 'yfp', 'control', 'lines,', 'whereas', 'esr1/yap1', 'had', 'a', 'more', 'modest', 'effect.', 'for', 'tff1,', 'the', 'two', 'esr1', 'point', 'mutants', 'induced', 'epression', 'in', 'mcf7', 'cells', 'in', 'low-estradiol', 'conditions,', 'but', 'caused', 'less', 'induction', 'in', 'the', 't47d', 'cells.', 'esr1/yap1', 'strongly', 'induced', 'tff1', 'epression', 'relative', 'to', 'wild-type', 'in', 'both', 'cell', 'lines.', 'in', 'the', 'whim', 'tumors', 'that', 'epressed', 'these', 'mutations', 'naturally,', 'high', 'pr', 'epression', 'was', 'associated', 'with', 'the', 'lines', 'epressing', 'the', 'mutations', 'or', 'gene', 'rearrangements', '(whim16,', 'whim18,', 'whim20,', 'and', 'whim24).', 'in', 'contrast,', 'whim', 'lines', 'with', 'a', 'wild-type', 'esr1', 'locus', '(whim9', 'and', 'whim11)', 'but', 'estradiol-independent', 'growth', 'showed', 'very', 'low', 'levels', 'of', 'pr', 'epression', '(figure', 's14).', 'figure', '6', 'figure', '6', 'point', 'mutations', 'and', 'a', 'translocation', 'in', 'esr1', 'induce', 'estradiol-independent', 'growth', 'go', 'to:', 'discussion', 'in', 'this', 'study,', 'we', 'assessed', 'the', 'degree', 'to', 'which', 'breast', 'cancer', 'pd', 'models', 'are', 'genomic', 'replicas', 'of', 'human', 'tumors', 'based', 'on', 'genome-wide', 'analysis,', 'including', 'translocations,', 'insertions,', 'deletions,', 'point', 'mutations,', 'and', 'amplification', 'events.', 'the', 'stability', 'of', 'svs', 'was', 'striking,', 'suggesting', 'that', 'these', 'genomic', 'features', 'may', 'stabilize', 'early', 'in', 'pathogenesis,', 'perhaps', 'during', 'telomere', 'crisis', '(chin', 'et', 'al.,', '2004).', 'regarding', 'snvs,', 'almost', 'all', 'mutations', 'detected', 'in', 'the', 'originating', 'tumor', 'were', 'present', 'in', 'the', 'pd,', 'but', 'a', 'variable', 'number', 'of', 'snvs', 'were', 'pd', 'unique', '(table', 's2i).', 'however,', 'rna-seq', 'data', 'indicated', 'that', 'most', 'pd-unique', 'snvs', 'have', 'epression', 'levels', 'below', 'the', 'detection', 'limit', 'and', 'therefore', 'may', 'be', 'passengers.', 'pd-unique', 'mutations', 'could', 'arise', 'in', 'the', 'mouse', 'after', 'enografting', 'or', 'may', 'represent', 'a', 'rare', 'subclone', 'that', 'eisted', 'below', 'the', 'detection', 'limit', 'in', 'the', 'originating', 'tumor', 'but', 'increased', 'into', 'the', 'detectable', 'range', 'during', 'growth', 'in', 'the', 'mouse.', 'deep', 'analysis', 'of', 'a', '“quartet”', 'of', 'a', 'primary', 'and', 'metastasis', 'pair', 'with', 'their', 'counterpart', 'pd', 'lines', 'whim2', 'and', 'whim5', 'suggests', 'that', 'enograft-specific', 'mutations', 'indeed', 'arise', 'over', 'time.', 'when', 'we', 'compared', 'samples', 'taken', 'at', 'a', 'later', 'time', 'point', 'with', 'those', 'obtained', 'an', 'earlier', 'time', 'point,', 'whether', 'in', 'the', 'human', 'setting', '(primary', 'tumor', 'and', 'brain', 'metastasis)', 'or', 'enograft', 'setting,', 'we', 'found', 'that', 'the', 'later', 'samples', 'contained', 'multiple', 'snvs', '(figure', '3).', 'these', 'mutations', 'may', 'increase', '“tumor', 'fitness”', 'in', 'the', 'transplanted', 'environment', 'or', 'may', 'just', 'be', 'passengers', 'in', 'a', 'constantly', 'mutating', 'tumor', '(most', 'were', 'in', 'noncoding', 'regions).', 'pd-specific', 'snvs', 'may', 'simply', 'arise', 'from', 'serial', 'population', 'reductions', 'during', 'repeated', 'enografting', 'events,', 'which', 'can', 'select', 'a', 'passenger', 'mutation', 'at', 'random', 'due', 'to', 'cell', 'attrition', 'during', 'transplantation', '(“population', 'bottlenecking”;', 'gisselsson', 'et', 'al.,', '2010).', 'this', 'might', 'eplain', 'the', 'accumulation', 'of', 'seemingly', 'nonfunctional', 'mutations', 'observed', 'with', 'late-passage', 'eome', 'sequencing', '(table', 's2k).', 'however,', 'selection', 'by', 'increasing', 'tumor', 'fitness', 'is', 'a', 'more', 'likely', 'eplanation', 'for', 'cases', 'in', 'which', 'the', 'pd-specific', 'mutations', 'were', 'detectable', 'at', 'the', 'mrna', 'level', 'and', 'were', 'functionally', 'linked', 'to', 'cancer', 'biology,', 'such', 'as', 'wnk2', 'in', 'whim8', '(jun', 'et', 'al.,', '2009;', 'moniz', 'et', 'al.,', '2007),', 'pik3r4', '(huang', 'et', 'al.,', '2011;', 'shull', 'et', 'al.,', '2012)', 'and', 'kras', '(santos', 'et', 'al.,', '1984)', 'in', 'whim9,', 'map4k2', 'in', 'whim16', '(lau', 'et', 'al.,', '2012),', 'and', 'esr1-e380q', 'in', 'whim24.', 'thus,', 'we', 'are', 'not', 'arguing', 'that', 'pds', 'are', 'perfect', 'genomic', 'replicas', 'of', 'the', 'originating', 'tumors;', 'rather,', 'we', 'suggest', 'that', 'tracking', 'the', 'pd', 'genome,', 'benchmarked', 'against', 'the', 'originating', 'tumor,', 'is', 'a', 'way', 'to', 'assess', 'the', 'ongoing', 'genomic', 'integrity', 'of', 'the', 'model', 'during', 'eperimentation.', 'this', 'is', 'something', 'that', 'has', 'never', 'been', 'considered', 'for', 'conventional', 'cell-line', 'approaches,', 'where', 'the', 'progenitor', 'tumor', 'genome', 'is', 'rarely', 'available', 'and', 'analysis', 'of', 'ongoing', 'genetic', 'drift', 'is', 'not', 'a', 'routine', 'aspect', 'of', 'eperimental', 'design.', 'an', 'important', 'issue', 'that', 'was', 'not', 'addressed', 'by', 'previous', 'investigations', 'is', 'the', 'effect', 'of', 'the', 'enografting', 'process', 'on', 'the', 'vaf,', 'since', 'each', 'mutation', 'can', 'either', 'be', 'present', 'in', 'the', 'founder', 'clone', '(and', 'therefore', 'present', 'in', 'all', 'cells)', 'or', 'arise', 'later', 'in', 'a', 'subclone', 'and', 'therefore', 'occur', 'with', 'a', 'lower', 'frequency', 'because', 'it', 'is', 'present', 'in', 'only', 'a', 'subpopulation', 'of', 'cells.', 'vaf', 'analysis,', 'perhaps', 'surprisingly,', 'showed', 'that', 'the', 'vaf', 'for', 'many', 'mutations', 'was', 'preserved', 'in', 'the', 'pd,', 'even', 'in', 'the', 'case', 'of', 'rare', 'mutations.', 'this', 'implies', 'that', 'clonal', 'representation', 'can', 'be', 'transplantable,', 'i.e.,', 'different', 'clones', 'maintain', 'their', 'relative', 'prevalence', 'in', 'equilibrium.', 'since', 'clonal', 'prevalence', 'is', 'maintained', 'despite', 'growth', 'in', 'an', 'immunocompromised', 'host,', 'immunoediting', '(differential', 'immune', 'responses', 'against', 'particular', 'mutant', 'proteins)', 'is', 'an', 'unlikely', 'eplanation', 'for', 'relative', 'clone', 'abundance', 'in', 'this', 'setting', '(dupage', 'et', 'al.,', '2012;', 'matsushita', 'et', 'al.,', '2012).', 'our', 'findings', 'are', 'compatible', 'with', 'other', 'recent', 'studies', 'on', 'the', 'clonal', 'diversity', 'of', 'epithelial', 'cancers,', 'which', 'showed', 'that', 'minor', 'clones', 'are', 'carried', 'at', 'low', 'frequencies', 'for', 'many', 'passages', 'until', 'a', 'section', 'event', '(e.g.,', 'therapeutic', 'intervention', 'or', 'the', 'process', 'of', 'adaption', 'to', 'growth', 'in', 'a', 'new', 'organ)', 'increases', 'the', 'minor', 'mutation', 'prevalence', '(ding', 'et', 'al.,', '2012;', 'kreso', 'et', 'al.,', '2013).', 'genomic', 'analysis', 'of', 'each', 'er+', 'pd', 'raised', 'tumor-unique', 'hypotheses', 'to', 'eplain', 'endocrine-therapy', 'resistance,', 'underscoring', 'the', 'etiological', 'heterogeneity', 'of', 'this', 'common', 'clinical', 'problem.', 'the', 'whim11', 'line', 'was', 'isolated', 'from', 'a', 'patient', 'with', 'a', 'fulminant', 'clinical', 'course', 'and', 'little', 'evidence', 'for', 'sensitivity', 'to', 'endocrine', 'therapy', '(table', 's2a).', 'despite', 'the', 'patient’s', 'er+', 'her2−', 'status,', 'whim11', 'was', 'classified', 'as', 'her2-e', 'by', 'pam50.', 'this', 'biomarker', 'pattern', 'predicts', 'poor', 'responsiveness', 'to', 'aromatase', 'inhibition', '(ellis', 'et', 'al.,', '2011).', 'whim11', 'was', 'a', 'tp53', 'mutant', 'and', 'harbored', 'a', 'biallelic', 'deletion', 'in', 'pten', '(figure', 's6).', 'rppa', 'data', 'confirmed', 'high', 'levels', 'of', 'ps70s5k', 'and', '4ebp1', 'protein', 'phosphorylation,', 'indicating', 'phosphoinositol-3-kinase', 'pathway', 'activation', '(figure', 's3),', 'which', 'has', 'been', 'implicated', 'in', 'endocrine-therapy', 'resistance', '(sanchez', 'et', 'al.,', '2011).', 'whim9', 'harbored', 'monoallelic', 'epression', 'of', 'an', 'r515i', 'mutation', 'in', 'smad4', '(table', 's2m).', 'smad4', 'mutations', 'were', 'recently', 'associated', 'with', 'genome', 'instability', 'in', 'head', 'and', 'neck', 'cancer', '(bornstein', 'et', 'al.,', '2009),', 'which', 'could', 'eplain', 'why', 'this', 'particular', 'lumenal', 'pd', 'had', 'a', 'high', 'rate', 'of', 'pd-specific', 'mutations,', 'although', 'which', 'mutation', 'caused', 'endocrine', 'resistance', 'in', 'this', 'line', 'remains', 'unclear.', 'whim16', 'ehibited', 'paradoical', 'regression', 'with', 'estradiol,', 'which', 'is', 'an', 'effective', 'but', 'nonintuitive', 'late-line', 'endocrine', 'therapy', 'for', 'some', 'advanced', 'er+', 'breast', 'cancers', '(ellis', 'et', 'al.,', '2009).', 'the', 'esr1', 'amplification', 'and', 'high-level', 'esr1', 'protein', 'epression', 'in', 'whim16', 'therefore', 'raise', 'the', 'hypothesis', 'that', 'esr1', 'amplification', 'may', 'be', 'a', 'predictive', 'marker', 'for', 'responsiveness', 'to', 'estradiol', 'therapy', 'in', 'advanced', 'disease.', 'this', 'suggestion', 'is', 'consistent', 'with', 'the', 'finding', '(figures', '5b', 'and', '5c)', 'that', 'mcf7', 'cells', 'develop', 'esr1', 'gene', 'amplification', 'after', 'lted', 'in', 'vitro,', 'conditions', 'under', 'which', 'estradiol', 'is', 'well', 'known', 'to', 'induce', 'apoptosis', '(lewis', 'et', 'al.,', '2005;', 'song', 'et', 'al.,', '2001).', 'in', 't47d', 'cells,', 'overepression', 'of', 'wild-type', 'esr1', 'gene/protein', 'increased', 'growth', 'in', 'low-estradiol', 'conditions,', 'supporting', 'the', 'notion', 'that', 'by', 'driving', 'esr1', 'overepression,', 'esr1', 'gene', 'amplification', 'promotes', 'adaptive', 'resistance', 'to', 'estrogen', 'deprivation', '(figure', '6b).', 'this', 'hypothesis', 'is', 'also', 'compatible', 'with', 'clinical', 'observations', 'indicating', 'that', 'esr1', 'amplification', 'is', 'associated', 'with', 'poor', 'clinical', 'outcome', '(ejlertsen', 'et', 'al.,', '2012;', 'lin', 'et', 'al.,', '2013;', 'nielsen', 'et', 'al.,', '2011).', 'the', 'esr1-y537s', 'hormone-binding-domain', 'mutation', 'is', 'clearly', 'a', 'potent', 'cause', 'of', 'aromatase-inhibitor', 'resistance.', 'epression', 'of', 'esr1-y537s', 'produced', 'greater', 'growth', 'than', 'wild-type', 'esr1', 'under', 'estrogen-deprived', 'conditions', 'and', 'very', 'strong', 'induction', 'of', 'pr', 'in', 'the', 'absence', 'of', 'estradiol', 'in', 'both', 'cell', 'lines', 'tested', '(figures', '6c', 'and', '6d).', 'since', 'esr1-y537s', '(or', 'other', 'mutations', 'in', 'this', 'region', 'of', 'esr1)', 'was', 'not', 'observed', 'in', '>500', 'eome', 'sequencing', 'eperiments', 'by', 'the', 'tcga,', 'it', 'seems', 'likely', 'that', 'mutations', 'in', 'the', 'hormone-binding', 'domain', 'largely', 'occur', 'as', 'an', 'adaptation', 'to', 'endocrine', 'treatment.', 'consistent', 'with', 'this', 'conclusion,', 'an', 'esr1', 'mutation', 'hotspot', 'in', 'the', 'ligand-binding-domain/af2', 'region', 'was', 'observed', 'in', 'metastatic', 'samples', 'from', 'a', 'clinical', 'trial', 'for', 'patients', 'with', 'nonsteroidal', 'aromatase-inhibitor-resistant', 'advanced', 'breast', 'cancer', '(piccart', 'et', 'al.,', '2013).', 'our', 'in', 'vitro', 'data', 'indicate', 'that', 'esr1-y537s', 'was', 'responsive', 'to', 'fulvestrant,', 'as', 'protein', 'epression', 'was', 'downregulated.', 'however,', 'suppression', 'of', 'growth', 'was', 'incomplete,', 'indicating', 'partial', 'resistance', '(figures', '6', 'and', 's13).', 'the', 'patient', 'whose', 'tumor', 'harbored', 'esr1-y537s', '(whim20)', 'eperienced', 'only', '4', 'months', 'of', 'clinical', 'benefit', 'from', 'fulvestrant,', 'which', 'is', 'compatible', 'with', 'the', 'hypothesis', 'that', 'esr1-y537s-positive', 'tumors', 'may', 'be', 'less', 'responsive', 'to', 'this', 'commonly', 'used', 'second-line', 'endocrine', 'intervention', 'for', 'advanced', 'breast', 'cancer.', 'whim24,', 'a', 'pd', 'that', 'was', 'estradiol', 'dependent', '(figure', '4)', 'and', 'associated', 'with', 'a', 'tamoifen', 'clinical', 'response', '(but', 'resistance', 'to', 'aromatase', 'inhibition)', 'harbored', 'an', 'esr1-e380q', 'mutation.', 'this', 'mutation', 'has', 'already', 'been', 'documented', 'to', 'be', 'associated', 'with', 'estradiol', 'hypersensitivity,', 'increased', 'dna', 'binding,', 'and', 'estradiol-independent', 'activity', '(pakdel', 'et', 'al.,', '1993).', 'however,', 'esr1-e380q', 'was', 'not', 'detected', 'in', 'the', 'relatively', 'low-coverage', 'wgs', 'analysis', 'of', 'the', 'originating', 'tumor,', 'so', 'the', 'link', 'with', 'the', 'clinical', 'phenotypes', 'observed', 'is', 'uncertain', '(figure', 's11).', 'the', 'identification', 'of', 'the', 'esr1/yap1', 'fusion', 'gene', 'in', 'whim18', 'completes', 'the', 'mechanistic', 'spectrum', 'of', 'gain-of-function', 'mutations', 'in', 'esr1', 'associated', 'with', 'endocrine-resistant', 'breast', 'cancers.', 'yap1', 'plays', 'a', 'central', 'role', 'in', 'organ', 'size', 'and', 'tumorigenesis', 'through', 'the', 'hippo', 'pathway', '(lin', 'et', 'al.,', '2013);', 'however,', 'the', 'domains', 'that', 'are', 'responsible', 'for', 'most', 'of', 'these', 'biological', 'properties', 'are', 'in', 'the', 'n', 'terminus', 'of', 'yap1', 'and', 'therefore', 'absent', 'from', 'the', 'fusion', 'gene.', 'analysis', 'of', 'tcga', 'breast', 'cancer', 'rna-seq', 'data', 'revealed', 'two', 'other', 'in-frame', 'fusion', 'genes', 'that', 'preserve', 'at', 'least', 'the', 'first', 'four', 'eons', 'of', 'esr1', '(preserving', 'dna', 'binding).', 'in', 'one', 'case,', 'a', 'fusion', 'was', 'detected', 'with', 'akap12,', 'a', 'putative', 'tumor-suppressor', 'gene', '(gelman,', '2012),', 'and', 'in', 'the', 'second', 'case', 'it', 'was', 'detected', 'with', 'polh,', 'a', 'dna', 'polymerase', 'associated', 'with', 'eroderma', 'pigmentosum', '(ortega-recalde', 'et', 'al.,', '2013;', 'figure', 's15).', 'these', 'findings', 'indicate', 'that', 'the', 'esr1/yap1', 'translocation', 'documented', 'in', 'whim18', 'is', 'not', 'a', 'private', 'event,', 'but', 'is', 'a', 'member', 'of', 'a', 'class', 'of', 'translocations', 'that', 'preserve', 'the', 'dna-binding', 'and', 'af1', 'domains', 'of', 'esr1', 'with', 'variable', 'in-frame', 'c-terminal', 'partners', 'that', 'replace', 'the', 'ligand-binding', 'and', 'af2', 'domains.', 'although', 'these', 'in-frame', 'esr1', 'translocations', 'are', 'likely', 'rare,', 'the', 'denominator', 'for', 'breast', 'cancer', 'is', 'so', 'large', 'that', 'even', 'low', 'percentages', 'of', 'particular', 'somatic', 'events', 'can', 'represent', 'clinically', 'significant', 'patient', 'populations', 'if', 'the', 'effect', 'on', 'the', 'disease', 'course', 'is', 'dramatic', '(i.e.,', 'in', 'this', 'instance,', 'intrinsic', 'and', 'universal', 'endocrine-therapy', 'resistance).', 'in', 'conclusion,', 'pd', 'models', 'validated', 'through', 'comparative', 'whole-genome', 'analysis', 'against', 'the', 'originating', 'tumor', 'are', 'a', 'useful', 'starting', 'point', 'for', 'studies', 'of', 'the', 'molecular', 'pharmacology', 'of', 'advanced', 'breast', 'cancer.', 'no', 'actively', 'growing', 'cancer', 'has', 'a', 'static', 'genome,', 'and', 'genetic', 'drift', 'though', 'cell', 'attrition', 'is', 'inherent', 'in', 'the', 'enografting', 'process.', 'furthermore,', 'selection', 'of', 'mutations', 'that', 'increase', 'tumor', 'fitness', 'in', 'the', 'murine', 'environment', 'is', 'to', 'be', 'epected.', 'however,', 'unlike', 'conventional', 'cell', 'lines,', 'pd-specific', 'mutations', 'can', 'be', 'monitored', 'with', 'reference', 'to', 'the', 'genome', 'of', 'the', 'originating', 'human', 'tumor,', 'establishing', 'a', 'tumor', '“pedigree”', 'that', 'can', 'be', 'checked', 'before', 'and', 'after', 'each', 'functional', 'or', 'pharmacological', 'eperiment.', 'this', 'continuous', 'genomic', 'annotation', 'approach', 'is', 'illustrated', 'by', 'the', 'late-passage', 'eome', 'sequencing', 'conducted', 'in', 'whim2', '(figure', '3).', 'the', 'identification', 'of', 'endocrine-resistance-associated', 'esr1', 'gene', 'rearrangements', 'and', 'point', 'mutations', 'has', 'deep', 'implications', 'for', 'the', 'management', 'of', 'metastatic', 'breast', 'cancer.', 'the', 'choice', 'of', 'endocrine', 'therapy', 'in', 'an', 'advanced-disease', 'setting', 'could', 'be', 'based', 'on', 'the', 'presence', 'and', 'class', 'of', 'esr1', 'gene', 'mutations', 'and', 'rearrangements', 'if', 'more', 'were', 'known', 'about', 'the', 'correlations', 'with', 'outcomes.', 'the', 'detection', 'of', 'these', 'mutations', 'in', 'the', 'enograft', 'setting', 'establishes', 'the', 'principle', 'that', 'the', 'pd', 'approach', 'captures', 'genomic', 'events', 'that', 'have', 'been', 'understudied', 'in', 'the', 'past', 'because', 'they', 'are', 'not', 'present', 'in', 'conventional', 'er+', 'cell', 'lines', 'even', 'when', 'eperimentally', 'selected', 'for', 'endocrine', 'drug', 'resistance', 'in', 'vitro.', 'the', 'availability', 'of', 'authentic', 'pd-based', 'models', 'of', 'endocrine-therapy-resistant', 'lumenal', 'breast', 'cancer', 'will', 'facilitate', 'the', 'testing', 'of', 'therapeutic', 'interventions', 'and', 'perhaps', 'particularly', 'those', 'designed', 'to', 'more', 'effectively', 'target', 'mutant', 'forms', 'of', 'esr1.'], tags=['Train_0'])]\n"
     ]
    }
   ],
   "source": [
    "X_train = label_sentences(X_tr, 'Train')\n",
    "X_validation = label_sentences(X_val, 'Test')\n",
    "all_data = X_train + X_validation \n",
    "print(len(all_data))\n",
    "print(all_data[:1])"
   ]
  },
  {
   "cell_type": "markdown",
   "metadata": {},
   "source": [
    "#### Some issues in the text :\n",
    " * 1) fig, figure, s1 \n",
    " * 2) number, year, reference index "
   ]
  },
  {
   "cell_type": "markdown",
   "metadata": {},
   "source": [
    "### A Doc2Vec model-Distributed Bag of Words (DBOW)"
   ]
  },
  {
   "cell_type": "code",
   "execution_count": 34,
   "metadata": {},
   "outputs": [
    {
     "name": "stderr",
     "output_type": "stream",
     "text": [
      "100%|██████████| 664/664 [00:00<00:00, 660896.50it/s]\n"
     ]
    }
   ],
   "source": [
    "from gensim.models import Doc2Vec\n",
    "from tqdm import tqdm\n",
    "from sklearn import utils\n",
    "model_dbow = Doc2Vec(dm=0, vector_size=300, negative=5, min_count=1, alpha=0.065, min_alpha=0.065)\n",
    "model_dbow.build_vocab([x for x in tqdm(all_data)])"
   ]
  },
  {
   "cell_type": "code",
   "execution_count": 35,
   "metadata": {},
   "outputs": [
    {
     "name": "stderr",
     "output_type": "stream",
     "text": [
      "100%|██████████| 664/664 [00:00<00:00, 350537.18it/s]\n",
      "100%|██████████| 664/664 [00:00<00:00, 908948.39it/s]\n",
      "100%|██████████| 664/664 [00:00<00:00, 948252.59it/s]\n",
      "100%|██████████| 664/664 [00:00<00:00, 1036092.95it/s]\n",
      "100%|██████████| 664/664 [00:00<00:00, 742869.53it/s]\n",
      "100%|██████████| 664/664 [00:00<00:00, 695038.15it/s]\n",
      "100%|██████████| 664/664 [00:00<00:00, 1079464.29it/s]\n",
      "100%|██████████| 664/664 [00:00<00:00, 598799.80it/s]\n",
      "100%|██████████| 664/664 [00:00<00:00, 730975.82it/s]\n",
      "100%|██████████| 664/664 [00:00<00:00, 838860.80it/s]\n",
      "100%|██████████| 664/664 [00:00<00:00, 1025411.58it/s]\n",
      "100%|██████████| 664/664 [00:00<00:00, 907171.94it/s]\n",
      "100%|██████████| 664/664 [00:00<00:00, 927103.15it/s]\n",
      "100%|██████████| 664/664 [00:00<00:00, 1035707.64it/s]\n",
      "100%|██████████| 664/664 [00:00<00:00, 926486.31it/s]\n",
      "100%|██████████| 664/664 [00:00<00:00, 635848.83it/s]\n",
      "100%|██████████| 664/664 [00:00<00:00, 954099.98it/s]\n",
      "100%|██████████| 664/664 [00:00<00:00, 656998.79it/s]\n",
      "100%|██████████| 664/664 [00:00<00:00, 834087.41it/s]\n",
      "100%|██████████| 664/664 [00:00<00:00, 878831.76it/s]\n",
      "100%|██████████| 664/664 [00:00<00:00, 705424.99it/s]\n",
      "100%|██████████| 664/664 [00:00<00:00, 1087048.34it/s]\n",
      "100%|██████████| 664/664 [00:00<00:00, 902176.18it/s]\n",
      "100%|██████████| 664/664 [00:00<00:00, 686133.99it/s]\n",
      "100%|██████████| 664/664 [00:00<00:00, 862501.66it/s]\n",
      "100%|██████████| 664/664 [00:00<00:00, 1056531.81it/s]\n",
      "100%|██████████| 664/664 [00:00<00:00, 1074881.46it/s]\n",
      "100%|██████████| 664/664 [00:00<00:00, 673685.98it/s]\n",
      "100%|██████████| 664/664 [00:00<00:00, 780773.16it/s]\n",
      "100%|██████████| 664/664 [00:00<00:00, 958368.15it/s]\n"
     ]
    },
    {
     "name": "stdout",
     "output_type": "stream",
     "text": [
      "CPU times: user 8min 43s, sys: 4.05 s, total: 8min 47s\n",
      "Wall time: 3min 2s\n"
     ]
    }
   ],
   "source": [
    "%%time\n",
    "for epoch in range(30):\n",
    "    model_dbow.train(utils.shuffle([x for x in tqdm(all_data)]), total_examples=len(all_data), epochs=1)\n",
    "    model_dbow.alpha -= 0.002\n",
    "    model_dbow.min_alpha = model_dbow.alpha"
   ]
  },
  {
   "cell_type": "code",
   "execution_count": 36,
   "metadata": {},
   "outputs": [],
   "source": [
    "def get_vectors(model, corpus_size, vectors_size, vectors_type):\n",
    "    \"\"\"\n",
    "    Get vectors from trained doc2vec model\n",
    "    :param doc2vec_model: Trained Doc2Vec model\n",
    "    :param corpus_size: Size of the data\n",
    "    :param vectors_size: Size of the embedding vectors\n",
    "    :param vectors_type: Training or Testing vectors\n",
    "    :return: list of vectors\n",
    "    \"\"\"\n",
    "    vectors = np.zeros((corpus_size, vectors_size))\n",
    "    for i in range(0, corpus_size):\n",
    "        prefix = vectors_type + '_' + str(i)\n",
    "        vectors[i] = model.docvecs[prefix]\n",
    "    return vectors"
   ]
  },
  {
   "cell_type": "code",
   "execution_count": 67,
   "metadata": {},
   "outputs": [],
   "source": [
    "train_vectors_dbow = get_vectors(model_dbow, len(X_train), 300, 'Train')\n",
    "val_vectors_dbow = get_vectors(model_dbow, len(X_validation), 300, 'Test')"
   ]
  },
  {
   "cell_type": "code",
   "execution_count": 68,
   "metadata": {},
   "outputs": [],
   "source": [
    "clf =xgb.XGBClassifier(objective=\"multi:softprob\", random_state=42)"
   ]
  },
  {
   "cell_type": "code",
   "execution_count": 69,
   "metadata": {},
   "outputs": [
    {
     "data": {
      "text/plain": [
       "XGBClassifier(base_score=0.5, booster='gbtree', colsample_bylevel=1,\n",
       "       colsample_bytree=1, gamma=0, learning_rate=0.1, max_delta_step=0,\n",
       "       max_depth=3, min_child_weight=1, missing=None, n_estimators=100,\n",
       "       n_jobs=1, nthread=None, objective='multi:softprob', random_state=42,\n",
       "       reg_alpha=0, reg_lambda=1, scale_pos_weight=1, seed=None,\n",
       "       silent=True, subsample=1)"
      ]
     },
     "execution_count": 69,
     "metadata": {},
     "output_type": "execute_result"
    }
   ],
   "source": [
    "clf.fit(train_vectors_dbow, y_tr)  \n"
   ]
  },
  {
   "cell_type": "code",
   "execution_count": 70,
   "metadata": {},
   "outputs": [
    {
     "data": {
      "text/plain": [
       "array([0.21115369, 0.17018116, 0.00805084, 0.24195004, 0.15148887,\n",
       "       0.08475184, 0.12203635, 0.00750288, 0.00288434], dtype=float32)"
      ]
     },
     "execution_count": 70,
     "metadata": {},
     "output_type": "execute_result"
    }
   ],
   "source": [
    "predicted = clf.predict_proba(val_vectors_dbow)\n",
    "predicted[0]"
   ]
  },
  {
   "cell_type": "code",
   "execution_count": 71,
   "metadata": {},
   "outputs": [
    {
     "data": {
      "text/plain": [
       "0.5074626865671642"
      ]
     },
     "execution_count": 71,
     "metadata": {},
     "output_type": "execute_result"
    }
   ],
   "source": [
    "clf.score(val_vectors_dbow, y_val)"
   ]
  },
  {
   "cell_type": "markdown",
   "metadata": {},
   "source": [
    "### Logistic regression "
   ]
  },
  {
   "cell_type": "code",
   "execution_count": 72,
   "metadata": {},
   "outputs": [
    {
     "data": {
      "text/plain": [
       "0.5373134328358209"
      ]
     },
     "execution_count": 72,
     "metadata": {},
     "output_type": "execute_result"
    }
   ],
   "source": [
    "from sklearn.linear_model import LogisticRegression\n",
    "\n",
    "logreg = LogisticRegression(multi_class='multinomial', solver = 'lbfgs')\n",
    "logreg.fit(train_vectors_dbow, y_tr)  \n",
    "logreg.score(val_vectors_dbow, y_val)"
   ]
  },
  {
   "cell_type": "markdown",
   "metadata": {},
   "source": [
    "### Distributed Memory"
   ]
  },
  {
   "cell_type": "code",
   "execution_count": 73,
   "metadata": {},
   "outputs": [
    {
     "name": "stderr",
     "output_type": "stream",
     "text": [
      "100%|██████████| 664/664 [00:00<00:00, 871952.99it/s]\n"
     ]
    }
   ],
   "source": [
    "model_dm = Doc2Vec(dm=1, dm_mean=1, vector_size=300, window=10, negative=5, min_count=1, workers=5, alpha=0.065, min_alpha=0.065)\n",
    "model_dm.build_vocab([x for x in tqdm(all_data)])"
   ]
  },
  {
   "cell_type": "code",
   "execution_count": 74,
   "metadata": {},
   "outputs": [
    {
     "name": "stderr",
     "output_type": "stream",
     "text": [
      "100%|██████████| 664/664 [00:00<00:00, 546832.49it/s]\n",
      "100%|██████████| 664/664 [00:00<00:00, 564225.66it/s]\n",
      "100%|██████████| 664/664 [00:00<00:00, 747254.59it/s]\n",
      "100%|██████████| 664/664 [00:00<00:00, 690557.37it/s]\n",
      "100%|██████████| 664/664 [00:00<00:00, 800062.58it/s]\n",
      "100%|██████████| 664/664 [00:00<00:00, 579849.65it/s]\n",
      "100%|██████████| 664/664 [00:00<00:00, 674665.18it/s]\n",
      "100%|██████████| 664/664 [00:00<00:00, 802136.48it/s]\n",
      "100%|██████████| 664/664 [00:00<00:00, 573875.51it/s]\n",
      "100%|██████████| 664/664 [00:00<00:00, 794584.27it/s]\n",
      "100%|██████████| 664/664 [00:00<00:00, 803293.30it/s]\n",
      "100%|██████████| 664/664 [00:00<00:00, 870862.37it/s]\n",
      "100%|██████████| 664/664 [00:00<00:00, 636430.04it/s]\n",
      "100%|██████████| 664/664 [00:00<00:00, 530884.07it/s]\n",
      "100%|██████████| 664/664 [00:00<00:00, 1020900.97it/s]\n",
      "100%|██████████| 664/664 [00:00<00:00, 870590.14it/s]\n",
      "100%|██████████| 664/664 [00:00<00:00, 665953.58it/s]\n",
      "100%|██████████| 664/664 [00:00<00:00, 959028.19it/s]\n",
      "100%|██████████| 664/664 [00:00<00:00, 635994.03it/s]\n",
      "100%|██████████| 664/664 [00:00<00:00, 822266.86it/s]\n",
      "100%|██████████| 664/664 [00:00<00:00, 798915.05it/s]\n",
      "100%|██████████| 664/664 [00:00<00:00, 855612.24it/s]\n",
      "100%|██████████| 664/664 [00:00<00:00, 834587.31it/s]\n",
      "100%|██████████| 664/664 [00:00<00:00, 711916.63it/s]\n",
      "100%|██████████| 664/664 [00:00<00:00, 618343.22it/s]\n",
      "100%|██████████| 664/664 [00:00<00:00, 682937.19it/s]\n",
      "100%|██████████| 664/664 [00:00<00:00, 613710.41it/s]\n",
      "100%|██████████| 664/664 [00:00<00:00, 409441.03it/s]\n",
      "100%|██████████| 664/664 [00:00<00:00, 694518.17it/s]\n",
      "100%|██████████| 664/664 [00:00<00:00, 729062.27it/s]\n"
     ]
    },
    {
     "name": "stdout",
     "output_type": "stream",
     "text": [
      "CPU times: user 13min 59s, sys: 5.58 s, total: 14min 4s\n",
      "Wall time: 3min 41s\n"
     ]
    }
   ],
   "source": [
    "%%time\n",
    "for epoch in range(30):\n",
    "    model_dm.train(utils.shuffle([x for x in tqdm(all_data)]), total_examples=len(all_data), epochs=1)\n",
    "    model_dm.alpha -= 0.002\n",
    "    model_dm.min_alpha = model_dm.alpha"
   ]
  },
  {
   "cell_type": "code",
   "execution_count": 75,
   "metadata": {},
   "outputs": [],
   "source": [
    "train_vectors_dm = get_vectors(model_dm, len(X_train), 300, 'Train')\n",
    "test_vectors_dm = get_vectors(model_dm, len(X_validation), 300, 'Test')"
   ]
  },
  {
   "cell_type": "code",
   "execution_count": 76,
   "metadata": {},
   "outputs": [
    {
     "data": {
      "text/plain": [
       "0.23880597014925373"
      ]
     },
     "execution_count": 76,
     "metadata": {},
     "output_type": "execute_result"
    }
   ],
   "source": [
    "logreg.fit(train_vectors_dm, y_tr)\n",
    "logreg.score(val_vectors_dbow, y_val)"
   ]
  },
  {
   "cell_type": "markdown",
   "metadata": {},
   "source": [
    "### Blend "
   ]
  },
  {
   "cell_type": "code",
   "execution_count": 84,
   "metadata": {},
   "outputs": [],
   "source": [
    "def get_concat_vectors(model1,model2, corpus_size, vectors_size, vectors_type):\n",
    "    vectors = np.zeros((corpus_size, vectors_size))\n",
    "    for i in range(0, corpus_size):\n",
    "        prefix = vectors_type + '_' + str(i)\n",
    "        vectors[i] = np.append(model1.docvecs[prefix],model2.docvecs[prefix])\n",
    "    return vectors"
   ]
  },
  {
   "cell_type": "code",
   "execution_count": 86,
   "metadata": {},
   "outputs": [],
   "source": [
    "train_vecs_dbow_dm = get_concat_vectors(model_dbow,model_dm, len(X_train), 600, 'Train')\n",
    "val_vectors_dbow= get_concat_vectors(model_dbow,model_dm, len(X_validation), 600, 'Test')"
   ]
  },
  {
   "cell_type": "code",
   "execution_count": 89,
   "metadata": {},
   "outputs": [
    {
     "name": "stdout",
     "output_type": "stream",
     "text": [
      "CPU times: user 1.91 s, sys: 0 ns, total: 1.91 s\n",
      "Wall time: 1.91 s\n"
     ]
    }
   ],
   "source": [
    "%%time\n",
    "logreg = LogisticRegression()\n",
    "logreg.fit(train_vecs_dbow_dm, y_tr)\n"
   ]
  },
  {
   "cell_type": "code",
   "execution_count": 90,
   "metadata": {},
   "outputs": [
    {
     "data": {
      "text/plain": [
       "0.4925373134328358"
      ]
     },
     "execution_count": 90,
     "metadata": {},
     "output_type": "execute_result"
    }
   ],
   "source": [
    "logreg.score(val_vectors_dbow, y_val)"
   ]
  },
  {
   "cell_type": "code",
   "execution_count": null,
   "metadata": {},
   "outputs": [],
   "source": [
    "# model_dm.save('d2v_model_dm.doc2vec')\n",
    "# model_dm = Doc2Vec.load('d2v_model_dm.doc2vec')\n",
    "# model_dm.delete_temporary_training_data(keep_doctags_vectors=True, keep_inference=True)"
   ]
  },
  {
   "cell_type": "markdown",
   "metadata": {},
   "source": [
    "> ## 3. Training"
   ]
  },
  {
   "cell_type": "markdown",
   "metadata": {},
   "source": [
    "## 3.1 Bag of words + Model"
   ]
  },
  {
   "cell_type": "markdown",
   "metadata": {},
   "source": [
    "### 3.1.1 Naive Bayes classifier for multinomial models\n",
    "Suitable for classification with discrete features (e.g., word counts for text classification). The multinomial distribution normally requires integer feature counts. However, in practice, fractional counts such as tf-idf may also work."
   ]
  },
  {
   "cell_type": "code",
   "execution_count": null,
   "metadata": {},
   "outputs": [],
   "source": [
    "clf = Pipeline([('vect', CountVectorizer(preprocessor=clean_text_stemmed, stop_words =stop_words)),\n",
    "                         ('tfidf', TfidfTransformer()),\n",
    "                         ('clf',  MultinomialNB())])                           "
   ]
  },
  {
   "cell_type": "code",
   "execution_count": null,
   "metadata": {},
   "outputs": [],
   "source": [
    "clf.fit(X_tr, y_tr)  \n",
    "predicted = clf.predict(X_val)\n",
    "acc=np.mean(predicted == y_val)\n",
    "print(acc)\n",
    "#print(classification_report(y_val, predicted))"
   ]
  },
  {
   "cell_type": "markdown",
   "metadata": {},
   "source": [
    "### 3.1.2 SGD \n",
    "\n",
    "This estimator implements regularized linear models with stochastic gradient descent (SGD) learning: the gradient of the loss is estimated each sample at a time and the model is updated along the way with a decreasing strength schedule (aka learning rate). SGD allows minibatch (online/out-of-core) learning, see the partial_fit method. For best results using the default learning rate schedule, the data should have zero mean and unit variance."
   ]
  },
  {
   "cell_type": "code",
   "execution_count": null,
   "metadata": {},
   "outputs": [],
   "source": [
    "clf = Pipeline([('vect', CountVectorizer(preprocessor=clean_text_stemmed, stop_words =stop_words)),\n",
    "                ('tfidf', TfidfTransformer()),\n",
    "                ('clf',  SGDClassifier(n_jobs=))])                           "
   ]
  },
  {
   "cell_type": "code",
   "execution_count": null,
   "metadata": {},
   "outputs": [],
   "source": [
    "clf.fit(X_tr, y_tr)  \n",
    "predicted = clf.predict(X_val)\n",
    "acc=np.mean(predicted == y_val)\n",
    "print(acc)"
   ]
  },
  {
   "cell_type": "markdown",
   "metadata": {},
   "source": [
    "### 3.1.3 TfidfTransformer + xgboost"
   ]
  },
  {
   "cell_type": "code",
   "execution_count": null,
   "metadata": {},
   "outputs": [],
   "source": [
    "# Without text cleaning\n",
    "clf = Pipeline([('vect', CountVectorizer()),\n",
    "                ('tfidf', TfidfTransformer()),\n",
    "                ('clf',  xgb.XGBClassifier(objective=\"multi:softprob\", random_state=42))])                           "
   ]
  },
  {
   "cell_type": "code",
   "execution_count": null,
   "metadata": {},
   "outputs": [],
   "source": [
    "clf.fit(X_tr, y_tr)  \n",
    "predicted = clf.predict(X_val)\n",
    "acc=np.mean(predicted == y_val)\n",
    "print(acc)"
   ]
  },
  {
   "cell_type": "code",
   "execution_count": null,
   "metadata": {},
   "outputs": [],
   "source": [
    "# With text cleaning\n",
    "clf = Pipeline([('vect', CountVectorizer(preprocessor=clean_text_stemmed, stop_words =stop_words)),\n",
    "                ('tfidf', TfidfTransformer()),\n",
    "                ('clf',  xgb.XGBClassifier(objective=\"multi:softprob\", random_state=42))])                           "
   ]
  },
  {
   "cell_type": "code",
   "execution_count": null,
   "metadata": {
    "scrolled": true
   },
   "outputs": [],
   "source": [
    "clf.fit(X_tr, y_tr)  \n",
    "predicted = clf.predict(X_val)\n",
    "acc=np.mean(predicted == y_val)\n",
    "print(acc)"
   ]
  },
  {
   "cell_type": "markdown",
   "metadata": {},
   "source": [
    "### 3.1.4 DictVectorizer(Gene) +  DictVectorizer(Variation) + xgboost"
   ]
  },
  {
   "cell_type": "code",
   "execution_count": null,
   "metadata": {},
   "outputs": [],
   "source": [
    "sample['Class'] = sample['Class'].astype(int)\n",
    "sample['Gene'] = sample['Gene'].astype(str)\n",
    "sample['Variation'] = sample['Variation'].astype(str)\n",
    "\n",
    "y= sample['Class']\n",
    "X= sample.drop('Class',axis =1)\n",
    "X_tr, X_val, y_tr, y_val = train_test_split(X,\n",
    "                                            y,\n",
    "                                            test_size=0.2,\n",
    "                                            stratify=y,\n",
    "                                            random_state=42)"
   ]
  },
  {
   "cell_type": "code",
   "execution_count": null,
   "metadata": {},
   "outputs": [],
   "source": [
    "processing_pipeline= make_pipeline(\n",
    "    # combine features\n",
    "    make_union(\n",
    "        make_pipeline(\n",
    "            PandasSelector([\"Gene\",\"Variation\"]),\n",
    "            PandasToDict(),\n",
    "            DictVectorizer(sparse=False)\n",
    "            # select categorical data\n",
    "        )\n",
    "    \n",
    "    )\n",
    ")\n"
   ]
  },
  {
   "cell_type": "code",
   "execution_count": null,
   "metadata": {},
   "outputs": [],
   "source": [
    "clf =xgb.XGBClassifier(objective=\"multi:softprob\", random_state=42)"
   ]
  },
  {
   "cell_type": "code",
   "execution_count": null,
   "metadata": {},
   "outputs": [],
   "source": [
    "model = make_pipeline(processing_pipeline, clf)"
   ]
  },
  {
   "cell_type": "code",
   "execution_count": null,
   "metadata": {},
   "outputs": [],
   "source": [
    "model.fit(X_tr, y_tr)"
   ]
  },
  {
   "cell_type": "code",
   "execution_count": null,
   "metadata": {},
   "outputs": [],
   "source": [
    "predicted = model.predict(X_val)\n",
    "\n",
    "acc=np.mean(predicted == y_val)\n",
    "print(acc)"
   ]
  },
  {
   "cell_type": "markdown",
   "metadata": {},
   "source": [
    "### 3.1.5 TFIDF(Text) + xgboost"
   ]
  },
  {
   "cell_type": "code",
   "execution_count": null,
   "metadata": {},
   "outputs": [],
   "source": [
    "processing_pipeline= make_pipeline(\n",
    "    # combine features\n",
    "    make_union(\n",
    "        \n",
    "        make_pipeline(\n",
    "            ItemSelector(key='Text'),\n",
    "            Converter(),\n",
    "            TfidfVectorizer()\n",
    "                    )\n",
    ")\n",
    ")"
   ]
  },
  {
   "cell_type": "code",
   "execution_count": null,
   "metadata": {},
   "outputs": [],
   "source": [
    "clf =xgb.XGBClassifier(objective=\"multi:softprob\", random_state=42)\n",
    "model = make_pipeline(processing_pipeline, clf)\n",
    "model.fit(X_tr, y_tr)"
   ]
  },
  {
   "cell_type": "code",
   "execution_count": null,
   "metadata": {},
   "outputs": [],
   "source": [
    "predicted = model.predict(X_val)\n",
    "\n",
    "acc=np.mean(predicted == y_val)\n",
    "print(acc)"
   ]
  },
  {
   "cell_type": "markdown",
   "metadata": {},
   "source": [
    "### 3.1.6 OneHot(Gene) + TFIDF(Text)  + xgboost"
   ]
  },
  {
   "cell_type": "code",
   "execution_count": null,
   "metadata": {},
   "outputs": [],
   "source": [
    "processing_pipeline= make_pipeline(\n",
    "    # combine features\n",
    "    make_union(\n",
    "        \n",
    "        make_pipeline(\n",
    "            ItemSelector(key='Text'),\n",
    "            Converter(),\n",
    "            TfidfVectorizer()\n",
    "                    ),    \n",
    "        make_pipeline(\n",
    "            ItemSelector(key=\"Gene\"),\n",
    "            Converter(),\n",
    "            OneHotEncoder()\n",
    "    )\n",
    ")\n",
    ")"
   ]
  },
  {
   "cell_type": "code",
   "execution_count": null,
   "metadata": {},
   "outputs": [],
   "source": [
    "model = make_pipeline(processing_pipeline, clf)\n",
    "model.fit(X_tr, y_tr)"
   ]
  },
  {
   "cell_type": "code",
   "execution_count": null,
   "metadata": {},
   "outputs": [],
   "source": [
    "predicted = model.predict(X_val)\n",
    "\n",
    "acc=np.mean(predicted == y_val)\n",
    "print(acc)"
   ]
  },
  {
   "cell_type": "markdown",
   "metadata": {},
   "source": [
    "### 3.1.7 OneHot(Variation) + TFIDF(Text) + xgboost"
   ]
  },
  {
   "cell_type": "code",
   "execution_count": null,
   "metadata": {},
   "outputs": [],
   "source": [
    "processing_pipeline= make_pipeline(\n",
    "    # combine features\n",
    "    make_union(    \n",
    "        make_pipeline(\n",
    "            ItemSelector(key='Text'),\n",
    "            Converter(),\n",
    "            TfidfVectorizer()\n",
    "                    ),\n",
    "        make_pipeline(\n",
    "            ItemSelector(key=\"Variation\"),\n",
    "            Converter(),\n",
    "            OneHotEncoder()\n",
    "    )\n",
    ")\n",
    ")"
   ]
  },
  {
   "cell_type": "code",
   "execution_count": null,
   "metadata": {},
   "outputs": [],
   "source": [
    "model = make_pipeline(processing_pipeline, clf)\n",
    "model.fit(X_tr, y_tr)"
   ]
  },
  {
   "cell_type": "code",
   "execution_count": null,
   "metadata": {},
   "outputs": [],
   "source": [
    "predicted = model.predict(X_val)\n",
    "\n",
    "acc=np.mean(predicted == y_val)\n",
    "print(acc)"
   ]
  },
  {
   "cell_type": "code",
   "execution_count": null,
   "metadata": {},
   "outputs": [],
   "source": [
    "def model_predict(processing_pipeline,clf,X_tr,y_tr,X_val,y_val):\n",
    "    model = make_pipeline(processing_pipeline, clf)\n",
    "    model.fit(X_tr, y_tr)\n",
    "    predicted = model.predict(X_val)\n",
    "    acc=np.mean(predicted == y_val)\n",
    "    print(acc)"
   ]
  },
  {
   "cell_type": "code",
   "execution_count": null,
   "metadata": {},
   "outputs": [],
   "source": [
    "model_predict(processing_pipeline,clf,X_tr,y_tr,X_val,y_val)"
   ]
  },
  {
   "cell_type": "markdown",
   "metadata": {},
   "source": [
    "### 3.1.8 OneHot(Variation) + OneHot(Gene) + TFIDF(Text)  + xgboost\n"
   ]
  },
  {
   "cell_type": "code",
   "execution_count": null,
   "metadata": {},
   "outputs": [],
   "source": [
    "processing_pipeline2= make_pipeline(\n",
    "    # combine features\n",
    "    make_union(\n",
    "        \n",
    "        make_pipeline(\n",
    "            ItemSelector(key='Text'),\n",
    "            Converter(),\n",
    "            TfidfVectorizer()\n",
    "                    ),    \n",
    "        make_pipeline(\n",
    "            ItemSelector(key=\"Gene\"),\n",
    "            Converter(),\n",
    "            OneHotEncoder()\n",
    "        ),\n",
    "        make_pipeline(\n",
    "            ItemSelector(key=\"Variation\"),\n",
    "            Converter(),\n",
    "            OneHotEncoder()\n",
    "    )\n",
    ")\n",
    ")"
   ]
  },
  {
   "cell_type": "code",
   "execution_count": null,
   "metadata": {},
   "outputs": [],
   "source": [
    "model2 = make_pipeline(processing_pipeline2, clf)\n",
    "model2.fit(X_tr, y_tr)"
   ]
  },
  {
   "cell_type": "code",
   "execution_count": null,
   "metadata": {},
   "outputs": [],
   "source": [
    "predicted2 = model2.predict(X_val)\n",
    "\n",
    "acc2=np.mean(predicted2 == y_val)\n",
    "print(acc2)"
   ]
  },
  {
   "cell_type": "markdown",
   "metadata": {},
   "source": [
    "### 3.1.9 TFIDF(Gene) + TFIDF(Text)  + xgboost"
   ]
  },
  {
   "cell_type": "code",
   "execution_count": null,
   "metadata": {},
   "outputs": [],
   "source": [
    "processing_pipeline= make_pipeline(\n",
    "    # combine features\n",
    "    make_union(  \n",
    "        make_pipeline(\n",
    "            ItemSelector(key=\"Gene\"),\n",
    "            Converter(),\n",
    "            TfidfVectorizer()\n",
    "    )\n",
    ")\n",
    ")"
   ]
  },
  {
   "cell_type": "code",
   "execution_count": null,
   "metadata": {},
   "outputs": [],
   "source": [
    "clf =xgb.XGBClassifier(objective=\"multi:softprob\", random_state=42)\n",
    "model = make_pipeline(processing_pipeline, clf)\n",
    "model.fit(X_tr, y_tr)"
   ]
  },
  {
   "cell_type": "code",
   "execution_count": null,
   "metadata": {},
   "outputs": [],
   "source": [
    "predicted = model.predict(X_val)\n",
    "\n",
    "acc=np.mean(predicted == y_val)\n",
    "print(acc)"
   ]
  },
  {
   "cell_type": "markdown",
   "metadata": {},
   "source": [
    "### 3.1.10 TFIDF(Variation) +  TFIDF(Gene) +xgboost"
   ]
  },
  {
   "cell_type": "code",
   "execution_count": null,
   "metadata": {},
   "outputs": [],
   "source": [
    "processing_pipeline= make_pipeline(\n",
    "    # combine features\n",
    "    make_union(  \n",
    "        make_pipeline(\n",
    "            ItemSelector(key=\"Variation\"),\n",
    "            Converter(),\n",
    "            TfidfVectorizer()\n",
    "        ),\n",
    "        make_pipeline(\n",
    "            ItemSelector(key=\"Gene\"),\n",
    "            Converter(),\n",
    "            TfidfVectorizer()\n",
    "    )\n",
    "   \n",
    "    )\n",
    ")\n"
   ]
  },
  {
   "cell_type": "code",
   "execution_count": null,
   "metadata": {
    "scrolled": true
   },
   "outputs": [],
   "source": [
    "clf =xgb.XGBClassifier(objective=\"multi:softprob\", random_state=42)\n",
    "model = make_pipeline(processing_pipeline, clf)\n",
    "model.fit(X_tr, y_tr)\n"
   ]
  },
  {
   "cell_type": "code",
   "execution_count": null,
   "metadata": {},
   "outputs": [],
   "source": [
    "# prediction\n",
    "predicted = model.predict(X_val)\n",
    "acc=np.mean(predicted == y_val)\n",
    "print(acc)"
   ]
  },
  {
   "cell_type": "code",
   "execution_count": null,
   "metadata": {},
   "outputs": [],
   "source": [
    "print(sample.Gene.nunique())\n",
    "print(sample.Variation.nunique())"
   ]
  },
  {
   "cell_type": "markdown",
   "metadata": {},
   "source": [
    "### 3.1.11 TFIDF(Gene) + TFIDF(Text)  + xgboost"
   ]
  },
  {
   "cell_type": "code",
   "execution_count": null,
   "metadata": {},
   "outputs": [],
   "source": [
    "processing_pipeline= make_pipeline(\n",
    "    # combine features\n",
    "    make_union(\n",
    "        \n",
    "        make_pipeline(\n",
    "            ItemSelector(key='Text'),\n",
    "            Converter(),\n",
    "            TfidfVectorizer()\n",
    "                    ),    \n",
    "        make_pipeline(\n",
    "            ItemSelector(key=\"Gene\"),\n",
    "            Converter(),\n",
    "            TfidfVectorizer()\n",
    "    )\n",
    ")\n",
    ")"
   ]
  },
  {
   "cell_type": "code",
   "execution_count": null,
   "metadata": {},
   "outputs": [],
   "source": [
    "clf =xgb.XGBClassifier(objective=\"multi:softprob\", random_state=42)\n",
    "model = make_pipeline(processing_pipeline, clf)\n",
    "model.fit(X_tr, y_tr)"
   ]
  },
  {
   "cell_type": "code",
   "execution_count": null,
   "metadata": {
    "scrolled": true
   },
   "outputs": [],
   "source": [
    "predicted = model.predict(X_val)\n",
    "\n",
    "acc=np.mean(predicted == y_val)\n",
    "print(acc)"
   ]
  },
  {
   "cell_type": "markdown",
   "metadata": {},
   "source": [
    "### 3.1.11 make_pipeline + make_unionn & TFIDF(Variation) + TFIDF(Gene) + TFIDF(Text) + xgboost"
   ]
  },
  {
   "cell_type": "code",
   "execution_count": null,
   "metadata": {},
   "outputs": [],
   "source": [
    "processing_pipeline= make_pipeline(\n",
    "    # combine features\n",
    "    make_union(  \n",
    "        make_pipeline(\n",
    "            ItemSelector(key=\"Variation\"),\n",
    "            Converter(),\n",
    "            TfidfVectorizer()\n",
    "        ),\n",
    "        make_pipeline(\n",
    "            ItemSelector(key=\"Gene\"),\n",
    "            Converter(),\n",
    "            TfidfVectorizer()\n",
    "    ),\n",
    "        make_pipeline(\n",
    "            ItemSelector(key='Text'),\n",
    "            Converter(),\n",
    "            TfidfVectorizer()\n",
    "        )\n",
    "   \n",
    "    )\n",
    ")\n"
   ]
  },
  {
   "cell_type": "code",
   "execution_count": null,
   "metadata": {},
   "outputs": [],
   "source": [
    "clf =xgb.XGBClassifier(objective=\"multi:softprob\", random_state=42)\n",
    "model = make_pipeline(processing_pipeline, clf)\n",
    "model.fit(X_tr, y_tr)\n"
   ]
  },
  {
   "cell_type": "code",
   "execution_count": null,
   "metadata": {},
   "outputs": [],
   "source": [
    "# prediction\n",
    "predicted = model.predict(X_val)\n",
    "acc=np.mean(predicted == y_val)\n",
    "print(acc)"
   ]
  },
  {
   "cell_type": "markdown",
   "metadata": {},
   "source": [
    "### 3.1.12 Pipeline + featureunion + explain _features & TFIDF(Variation) + TFIDF(Gene) + TFIDF(Text) + xgboost"
   ]
  },
  {
   "cell_type": "code",
   "execution_count": null,
   "metadata": {},
   "outputs": [],
   "source": [
    "Variation = Pipeline([\n",
    "    ('selector',ItemSelector(key=\"Variation\")),\n",
    "    ('converter',Converter()),\n",
    "    ('tfidf', TfidfVectorizer())\n",
    "])\n",
    "\n",
    "Gene = Pipeline([\n",
    "    ('selector',ItemSelector(key=\"Gene\")),\n",
    "    ('converter',Converter()),\n",
    "    ('tfidf', TfidfVectorizer())\n",
    "])\n",
    "\n",
    "Text = Pipeline([\n",
    "    ('selector',ItemSelector(key=\"Text\")),\n",
    "    ('converter',Converter()),\n",
    "    ('tfidf', TfidfVectorizer())\n",
    "    \n",
    "])\n",
    "\n",
    "ppl = Pipeline([\n",
    "    ('features',FeatureUnion([\n",
    "        ('Variation',Variation),\n",
    "        ('Gene',Gene),\n",
    "        ('Text',Text)\n",
    "    ])),\n",
    "    ('clf',xgb.XGBClassifier(objective=\"multi:softprob\", random_state=42))\n",
    "])"
   ]
  },
  {
   "cell_type": "code",
   "execution_count": null,
   "metadata": {},
   "outputs": [],
   "source": [
    "# What are the parameters?\n",
    "pp.pprint(sorted(ppl.get_params().keys()))"
   ]
  },
  {
   "cell_type": "code",
   "execution_count": null,
   "metadata": {},
   "outputs": [],
   "source": [
    "# Build a model using default parameters\n",
    "model = ppl.fit(X_tr,y_tr)\n",
    "# Accuracy score \n",
    "model.score(X_val,y_val)"
   ]
  },
  {
   "cell_type": "code",
   "execution_count": null,
   "metadata": {
    "scrolled": true
   },
   "outputs": [],
   "source": [
    "# Calculate predict probability for each class\n",
    "y_pred = model.predict_proba(X_val)[0]\n",
    "y_pred \n",
    "\n",
    "# plot the probability \n",
    "plt.plot(y_pred)\n"
   ]
  },
  {
   "cell_type": "code",
   "execution_count": null,
   "metadata": {},
   "outputs": [],
   "source": [
    "model.named_steps['features'].transformer_list"
   ]
  },
  {
   "cell_type": "code",
   "execution_count": null,
   "metadata": {},
   "outputs": [],
   "source": [
    "f1=model.named_steps['features'].transformer_list[0][1].named_steps['tfidf'].get_feature_names()\n",
    "f2=model.named_steps['features'].transformer_list[1][1].named_steps['tfidf'].get_feature_names()\n",
    "f3=model.named_steps['features'].transformer_list[2][1].named_steps['tfidf'].get_feature_names()"
   ]
  },
  {
   "cell_type": "code",
   "execution_count": null,
   "metadata": {},
   "outputs": [],
   "source": [
    "list_features=f1\n",
    "# Add all the elements of f2 and f3 to f1\n",
    "list_features.extend(f2)\n",
    "list_features.extend(f3)"
   ]
  },
  {
   "cell_type": "code",
   "execution_count": null,
   "metadata": {},
   "outputs": [],
   "source": [
    "list_features"
   ]
  },
  {
   "cell_type": "code",
   "execution_count": null,
   "metadata": {},
   "outputs": [],
   "source": [
    "explain_weights(model.named_steps['clf'], \n",
    "                 vec=None, top=10, \n",
    "                 target_names=ppl.classes_, \n",
    "                 feature_names=list_features)\n"
   ]
  },
  {
   "cell_type": "code",
   "execution_count": null,
   "metadata": {},
   "outputs": [],
   "source": [
    "explain_weights(model.named_steps['clf'], \n",
    "                 target_names=ppl.classes_, \n",
    "                 feature_names=list_features)"
   ]
  },
  {
   "cell_type": "code",
   "execution_count": null,
   "metadata": {},
   "outputs": [],
   "source": [
    "model.named_steps"
   ]
  },
  {
   "cell_type": "code",
   "execution_count": null,
   "metadata": {},
   "outputs": [],
   "source": [
    "explain_weights()\n"
   ]
  },
  {
   "cell_type": "markdown",
   "metadata": {},
   "source": [
    "### Grid search"
   ]
  },
  {
   "cell_type": "code",
   "execution_count": null,
   "metadata": {},
   "outputs": [],
   "source": [
    "param_grid = {\n",
    "    'clf__learning_rate': [0.1,0.01],\n",
    "    'features__Text__tfidf__lowercase': [True,False]\n",
    "}"
   ]
  },
  {
   "cell_type": "code",
   "execution_count": null,
   "metadata": {},
   "outputs": [],
   "source": [
    "grid = GridSearchCV(ppl, param_grid, scoring='neg_mean_absolute_error')\n",
    "grid.fit(X_tr, y_tr)\n",
    "print(grid.best_params_)"
   ]
  },
  {
   "cell_type": "markdown",
   "metadata": {},
   "source": [
    "## Summary, the appropriate way\n",
    "1. Drop NA, define dtype \n",
    "2. Feature extraction and Union\n",
    "3. Define model Pipeline\n",
    "4. model = Pipeline.fit(X,y)\n",
    "5. model.score(X_val,y_val)\n",
    "6. explain weights\n"
   ]
  },
  {
   "cell_type": "markdown",
   "metadata": {},
   "source": [
    "### 1. Fill NA, define dtype "
   ]
  },
  {
   "cell_type": "code",
   "execution_count": null,
   "metadata": {},
   "outputs": [],
   "source": [
    "sample['Class'] = sample['Class'].astype(int)\n",
    "sample['Gene'] = sample['Gene'].astype(str)\n",
    "sample['Variation'] = sample['Variation'].astype(str)\n",
    "\n",
    "y= sample['Class']\n",
    "X= sample.drop('Class',axis =1)\n",
    "X_tr, X_val, y_tr, y_val = train_test_split(X,\n",
    "                                            y,\n",
    "                                            test_size=0.2,\n",
    "                                            stratify=y,\n",
    "                                            random_state=42)"
   ]
  },
  {
   "cell_type": "code",
   "execution_count": null,
   "metadata": {},
   "outputs": [],
   "source": [
    "# 2. Feature extraction and Union\n",
    "def build_preprocessor(df,field):\n",
    "    field_idx = list(df.columns).index(field)\n",
    "    return lambda x: default_preprocessor(x[field_idx])\n",
    "    \n",
    "default_preprocessor = CountVectorizer().build_preprocessor()\n"
   ]
  },
  {
   "cell_type": "markdown",
   "metadata": {},
   "source": [
    "### 2. Feature extraction and Union"
   ]
  },
  {
   "cell_type": "code",
   "execution_count": null,
   "metadata": {},
   "outputs": [],
   "source": [
    "vectorizer = FeatureUnion([\n",
    "    ('Variation',TfidfVectorizer(preprocessor=build_preprocessor(X,'Variation'))),\n",
    "        ('Gene',TfidfVectorizer(preprocessor=build_preprocessor(X,'Gene'))),\n",
    "        ('Text',TfidfVectorizer(preprocessor=build_preprocessor(X,'Text'))),\n",
    "])"
   ]
  },
  {
   "cell_type": "code",
   "execution_count": null,
   "metadata": {},
   "outputs": [],
   "source": [
    "X_v = vectorizer.fit_transform(X.values)\n",
    "X_tr, X_val, y_tr, y_val = train_test_split(X_v,\n",
    "                                            y,\n",
    "                                            test_size=0.2,\n",
    "                                            stratify=y,\n",
    "                                            random_state=42)"
   ]
  },
  {
   "cell_type": "code",
   "execution_count": null,
   "metadata": {},
   "outputs": [],
   "source": [
    "model = xgb.XGBClassifier(objective=\"multi:softprob\", random_state=42)\n",
    "model.fit(X_tr, y_tr)"
   ]
  },
  {
   "cell_type": "code",
   "execution_count": null,
   "metadata": {
    "scrolled": false
   },
   "outputs": [],
   "source": [
    "# Accuracy score \n",
    "model.score(X_val,y_val)"
   ]
  },
  {
   "cell_type": "code",
   "execution_count": null,
   "metadata": {},
   "outputs": [],
   "source": [
    "eli5.show_weights(model, vec=vectorizer)"
   ]
  },
  {
   "cell_type": "code",
   "execution_count": null,
   "metadata": {},
   "outputs": [],
   "source": [
    "eli5.show_weights(model, vec=vectorizer, top=10, feature_filter=lambda x: x != '<BIAS>')"
   ]
  },
  {
   "cell_type": "code",
   "execution_count": null,
   "metadata": {},
   "outputs": [],
   "source": [
    "df_name = explain_weights_df(model, vec=vectorizer, top=10, feature_filter=lambda x: x != '<BIAS>')\n",
    "                \n",
    "df_name.to_csv('../data/features/20190609sample_union_3groups_tfidf_feature_weights.csv')"
   ]
  },
  {
   "cell_type": "code",
   "execution_count": null,
   "metadata": {},
   "outputs": [],
   "source": [
    "# Analyzing individual predictions. Let's check some predictions from the validation set. You see a summary of various vectorizer's contribution at the top, and then below you can see features highlighed in text.\n",
    "eli5.show_prediction(model, doc=X.values[1], vec=vectorizer)\n"
   ]
  },
  {
   "cell_type": "code",
   "execution_count": null,
   "metadata": {},
   "outputs": [],
   "source": [
    "eli5.show_weights(model)"
   ]
  },
  {
   "cell_type": "markdown",
   "metadata": {},
   "source": [
    "#### 2.2 Two vectors  Gene +Text"
   ]
  },
  {
   "cell_type": "code",
   "execution_count": null,
   "metadata": {},
   "outputs": [],
   "source": [
    "vectorizer = FeatureUnion([\n",
    "        ('Gene',TfidfVectorizer(preprocessor=build_preprocessor(X,'Gene'))),\n",
    "        ('Text',TfidfVectorizer(preprocessor=build_preprocessor(X,'Text'))),\n",
    "])"
   ]
  },
  {
   "cell_type": "code",
   "execution_count": null,
   "metadata": {},
   "outputs": [],
   "source": [
    "X_v = vectorizer.fit_transform(X.values)\n",
    "X_tr, X_val, y_tr, y_val = train_test_split(X_v,\n",
    "                                            y,\n",
    "                                            test_size=0.2,\n",
    "                                            stratify=y,\n",
    "                                            random_state=42)"
   ]
  },
  {
   "cell_type": "code",
   "execution_count": null,
   "metadata": {},
   "outputs": [],
   "source": [
    "model = xgb.XGBClassifier(objective=\"multi:softprob\", random_state=42)\n",
    "model.fit(X_tr, y_tr)"
   ]
  },
  {
   "cell_type": "code",
   "execution_count": null,
   "metadata": {},
   "outputs": [],
   "source": [
    "# Accuracy score \n",
    "model.score(X_val,y_val)"
   ]
  },
  {
   "cell_type": "markdown",
   "metadata": {},
   "source": [
    "#### 2.3 Two vectors  Variation +Text"
   ]
  },
  {
   "cell_type": "code",
   "execution_count": null,
   "metadata": {},
   "outputs": [],
   "source": [
    "vectorizer = FeatureUnion([\n",
    "    ('Variation',TfidfVectorizer(preprocessor=build_preprocessor(X,'Variation'))),\n",
    "        ('Text',TfidfVectorizer(preprocessor=build_preprocessor(X,'Text'))),\n",
    "])"
   ]
  },
  {
   "cell_type": "code",
   "execution_count": null,
   "metadata": {},
   "outputs": [],
   "source": [
    "X_v = vectorizer.fit_transform(X.values)\n",
    "X_tr, X_val, y_tr, y_val = train_test_split(X_v,\n",
    "                                            y,\n",
    "                                            test_size=0.2,\n",
    "                                            stratify=y,\n",
    "                                            random_state=42)"
   ]
  },
  {
   "cell_type": "code",
   "execution_count": null,
   "metadata": {},
   "outputs": [],
   "source": [
    "model = xgb.XGBClassifier(objective=\"multi:softprob\", random_state=42)\n",
    "model.fit(X_tr, y_tr)"
   ]
  },
  {
   "cell_type": "code",
   "execution_count": null,
   "metadata": {},
   "outputs": [],
   "source": [
    "# Accuracy score \n",
    "model.score(X_val,y_val)"
   ]
  },
  {
   "cell_type": "markdown",
   "metadata": {},
   "source": [
    "#### 2.4 One vector  Text"
   ]
  },
  {
   "cell_type": "code",
   "execution_count": null,
   "metadata": {},
   "outputs": [],
   "source": [
    "vectorizer = FeatureUnion([\n",
    "        ('Text',TfidfVectorizer(preprocessor=build_preprocessor(X,'Text')))\n",
    "])"
   ]
  },
  {
   "cell_type": "code",
   "execution_count": null,
   "metadata": {},
   "outputs": [],
   "source": [
    "X_v = vectorizer.fit_transform(X.values)\n",
    "X_tr, X_val, y_tr, y_val = train_test_split(X_v,\n",
    "                                            y,\n",
    "                                            test_size=0.2,\n",
    "                                            stratify=y,\n",
    "                                            random_state=42)"
   ]
  },
  {
   "cell_type": "code",
   "execution_count": null,
   "metadata": {},
   "outputs": [],
   "source": [
    "model = xgb.XGBClassifier(objective=\"multi:softprob\", random_state=42)\n",
    "model.fit(X_tr, y_tr)"
   ]
  },
  {
   "cell_type": "code",
   "execution_count": null,
   "metadata": {},
   "outputs": [],
   "source": [
    "# Accuracy score \n",
    "model.score(X_val,y_val)"
   ]
  },
  {
   "cell_type": "markdown",
   "metadata": {},
   "source": [
    "#### 2.5 Gene and Variation Vector"
   ]
  },
  {
   "cell_type": "code",
   "execution_count": null,
   "metadata": {},
   "outputs": [],
   "source": [
    "vectorizer = FeatureUnion([\n",
    "    ('Variation',TfidfVectorizer(preprocessor=build_preprocessor(X,'Variation'))),\n",
    "        ('Gene',TfidfVectorizer(preprocessor=build_preprocessor(X,'Gene')))\n",
    "\n",
    "])"
   ]
  },
  {
   "cell_type": "code",
   "execution_count": null,
   "metadata": {},
   "outputs": [],
   "source": [
    "X_v = vectorizer.fit_transform(X.values)\n",
    "X_tr, X_val, y_tr, y_val = train_test_split(X_v,\n",
    "                                            y,\n",
    "                                            test_size=0.2,\n",
    "                                            stratify=y,\n",
    "                                            random_state=42)"
   ]
  },
  {
   "cell_type": "code",
   "execution_count": null,
   "metadata": {},
   "outputs": [],
   "source": [
    "model = xgb.XGBClassifier(objective=\"multi:softprob\", random_state=42)\n",
    "model.fit(X_tr, y_tr)"
   ]
  },
  {
   "cell_type": "code",
   "execution_count": null,
   "metadata": {},
   "outputs": [],
   "source": [
    "# Accuracy score \n",
    "model.score(X_val,y_val)"
   ]
  },
  {
   "cell_type": "markdown",
   "metadata": {},
   "source": [
    "### Cross validation "
   ]
  },
  {
   "cell_type": "code",
   "execution_count": null,
   "metadata": {},
   "outputs": [],
   "source": [
    "from sklearn.model_selection import cross_val_score"
   ]
  },
  {
   "cell_type": "code",
   "execution_count": null,
   "metadata": {},
   "outputs": [],
   "source": [
    "# Performing K fold Cross Validation to get an estimate of model performance on unknown data.\n",
    "print('XGBoost Mean score: {}'.format(cross_val_score(estimator=model, \n",
    "                                                                  X=X_tr, y= y_tr,\n",
    "                                                                  cv=3, n_jobs = -1).mean()))"
   ]
  },
  {
   "cell_type": "markdown",
   "metadata": {},
   "source": [
    "### Grid search"
   ]
  },
  {
   "cell_type": "code",
   "execution_count": null,
   "metadata": {},
   "outputs": [],
   "source": [
    "# What are the parameters?\n",
    "pp.pprint(sorted(model.get_params().keys()))"
   ]
  },
  {
   "cell_type": "code",
   "execution_count": null,
   "metadata": {},
   "outputs": [],
   "source": [
    "param_grid = {\n",
    "    'learning_rate': [0.1,0.01],\n",
    "    'max_depth': [3,6]grid = GridSearchCV(model, param_grid, scoring='neg_mean_absolute_error')\n",
    "}\n",
    "grid = GridSearchCV(model, param_grid, scoring='neg_mean_absolute_error')\n",
    "grid.fit(X_tr, y_tr)\n",
    "print(grid.best_params_)"
   ]
  },
  {
   "cell_type": "markdown",
   "metadata": {},
   "source": [
    "## 3.2 Word2vec + Model"
   ]
  },
  {
   "cell_type": "markdown",
   "metadata": {},
   "source": [
    "### 3.2.1 Document-trained w2vec + xgboost"
   ]
  },
  {
   "cell_type": "code",
   "execution_count": null,
   "metadata": {},
   "outputs": [],
   "source": [
    "clf = Pipeline([('vect', MeanEmbeddingVectorizer(w2vec)),\n",
    "                ('clf',  xgb.XGBClassifier(objective=\"multi:softprob\", random_state=42))])                           "
   ]
  },
  {
   "cell_type": "code",
   "execution_count": null,
   "metadata": {},
   "outputs": [],
   "source": [
    "clf.fit(X_tr, y_tr)  \n",
    "predicted = clf.predict(X_val)\n",
    "acc=np.mean(predicted == y_val)\n",
    "print(acc)"
   ]
  },
  {
   "cell_type": "markdown",
   "metadata": {},
   "source": [
    "### Lessons learned\n",
    "\n",
    " * Text pre-processing helps \n",
    " * W2vec: domain corpus helps \n",
    " * A small document: w2vec may not outperform tfidf\n",
    " * One-hot encodings is not good for tree based methods \n",
    " * Knowing what featurews are useful/useless for prediction is helpful \n"
   ]
  }
 ],
 "metadata": {
  "kernelspec": {
   "display_name": "Python 3",
   "language": "python",
   "name": "python3"
  },
  "language_info": {
   "codemirror_mode": {
    "name": "ipython",
    "version": 3
   },
   "file_extension": ".py",
   "mimetype": "text/x-python",
   "name": "python",
   "nbconvert_exporter": "python",
   "pygments_lexer": "ipython3",
   "version": "3.7.3"
  }
 },
 "nbformat": 4,
 "nbformat_minor": 1
}
