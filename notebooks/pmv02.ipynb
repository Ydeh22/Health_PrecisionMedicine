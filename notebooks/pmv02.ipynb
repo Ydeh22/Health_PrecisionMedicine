{
 "cells": [
  {
   "cell_type": "code",
   "execution_count": 113,
   "metadata": {
    "_cell_guid": "b1076dfc-b9ad-4769-8c92-a6c4dae69d19",
    "_uuid": "8f2839f25d086af736a60e9eeb907d3b93b6e0e5"
   },
   "outputs": [
    {
     "name": "stderr",
     "output_type": "stream",
     "text": [
      "[nltk_data] Downloading package wordnet to /Users/j/nltk_data...\n",
      "[nltk_data]   Unzipping corpora/wordnet.zip.\n"
     ]
    }
   ],
   "source": [
    "# Load packages\n",
    "# System packages\n",
    "import os\n",
    "import datetime\n",
    "import warnings\n",
    "warnings.simplefilter(\"ignore\", UserWarning)\n",
    "\n",
    "# Data related\n",
    "import numpy as np # linear algebra\n",
    "import pandas as pd # data processing, CSV file I/O (e.g. pd.read_csv)\n",
    "pd.set_option('display.max_columns', 50)\n",
    "\n",
    "# Visualization \n",
    "import seaborn as sns, matplotlib.pyplot as plt\n",
    "\n",
    "\n",
    "# Text analysis helper libraries\n",
    "from gensim.summarization import summarize, keywords\n",
    "from gensim.models import KeyedVectors\n",
    "\n",
    "\n",
    "# Text analysis helper libraries for word frequency\n",
    "import nltk\n",
    "# Download stop words \n",
    "#nltk.download('stopwords')\n",
    "#nltk.download('punkt')\n",
    "nltk.download('wordnet')\n",
    "from nltk.tokenize import word_tokenize\n",
    "from nltk.stem import WordNetLemmatizer\n",
    "from nltk.corpus import stopwords\n",
    "from string import punctuation\n",
    "\n",
    "\n",
    "# Word cloud visualization libraries\n",
    "from scipy.misc import imresize\n",
    "from PIL import Image\n",
    "from wordcloud import WordCloud, ImageColorGenerator\n",
    "from collections import Counter\n",
    "\n",
    "\n",
    "# Dimensionaly reduction libraries\n",
    "from sklearn.decomposition import PCA\n",
    "\n",
    "# Clustering library\n",
    "from sklearn.cluster import KMeans\n"
   ]
  },
  {
   "cell_type": "code",
   "execution_count": null,
   "metadata": {},
   "outputs": [],
   "source": [
    "import pip \n",
    "for i in pip.get_installed_distributions(local_only=True):\n",
    "    print(i)"
   ]
  },
  {
   "cell_type": "markdown",
   "metadata": {},
   "source": [
    "## 0 Functions"
   ]
  },
  {
   "cell_type": "code",
   "execution_count": 19,
   "metadata": {},
   "outputs": [],
   "source": [
    "def createFolder(directory):\n",
    "    try:\n",
    "        if not os.path.exists(directory):\n",
    "            os.makedirs(directory)\n",
    "    except OSError:\n",
    "        print ('Error: Creating directory. ' +  directory)"
   ]
  },
  {
   "cell_type": "code",
   "execution_count": 55,
   "metadata": {},
   "outputs": [],
   "source": [
    "# Directory to save plots\n",
    "createFolder('../reports/figures')\n",
    "plot='../reports/figures'"
   ]
  },
  {
   "cell_type": "markdown",
   "metadata": {},
   "source": [
    "### Data munging functions"
   ]
  },
  {
   "cell_type": "code",
   "execution_count": null,
   "metadata": {},
   "outputs": [],
   "source": [
    "def dm(data):\n",
    "    '''\n",
    "    Summarize data column features in a new data frame\n",
    "    '''\n",
    "    unique_data = pd.DataFrame(columns =('colname','dtype','Null_sum','unique_number','unique_values'))\n",
    "    for col in data:\n",
    "        if data[col].nunique() <25:\n",
    "            unique_data = unique_data.append({'colname': col, \\\n",
    "                                              'dtype': data[col].dtype,\\\n",
    "                                              'Null_sum':data[col].isnull().sum(),\\\n",
    "                                              'unique_number': data[col].nunique(),\\\n",
    "                                              'unique_values':data[col].unique()}, \\\n",
    "                                     ignore_index=True)\n",
    "        else:\n",
    "            unique_data = unique_data.append({'colname': col, \\\n",
    "                                              'dtype': data[col].dtype,\\\n",
    "                                              'Null_sum':data[col].isnull().sum(),\\\n",
    "                                              'unique_number': data[col].nunique(),\\\n",
    "                                              'unique_values':'>25'}, \\\n",
    "                                     ignore_index=True)\n",
    "    return unique_data.sort_values(by=['unique_number','dtype'])"
   ]
  },
  {
   "cell_type": "markdown",
   "metadata": {},
   "source": [
    "## Plot functions"
   ]
  },
  {
   "cell_type": "code",
   "execution_count": null,
   "metadata": {},
   "outputs": [],
   "source": [
    "# Bar Plot: Count by colname \n",
    "def plot_col_count(df,colname,save_plot_dir):\n",
    "    df=df.drop_duplicates()\n",
    "    number = df[colname].value_counts().values\n",
    "    number = [str(x) for x in number.tolist()]\n",
    "    number = ['n: ' + i for i in number]\n",
    "    ax = sns.countplot(x=colname,  data=df)\n",
    "    \n",
    "    pos = range(len(number))\n",
    "    for tick,label in zip(pos,ax.get_xticklabels()):\n",
    "        ax.text(pos[tick], + 0.1, number[tick], horizontalalignment='center', size='small', color='w', weight='semibold')    \n",
    "    \n",
    "    fig = ax.get_figure()\n",
    "    \n",
    "    #save plot\n",
    "    name= str(colname)+'count'\n",
    "    figname = '{}{:%Y%m%dT%H%M}.png'.format(os.path.join(save_plot_dir,name), datetime.datetime.now())\n",
    "    fig.savefig(figname, figdpi = 300)"
   ]
  },
  {
   "cell_type": "code",
   "execution_count": 77,
   "metadata": {},
   "outputs": [],
   "source": [
    "# Frequency plot of a col\n",
    "def frequency_plot(df,colname,save_plot_dir):\n",
    "    plt.figure()\n",
    "    ax = train[colname].value_counts().plot(kind='area')\n",
    "    ax.get_xaxis().set_ticks([])\n",
    "    ax.set_title('Train Data: ' + str(colname) +' Frequency Plot')\n",
    "    ax.set_xlabel(colname)\n",
    "    ax.set_ylabel('Frequency')\n",
    "    plt.tight_layout()    \n",
    "    #save plot\n",
    "    name= str(colname)+'_frequency'\n",
    "    plotname = '{}{:%Y%m%dT%H%M}.png'.format(os.path.join(save_plot_dir,name), datetime.datetime.now())\n",
    "    plt.savefig(plotname, figdpi = 300)\n",
    "    "
   ]
  },
  {
   "cell_type": "code",
   "execution_count": null,
   "metadata": {},
   "outputs": [],
   "source": [
    "def resize_image(np_img, new_size):\n",
    "    old_size = np_img.shape\n",
    "    ratio = min(new_size[0]/old_size[0], new_size[1]/old_size[1])\n",
    "\n",
    "    return imresize(np_img, (round(old_size[0]*ratio), round(old_size[1]*ratio)))"
   ]
  },
  {
   "cell_type": "markdown",
   "metadata": {},
   "source": [
    "### Word2Vec"
   ]
  },
  {
   "cell_type": "code",
   "execution_count": null,
   "metadata": {},
   "outputs": [],
   "source": [
    "def get_average_vector(text):\n",
    "    tokens = [w.lower() for w in word_tokenize(text) if w.lower() not in stop_words]\n",
    "    return np.mean(np.array([model.wv[w] for w in tokens if w in model]), axis=0)\n"
   ]
  },
  {
   "cell_type": "markdown",
   "metadata": {},
   "source": [
    "## 1 EDA: "
   ]
  },
  {
   "cell_type": "markdown",
   "metadata": {},
   "source": [
    "### 1. Inspect data"
   ]
  },
  {
   "cell_type": "code",
   "execution_count": 22,
   "metadata": {},
   "outputs": [
    {
     "name": "stdout",
     "output_type": "stream",
     "text": [
      "['training_text', 'training_variants', '.DS_Store', 'not_used', 'test_text', '.gitkeep', 'test_variants']\n"
     ]
    }
   ],
   "source": [
    "print(os.listdir('../data/raw'))\n",
    "# Input data files are available in the \"../data/raw/\" directory."
   ]
  },
  {
   "cell_type": "code",
   "execution_count": 25,
   "metadata": {
    "scrolled": true
   },
   "outputs": [
    {
     "name": "stdout",
     "output_type": "stream",
     "text": [
      "1) training_variants:\n",
      "\n",
      "   ID    Gene             Variation  Class\n",
      "0   0  FAM58A  Truncating Mutations      1\n",
      "1   1     CBL                 W802*      2\n",
      "2) training_text:\n",
      "   ID                                               Text\n",
      "0   0  Cyclin-dependent kinases (CDKs) regulate a var...\n",
      "1   1   Abstract Background  Non-small cell lung canc...\n",
      "\n"
     ]
    }
   ],
   "source": [
    "# Training Data\n",
    "train_v = pd.read_csv('../data/raw/training_variants')\n",
    "print('1) training_variants:')\n",
    "print('')\n",
    "print(train_v.head(2))\n",
    "\n",
    "# Training text\n",
    "train_t = pd.read_csv('../data/raw/training_text', sep='\\|\\|', header=None, skiprows=1, \\\n",
    "                      names=[\"ID\",\"Text\"],engine='python')\n",
    "print('2) training_text:') \n",
    "print(train_t.head(2))\n",
    "print('')"
   ]
  },
  {
   "cell_type": "code",
   "execution_count": 24,
   "metadata": {
    "_cell_guid": "79c7e3d0-c299-4dcb-8224-4455121ee9b0",
    "_uuid": "d629ff2d2480ee46fbb7e2d37f6b5fab8052498a"
   },
   "outputs": [
    {
     "name": "stdout",
     "output_type": "stream",
     "text": [
      "1) test_variants:\n",
      "   ID   Gene Variation\n",
      "0   0  ACSL4     R570S\n",
      "1   1  NAGLU     P521L\n",
      " \n",
      "2) test_text:\n",
      "   ID                                               Text\n",
      "0   0  2. This mutation resulted in a myeloproliferat...\n",
      "1   1   Abstract The Large Tumor Suppressor 1 (LATS1)...\n",
      " \n"
     ]
    }
   ],
   "source": [
    "# Test Data for prediction\n",
    "test_v = pd.read_csv('../data/raw/test_variants')\n",
    "print('1) test_variants:') \n",
    "print(test_v.head(2))\n",
    "print(' ')\n",
    "# Test Text\n",
    "test_t = pd.read_csv('../data/raw/test_text', sep='\\|\\|', header=None, skiprows=1, \\\n",
    "                      names=[\"ID\",\"Text\"],engine='python')\n",
    "print('2) test_text:') \n",
    "print(test_t.head(2))\n",
    "print(' ')"
   ]
  },
  {
   "cell_type": "markdown",
   "metadata": {},
   "source": [
    "### 1.2 Prepare a new dataframe which combines all information "
   ]
  },
  {
   "cell_type": "code",
   "execution_count": 26,
   "metadata": {},
   "outputs": [
    {
     "name": "stdout",
     "output_type": "stream",
     "text": [
      "1)Merge train text variants and text\n",
      "[   0    1    2 ... 3318 3319 3320]\n",
      "[   0    1    2 ... 3318 3319 3320]\n",
      "   ID    Gene             Variation  Class  \\\n",
      "0   0  FAM58A  Truncating Mutations      1   \n",
      "1   1     CBL                 W802*      2   \n",
      "\n",
      "                                                Text  \n",
      "0  Cyclin-dependent kinases (CDKs) regulate a var...  \n",
      "1   Abstract Background  Non-small cell lung canc...  \n",
      "\n",
      "2) Merge test text variants and text\n",
      "[   0    1    2 ... 5665 5666 5667]\n",
      "[   0    1    2 ... 5665 5666 5667]\n",
      "   ID   Gene Variation                                               Text\n",
      "0   0  ACSL4     R570S  2. This mutation resulted in a myeloproliferat...\n",
      "1   1  NAGLU     P521L   Abstract The Large Tumor Suppressor 1 (LATS1)...\n"
     ]
    }
   ],
   "source": [
    "# Merge train variants and text by unique ID\n",
    "print('1)Merge train text variants and text')\n",
    "print(train_v.ID.unique())\n",
    "print(train_t.ID.unique())\n",
    "train = pd.merge(train_v,train_t,on='ID',how='left')\n",
    "print(train.head(2))\n",
    "print('')\n",
    "\n",
    "\n",
    "# Merge test variants and text by unique ID\n",
    "print('2) Merge test text variants and text')\n",
    "print(test_v.ID.unique())\n",
    "print(test_t.ID.unique())\n",
    "test = pd.merge(test_v,test_t,on='ID',how='left')\n",
    "print(test.head(2))"
   ]
  },
  {
   "cell_type": "code",
   "execution_count": 28,
   "metadata": {},
   "outputs": [],
   "source": [
    "# Save data\n",
    "train.to_csv('../data/processed/train_variants_text.csv',index=False)\n",
    "test.to_csv('../data/processed/test_variants_text.csv',index=False)"
   ]
  },
  {
   "cell_type": "markdown",
   "metadata": {},
   "source": [
    "### 1.3 Data Munging\n",
    "\n",
    "###  What is the prediction target?\n",
    "Class\n",
    "### What is the distribution of the target?"
   ]
  },
  {
   "cell_type": "code",
   "execution_count": 54,
   "metadata": {
    "scrolled": true
   },
   "outputs": [
    {
     "data": {
      "image/png": "[encoded data removed]",
      "text/plain": [
       "<Figure size 432x288 with 1 Axes>"
      ]
     },
     "metadata": {
      "needs_background": "light"
     },
     "output_type": "display_data"
    }
   ],
   "source": [
    "# Train dataset. count by Class\n",
    "plot_col_count(train,'Class',plot)"
   ]
  },
  {
   "cell_type": "markdown",
   "metadata": {},
   "source": [
    "### What should we inspect on the data?\n",
    "1) What are the column types?  \n",
    "2) Are there null values in the columns?  \n",
    "3) What's the unique number of column value?  \n",
    "4) What are the unique values in the columns?  "
   ]
  },
  {
   "cell_type": "code",
   "execution_count": 44,
   "metadata": {},
   "outputs": [
    {
     "data": {
      "text/html": [
       "<div>\n",
       "<style scoped>\n",
       "    .dataframe tbody tr th:only-of-type {\n",
       "        vertical-align: middle;\n",
       "    }\n",
       "\n",
       "    .dataframe tbody tr th {\n",
       "        vertical-align: top;\n",
       "    }\n",
       "\n",
       "    .dataframe thead th {\n",
       "        text-align: right;\n",
       "    }\n",
       "</style>\n",
       "<table border=\"1\" class=\"dataframe\">\n",
       "  <thead>\n",
       "    <tr style=\"text-align: right;\">\n",
       "      <th></th>\n",
       "      <th>colname</th>\n",
       "      <th>dtype</th>\n",
       "      <th>Null_sum</th>\n",
       "      <th>unique_number</th>\n",
       "      <th>unique_values</th>\n",
       "    </tr>\n",
       "  </thead>\n",
       "  <tbody>\n",
       "    <tr>\n",
       "      <th>3</th>\n",
       "      <td>Class</td>\n",
       "      <td>int64</td>\n",
       "      <td>0</td>\n",
       "      <td>9</td>\n",
       "      <td>[1, 2, 3, 4, 5, 6, 7, 8, 9]</td>\n",
       "    </tr>\n",
       "    <tr>\n",
       "      <th>1</th>\n",
       "      <td>Gene</td>\n",
       "      <td>object</td>\n",
       "      <td>0</td>\n",
       "      <td>264</td>\n",
       "      <td>&gt;25</td>\n",
       "    </tr>\n",
       "    <tr>\n",
       "      <th>4</th>\n",
       "      <td>Text</td>\n",
       "      <td>object</td>\n",
       "      <td>5</td>\n",
       "      <td>1920</td>\n",
       "      <td>&gt;25</td>\n",
       "    </tr>\n",
       "    <tr>\n",
       "      <th>2</th>\n",
       "      <td>Variation</td>\n",
       "      <td>object</td>\n",
       "      <td>0</td>\n",
       "      <td>2996</td>\n",
       "      <td>&gt;25</td>\n",
       "    </tr>\n",
       "    <tr>\n",
       "      <th>0</th>\n",
       "      <td>ID</td>\n",
       "      <td>int64</td>\n",
       "      <td>0</td>\n",
       "      <td>3321</td>\n",
       "      <td>&gt;25</td>\n",
       "    </tr>\n",
       "  </tbody>\n",
       "</table>\n",
       "</div>"
      ],
      "text/plain": [
       "     colname   dtype Null_sum unique_number                unique_values\n",
       "3      Class   int64        0             9  [1, 2, 3, 4, 5, 6, 7, 8, 9]\n",
       "1       Gene  object        0           264                          >25\n",
       "4       Text  object        5          1920                          >25\n",
       "2  Variation  object        0          2996                          >25\n",
       "0         ID   int64        0          3321                          >25"
      ]
     },
     "execution_count": 44,
     "metadata": {},
     "output_type": "execute_result"
    }
   ],
   "source": [
    "dm(train)"
   ]
  },
  {
   "cell_type": "markdown",
   "metadata": {},
   "source": [
    "### What is the distribution of the 'Gene' variable?"
   ]
  },
  {
   "cell_type": "code",
   "execution_count": 78,
   "metadata": {},
   "outputs": [
    {
     "data": {
      "image/png": "[encoded data removed]",
      "text/plain": [
       "<Figure size 432x288 with 1 Axes>"
      ]
     },
     "metadata": {
      "needs_background": "light"
     },
     "output_type": "display_data"
    }
   ],
   "source": [
    "frequency_plot(train,'Gene',plot)"
   ]
  },
  {
   "cell_type": "markdown",
   "metadata": {},
   "source": [
    "### Remove rows whose without 'Text' information"
   ]
  },
  {
   "cell_type": "code",
   "execution_count": 81,
   "metadata": {},
   "outputs": [],
   "source": [
    "df = train[train['Text'] != 'null']"
   ]
  },
  {
   "cell_type": "markdown",
   "metadata": {},
   "source": [
    "## What are the important words in the 'Text' column?"
   ]
  },
  {
   "cell_type": "code",
   "execution_count": 89,
   "metadata": {},
   "outputs": [],
   "source": [
    "# TextRank algorithm from gensim\n",
    "t_id = 0\n",
    "text = df.loc[t_id, 'Text']\n"
   ]
  },
  {
   "cell_type": "code",
   "execution_count": 99,
   "metadata": {},
   "outputs": [
    {
     "data": {
      "text/plain": [
       "[('cdk', 0.39947685026634644),\n",
       " ('cell', 0.2278256568053193),\n",
       " ('ets', 0.21879425363167276),\n",
       " ('proteins', 0.21544496846068056),\n",
       " ('cyclins', 0.1720055314740566)]"
      ]
     },
     "execution_count": 99,
     "metadata": {},
     "output_type": "execute_result"
    }
   ],
   "source": [
    "word_scores = keywords(text, words=5, scores=True, \\\n",
    "                       split=True, lemmatize=True)\n",
    "\n",
    "word_scores\n",
    "#summary = summarize(text, word_count=100)\n",
    "#print('ID [{}]\\nKeywords: [{}]\\nSummary: [{}]'.format(t_id, word_scores, summary))\n"
   ]
  },
  {
   "cell_type": "markdown",
   "metadata": {},
   "source": [
    "### Remove stop words and lemmatized words for word frequency analysis"
   ]
  },
  {
   "cell_type": "code",
   "execution_count": 114,
   "metadata": {},
   "outputs": [],
   "source": [
    "wordnet_lemmatizer = WordNetLemmatizer()\n",
    "\n",
    "custom_words = [\"fig\", \"figure\", \"et\", \"al\", \"al.\", \"also\",\n",
    "                \"data\", \"analyze\", \"study\", \"table\", \"using\",\n",
    "                \"method\", \"result\", \"conclusion\", \"author\", \n",
    "                \"find\", \"found\", \"show\", '\"', \"’\", \"“\", \"”\"]\n",
    "\n",
    "stop_words = set(stopwords.words('english') + list(punctuation) + custom_words)"
   ]
  },
  {
   "cell_type": "markdown",
   "metadata": {},
   "source": [
    "### Build a corpus for each class"
   ]
  },
  {
   "cell_type": "code",
   "execution_count": null,
   "metadata": {},
   "outputs": [],
   "source": [
    "class_corpus = df.groupby('Class').apply(lambda x: x['Text'].str.cat())\n",
    "class_corpus = class_corpus.apply(lambda x: Counter(\n",
    "    [wordnet_lemmatizer.lemmatize(w) \n",
    "     for w in word_tokenize(x) \n",
    "     if w.lower() not in stop_words and not w.isdigit()]\n",
    "))\n",
    "\n",
    "#class_corpus.to_csv('../data/processed/class_corpus.txt',sep='\\t',index=False)"
   ]
  },
  {
   "cell_type": "code",
   "execution_count": 202,
   "metadata": {},
   "outputs": [
    {
     "data": {
      "image/png": "[encoded data removed]",
      "text/plain": [
       "<Figure size 432x288 with 1 Axes>"
      ]
     },
     "metadata": {
      "needs_background": "light"
     },
     "output_type": "display_data"
    }
   ],
   "source": [
    "whole_text_freq = class_corpus.sum()\n",
    "\n",
    "fig, ax = plt.subplots()\n",
    "\n",
    "label, repetition = zip(*whole_text_freq.most_common(25))\n",
    "\n",
    "ax.barh(range(len(label)), repetition, align='center')\n",
    "ax.set_yticks(np.arange(len(label)))\n",
    "ax.set_yticklabels(label)\n",
    "ax.invert_yaxis()\n",
    "\n",
    "ax.set_title('Word Distribution Over Whole Text')\n",
    "ax.set_xlabel('# of repetitions')\n",
    "ax.set_ylabel('Word')\n",
    "\n",
    "plt.tight_layout()\n",
    "plt.show()"
   ]
  },
  {
   "cell_type": "markdown",
   "metadata": {},
   "source": [
    "## Generate a word cloud"
   ]
  },
  {
   "cell_type": "code",
   "execution_count": 213,
   "metadata": {},
   "outputs": [
    {
     "name": "stderr",
     "output_type": "stream",
     "text": [
      "/Users/j/miniconda3/lib/python3.7/site-packages/ipykernel_launcher.py:5: DeprecationWarning: `imresize` is deprecated!\n",
      "`imresize` is deprecated in SciPy 1.0.0, and will be removed in 1.3.0.\n",
      "Use Pillow instead: ``numpy.array(Image.fromarray(arr).resize())``.\n",
      "  \"\"\"\n"
     ]
    },
    {
     "data": {
      "image/png": "[encoded data removed]",
      "text/plain": [
       "<Figure size 432x288 with 1 Axes>"
      ]
     },
     "metadata": {
      "needs_background": "light"
     },
     "output_type": "display_data"
    }
   ],
   "source": [
    "mask_image = np.array(Image.open('../reports/dna_stencil.png').convert('L'))\n",
    "mask_image = resize_image(mask_image, (4000, 2000))\n",
    "\n",
    "wc = WordCloud(max_font_size=140,\n",
    "               min_font_size=8,\n",
    "               max_words=1000,\n",
    "               width=mask_image.shape[1], \n",
    "               height=mask_image.shape[0],\n",
    "               prefer_horizontal=.9,\n",
    "               relative_scaling=.52,\n",
    "               background_color=None,\n",
    "               mask=mask_image,\n",
    "               mode=\"RGBA\").generate_from_frequencies(whole_text_freq)\n",
    "\n",
    "plt.figure()\n",
    "plt.axis(\"off\")\n",
    "plt.tight_layout()\n",
    "plt.imshow(wc, interpolation=\"bilinear\")\n",
    "plt.savefig('../reports/figures/corpus_wordcount.png', dpi=300)"
   ]
  },
  {
   "cell_type": "markdown",
   "metadata": {},
   "source": [
    "### Word2Vec using Google's pretrained word2vec tokens."
   ]
  },
  {
   "cell_type": "code",
   "execution_count": 215,
   "metadata": {},
   "outputs": [
    {
     "name": "stderr",
     "output_type": "stream",
     "text": [
      "/Users/j/miniconda3/lib/python3.7/site-packages/ipykernel_launcher.py:4: DeprecationWarning: Call to deprecated `wv` (Attribute will be removed in 4.0.0, use self instead).\n",
      "  after removing the cwd from sys.path.\n"
     ]
    },
    {
     "data": {
      "text/plain": [
       "[('mutations', 0.854192316532135),\n",
       " ('genetic_mutation', 0.824504554271698),\n",
       " ('mutated_gene', 0.7879970073699951),\n",
       " ('gene_mutation', 0.7823828458786011),\n",
       " ('genetic_mutations', 0.7393666505813599),\n",
       " ('gene', 0.7343354225158691),\n",
       " ('gene_mutations', 0.7275243401527405),\n",
       " ('genetic_variant', 0.7182294130325317),\n",
       " ('alleles', 0.7164380550384521),\n",
       " ('mutant_gene', 0.7144375443458557)]"
      ]
     },
     "execution_count": 215,
     "metadata": {},
     "output_type": "execute_result"
    }
   ],
   "source": [
    "vector_path = r\"/Users/j/Dropbox/Learn/kaggle_quora/src/data/embeddings/GoogleNews-vectors-negative300/GoogleNews-vectors-negative300.bin\"\n",
    "\n",
    "model = KeyedVectors.load_word2vec_format (vector_path, binary=True)\n",
    "model.wv.similar_by_word('mutation')"
   ]
  },
  {
   "cell_type": "code",
   "execution_count": 221,
   "metadata": {
    "scrolled": true
   },
   "outputs": [
    {
     "name": "stderr",
     "output_type": "stream",
     "text": [
      "/Users/j/miniconda3/lib/python3.7/site-packages/ipykernel_launcher.py:1: DeprecationWarning: Call to deprecated `wv` (Attribute will be removed in 4.0.0, use self instead).\n",
      "  \"\"\"Entry point for launching an IPython kernel.\n",
      "/Users/j/miniconda3/lib/python3.7/site-packages/ipykernel_launcher.py:3: DeprecationWarning: Call to deprecated `wv` (Attribute will be removed in 4.0.0, use self instead).\n",
      "  This is separate from the ipykernel package so we can avoid doing imports until\n"
     ]
    },
    {
     "data": {
      "text/plain": [
       "[('cyclic_AMP_cAMP', 0.7952698469161987),\n",
       " ('oncogenic_transformation', 0.7863239645957947),\n",
       " ('mRNA_transcripts', 0.7860901355743408),\n",
       " ('MT1_MMP', 0.7778975963592529),\n",
       " ('microRNA_molecule', 0.7758697271347046),\n",
       " ('tumorigenicity', 0.7754373550415039),\n",
       " ('transgene_expression', 0.7749923467636108),\n",
       " ('coexpression', 0.7743014097213745),\n",
       " ('transgenic_mice_expressing', 0.7720569968223572),\n",
       " ('cyclin_B1', 0.7714494466781616)]"
      ]
     },
     "execution_count": 221,
     "metadata": {},
     "output_type": "execute_result"
    }
   ],
   "source": [
    "model.wv.similar_by_vector(get_average_vector(df.loc[0, 'Text']))"
   ]
  },
  {
   "cell_type": "code",
   "execution_count": null,
   "metadata": {},
   "outputs": [
    {
     "name": "stderr",
     "output_type": "stream",
     "text": [
      "/Users/j/miniconda3/lib/python3.7/site-packages/ipykernel_launcher.py:3: DeprecationWarning: Call to deprecated `wv` (Attribute will be removed in 4.0.0, use self instead).\n",
      "  This is separate from the ipykernel package so we can avoid doing imports until\n"
     ]
    }
   ],
   "source": [
    "text_vecs = df.apply(lambda x: (x['Class'], get_average_vector(x['Text'])), axis=1)\n",
    "classes, vecs = list(zip(*text_vecs.values))\n",
    "\n",
    "pca = PCA(n_components=2)\n",
    "reduced_vecs = pca.fit_transform(vecs)\n",
    "\n",
    "fig, ax = plt.subplots()\n",
    "\n",
    "cm = plt.get_cmap('jet', 9)\n",
    "colors = [cm(i/9) for i in range(9)]\n",
    "ax.scatter(reduced_vecs[:,0], reduced_vecs[:,1], c=[colors[c-1] for c in classes], cmap='jet', s=8)\n",
    "\n",
    "\n",
    "plt.legend(handles=[Patch(color=colors[i], label='Class {}'.format(i+1)) for i in range(9)])\n",
    "\n",
    "plt.show()"
   ]
  },
  {
   "cell_type": "code",
   "execution_count": null,
   "metadata": {},
   "outputs": [],
   "source": [
    "plt.savefig('../reports/figures/pca_class_vector.png', dpi=300)"
   ]
  },
  {
   "cell_type": "code",
   "execution_count": null,
   "metadata": {},
   "outputs": [],
   "source": []
  }
 ],
 "metadata": {
  "kernelspec": {
   "display_name": "Python 3",
   "language": "python",
   "name": "python3"
  },
  "language_info": {
   "codemirror_mode": {
    "name": "ipython",
    "version": 3
   },
   "file_extension": ".py",
   "mimetype": "text/x-python",
   "name": "python",
   "nbconvert_exporter": "python",
   "pygments_lexer": "ipython3",
   "version": "3.7.3"
  }
 },
 "nbformat": 4,
 "nbformat_minor": 2
}
